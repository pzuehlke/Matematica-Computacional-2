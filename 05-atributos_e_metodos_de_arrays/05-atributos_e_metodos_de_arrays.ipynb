{
 "cells": [
  {
   "cell_type": "code",
   "execution_count": 1,
   "metadata": {},
   "outputs": [],
   "source": [
    "import numpy as np"
   ]
  },
  {
   "cell_type": "markdown",
   "metadata": {},
   "source": [
    "# Atributos e métodos de arrays\n",
    "\n",
    "Neste notebook, estudaremos os _atributos_ (propriedades) e\n",
    "_métodos_ (transformações) fundamentais dos arrays NumPy. Isso nos permitirá \n",
    "analisar, manipular e reestruturar nossos dados de várias maneiras."
   ]
  },
  {
   "cell_type": "markdown",
   "metadata": {},
   "source": [
    "## $ \\S 1 $ Atributos de arrays\n",
    "\n",
    "### $ 1.1 $ Forma e número de dimensões"
   ]
  },
  {
   "cell_type": "markdown",
   "metadata": {},
   "source": [
    "O __número de dimensões__, também conhecido como __rank__, de um array é armazenado\n",
    "em seu atributo `ndim`. Por exemplo, a seguinte matriz tem rank $ 2 $, porque\n",
    "ela tem dois __eixos__, um correspondendo às suas linhas e o outro às suas colunas:\n",
    "\n",
    "<img src=\"array.svg\" width=\"500\" alt=\"Exemplo de um array A\">"
   ]
  },
  {
   "cell_type": "code",
   "execution_count": 11,
   "metadata": {},
   "outputs": [
    {
     "name": "stdout",
     "output_type": "stream",
     "text": [
      "[[ 1  2  3  4]\n",
      " [ 1  4  9 16]\n",
      " [ 1  8 27 64]] \n",
      "\n",
      "Number of dimensions (rank) of A: 2\n"
     ]
    }
   ],
   "source": [
    "A = np.array([[1, 2,  3,  4],\n",
    "              [1, 4,  9, 16],\n",
    "              [1, 8, 27, 64]])\n",
    "print(A, '\\n')\n",
    "\n",
    "print(f\"Number of dimensions (rank) of A: {A.ndim}\")  # Número de dimensões (rank) de A: 2"
   ]
  },
  {
   "cell_type": "markdown",
   "metadata": {},
   "source": [
    "⚠️ Observe que as noções de _rank_ (posto de uma matriz) e _número de dimensões_ (de um\n",
    "espaço vetorial) estudadas em Álgebra Linear são diferentes daquelas no NumPy. Por\n",
    "exemplo, o `ndim` do vetor $ \\mathbf{v} = (1, 2, 3) $ é $ 1 $ já que\n",
    "ele tem um único eixo, apesar de ter três coordenadas."
   ]
  },
  {
   "cell_type": "markdown",
   "metadata": {},
   "source": [
    "Talvez a propriedade mais importante de um array seja sua **forma** (shape), que é a\n",
    "contagem de elementos ao longo de cada um de seus eixos. Referindo-se ao exemplo anterior, a\n",
    "forma de nossa matriz $ A $ é $ (3, 4) $, pois ela tem três\n",
    "linhas e quatro colunas:"
   ]
  },
  {
   "cell_type": "code",
   "execution_count": 5,
   "metadata": {},
   "outputs": [
    {
     "name": "stdout",
     "output_type": "stream",
     "text": [
      "(3, 4)\n"
     ]
    }
   ],
   "source": [
    "print(A.shape)"
   ]
  },
  {
   "cell_type": "markdown",
   "metadata": {},
   "source": [
    "📝 O número de dimensões de um array é um inteiro positivo, enquanto sua forma é sempre uma tupla, mesmo quando o array é unidimensional:"
   ]
  },
  {
   "cell_type": "code",
   "execution_count": null,
   "metadata": {},
   "outputs": [
    {
     "name": "stdout",
     "output_type": "stream",
     "text": [
      "(3,)\n",
      "Note that the shape is not '3', but rather the tuple '(3, )'\n",
      "<class 'tuple'>\n"
     ]
    }
   ],
   "source": [
    "primes = np.array([19, 199, 1999])\n",
    "print(primes.shape)\n",
    "\n",
    "print(\"Note that the shape is not '3', but rather the tuple '(3, )'\")\n",
    "# Observe que a forma não é '3', mas sim a tupla '(3, )'\n",
    "print(type(primes.shape))"
   ]
  },
  {
   "cell_type": "markdown",
   "metadata": {},
   "source": [
    "O __tamanho__ (size) de um array é simplesmente o número total de elementos nele:"
   ]
  },
  {
   "cell_type": "code",
   "execution_count": null,
   "metadata": {},
   "outputs": [
    {
     "name": "stdout",
     "output_type": "stream",
     "text": [
      "3\n"
     ]
    }
   ],
   "source": [
    "print(primes.size)"
   ]
  },
  {
   "cell_type": "markdown",
   "metadata": {},
   "source": [
    "__Exercício:__ \n",
    "\n",
    "(a) Qual é o tamanho da matriz $ A $ de forma $ (3, 4) $ que consideramos\n",
    "acima?\n",
    "\n",
    "(b) Quais são o rank (ou seja, número de dimensões), forma e tamanho de um array $ 1D $ vazio? E um array $ 2D $ vazio?"
   ]
  },
  {
   "cell_type": "code",
   "execution_count": null,
   "metadata": {},
   "outputs": [],
   "source": []
  },
  {
   "cell_type": "markdown",
   "metadata": {},
   "source": [
    "__Exercício:__ Se um array tem forma $ (2, 3, 4) $, qual é seu tamanho? Mais genericamente, qual é o tamanho de um array de forma $ (n_1, n_2, \\cdots, n_d) $? _Dica:_ Temos $ n_1 $ opções para o primeiro índice, para cada uma dessas temos $ n_2 $ opções para o segundo índice, para cada uma dessas temos $ n_3 $ opções para o terceiro índice, etc., portanto, no total temos $ \\underline{\\hspace{1cm}} $ elementos."
   ]
  },
  {
   "cell_type": "code",
   "execution_count": null,
   "metadata": {},
   "outputs": [],
   "source": []
  },
  {
   "cell_type": "markdown",
   "metadata": {},
   "source": [
    "__Exercício:__ Uma _matriz quadrada_ tem o mesmo número de linhas e colunas.\n",
    "\n",
    "(a) Escreva uma função `is_square(A)` que recebe um array $ 2D $ como seu\n",
    "argumento e retorna `True` ou `False` dependendo se a matriz dada é\n",
    "quadrada ou não. _Dica:_ Use a forma para decidir isso.\n",
    "\n",
    "(b) Qual seria uma definição razoável de um array $ 3D $ \"cúbico\" e como poderíamos\n",
    "verificar isso?\n",
    "\n",
    "(c) Como você generalizaria para arrays multidimensionais? _Dica:_ Para verificar se\n",
    "um array de forma $ (n_1, n_2, \\cdots, n_d) $ é \"hipercúbico\" (todos os seus eixos têm\n",
    "o mesmo comprimento), podemos verificar se\n",
    "$$\n",
    "\\texttt{A.shape} = (n_1, n_2, \\cdots, n_d) == (n_2, n_3, , \\cdots, n_d, n_1) = \\texttt{A.shape[1:] + (A.shape[0], )}\n",
    "$$"
   ]
  },
  {
   "cell_type": "code",
   "execution_count": null,
   "metadata": {},
   "outputs": [],
   "source": []
  },
  {
   "cell_type": "markdown",
   "metadata": {},
   "source": [
    "### $ 1.2 $ Atributos e terminologia relacionada\n",
    "\n",
    "Uma instância, ou __objeto__, de uma classe específica, como o array $ A $ do tipo\n",
    "`ndarray`, é equipada com um conjunto de **atributos** predefinidos. Atributos são \n",
    "_propriedades inerentes a cada instância da classe_.\n",
    "O **estado** de um objeto é _o conjunto de valores atuais de todos os\n",
    "seus atributos._\n",
    "\n",
    "📝 Para acessar um atributo `a` de um objeto `x`, a sintaxe é sempre `x.a`.\n",
    "\n",
    "Por exemplo, suponha que queremos projetar uma classe Python `Car` para representar carros.\n",
    "Uma instância dessa classe corresponderia então a um carro específico\n",
    "no mundo real. Alguns atributos plausíveis dessa classe poderiam ser:\n",
    "* `cor`, do tipo `str`.\n",
    "* `ano`, do tipo `int`, que armazena o ano em que o carro foi fabricado.\n",
    "* `eletrico`, do tipo `bool`.\n",
    "* `quilometros_por_litro`, do tipo `float`, que representa a eficiência de combustível do carro.\n",
    "\n",
    "E assim por diante para qualquer outra propriedade relevante dos carros que possamos querer incluir\n",
    "em nosso modelo. Para acessar, digamos, a cor de uma instância `meu_carro` da classe\n",
    "`Car`, digitaríamos `meu_carro.cor`.\n",
    "\n",
    "Observe que os valores desses atributos para diferentes instâncias de carros variarão,\n",
    "em geral. No entanto, a partir deste exemplo, podemos facilmente imaginar uma situação em que\n",
    "dois carros têm exatamente o mesmo estado, conforme definido por seu conjunto de valores de atributos,\n",
    "e ainda assim são objetos distintos, ou seja, têm diferentes\n",
    "_identidades_, significando que residem em locais de memória diferentes e são\n",
    "portanto independentes."
   ]
  },
  {
   "cell_type": "markdown",
   "metadata": {},
   "source": [
    "### $ 1.3 $ Os principais atributos de arrays\n",
    "\n",
    "Embora os arrays venham com vários atributos, a maioria deles se relaciona com a\n",
    "representação interna do array ou utilitários de baixo nível, como o número de bytes\n",
    "consumidos pelos elementos do array. Os cinco mais frequentemente usados e\n",
    "conceitualmente importantes são:\n",
    "\n",
    "| Atributo    | Descrição                                       | Tipo      |\n",
    "|-------------|-------------------------------------------------|-----------|\n",
    "| `ndim`      | Número de dimensões (rank) do array        | `int`   |\n",
    "| `shape`     | Número de elementos ao longo de cada eixo    | `tuple`     |\n",
    "| `size`      | Número total de elementos no array          | `int`   |\n",
    "| `dtype`     | Tipo de dados dos _elementos_ do array       | `dtype`  |\n",
    "| `T`         | Transposta do array                        | `ndarray`    |\n"
   ]
  },
  {
   "cell_type": "markdown",
   "metadata": {},
   "source": [
    "__Exercício:__ Para os seguintes arrays $ B $ e $ \\mathbf v $:\n",
    "\n",
    "(a) Verifique seus atributos. O tipo de dados de $ \\mathbf v $ é o que você esperava?\n",
    "\n",
    "(b) Verifique se o tipo de cada atributo corresponde ao descrito na última\n",
    "coluna da tabela usando a função interna do Python `type`."
   ]
  },
  {
   "cell_type": "code",
   "execution_count": null,
   "metadata": {},
   "outputs": [],
   "source": [
    "B = np.array([[True, False, True],\n",
    "              [False, True, False]])"
   ]
  },
  {
   "cell_type": "code",
   "execution_count": null,
   "metadata": {},
   "outputs": [],
   "source": [
    "v = np.array([1, 2, 3.])"
   ]
  },
  {
   "cell_type": "markdown",
   "metadata": {},
   "source": [
    "### $ 1.4 $ O tipo de dados de um array\n",
    "\n",
    "Os arrays NumPy são projetados para armazenar elementos de um único tipo de dados, e _esses\n",
    "tipos de dados são específicos para o NumPy_. Muitos deles são baseados nos tipos nativos do C;\n",
    "isso garante alto desempenho e uma menor utilização de memória. Como exemplo, o\n",
    "tipo de dados da matriz $ A $ acima é `int64`, que representa inteiros usando $\n",
    "64 $ bits. Em contraste, o tipo integrado do Python `int` pode conter inteiros\n",
    "arbitrariamente grandes.\n",
    "\n",
    "Também é possível trabalhar\n",
    "com arrays de objetos Python arbitrários usando o tipo de dados `object`. Como\n",
    "nesse caso o que é armazenado no array é apenas uma referência para cada objeto (não\n",
    "o próprio objeto), as entradas nem precisam ter o mesmo tipo Python:"
   ]
  },
  {
   "cell_type": "code",
   "execution_count": 4,
   "metadata": {},
   "outputs": [
    {
     "name": "stdout",
     "output_type": "stream",
     "text": [
      "Item: pandas\t of type: <class 'str'>\n",
      "Item: [1, 2, 3]\t of type: <class 'list'>\n",
      "Item: (1+1j)\t of type: <class 'complex'>\n"
     ]
    }
   ],
   "source": [
    "import numpy as np\n",
    "complex_array = np.array([\"pandas\",  [1, 2, 3], 1 + 1j], dtype=object)\n",
    "\n",
    "for item in complex_array:\n",
    "    print(f\"Item: {item}\\t of type: {type(item)}\")  # Item: {item}\\t do tipo: {type(item)}"
   ]
  },
  {
   "cell_type": "markdown",
   "metadata": {},
   "source": [
    "Para criar um array NumPy com um tipo de dados especificado, podemos usar o parâmetro `dtype`\n",
    "em qualquer função de criação de array. Por exemplo:"
   ]
  },
  {
   "cell_type": "code",
   "execution_count": 10,
   "metadata": {},
   "outputs": [
    {
     "name": "stdout",
     "output_type": "stream",
     "text": [
      "Datatype of v: float32\n",
      "[1. 2. 3. 4.]\n"
     ]
    }
   ],
   "source": [
    "v = np.array([1, 2, 3, 4], dtype=\"float32\")\n",
    "print(f\"Datatype of v: {v.dtype}\")  # Tipo de dados de v: {v.dtype}\n",
    "print(v)"
   ]
  },
  {
   "cell_type": "markdown",
   "metadata": {},
   "source": [
    "Observe que nessa forma o tipo de dados é passado como um argumento string.\n",
    "\n",
    "__Exercício:__\n",
    "\n",
    "(a) Crie um array $ 2D $ $ B $ de forma $ (2, 3) $ cujos elementos são todos\n",
    "    `True`. _Dica:_ Invoque a função `ones`\n",
    "    com a forma apropriada e `dtype=\"bool\"` como um dos argumentos.\n",
    "\n",
    "(b) Instancie $ \\mathbf b = (2, 3, 4, 5) $ do tipo `uint32` (inteiro sem sinal de $ 32\n",
    "$-bits) usando `linspace`.\n",
    "\n",
    "(c) Construa um array $ 2D $ $ C $ de forma $ (4, 2) $ no qual todas as entradas são\n",
    "iguais a $ 1 + i $, de tipo `complex`. _Dica:_ Use `full` e lembre-se que\n",
    "a unidade imaginária em Python é denotada com `j`."
   ]
  },
  {
   "cell_type": "code",
   "execution_count": null,
   "metadata": {},
   "outputs": [],
   "source": []
  },
  {
   "cell_type": "markdown",
   "metadata": {},
   "source": [
    "### $ 1.5 $ A transposta\n",
    "\n",
    "Para arrays $ 2D $, a __transposta__ é obtida trocando linhas e colunas.\n",
    "A transposta de uma matriz é muito importante em Álgebra Linear e suas\n",
    "aplicações em estatística e aprendizado de máquina. O atributo `T` nos arrays NumPy\n",
    "fornece uma __visão__ do array transposto, o que significa que `A.T` compartilha\n",
    "o mesmo buffer de dados subjacente que o array original `A`. Em particular, qualquer\n",
    "modificação em um deles afeta o outro.\n",
    "\n",
    "⚡ Dizer que um objeto é uma visão de outro não significa que eles têm a\n",
    "mesma identidade como objetos. Mesmo que os _valores_ nos arrays sejam os mesmos,\n",
    "os metadados como a forma ou o tipo de dados podem ser diferentes. Podemos verificar\n",
    "se dois objetos têm a mesma identidade (localização de memória) com a função\n",
    "Python `id`, e se eles compartilham os mesmos dados com `np.may_share_memory`:"
   ]
  },
  {
   "cell_type": "code",
   "execution_count": 28,
   "metadata": {},
   "outputs": [
    {
     "name": "stdout",
     "output_type": "stream",
     "text": [
      "False\n",
      "True\n"
     ]
    }
   ],
   "source": [
    "A = np.array([[1, 2],\n",
    "              [3, 4]])\n",
    "B = A.T\n",
    "\n",
    "print(id(A) == id(B))\n",
    "print(np.may_share_memory(A, B))"
   ]
  },
  {
   "cell_type": "markdown",
   "metadata": {},
   "source": [
    "__Exercício:__ \n",
    "\n",
    "(a) Qual é a transposta de um array $ 1D $?\n",
    "\n",
    "(b) O que é a transposta de um array $ 3D $, ou seja, como ela é obtida do array original?\n",
    "    Faça uma conjectura e depois teste-a em um array de forma $ (2, 3, 4) $.\n",
    "\n",
    "(c) Mais genericamente, qual você acha que seria a definição mais razoável da transposta de um array $ n $-dimensional?\n",
    "    _Dica:_ Crie um array de forma $ (2, 3, 4, 5) $ e inspecione a forma de sua transposta."
   ]
  },
  {
   "cell_type": "code",
   "execution_count": null,
   "metadata": {},
   "outputs": [],
   "source": []
  },
  {
   "cell_type": "markdown",
   "metadata": {},
   "source": [
    "### $ 1.6 $ Comparando dois arrays por igualdade\n",
    "\n",
    "<div style=\"\n",
    "    background-color: #fff3cd; \n",
    "    border: 1px solid #ffeeba; \n",
    "    border-left: 5px solid #ffc107; \n",
    "    border-radius: 4px; \n",
    "    color: #856404; \n",
    "    margin: 10px 0px; \n",
    "    padding: 15px;\">\n",
    "    <span style=\"font-size: 24px; margin-right: 10px; vertical-align: middle;\">⚠️</span>\n",
    "    Contrariamente ao que se poderia esperar, quando aplicado a dois arrays da mesma\n",
    "    forma, o operador <code>==</code> realiza uma comparação elemento por elemento e\n",
    "    retorna um <i>array booleano</i> com a mesma forma que os operandos. Em contraste,\n",
    "    <code>np.array_equal(A, B)</code> retorna\n",
    "    um <i>único valor booleano</i> dependendo se os arrays têm a mesma forma\n",
    "    e todos os elementos correspondentes são iguais.\n",
    "</div>"
   ]
  },
  {
   "cell_type": "code",
   "execution_count": 2,
   "metadata": {},
   "outputs": [
    {
     "name": "stdout",
     "output_type": "stream",
     "text": [
      "[ True  True  True]\n",
      "True\n"
     ]
    }
   ],
   "source": [
    "a = np.array([1, 2, 3])\n",
    "b = np.arange(1, 4)\n",
    "\n",
    "print(a == b)  # Comparação elemento por elemento, o resultado é um array\n",
    "print(np.array_equal(a, b))  # Igualdade geral do array, o resultado é True ou False"
   ]
  },
  {
   "cell_type": "markdown",
   "metadata": {},
   "source": [
    "__Exercício:__ Escreva uma função Python que imprime uma mensagem indicando se\n",
    "uma dada matriz $ A $ é _simétrica_ (ou seja, se $ A^T = A $),\n",
    "_anti-simétrica_ ($ A^T = -A $) ou nenhuma das duas.\n",
    "Sua função funciona corretamente quando $ A $ não é quadrada?"
   ]
  },
  {
   "cell_type": "code",
   "execution_count": null,
   "metadata": {},
   "outputs": [],
   "source": [
    "def is_symmetric(A):\n",
    "    # complete..."
   ]
  },
  {
   "cell_type": "markdown",
   "metadata": {},
   "source": [
    "__Exercício:__ Uma matriz quadrada $ A $ é chamada de _ortogonal_ se satisfaz\n",
    "$$\n",
    "A^TA = I_n = AA^T\\,,\n",
    "$$\n",
    "onde $ A^T $ é a transposta de $ A $ e $ I_n $ é a matriz identidade $ n \\times n $.\n",
    "(Na verdade, qualquer uma dessas equações por si só já é suficiente para ortogonalidade.)\n",
    "Escreva um procedimento `is_orthogonal(A)` que utilize esse critério para decidir\n",
    "se $ A $ é ortogonal. Ao comparar com a identidade, você pode querer\n",
    "usar `np.round(B, 10)` para arredondar todas as entradas de $ B $ para dez dígitos decimais para\n",
    "evitar falsos negativos."
   ]
  },
  {
   "cell_type": "code",
   "execution_count": null,
   "metadata": {},
   "outputs": [],
   "source": []
  },
  {
   "cell_type": "markdown",
   "metadata": {},
   "source": [
    "## $ \\S 2 $ Métodos de redução e acumulação\n",
    "\n",
    "### $ 2.1 $ Métodos e terminologia relacionada\n",
    "\n",
    "Enquanto os atributos descrevem as propriedades de um objeto, os **métodos** definem o que\n",
    "um objeto pode fazer: são funções que estão vinculadas ao objeto e que podem\n",
    "acessar ou modificar seu estado. Os métodos encapsulam comportamentos adequados\n",
    "para a classe de objetos a que pertencem, assim como os atributos encapsulam o estado.\n",
    "\n",
    "📝 Para invocar um método `m` em um objeto `x`, a sintaxe é `x.m(<argumentos>)`.\n",
    "\n",
    "Continuando o exemplo da seção $ \\S 1.2 $, poderíamos pensar em implementar\n",
    "os seguintes métodos para nossa classe `Car` usada para representar carros:\n",
    "* `ligar_carro()`, que não retorna nada, mas muda o estado do carro.\n",
    "* `precisa_de_manutencao()`, que retorna um `boolean`, mas não altera o estado do carro.\n",
    "* `reabastecer(litros)`, que reabastece o carro com uma determinada quantidade de combustível e retorna o novo nível de combustível como `float`.\n",
    "\n",
    "Por exemplo, para reabastecer uma instância `meu_carro` da classe `Car`, poderíamos emitir\n",
    "a instrução `meu_carro.reabastecer(20)`.\n",
    "\n",
    "Da mesma forma, no contexto dos arrays NumPy, métodos como `sum()` realizam cálculos nos\n",
    "dados do array e retornam resultados, enquanto métodos como `sort()` modificam o array no\n",
    "local, sem retornar nada. (Discutiremos ambos os métodos, juntamente com vários outros, abaixo.)"
   ]
  },
  {
   "cell_type": "code",
   "execution_count": 3,
   "metadata": {},
   "outputs": [
    {
     "name": "stdout",
     "output_type": "stream",
     "text": [
      "v = [2 3 1]\n",
      "v after sorting: [1 2 3]\n",
      "Sum of the values in v: 6\n"
     ]
    }
   ],
   "source": [
    "v = np.array([2, 3, 1])\n",
    "print(f\"v = {v}\")\n",
    "\n",
    "v.sort()  # v após ordenação: [1 2 3]\n",
    "print(f\"v after sorting: {v}\")\n",
    "print(f\"Sum of the values in v: {v.sum()}\")  # Soma dos valores em v: 6"
   ]
  },
  {
   "cell_type": "markdown",
   "metadata": {},
   "source": [
    "### $ 2.2 $ Principais métodos de redução e acumulação\n",
    "\n",
    "Os arrays NumPy têm vários __métodos de redução__ que transformam os dados\n",
    "em formas mais simples. Por exemplo, os métodos `min` e `max` produzem os elementos\n",
    "mínimo e máximo de um array. Da mesma forma, `argmin` e `argmax` retornam o\n",
    "_índice_ dos elementos mínimo e máximo. Aqui está uma ilustração no\n",
    "caso de um array $ 1D $ `a`:\n",
    "\n",
    "<img src=\"max_min.svg\" width=\"1400\" height=\"300\" alt=\"Métodos Max e Min\">"
   ]
  },
  {
   "cell_type": "markdown",
   "metadata": {},
   "source": [
    "📝 Quando o valor mínimo ocorre várias vezes, `argmin` retorna o índice da\n",
    "primeira ocorrência. Quando chamado em um array multidimensional, ele retorna\n",
    "o índice do elemento mínimo da versão _achatada_ ($ 1D $) do array:"
   ]
  },
  {
   "cell_type": "code",
   "execution_count": 4,
   "metadata": {},
   "outputs": [
    {
     "name": "stdout",
     "output_type": "stream",
     "text": [
      "[[3 2 4]\n",
      " [1 4 1]]\n",
      "Argmin: 3\n"
     ]
    }
   ],
   "source": [
    "arr = np.array([[3, 2, 4], \n",
    "                [1, 4, 1]])\n",
    "print(arr)\n",
    "\n",
    "idx = arr.argmin()\n",
    "print(f\"Argmin: {idx}\")"
   ]
  },
  {
   "cell_type": "markdown",
   "metadata": {},
   "source": [
    "O resultado neste caso é $ 3 $ porque esse é o primeiro índice de um elemento\n",
    "com o valor mínimo $ 1 $ no array achatado $ (3, 2, 4, 1, 4, 1) $.\n",
    "Claro, comentários semelhantes se aplicam ao `argmax`."
   ]
  },
  {
   "cell_type": "markdown",
   "metadata": {},
   "source": [
    "__Exercício:__ Calcule `min`, `max`, `argmin` e `argmax` do seguinte array $ 2D $.\n",
    "Explique os resultados dos dois últimos métodos."
   ]
  },
  {
   "cell_type": "code",
   "execution_count": 15,
   "metadata": {},
   "outputs": [
    {
     "name": "stdout",
     "output_type": "stream",
     "text": [
      "[[2 0 3]\n",
      " [3 1 0]\n",
      " [1 2 0]] \n",
      "\n"
     ]
    }
   ],
   "source": [
    "A = np.array([[2, 0, 3],\n",
    "              [3, 1, 0],\n",
    "              [1, 2, 0]])\n",
    "print(A, '\\n')"
   ]
  },
  {
   "cell_type": "markdown",
   "metadata": {},
   "source": [
    "Os métodos `sum` e `prod` são outros métodos de redução que calculam a soma e o produto de\n",
    "todos os elementos em um array. Em contraste, `cumsum` e `cumprod` são\n",
    "métodos de _acumulação_. Em vez de retornar um único número, eles produzem um\n",
    "array da mesma forma que o original, obtido calculando a soma e o produto _cumulativos_\n",
    "das entradas no array:\n",
    "\n",
    "<img src=\"sum_prod.svg\" width=\"1400\" height=\"300\" alt=\"Métodos de soma e produto\">"
   ]
  },
  {
   "cell_type": "markdown",
   "metadata": {},
   "source": [
    "__Exercício:__ Verifique os resultados no exemplo anterior usando NumPy e diretamente a partir\n",
    "das definições dos métodos."
   ]
  },
  {
   "cell_type": "code",
   "execution_count": null,
   "metadata": {},
   "outputs": [],
   "source": []
  },
  {
   "cell_type": "markdown",
   "metadata": {},
   "source": [
    "__Exercício:__ Crie uma função que calcule juros compostos usando\n",
    "`cumprod`. Dado um valor principal e um array de taxas de juros mensais\n",
    "(como valores decimais), retorne o saldo da conta após cada mês.\n",
    "Teste-a nos valores abaixo. _Dica:_ Os fatores de crescimento são dados por\n",
    "$ 1 + \\text{taxas mensais} $. Os saldos serão o produto do\n",
    "valor principal e o produto cumulativo dos fatores de crescimento."
   ]
  },
  {
   "cell_type": "code",
   "execution_count": 6,
   "metadata": {},
   "outputs": [],
   "source": [
    "principal = 1000\n",
    "monthly_rates = np.array([0.01, 0.012, 0.008, 0.011, 0.009, 0.013])\n",
    "# balances = ???"
   ]
  },
  {
   "cell_type": "markdown",
   "metadata": {},
   "source": [
    "Os métodos de redução `mean`, `var` e `std` fornecem operações\n",
    "estatísticas básicas que são essenciais para análise de dados, ou seja,\n",
    "eles calculam a média (aritmética), variância e desvio padrão\n",
    "do conjunto de elementos no array, respectivamente. Por exemplo:\n",
    "\n",
    "<img src=\"mean_var.svg\" width=\"1400\" height=\"300\" alt=\"Métodos de redução estatística\">"
   ]
  },
  {
   "cell_type": "markdown",
   "metadata": {},
   "source": [
    "Lembre-se que a __variância__ de uma coleção de números $ x_i $ é o valor\n",
    "esperado do quadrado do desvio da média; ela mede o quão espalhados estão os\n",
    "valores. O __desvio padrão__ é simplesmente a raiz quadrada da\n",
    "variância. Em símbolos, se \n",
    "$$\n",
    "\\mu = \\frac{1}{n} \\sum_{i=1}^{n} x_i\n",
    "$$\n",
    "denota a média, então\n",
    "$$\n",
    "\\sigma^2 = \\text{Var} = \\frac{1}{n} \\sum_{i=1}^{n} (x_i - \\mu)^2 \\qquad\n",
    "\\text{e} \\qquad \n",
    "\\sigma = \\text{Std} = \\sqrt{\\text{Var}} = \\sqrt{\\frac{1}{n} \\sum_{i=1}^{n} (x_i - \\mu)^2}\n",
    "$$\n",
    "Como acima, o desvio padrão é frequentemente denotado por $ \\sigma $. Mesmo que a\n",
    "variância tenha melhores propriedades matemáticas e geralmente seja mais conveniente\n",
    "para trabalhar do que o desvio padrão, este último tem a vantagem de ser\n",
    "dado na mesma unidade de medida que as quantidades originais. Por exemplo,\n",
    "se os $ x_i $ representam a eficiência de combustível em milhas por galão de uma coleção\n",
    "de carros, então $ \\sigma $ também estará em MPG.\n",
    "\n",
    "__Exercício:__\n",
    "\n",
    "(a) Verifique usando as definições que os valores na ilustração anterior\n",
    "estão corretos.\n",
    "\n",
    "(b) Calcule a mediana deste array com a _função_ (não método)\n",
    "`np.median`. Lembre-se que a __mediana__ de uma coleção de números é seu valor\n",
    "do meio quando está organizada em ordem ascendente; se houver um\n",
    "número par de valores, a mediana é a média dos dois valores do meio."
   ]
  },
  {
   "cell_type": "code",
   "execution_count": null,
   "metadata": {},
   "outputs": [],
   "source": []
  },
  {
   "cell_type": "markdown",
   "metadata": {},
   "source": [
    "__Exercício:__ Quais são a média, mediana, variância e desvio padrão de um\n",
    "array cujos elementos têm todos o mesmo valor $ c $?"
   ]
  },
  {
   "cell_type": "markdown",
   "metadata": {},
   "source": [
    "__Exercício:__ O seguinte array registra temperaturas diárias (em Celsius) para\n",
    "$ 30 $ dias consecutivos.\n",
    "\n",
    "(a) Calcule a média, mediana e desvio padrão $ \\sigma $, e interprete este último valor.\n",
    "\n",
    "(b) Encontre todos os dias em que a temperatura estava mais de $ 2\\,\\sigma $ abaixo ou acima da média. _Dica:_\n",
    "Use `np.where` para encontrar os índices dos dias para os quais\n",
    "$ \\vert \\text{temperatura} - \\text{média} \\vert > 1.5\\, \\sigma $. A função de valor absoluto\n",
    "no NumPy é `np.abs`."
   ]
  },
  {
   "cell_type": "code",
   "execution_count": 7,
   "metadata": {},
   "outputs": [],
   "source": [
    "temperatures = np.array([\n",
    "    25.3, 26.1, 25.8, 26.5, 27.2, 28.1, 29.3, 28.7, 27.5, 26.8,\n",
    "    25.9, 24.7, 23.5, 22.8, 21.5, 22.3, 23.1, 24.2, 25.4, 26.7,\n",
    "    32.1, 33.5, 33.8, 32.9, 30.2, 28.5, 27.3, 26.8, 25.9, 25.2\n",
    "])"
   ]
  },
  {
   "cell_type": "markdown",
   "metadata": {},
   "source": [
    "__Exercício:__ O _produto de Wallis_ é o seguinte produto infinito\n",
    "$$\n",
    "2\\,\\prod_{k=1}^{\\infty} \\frac{4k^2}{4k^2 - 1} = 2 \\cdot\n",
    "\\frac{4}{3} \\cdot \\frac{16}{15} \\cdot \\frac{36}{35} \\cdot \\frac{64}{63}\n",
    "\\cdot \\frac{100}{99} \\cdots\n",
    "$$\n",
    "\n",
    "(a) Crie um procedimento `wallis_product(n)` que calcula os produtos parciais\n",
    "$ (p_1, p_2, \\cdots, p_n) $ como um array $ 1D $, onde\n",
    "$$\n",
    "p_n = 2\\,\\prod_{k=1}^{n} \\frac{4k^2}{4k^2 - 1}\\,.\n",
    "$$\n",
    "_Dica:_ Primeiro crie um vetor cuja $ k $-ésima coordenada é o termo $ \\frac{4k^2}{4k^2 - 1} $,\n",
    "depois tome seu `cumprod` e multiplique o resultado por $ 2 $.\n",
    "\n",
    "(b) Você consegue reconhecer o valor (limite) do produto infinito? Faça uma conjectura, então\n",
    "teste-a calculando `wallis(n)` para um valor grande como $ n = 100\\,000 $ e\n",
    "imprimindo uma fatia com passo $ \\frac{n}{100} $ (use `//` para divisão inteira)."
   ]
  },
  {
   "cell_type": "code",
   "execution_count": null,
   "metadata": {},
   "outputs": [],
   "source": []
  },
  {
   "cell_type": "markdown",
   "metadata": {},
   "source": [
    "### $ 2.3 $ Aplicando métodos de redução e acumulação ao longo de um eixo\n",
    "\n",
    "📝 Nenhum dos métodos de redução e acumulação realiza transformações no local.\n",
    "Em vez disso, eles retornam novos arrays (ou números) com os resultados\n",
    "calculados enquanto deixam o array original inalterado.\n",
    "\n",
    "Como um argumento opcional para qualquer desses métodos, podemos designar um eixo\n",
    "__ao longo do qual__ a operação deve ocorrer.\n",
    "\n",
    "<img src=\"array_sum.svg\" width=\"800\" alt=\"Somando as entradas de um array ao longo de um eixo\">"
   ]
  },
  {
   "cell_type": "markdown",
   "metadata": {},
   "source": [
    "Se pensarmos em $ A $ como a matriz $ A = (a_{ij}) $, onde $ i $ é o índice\n",
    "para o eixo $ 0 $ (ou seja, o índice das linhas), então tomar a soma _ao longo_ deste eixo\n",
    "significa que, para cada $ j $, o NumPy calcula\n",
    "$$\n",
    "\\sum_{i} a_{ij}\n",
    "$$\n",
    "resultando no vetor com quatro coordenadas na parte inferior da figura\n",
    "já que $ A $ tem quatro colunas. Para dizer de outra forma, _o eixo especificado como o\n",
    "argumento para o método é aquele sobre o qual se opera_, e, portanto, ele colapsa."
   ]
  },
  {
   "cell_type": "markdown",
   "metadata": {},
   "source": [
    "__Exercício:__ Calcule os produtos das linhas e das colunas no array\n",
    "$ C $ dado abaixo ao longo de ambos os eixos. Explique os resultados."
   ]
  },
  {
   "cell_type": "code",
   "execution_count": 33,
   "metadata": {},
   "outputs": [
    {
     "name": "stdout",
     "output_type": "stream",
     "text": [
      "[[2 1 3]\n",
      " [3 2 1]]\n"
     ]
    }
   ],
   "source": [
    "C = np.array([[2, 1, 3],\n",
    "              [3, 2, 1]])\n",
    "print(C)"
   ]
  },
  {
   "cell_type": "markdown",
   "metadata": {},
   "source": [
    "__Exercício:__ Entender como o parâmetro de eixo funciona é crucial;\n",
    "este exercício ajudará você a dominar isso.\n",
    "Dada a matriz $ A $ na célula de código abaixo:\n",
    "\n",
    "(a) Encontre o valor máximo em cada linha (ou seja, ao longo das colunas).\n",
    "\n",
    "(b) Calcule a média de cada coluna (ou seja, ao longo das linhas).\n",
    "\n",
    "(c) Determine o índice do elemento máximo em cada linha (ou seja, ao longo das colunas).\n",
    "\n",
    "(d) Calcule o desvio padrão dos valores em cada linha.\n",
    "\n",
    "(e) Encontre as somas cumulativas para cada linha usando o método `cumsum`."
   ]
  },
  {
   "cell_type": "code",
   "execution_count": 9,
   "metadata": {},
   "outputs": [
    {
     "name": "stdout",
     "output_type": "stream",
     "text": [
      "[[1 2 3 4]\n",
      " [3 3 3 3]]\n"
     ]
    }
   ],
   "source": [
    "A = np.array([[1, 2, 3, 4],\n",
    "              [3, 3, 3, 3]])\n",
    "print(A)"
   ]
  },
  {
   "cell_type": "markdown",
   "metadata": {},
   "source": [
    "📝 É possível aplicar os métodos ao longo de múltiplos eixos passando uma tupla de\n",
    "eixos para o parâmetro `axis`. Isso realiza a operação através das dimensões especificadas\n",
    "simultaneamente."
   ]
  },
  {
   "cell_type": "markdown",
   "metadata": {},
   "source": [
    "__Exercício:__ Aplique `sum` ao longo dos eixos $ 1 $ e $ 2 $ do seguinte array $ 3D $\n",
    "e explique o resultado. _Dica:_ Passe o argumento `axis=(1, 2)`."
   ]
  },
  {
   "cell_type": "code",
   "execution_count": 10,
   "metadata": {},
   "outputs": [
    {
     "name": "stdout",
     "output_type": "stream",
     "text": [
      "[[[-12 -11 -10  -9]\n",
      "  [ -8  -7  -6  -5]\n",
      "  [ -4  -3  -2  -1]]\n",
      "\n",
      " [[  0   1   2   3]\n",
      "  [  4   5   6   7]\n",
      "  [  8   9  10  11]]]\n"
     ]
    }
   ],
   "source": [
    "M = np.arange(-12, 12).reshape(2, 3, 4)\n",
    "print(M)"
   ]
  },
  {
   "cell_type": "markdown",
   "metadata": {},
   "source": [
    "### $ 2.4 $ Outros métodos de redução e acumulação\n",
    "\n",
    "Os arrays têm vários outros métodos além dos discutidos acima. Para obter uma listagem\n",
    "de todos os atributos e métodos associados a um objeto `a` (não necessariamente um\n",
    "array), você pode executar o comando Python `dir(a)`. Além disso, em notebooks Jupyter,\n",
    "digitar `?` antes ou depois de um nome de objeto ou função (por exemplo, `A?` ou\n",
    "`?np.array`) exibe documentação detalhada sobre ele:"
   ]
  },
  {
   "cell_type": "code",
   "execution_count": 11,
   "metadata": {},
   "outputs": [
    {
     "name": "stdout",
     "output_type": "stream",
     "text": [
      "\u001b[0;31mDocstring:\u001b[0m\n",
      "a.sum(axis=None, dtype=None, out=None, keepdims=False, initial=0, where=True)\n",
      "\n",
      "Return the sum of the array elements over the given axis.\n",
      "\n",
      "Refer to `numpy.sum` for full documentation.\n",
      "\n",
      "See Also\n",
      "--------\n",
      "numpy.sum : equivalent function\n",
      "\u001b[0;31mType:\u001b[0m      builtin_function_or_method"
     ]
    }
   ],
   "source": [
    "A.sum?"
   ]
  },
  {
   "cell_type": "markdown",
   "metadata": {},
   "source": [
    "Aqui mencionaremos apenas dois métodos adicionais e muito úteis: `any` e `all`, que são\n",
    "métodos de redução booleanos:\n",
    "\n",
    "* `any` retorna `True` se e somente se pelo menos um elemento no array for verdadeiro (ou não-zero).\n",
    "   É equivalente a uma operação OR entre os elementos.\n",
    "* `all` retorna `True` se e somente se todos os elementos no array forem verdadeiros (ou não-zero). É\n",
    "   equivalente a uma operação AND entre os elementos.\n",
    "\n",
    "Ambos aceitam um argumento de eixo para aplicar a operação ao longo de dimensões específicas,\n",
    "e ambos lidam com arrays não-booleanos tratando quaisquer valores não-zero como verdadeiros."
   ]
  },
  {
   "cell_type": "markdown",
   "metadata": {},
   "source": [
    "__Exercício:__ Na teoria dos grafos e análise de redes, uma matriz de _conectividade_ ou\n",
    "_adjacência_ é uma matriz quadrada usada para codificar um grafo finito. A entrada $\n",
    "(i, j) $ indica se os nós $ i $ e $ j $ estão\n",
    "conectados ou não. Implemente uma função que determine se todos os nós em uma\n",
    "rede (representada por tal matriz) estão conectados a pelo menos outro nó.\n",
    "_Dica:_ Uma linha com todos zeros representa um nó sem conexões com qualquer outro\n",
    "nó. Precisamos verificar se existem tais nós. Use ambos `all` e `any` para\n",
    "fazer isso."
   ]
  },
  {
   "cell_type": "code",
   "execution_count": null,
   "metadata": {},
   "outputs": [],
   "source": [
    "# Exemplo de matriz de conectividade para uma rede com 5 nós:\n",
    "example_matrix = np.array([\n",
    "    [0, 1, 0, 0, 1],  # Nó 0 conecta-se aos nós 1 e 4\n",
    "    [1, 0, 1, 0, 0],  # Nó 1 conecta-se aos nós 0 e 2\n",
    "    [0, 1, 0, 0, 0],  # Nó 2 conecta-se apenas ao nó 1\n",
    "    [0, 0, 0, 0, 0],  # Nó 3 não tem conexões (isolado)\n",
    "    [1, 0, 0, 0, 0]   # Nó 4 conecta-se apenas ao nó 0\n",
    "])\n",
    "\n",
    "def all_node_connected(A):\n",
    "    # complete ..."
   ]
  },
  {
   "cell_type": "markdown",
   "metadata": {},
   "source": [
    "## $ \\S 3 $ Transformações de arrays"
   ]
  },
  {
   "cell_type": "markdown",
   "metadata": {},
   "source": [
    "### $ 3.1 $ Copiando arrays\n",
    "\n",
    "Para criar uma cópia independente e profunda de um array NumPy, podemos usar o método `copy`.\n",
    "Isso gera um novo objeto array com os mesmos dados que o array original,\n",
    "mas armazenado em um local de memória separado. Também existe uma _função_ `np.copy`\n",
    "que alcança o mesmo resultado, mas é ligeiramente menos versátil.\n",
    "\n",
    "__Exercício:__ Dado o vetor $ \\mathbf{x} = (0, 1, 2, \\cdots, 9) $,\n",
    "copie $ \\mathbf{x} $ e atribua o resultado a $ \\mathbf{y} $. \n",
    "Modifique um elemento de $ \\mathbf{y} $ e verifique se $ \\mathbf{x} $ é afetado."
   ]
  },
  {
   "cell_type": "code",
   "execution_count": null,
   "metadata": {},
   "outputs": [],
   "source": [
    "x = np.arange(10)"
   ]
  },
  {
   "cell_type": "markdown",
   "metadata": {},
   "source": [
    "### $ 3.2 $ Alterando o tipo de dados\n",
    "\n",
    "Lembre-se que o atributo `dtype` de um array armazena seu tipo de dados. Podemos criar\n",
    "um novo array com um tipo de dados diferente a partir de um array dado usando o método\n",
    "`astype`, desde que a conversão de tipo de dados faça sentido:"
   ]
  },
  {
   "cell_type": "code",
   "execution_count": 18,
   "metadata": {},
   "outputs": [
    {
     "name": "stdout",
     "output_type": "stream",
     "text": [
      "[['1' '-2']\n",
      " ['3' '-4']] \n",
      "\n",
      "[[ 1. -2.]\n",
      " [ 3. -4.]] \n",
      " float64\n"
     ]
    }
   ],
   "source": [
    "# Vamos começar criando um array de strings:\n",
    "A = np.array([[\"1\", \"-2\"],\n",
    "              [\"3\", \"-4\"]])\n",
    "print(A, '\\n')\n",
    "\n",
    "# Converter o tipo de dados para números de ponto flutuante de precisão dupla (64 bits):\n",
    "A_double = A.astype(\"float64\")\n",
    "print(A_double, '\\n', A_double.dtype)"
   ]
  },
  {
   "cell_type": "markdown",
   "metadata": {},
   "source": [
    "📝 Observe que o tipo de dados é passado como uma string, como \"float128\", \"uint32\" ou\n",
    "\"bool\". Na verdade, esses são apenas aliases convenientes para os nomes de tipo\n",
    "verdadeiros (NumPy), como `np.float64` e `np.bool_`, que também podem ser passados diretamente.\n",
    "Veja a [documentação](https://numpy.org/devdocs/user/basics.types.html)\n",
    "para uma lista completa de tipos de dados.\n"
   ]
  },
  {
   "cell_type": "markdown",
   "metadata": {},
   "source": [
    "__Exercício:__ O que acontece se você tentar converter um array numérico para um cujo\n",
    "tipo de dados é `bool`? E o inverso, ou seja, de `bool` para, digamos, `int32`?"
   ]
  },
  {
   "cell_type": "code",
   "execution_count": 15,
   "metadata": {},
   "outputs": [],
   "source": [
    "numbers = np.array([-2, -1, 0, 1, 2])\n",
    "\n",
    "bool_vals = np.array([True, False, True, True])"
   ]
  },
  {
   "cell_type": "markdown",
   "metadata": {},
   "source": [
    "📝 Embora tenhamos falado sobre a \"conversão\" de um tipo para outro,\n",
    "`astype` na verdade não modifica o array original; em vez disso, ele sempre cria uma\n",
    "_nova cópia_ do array original com o tipo de dados prescrito. Isso ocorre\n",
    "mesmo quando o tipo de dados alvo é o mesmo que o original.\n",
    "\n",
    "__Exercício:__ Comprove que os dois arrays $ \\mathbf{u} $ e $ \\mathbf{v} $ abaixo\n",
    "são independentes modificando um deles e verificando que o outro\n",
    "não é afetado."
   ]
  },
  {
   "cell_type": "code",
   "execution_count": 16,
   "metadata": {},
   "outputs": [
    {
     "name": "stdout",
     "output_type": "stream",
     "text": [
      "Original u: [1 2 3] of type int64\n",
      "Original v: [1 2 3] of type int64 \n",
      "\n"
     ]
    }
   ],
   "source": [
    "u = np.array([1, 2, 3])\n",
    "print(f\"Original u: {u} of type {u.dtype}\")\n",
    "\n",
    "v = u.astype(\"int64\")\n",
    "print(f\"Original v: {v} of type {v.dtype} \\n\")\n",
    "\n",
    "# Modifique v e verifique se u é afetado:"
   ]
  },
  {
   "cell_type": "markdown",
   "metadata": {},
   "source": [
    "### $ 3.3 $ Convertendo um array para uma lista\n",
    "\n",
    "O método `tolist` é usado para converter arrays em listas Python. Dado um\n",
    "array $ n $-dimensional, ele retorna uma lista aninhada com $ n $ níveis de aninhamento:"
   ]
  },
  {
   "cell_type": "code",
   "execution_count": 19,
   "metadata": {},
   "outputs": [
    {
     "name": "stdout",
     "output_type": "stream",
     "text": [
      "[1, 2, 3, 4]\n",
      "[[1, 2], [3, 4]]\n",
      "<class 'list'>\n"
     ]
    }
   ],
   "source": [
    "arr1d = np.array([1, 2, 3, 4])\n",
    "list1d = arr1d.tolist()\n",
    "print(list1d)\n",
    "\n",
    "arr2d = np.array([[1, 2], [3, 4]])\n",
    "list2d = arr2d.tolist()\n",
    "print(list2d)\n",
    "\n",
    "print(type(list2d))"
   ]
  },
  {
   "cell_type": "markdown",
   "metadata": {},
   "source": [
    "Como perdemos os benefícios de desempenho do NumPy quando convertemos um array para uma lista,\n",
    "isso só deve ser feito quando precisamos especificamente interfacear com código que\n",
    "não suporta NumPy."
   ]
  },
  {
   "cell_type": "markdown",
   "metadata": {},
   "source": [
    "### $ 3.4 $ Remodelando arrays\n",
    "\n",
    "Remodelar arrays é uma operação comum e fundamental no NumPy. Existe tanto\n",
    "uma função quanto um método chamado `reshape` que podem realizar isso:"
   ]
  },
  {
   "cell_type": "code",
   "execution_count": 39,
   "metadata": {},
   "outputs": [
    {
     "name": "stdout",
     "output_type": "stream",
     "text": [
      "[1 2 3 4 5 6]\n",
      "\n",
      "[[1 2]\n",
      " [3 4]\n",
      " [5 6]]\n",
      "\n",
      "[[1 2 3]\n",
      " [4 5 6]]\n",
      "\n"
     ]
    }
   ],
   "source": [
    "a = np.array([1, 2, 3, 4, 5, 6])\n",
    "print(a, end='\\n\\n')\n",
    "\n",
    "A = np.reshape(a, (3, 2))  # Aqui usamos a _função_ `reshape`\n",
    "\n",
    "B = a.reshape((2, 3))   # Aqui usamos o _método_ `reshape`\n",
    "\n",
    "print(A, end=\"\\n\\n\")\n",
    "print(B, end=\"\\n\\n\")"
   ]
  },
  {
   "cell_type": "markdown",
   "metadata": {},
   "source": [
    "Note que quando remodelamos um array, a ordem (row-major) dos elementos é preservada.\n",
    "Mais importante, a nova forma deve ser compatível com o tamanho do array original,\n",
    "no sentido de que o tamanho (número total de elementos) deve permanecer o mesmo. Por\n",
    "exemplo, o seguinte resulta em um erro:"
   ]
  },
  {
   "cell_type": "code",
   "execution_count": null,
   "metadata": {},
   "outputs": [],
   "source": [
    "C = np.reshape(a, (2, 2))"
   ]
  },
  {
   "cell_type": "markdown",
   "metadata": {},
   "source": [
    "Ao remodelar, também podemos especificar $ -1 $ em uma dimensão para instruir\n",
    "o NumPy a inferir o número de elementos ao longo dessa dimensão a partir do tamanho do\n",
    "array e das dimensões restantes. Isso é especialmente útil quando um\n",
    "array é passado para nós pelo usuário como um argumento em uma chamada de função, mas não\n",
    "sabemos antecipadamente quantas entradas ele tem:"
   ]
  },
  {
   "cell_type": "code",
   "execution_count": null,
   "metadata": {},
   "outputs": [
    {
     "name": "stdout",
     "output_type": "stream",
     "text": [
      "[[1]\n",
      " [2]\n",
      " [3]\n",
      " [4]]\n"
     ]
    }
   ],
   "source": [
    "a = np.array([[1, 2],\n",
    "              [3, 4]])\n",
    "a = a.reshape((-1, 1))  # remodelar em um vetor coluna (uma matriz m x 1)\n",
    "print(A)"
   ]
  },
  {
   "cell_type": "markdown",
   "metadata": {},
   "source": [
    "Neste exemplo, queríamos remodelar nosso array para que o resultado tivesse\n",
    "uma coluna, mas não queríamos calcular quantas linhas deveria ter para que\n",
    "isso acontecesse.\n",
    "\n",
    "__Exercício:__ Remodele o seguinte array $ 1D $ $ \\mathbf x $ em uma matriz\n",
    "$ X $ com três linhas; observe que não é necessário calcular quantas colunas\n",
    "deve haver."
   ]
  },
  {
   "cell_type": "code",
   "execution_count": null,
   "metadata": {},
   "outputs": [
    {
     "name": "stdout",
     "output_type": "stream",
     "text": [
      "[ 1  2  3  4  5  6  7  8  9 10 11 12]\n"
     ]
    }
   ],
   "source": [
    "x = np.arange(1, 13)\n",
    "# X = ...\n",
    "\n",
    "print(x)\n",
    "print(X)"
   ]
  },
  {
   "cell_type": "markdown",
   "metadata": {},
   "source": [
    "📝 Não há diferença essencial entre as versões de função e método\n",
    "de `reshape`. Em ambos os casos, o NumPy retorna um _novo_ array, enquanto o original\n",
    "permanece inalterado. No entanto, essas operações fornecem uma visão dos\n",
    "dados do array original sempre que possível, o que significa que elas não copiam os\n",
    "_dados_ do array a menos que necessário. Assim, modificações nos dados do array remodelado\n",
    "podem afetar o array original e vice-versa.\n",
    "\n",
    "__Exercício:__ Use a matriz do exercício anterior para ilustrar isso: modifique\n",
    "uma entrada de $ X $ e verifique se $ \\mathbf{x} $ é afetado."
   ]
  },
  {
   "cell_type": "code",
   "execution_count": null,
   "metadata": {},
   "outputs": [],
   "source": []
  },
  {
   "cell_type": "markdown",
   "metadata": {},
   "source": [
    "__Exercício:__ Dado um array $ 1D $ de $ 100 $ elementos, remodele-o em uma matriz $ 10\n",
    "\\times 10 $. Em seguida, normalize a matriz para que todos os valores sejam escalados para\n",
    "ficar entre $ 0 $ e $ 1 $ (inclusive). _Dica:_ Determine o máximo $ M $ e\n",
    "mínimo $ m $ de todas as entradas, escreva uma função linear $ f $ que leva $ [m, M]\n",
    "$ em $ [0, 1] $ e depois aplique-a ao array inteiro."
   ]
  },
  {
   "cell_type": "code",
   "execution_count": null,
   "metadata": {},
   "outputs": [
    {
     "name": "stdout",
     "output_type": "stream",
     "text": [
      "[400 787 316 239 791 876  79  58 671 336 573 150 860 450 894 796 705 230\n",
      " 767  52 570 404 996 198 946  90 623 580 898 298 902 671 890 199 758 942\n",
      "  48 365 636 105 510 629 763 927 409 440 474 954 195 499  49 425 945 620\n",
      " 349 995 603 948  16 460 834 757 407 497 420 529 230 785  77 414 281 734\n",
      " 749 711 924 932 184 114 132 729 970 927 668 967 871  14 119 863  82 981\n",
      " 827 957 360 148 516 972 367 889 383 822]\n"
     ]
    }
   ],
   "source": [
    "# Gerar array aleatório de 100 elementos\n",
    "data = rng.integers(0, 1000, size=100)\n",
    "print(data)"
   ]
  },
  {
   "cell_type": "markdown",
   "metadata": {},
   "source": [
    "### $ 3.5 $ Redimensionando um array\n",
    "\n",
    "Diferentemente de `reshape`, que requer que o número total de elementos permaneça o mesmo,\n",
    "`resize` pode modificar não apenas a forma de um array, mas também seu tamanho.\n",
    "Existem duas versões:\n",
    "* O _método_ `resize` modifica o array no local. Se o\n",
    "  novo tamanho for maior que o antigo, então o método preenche as entradas ausentes\n",
    "  com zeros. Como exemplo da sintaxe, `a.resize((2, 4))` remodelará/redimensionará o\n",
    "  array `a` em uma matriz de forma $ (2, 4) $.\n",
    "* A _função_ `np.resize` retorna um novo array independente. Se o novo tamanho for maior que\n",
    "  o do original, ele percorre os elementos do array original até que as\n",
    "  entradas restantes sejam preenchidas. Como exemplo da sintaxe, `np.resize(a, (1, 2, 3))` irá\n",
    "  remodelar/redimensionar o array `a` em um array de forma $ (1, 2, 3) $.\n",
    "* Em ambos os casos, se o novo tamanho for menor que o original, \n",
    "  os elementos excedentes são descartados.\n",
    "* Também para ambos, a função e o método, ao remodelar para um array unidimensional,\n",
    "  podemos passar o número de elementos em vez da forma completa, por exemplo,\n",
    "  `np.resize(x, 3)` (ou `x.resize(3)`) em vez de `np.resize(x, (3, ))`.\n",
    "\n",
    "__Exercício:__ Compare o comportamento da função `resize` e do método `resize`\n",
    "redimensionando o array $ \\mathbf{v} $ para arrays das seguintes formas.\n",
    "Tenha cuidado com seu código, já que o método resize modifica no local, o que\n",
    "afetará as operações subsequentes envolvendo $ \\mathbf{v} $; pode ser\n",
    "uma boa ideia chamar a função antes do método.\n",
    "\n",
    "(a) Um vetor com $ 10 $ coordenadas. _Dica:_ Você pode usar a sintaxe mais simples\n",
    "`v.resize(10)` em vez de `v.resize((10, ))`, e similarmente para a versão da função.\n",
    "\n",
    "(b) Uma matriz de forma $ (3, 3) $.\n",
    "\n",
    "(c) Um vetor com apenas duas coordenadas.\n"
   ]
  },
  {
   "cell_type": "code",
   "execution_count": 24,
   "metadata": {},
   "outputs": [
    {
     "name": "stdout",
     "output_type": "stream",
     "text": [
      "Original vector: [1 2 3 4]\n"
     ]
    }
   ],
   "source": [
    "v = np.array([1, 2, 3, 4])\n",
    "print(f\"Original vector: {v}\")"
   ]
  },
  {
   "cell_type": "markdown",
   "metadata": {},
   "source": [
    "### $ 3.6 $ Achatando um array com `flatten` e `ravel`\n",
    "\n",
    "O método `flatten` pega um array multidimensional e retorna um novo array\n",
    "_independente_ unidimensional contendo todos os elementos do array original."
   ]
  },
  {
   "cell_type": "markdown",
   "metadata": {},
   "source": [
    "A ordem em que os elementos são colocados no array achatado é baseada\n",
    "na ordenação row-major de seus índices no array original. Por exemplo,\n",
    "se estamos lidando com um array $ 3D $, então a entrada na posição $ (0, 0, 2) $\n",
    "vem antes da entrada em $ (0, 1, 0) $, que será colocada antes da entrada\n",
    "em $ (1, 0, 0) $."
   ]
  },
  {
   "cell_type": "markdown",
   "metadata": {},
   "source": [
    "O NumPy fornece outro método chamado `ravel` que é semelhante a `flatten`, mas\n",
    "com uma diferença importante: enquanto `flatten` sempre retorna uma cópia profunda dos\n",
    "dados, `ravel` retorna uma visão quando possível, o que o torna mais\n",
    "eficiente em termos de memória.\n",
    "\n",
    "__Exercício:__ Aplique `ravel` e `flatten` à matriz $ A $ abaixo para obter\n",
    "dois vetores. Verifique se alterações nas entradas de $ A $ afetam esses vetores\n",
    "e vice-versa."
   ]
  },
  {
   "cell_type": "code",
   "execution_count": null,
   "metadata": {},
   "outputs": [
    {
     "name": "stdout",
     "output_type": "stream",
     "text": [
      "[[1 2]\n",
      " [3 4]]\n"
     ]
    }
   ],
   "source": [
    "A = np.array([[1, 2],\n",
    "              [3, 4]])\n",
    "print(A)"
   ]
  },
  {
   "cell_type": "markdown",
   "metadata": {},
   "source": [
    "### $ 3.7 $ Combinando arrays com `hstack` e `vstack`\n",
    "\n",
    "O NumPy fornece várias funções para empilhar arrays juntos. As mais comumente\n",
    "usadas são `hstack` (empilhamento horizontal) e `vstack` (empilhamento vertical)."
   ]
  },
  {
   "cell_type": "code",
   "execution_count": null,
   "metadata": {},
   "outputs": [
    {
     "name": "stdout",
     "output_type": "stream",
     "text": [
      "Horizontal stack of a and b: [1 2 3 4 5 6]\n",
      "Vertical stack of a and b:\n",
      "[[1 2 3]\n",
      " [4 5 6]]\n"
     ]
    }
   ],
   "source": [
    "a = np.array([1, 2, 3])\n",
    "b = np.array([4, 5, 6])\n",
    "\n",
    "# Empilhamento horizontal (lado a lado):\n",
    "h_stacked = np.hstack((a, b))\n",
    "print(f\"Horizontal stack of a and b: {h_stacked}\")\n",
    "\n",
    "# Empilhamento vertical (um acima do outro):\n",
    "v_stacked = np.vstack((a, b))\n",
    "print(f\"Vertical stack of a and b:\\n{v_stacked}\")"
   ]
  },
  {
   "cell_type": "markdown",
   "metadata": {},
   "source": [
    "Observe os parênteses duplos na sintaxe das chamadas. Ambas as funções\n",
    "recebem uma tupla de arrays a serem empilhados, e as formas desses arrays devem ser\n",
    "exatamente as mesmas, exceto pelos comprimentos do eixo de concatenação, que não precisam\n",
    "coincidir.\n",
    "\n",
    "__Exercício:__ Empilhe as duas matrizes $ A $ e $ B $ abaixo horizontal e verticalmente.\n",
    "Você consegue empilhar $ A $ e $ \\mathbf{c} $ horizontal e verticalmente também?\n",
    "E quanto a $ A $ e $ \\mathbf{d} $?"
   ]
  },
  {
   "cell_type": "code",
   "execution_count": 40,
   "metadata": {},
   "outputs": [],
   "source": [
    "A = np.array([[1, 2], [3, 4]])\n",
    "B = np.array([[5, 6], [7, 8]])\n",
    "c = np.array([5, 6])\n",
    "d = np.array([[1],\n",
    "              [2]])"
   ]
  },
  {
   "cell_type": "markdown",
   "metadata": {},
   "source": [
    "### $ 3.8 $ Ordenando e encontrando elementos únicos\n",
    "\n",
    "Existem várias opções para ordenar arrays, cada uma adequada para diferentes\n",
    "situações.\n",
    "\n",
    "* A função `np.sort` retorna uma cópia independente ordenada do array sem\n",
    "  modificar o array original:"
   ]
  },
  {
   "cell_type": "code",
   "execution_count": 4,
   "metadata": {},
   "outputs": [
    {
     "name": "stdout",
     "output_type": "stream",
     "text": [
      "[3 1 2]\n",
      "[1 2 3]\n"
     ]
    }
   ],
   "source": [
    "a = np.array([3, 1, 2])\n",
    "b = np.sort(a)\n",
    "\n",
    "print(a)  # a permanece inalterado\n",
    "print(b)"
   ]
  },
  {
   "cell_type": "markdown",
   "metadata": {},
   "source": [
    "* O método `sort` ordena o array no local (e retorna `None` como resultado da chamada):"
   ]
  },
  {
   "cell_type": "code",
   "execution_count": 7,
   "metadata": {},
   "outputs": [
    {
     "name": "stdout",
     "output_type": "stream",
     "text": [
      "[1 2 3]\n"
     ]
    }
   ],
   "source": [
    "a = np.array([3, 1, 2])\n",
    "a.sort()\n",
    "\n",
    "print(a)  # a agora está ordenado"
   ]
  },
  {
   "cell_type": "markdown",
   "metadata": {},
   "source": [
    "* A função `argsort` retorna os índices que ordenariam o array:"
   ]
  },
  {
   "cell_type": "code",
   "execution_count": 9,
   "metadata": {},
   "outputs": [
    {
     "name": "stdout",
     "output_type": "stream",
     "text": [
      "[1 2 0]\n"
     ]
    }
   ],
   "source": [
    "a = np.array([3, 1, 2])\n",
    "indices = np.argsort(a)  \n",
    "\n",
    "print(indices)"
   ]
  },
  {
   "cell_type": "markdown",
   "metadata": {},
   "source": [
    "Para entender o resultado anterior, observe que $ 1 $ é o índice do menor\n",
    "elemento no array, $ 2 $ é o índice da mediana e $ 0 $ o índice do\n",
    "maior elemento. Todas essas funções suportam parâmetros para especificar\n",
    "um eixo e o algoritmo de ordenação; veja a [documentação](https://numpy.org/doc/stable/reference/routines.sort.html)\n",
    "para mais detalhes.\n",
    "\n",
    "__Exercício:__ \n",
    "\n",
    "(a) Ordene a seguinte matriz sem passar nenhum argumento. Explique o resultado.\n",
    "\n",
    "(b) Ordene usando o argumento `axis=0` e explique o resultado.\n",
    "\n",
    "(c) Realize um `argsort` e explique o resultado."
   ]
  },
  {
   "cell_type": "code",
   "execution_count": 13,
   "metadata": {},
   "outputs": [],
   "source": [
    "M = np.array([[5, 2, 7], \n",
    "              [1, 8, 3], \n",
    "              [9, 4, 2]])"
   ]
  },
  {
   "cell_type": "markdown",
   "metadata": {},
   "source": [
    "A função `np.unique` retorna os elementos únicos de um array em ordem\n",
    "crescente. Ela também pode nos dizer quantas vezes cada elemento único aparece no array quando o\n",
    "parâmetro `return_counts` é definido como `True`."
   ]
  },
  {
   "cell_type": "code",
   "execution_count": null,
   "metadata": {},
   "outputs": [
    {
     "name": "stdout",
     "output_type": "stream",
     "text": [
      "Original array: [3 1 4 1 5 9 2 6 5 3 5]\n",
      "\n",
      "Unique elements: [1 2 3 4 5 6 9]\n",
      "\n",
      "Unique elements: [1 2 3 4 5 6 9]\n",
      "Counts:          [2 1 2 1 3 1 1]\n"
     ]
    }
   ],
   "source": [
    "data = np.array([3, 1, 4, 1, 5, 9, 2, 6, 5, 3, 5])\n",
    "print(f\"Original array: {data}\")\n",
    "\n",
    "# Obter elementos únicos:\n",
    "unique_elements = np.unique(data)\n",
    "print(f\"\\nUnique elements: {unique_elements}\")\n",
    "\n",
    "# Obter elementos únicos e suas contagens:\n",
    "unique_elements, counts = np.unique(data, return_counts=True)\n",
    "print(f\"\\nUnique elements: {unique_elements}\")\n",
    "print(f\"Counts: {str(counts):>24}\")"
   ]
  },
  {
   "cell_type": "markdown",
   "metadata": {},
   "source": [
    "__Exercício:__ Use `argmax` para encontrar o elemento mais comum no array `data` do exemplo anterior."
   ]
  },
  {
   "cell_type": "code",
   "execution_count": null,
   "metadata": {},
   "outputs": [],
   "source": []
  },
  {
   "cell_type": "markdown",
   "metadata": {},
   "source": [
    "### $ 3.9 $ Invertendo arrays\n",
    "\n",
    "A função `np.flip` inverte a ordem dos elementos em um array ao longo de um eixo especificado. Ela sempre\n",
    "retorna um novo array independente, não uma visão do original."
   ]
  },
  {
   "cell_type": "code",
   "execution_count": null,
   "metadata": {},
   "outputs": [],
   "source": [
    "a = np.array([1, 2, 3, 4, 5])\n",
    "print(f\"Original array: {a}\")\n",
    "print(f\"Flipped array: {np.flip(a)}\")"
   ]
  },
  {
   "cell_type": "markdown",
   "metadata": {},
   "source": [
    "__Exercício:__ Dado o array $ 2D $ $ A $ abaixo:\n",
    "\n",
    "(a) Inverta $ A $ ao longo de seu eixo $ 0 $ usando `flip` com o argumento `axis=0`.\n",
    "\n",
    "(b) Inverta a ordem das colunas de $ A $ usando `flip`.\n",
    "\n",
    "(c) Inverta ambos os eixos de $ A $ usando `flip` sem fornecer um argumento `axis`.\n",
    "\n",
    "(d) Você consegue obter os mesmos resultados usando fatias do tipo `::-1`? Qual é a diferença?\n",
    "_Dica:_ O que acontece se você modificar o array invertido, o original é afetado?"
   ]
  },
  {
   "cell_type": "code",
   "execution_count": 15,
   "metadata": {},
   "outputs": [
    {
     "name": "stdout",
     "output_type": "stream",
     "text": [
      "\n",
      "Original 2D array:\n",
      "[[1 2 3]\n",
      " [4 5 6]\n",
      " [7 8 9]]\n"
     ]
    }
   ],
   "source": [
    "# Criar um array 2D\n",
    "A = np.array([[1, 2, 3],\n",
    "              [4, 5, 6],\n",
    "              [7, 8, 9]])\n",
    "\n",
    "print(f\"\\nOriginal 2D array:\\n{A}\")"
   ]
  },
  {
   "cell_type": "markdown",
   "metadata": {},
   "source": [
    "__Exercício:__ O array $ 2D $ de forma $ 28 \\times 28 $ na célula de código abaixo\n",
    "representa uma imagem em escala de cinza. Escreva uma função para rotacionar esta imagem $ 90 $ graus\n",
    "no sentido horário.\n",
    "\n",
    "_Dica_: Isso pode ser realizado primeiro transpondo o array e depois\n",
    "invertendo-o verticalmente (ou seja, invertendo a ordem das entradas ao longo de cada\n",
    "coluna) com uma fatia apropriada ou usando `flip`. Isso é ilustrado no\n",
    "exemplo $ 3 \\times 3 $ abaixo, mas a mesma ideia funciona para qualquer forma $ 2D $.\n",
    "$$\n",
    "\\begin{bmatrix}\n",
    "a & b & c \\\\\n",
    "d & e & f \\\\\n",
    "g & h & i \\\\\n",
    "\\end{bmatrix}\n",
    "\\overset{\\text{transpose}}{\\longrightarrow}\n",
    "\\begin{bmatrix}\n",
    "a & d & g \\\\\n",
    "b & e & h \\\\\n",
    "c & f & i \\\\\n",
    "\\end{bmatrix}\n",
    "\\overset{\\text{flip ver.}}{\\longrightarrow}\n",
    "\\begin{bmatrix}\n",
    "g & d & a \\\\\n",
    "h & e & b \\\\\n",
    "i & f & c \\\\\n",
    "\\end{bmatrix}\n",
    "$$"
   ]
  },
  {
   "cell_type": "code",
   "execution_count": null,
   "metadata": {},
   "outputs": [
    {
     "name": "stdout",
     "output_type": "stream",
     "text": [
      "[[209 215 215 107 109]\n",
      " [139 143 115 203  34]\n",
      " [180 127  65  62 170]\n",
      " [  5 237  66 204  48]\n",
      " [206 217  69 153  58]]\n"
     ]
    }
   ],
   "source": [
    "image = np.array(rng.integers(0, 256, size=(28, 28)))\n",
    "print(image[:5, :5])\n",
    "\n",
    "def rotate_90_clockwise(img):\n",
    "    \"\"\" Rotacionar um array 2D 90 graus no sentido horário.  \"\"\""
   ]
  },
  {
   "cell_type": "markdown",
   "metadata": {},
   "source": [
    "### $ 3.10 $ O método `squeeze`\n",
    "\n",
    "O método `squeeze` remove eixos de comprimento $ 1 $ da forma de um array.\n",
    "Por exemplo, um array de forma $ (1, 3, 1) $ torna-se $ (3,) $ após compressão. "
   ]
  },
  {
   "cell_type": "code",
   "execution_count": 16,
   "metadata": {},
   "outputs": [
    {
     "name": "stdout",
     "output_type": "stream",
     "text": [
      "(1, 3, 1, 2)\n",
      "(3, 2)\n"
     ]
    }
   ],
   "source": [
    "# Criar array com forma (1, 3, 1, 2):\n",
    "A = np.array([[[[1, 2]], [[3, 4]], [[5, 6]]]])\n",
    "print(A.shape)\n",
    "\n",
    "# Remover eixos de dimensão única:\n",
    "B = A.squeeze()\n",
    "print(B.shape)"
   ]
  },
  {
   "cell_type": "markdown",
   "metadata": {},
   "source": [
    "Algumas características principais do `squeeze`:\n",
    "* Ele retorna uma visão do array de entrada, não uma cópia.\n",
    "* Sem argumentos, remove todos os eixos de dimensão única.\n",
    "* Com o parâmetro axis, pode remover apenas eixos específicos de dimensão única.\n",
    "* Gera um `ValueError` se você tentar comprimir um eixo de tamanho $ > 1 $."
   ]
  },
  {
   "cell_type": "markdown",
   "metadata": {},
   "source": [
    "__Exercício:__ Comprima o eixo $ 2 $ do array $ A $ no exemplo anterior para obter\n",
    "um array $ C $. Em seguida, modifique um elemento de $ C $ e verifique se $ A $ é afetado."
   ]
  },
  {
   "cell_type": "code",
   "execution_count": null,
   "metadata": {},
   "outputs": [],
   "source": []
  }
 ],
 "metadata": {
  "kernelspec": {
   "display_name": "base",
   "language": "python",
   "name": "python3"
  },
  "language_info": {
   "codemirror_mode": {
    "name": "ipython",
    "version": 3
   },
   "file_extension": ".py",
   "mimetype": "text/x-python",
   "name": "python",
   "nbconvert_exporter": "python",
   "pygments_lexer": "ipython3",
   "version": "3.12.4"
  }
 },
 "nbformat": 4,
 "nbformat_minor": 2
}
