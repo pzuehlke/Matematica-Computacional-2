{
 "cells": [
  {
   "cell_type": "code",
   "execution_count": 1,
   "metadata": {},
   "outputs": [],
   "source": [
    "import numpy as np"
   ]
  },
  {
   "cell_type": "markdown",
   "metadata": {},
   "source": [
    "# Atributos e métodos de arrays\n",
    "\n",
    "Neste notebook, estudaremos os _atributos_ e _métodos_ fundamentais dos\n",
    "arrays NumPy. Compreender as propriedades (_atributos_) dos arrays nos permitirá\n",
    "manipular dados com mais precisão, enquanto dominar as operações e\n",
    "transformações (_métodos_) que podemos aplicar aos arrays nos permitirá\n",
    "analisar e reestruturar nossos dados com elegância."
   ]
  },
  {
   "cell_type": "markdown",
   "metadata": {},
   "source": [
    "## $ \\S 1 $ Atributos de arrays\n",
    "\n",
    "### $ 1.1 $ Forma e número de dimensões"
   ]
  },
  {
   "cell_type": "markdown",
   "metadata": {},
   "source": [
    "O __número de dimensões__, também conhecido como __rank__, de um array é armazenado\n",
    "em seu atributo `ndim`. Por exemplo, a seguinte matriz tem rank $ 2 $, porque\n",
    "possui dois __eixos__, um correspondente às suas linhas e outro às suas colunas:\n",
    "\n",
    "<img src=\"array.svg\" width=\"500\" alt=\"Exemplo de um array A\">"
   ]
  },
  {
   "cell_type": "code",
   "execution_count": 11,
   "metadata": {},
   "outputs": [
    {
     "name": "stdout",
     "output_type": "stream",
     "text": [
      "[[ 1  2  3  4]\n",
      " [ 1  4  9 16]\n",
      " [ 1  8 27 64]] \n",
      "\n",
      "Number of dimensions (rank) of A: 2\n"
     ]
    }
   ],
   "source": [
    "A = np.array([[1, 2,  3,  4],\n",
    "              [1, 4,  9, 16],\n",
    "              [1, 8, 27, 64]])\n",
    "print(A, '\\n')\n",
    "\n",
    "print(f\"Number of dimensions (rank) of A: {A.ndim}\")"
   ]
  },
  {
   "cell_type": "markdown",
   "metadata": {},
   "source": [
    "Talvez a propriedade mais importante de um array seja sua **forma** (shape), que é a\n",
    "contagem de elementos ao longo de cada um de seus eixos. Referindo-se ao exemplo anterior, a\n",
    "forma da nossa matriz $ A $ é $ (3, 4) $, ou $ 3 \\times 4 $, já que possui três\n",
    "linhas e quatro colunas:"
   ]
  },
  {
   "cell_type": "code",
   "execution_count": 5,
   "metadata": {},
   "outputs": [
    {
     "name": "stdout",
     "output_type": "stream",
     "text": [
      "(3, 4)\n"
     ]
    }
   ],
   "source": [
    "print(A.shape)"
   ]
  },
  {
   "cell_type": "markdown",
   "metadata": {},
   "source": [
    "📝 O número de dimensões de um array é um inteiro positivo, enquanto sua forma é sempre uma tupla, mesmo quando o array é unidimensional:"
   ]
  },
  {
   "cell_type": "code",
   "execution_count": 3,
   "metadata": {},
   "outputs": [
    {
     "name": "stdout",
     "output_type": "stream",
     "text": [
      "(3,)\n",
      "Note that the shape is not '3', but rather the tuple '(3, )'\n",
      "<class 'tuple'>\n"
     ]
    }
   ],
   "source": [
    "a = np.array([11, 13, 17])\n",
    "print(a.shape)\n",
    "\n",
    "print(\"Note that the shape is not '3', but rather the tuple '(3, )'\")\n",
    "print(type(a.shape))"
   ]
  },
  {
   "cell_type": "markdown",
   "metadata": {},
   "source": [
    "O __tamanho__ (size) de um array é simplesmente o número total de elementos nele:"
   ]
  },
  {
   "cell_type": "code",
   "execution_count": 4,
   "metadata": {},
   "outputs": [
    {
     "name": "stdout",
     "output_type": "stream",
     "text": [
      "3\n"
     ]
    }
   ],
   "source": [
    "print(a.size)"
   ]
  },
  {
   "cell_type": "markdown",
   "metadata": {},
   "source": [
    "__Exercício:__ \n",
    "\n",
    "(a) Qual é o tamanho da matriz $ A $ de forma $ (3, 4) $ que consideramos\n",
    "acima?\n",
    "\n",
    "(b) Quais são o rank, a forma e o tamanho de um array $ 1D $ vazio? E de um\n",
    "array $ 2D $ vazio?"
   ]
  },
  {
   "cell_type": "code",
   "execution_count": null,
   "metadata": {},
   "outputs": [],
   "source": []
  },
  {
   "cell_type": "markdown",
   "metadata": {},
   "source": [
    "__Exercício:__ Se um array tem forma $ (2, 3, 4) $, qual é seu tamanho? De forma mais geral, qual é o tamanho de um array de forma $ (n_1, n_2, \\cdots, n_d) $?"
   ]
  },
  {
   "cell_type": "code",
   "execution_count": null,
   "metadata": {},
   "outputs": [],
   "source": []
  },
  {
   "cell_type": "markdown",
   "metadata": {},
   "source": [
    "__Exercício:__ Uma _matriz quadrada_ tem o mesmo número de linhas e colunas.\n",
    "\n",
    "(a) Escreva uma função `is_square(A)` que aceite um array $ 2D $ como seu\n",
    "argumento e retorne `True` ou `False` dependendo se a matriz dada é\n",
    "quadrada ou não. _Dica:_ Use a forma para decidir isso.\n",
    "\n",
    "(b) Como você generalizaria para arrays multidimensionais? Por exemplo, qual\n",
    "seria uma definição razoável de um array cúbico $ 3D $ e como poderíamos verificar isso?"
   ]
  },
  {
   "cell_type": "code",
   "execution_count": null,
   "metadata": {},
   "outputs": [],
   "source": []
  },
  {
   "cell_type": "markdown",
   "metadata": {},
   "source": [
    "### $ 1.2 $ Atributos e terminologia relacionada\n",
    "\n",
    "Uma instância, ou __objeto__, de uma classe específica, como o array $ A $ do tipo\n",
    "`ndarray`, é equipada com um conjunto de **atributos** predefinidos. Atributos são \n",
    "_propriedades inerentes a cada instância da classe_.\n",
    "O **estado** de um objeto é _o conjunto de valores atuais de todos\n",
    "os seus atributos._\n",
    "\n",
    "📝 Para acessar um atributo `a` de um objeto `x`, a sintaxe é sempre `x.a`.\n",
    "\n",
    "Por exemplo, suponha que queremos projetar uma classe Python para representar carros.\n",
    "Uma instância dessa classe corresponderia então a um carro específico\n",
    "no mundo real. Alguns atributos plausíveis dessa classe poderiam ser:\n",
    "* Sua cor (digamos, `color`, do tipo `str`).\n",
    "* O ano em que foi fabricado (digamos, `year`, do tipo `int`).\n",
    "* Se é elétrico ou não (digamos, `electric`, do tipo `boolean`).\n",
    "* A eficiência de combustível do carro (digamos, `kilometers_per_liter`, do tipo `float`).\n",
    "\n",
    "E assim por diante para qualquer outra propriedade relevante dos carros que possamos querer incluir\n",
    "em nosso modelo. Observe que os valores desses atributos para diferentes instâncias de carro\n",
    "irão variar, em geral. No entanto, a partir deste exemplo, podemos facilmente imaginar\n",
    "uma situação em que dois carros têm exatamente o mesmo estado, definido por seu\n",
    "conjunto de valores de atributos, e ainda assim são objetos distintos, ou seja, têm diferentes\n",
    "_identidades_."
   ]
  },
  {
   "cell_type": "markdown",
   "metadata": {},
   "source": [
    "### $ 1.3 $ Os principais atributos de arrays\n",
    "\n",
    "Embora os arrays venham com vários atributos, a maioria deles está relacionada à representação\n",
    "interna do array ou a utilidades de baixo nível. Os cinco mais frequentemente usados e\n",
    "conceitualmente importantes são:\n",
    "\n",
    "| Atributo    | Descrição                                      | Tipo      |\n",
    "|-------------|------------------------------------------------|-----------|\n",
    "| `ndim`      | Número de dimensões (rank) do array        | `int`   |\n",
    "| `shape`     | Número de elementos em cada eixo            | `tuple`     |\n",
    "| `size`      | Número total de elementos no array         | `int`   |\n",
    "| `dtype`     | Tipo de dados dos _elementos_ do array       | `dtype`  |\n",
    "| `T`         | Transposta do array                       | `ndarray`    |\n"
   ]
  },
  {
   "cell_type": "markdown",
   "metadata": {},
   "source": [
    "__Exercício:__ Para os seguintes arrays $ A $, $ B $ e $ \\mathbf v $:\n",
    "\n",
    "(a) Verifique seus atributos. O tipo de dados de $ \\mathbf v $ é o que você esperava?\n",
    "\n",
    "(b) Verifique se o tipo de cada atributo corresponde ao descrito na última\n",
    "coluna da tabela usando a função embutida `type` do Python."
   ]
  },
  {
   "cell_type": "code",
   "execution_count": 6,
   "metadata": {},
   "outputs": [],
   "source": [
    "A = np.array([[1, 2, 3],\n",
    "              [4, 5, 6],\n",
    "              [7, 8, 9]])"
   ]
  },
  {
   "cell_type": "code",
   "execution_count": null,
   "metadata": {},
   "outputs": [],
   "source": [
    "B = np.array([[True, False, True],\n",
    "              [False, True, False]])"
   ]
  },
  {
   "cell_type": "code",
   "execution_count": null,
   "metadata": {},
   "outputs": [],
   "source": [
    "v = np.array([1, 2, 3.])"
   ]
  },
  {
   "cell_type": "markdown",
   "metadata": {},
   "source": [
    "### $ 1.4 $ O tipo de dados de um array\n",
    "\n",
    "Os arrays NumPy são projetados para armazenar elementos de um único tipo de dados, e _esses\n",
    "tipos de dados são específicos do NumPy_. Muitos deles são baseados nos tipos nativos do C.\n",
    "Isso garante alto desempenho e uma pegada de memória mais leve. Como exemplo, o\n",
    "tipo de dados da matriz $ A $ acima é `int64`, que representa inteiros usando $\n",
    "64 $ bits. Em contraste, o tipo embutido do Python `int` pode conter inteiros\n",
    "arbitrariamente grandes.\n",
    "\n",
    "Também é possível trabalhar\n",
    "com arrays de objetos Python arbitrários usando o tipo de dados `object`. Como\n",
    "neste caso o que é armazenado no array é apenas uma referência a cada objeto (não\n",
    "o próprio objeto), as entradas nem precisam ter o mesmo tipo Python:"
   ]
  },
  {
   "cell_type": "code",
   "execution_count": 13,
   "metadata": {},
   "outputs": [],
   "source": [
    "complex_array = np.array([\"pandas\",  [1, 2, 3], {\"name\": \"Alice\"}], dtype=object)\n",
    "\n",
    "for i, item in enumerate(complex_array):\n",
    "    print(f\"Item {i}: {item} (type: {type(item)})\")"
   ]
  },
  {
   "cell_type": "markdown",
   "metadata": {},
   "source": [
    "Para criar um array NumPy com um tipo de dados especificado, podemos usar o parâmetro `dtype`\n",
    "em qualquer função de criação de array. Por exemplo:"
   ]
  },
  {
   "cell_type": "code",
   "execution_count": 5,
   "metadata": {},
   "outputs": [
    {
     "name": "stdout",
     "output_type": "stream",
     "text": [
      "Datatype of v: float32\n",
      "[1. 2. 3. 4.] \n",
      "\n",
      "Datatype of U: bool\n",
      "[[ True  True  True]\n",
      " [ True  True  True]]\n"
     ]
    }
   ],
   "source": [
    "v = np.array([1, 2, 3, 4], dtype=\"float32\")\n",
    "print(f\"Datatype of v: {v.dtype}\")\n",
    "print(v, '\\n')\n",
    "\n",
    "U = np.ones((2, 3), dtype=\"bool\")\n",
    "print(f\"Datatype of U: {U.dtype}\")\n",
    "print(U)"
   ]
  },
  {
   "cell_type": "markdown",
   "metadata": {},
   "source": [
    "__Exercício:__\n",
    "\n",
    "(a) Crie um array $ 1D $ $ \\mathbf{a} $ de tamanho $ 10 $ preenchido com zeros e tendo tipo de dados\n",
    "    `int32`. _Dica:_ Use a função `zeros`.\n",
    "\n",
    "(b) Instancie $ \\mathbf b = (2, 3, 4, 5) $ do tipo `uint32` (inteiro não assinado de $ 32\n",
    "$-bits) usando `linspace`.\n",
    "\n",
    "(c) Construa um array $ 2D $ $ C $ de forma $ (4, 2) $ no qual todas as entradas são\n",
    "iguais a $ 1 + i $, do tipo `complex`. _Dica:_ Use `full` e lembre-se que\n",
    "a unidade imaginária em Python é denotada por `j`."
   ]
  },
  {
   "cell_type": "code",
   "execution_count": null,
   "metadata": {},
   "outputs": [],
   "source": []
  },
  {
   "cell_type": "markdown",
   "metadata": {},
   "source": [
    "### $ 1.5 $ A transposta\n",
    "\n",
    "O atributo `T` em arrays NumPy fornece uma _visão_ (não uma cópia independente) do\n",
    "array transposto. Para arrays $ 2D $, a __transposta__ é obtida pela \n",
    "troca de linhas e colunas.  \n",
    "\n",
    "__Exercício:__ \n",
    "\n",
    "(a) O que é a transposta de um array $ 1D $? E quanto a arrays $ 3D $? Teste suas conjecturas em alguns exemplos.\n",
    "\n",
    "(b) De forma mais geral, qual seria a definição mais razoável da transposta de um array $ n $-dimensional?"
   ]
  },
  {
   "cell_type": "code",
   "execution_count": null,
   "metadata": {},
   "outputs": [],
   "source": []
  },
  {
   "cell_type": "markdown",
   "metadata": {},
   "source": [
    "Para arrays de dimensões superiores, `T` inverte a ordem de todos os eixos, enquanto\n",
    "a transposta de um array $ 1D $ é o próprio array. A transposta aparece\n",
    "frequentemente em Álgebra Linear e suas aplicações em estatística e aprendizado\n",
    "de máquina."
   ]
  },
  {
   "cell_type": "markdown",
   "metadata": {},
   "source": [
    "<div style=\"\n",
    "    background-color: #fff3cd; \n",
    "    border: 1px solid #ffeeba; \n",
    "    border-left: 5px solid #ffc107; \n",
    "    border-radius: 4px; \n",
    "    color: #856404; \n",
    "    margin: 10px 0px; \n",
    "    padding: 15px;\">\n",
    "    <span style=\"font-size: 24px; margin-right: 10px; vertical-align: middle;\">⚠️</span>\n",
    "    Quando aplicado a dois arrays da mesma forma, o operador <code>==</code> realiza uma\n",
    "    comparação elemento a elemento e retorna um array booleano da mesma forma. \n",
    "    Para verificar se dois arrays <i>A</i> e <i>B</i> têm a mesma\n",
    "    forma e elementos, use <code>np.array_equal(A, B)</code> em vez disso.\n",
    "</div>"
   ]
  },
  {
   "cell_type": "code",
   "execution_count": 7,
   "metadata": {},
   "outputs": [
    {
     "name": "stdout",
     "output_type": "stream",
     "text": [
      "[ True  True  True]\n",
      "True\n"
     ]
    }
   ],
   "source": [
    "a = np.array([1, 2, 3])\n",
    "b = np.array([1, 2, 3])\n",
    "\n",
    "print(a == b)  # Comparação elemento a elemento\n",
    "print(np.array_equal(a, b))  # Igualdade geral do array"
   ]
  },
  {
   "cell_type": "markdown",
   "metadata": {},
   "source": [
    "__Exercício:__ Escreva uma função Python para determinar se uma dada matriz $ A $ é\n",
    "_simétrica_ (ou seja, se $ A^T = A $), _antissimétrica_ ($ A^T = -A $) ou nenhuma das duas.\n",
    "Sua função funciona corretamente quando $ A $ não é quadrada?"
   ]
  },
  {
   "cell_type": "code",
   "execution_count": null,
   "metadata": {},
   "outputs": [],
   "source": [
    "def matrix_symmetry(A):\n",
    "    # complete"
   ]
  },
  {
   "cell_type": "markdown",
   "metadata": {},
   "source": [
    "## $ \\S 2 $ Métodos de redução e acumulação\n",
    "\n",
    "### $ 2.1 $ Métodos e terminologia relacionada\n",
    "\n",
    "Enquanto os atributos descrevem as propriedades de um objeto, os **métodos** definem o que\n",
    "um objeto pode fazer: são funções vinculadas ao objeto e que podem\n",
    "acessar ou modificar seu estado. Métodos encapsulam comportamentos apropriados para\n",
    "a classe de objetos a que pertencem, assim como os atributos encapsulam o estado.\n",
    "\n",
    "📝 Para invocar um método `m` em um objeto `x`, a sintaxe é `x.m(<argumentos>)`.\n",
    "\n",
    "Continuando o exemplo da seção $ \\S 1.2 $, poderíamos pensar em implementar\n",
    "os seguintes métodos para nossa classe que representa carros:\n",
    "* Ligar o motor (digamos, `start_engine()`, que não retorna nada, mas muda o estado do carro).\n",
    "* Verificar se é necessária manutenção (digamos, `needs_maintenance()`, que retorna um `boolean`).\n",
    "* Reabastecer o carro com certa quantidade de combustível (digamos, `refuel(amount)`, que retorna o novo nível de combustível como um `float`).\n",
    "\n",
    "No contexto de arrays NumPy, métodos como `sum()` realizam cálculos nos\n",
    "dados do array e retornam resultados, enquanto métodos como `sort()` modificam o array no\n",
    "local, sem retornar nada."
   ]
  },
  {
   "cell_type": "code",
   "execution_count": 19,
   "metadata": {},
   "outputs": [
    {
     "name": "stdout",
     "output_type": "stream",
     "text": [
      "v = [2 3 1]\n",
      "Sum of the values in v: 6\n",
      "v after sorting: [1 2 3]\n"
     ]
    }
   ],
   "source": [
    "v = np.array([2, 3, 1])\n",
    "print(f\"v = {v}\")\n",
    "print(f\"Sum of the values in v: {v.sum()}\")\n",
    "\n",
    "v.sort()  # Ordena C no local ao longo de seu último eixo\n",
    "print(f\"v after sorting: {v}\")"
   ]
  },
  {
   "cell_type": "markdown",
   "metadata": {},
   "source": [
    "### $ 2.2 $ Principais métodos de redução e acumulação\n",
    "\n",
    "Os arrays NumPy têm vários métodos de _redução_ que transformam dados\n",
    "em formas mais simples. Por exemplo, os métodos `min` e `max` produzem os elementos\n",
    "mínimo e máximo de um array. Da mesma forma, `argmin` e `argmax` retornam o\n",
    "_índice_ dos elementos mínimo e máximo. Aqui está uma ilustração no\n",
    "caso de um array $ 1D $ `a`:\n",
    "\n",
    "<img src=\"max_min.svg\" width=\"1400\" height=\"300\" alt=\"Métodos Max e min\">"
   ]
  },
  {
   "cell_type": "markdown",
   "metadata": {},
   "source": [
    "📝 Quando o valor mínimo ocorre várias vezes, `argmin` retorna o índice da\n",
    "primeira ocorrência. Quando chamado em um array multidimensional, ele retorna\n",
    "o índice do elemento mínimo da versão _achatada_ ($ 1D $) do array:"
   ]
  },
  {
   "cell_type": "code",
   "execution_count": 14,
   "metadata": {},
   "outputs": [
    {
     "name": "stdout",
     "output_type": "stream",
     "text": [
      "[[3 2 4]\n",
      " [1 4 1]]\n",
      "Argmin: 3\n",
      "<class 'numpy.int64'>\n"
     ]
    }
   ],
   "source": [
    "arr = np.array([[3, 2, 4], \n",
    "                [1, 4, 1]])\n",
    "print(arr)\n",
    "\n",
    "idx = arr.argmin()\n",
    "print(f\"Argmin: {idx}\")\n",
    "print(type(idx))"
   ]
  },
  {
   "cell_type": "markdown",
   "metadata": {},
   "source": [
    "O resultado neste caso é $ 3 $ porque esse é o primeiro índice de um elemento\n",
    "tendo o valor mínimo $ 1 $ no array achatado $ (3, 2, 4, 1, 4, 1) $.\n",
    "Claro, comentários semelhantes se aplicam a `argmax`."
   ]
  },
  {
   "cell_type": "markdown",
   "metadata": {},
   "source": [
    "__Exercício:__ Calcule `min`, `max`, `argmin` e `argmax` do seguinte array $ 2D $.\n",
    "Explique os resultados dos dois últimos métodos."
   ]
  },
  {
   "cell_type": "code",
   "execution_count": 15,
   "metadata": {},
   "outputs": [
    {
     "name": "stdout",
     "output_type": "stream",
     "text": [
      "[[2 0 3]\n",
      " [3 1 0]\n",
      " [1 2 0]] \n",
      "\n"
     ]
    }
   ],
   "source": [
    "A = np.array([[2, 0, 3],\n",
    "              [3, 1, 0],\n",
    "              [1, 2, 0]])\n",
    "print(A, '\\n')"
   ]
  },
  {
   "cell_type": "markdown",
   "metadata": {},
   "source": [
    "Os métodos `sum` e `prod` são outros métodos de redução que calculam a soma e o produto de\n",
    "todos os elementos em um array, respectivamente. Os métodos `cumsum` e `cumprod` são\n",
    "métodos de _acumulação_. Em vez de retornar um único número, eles produzem um\n",
    "array da mesma forma que o original, obtido calculando a soma e o produto _cumulativos_\n",
    "das entradas no array, respectivamente:\n",
    "\n",
    "<img src=\"sum_prod.svg\" width=\"1400\" height=\"300\" alt=\"Métodos de soma e produto\">"
   ]
  },
  {
   "cell_type": "markdown",
   "metadata": {},
   "source": [
    "__Exercício:__ Verifique os resultados no exemplo anterior usando NumPy e diretamente a partir\n",
    "das definições dos métodos."
   ]
  },
  {
   "cell_type": "code",
   "execution_count": null,
   "metadata": {},
   "outputs": [],
   "source": []
  },
  {
   "cell_type": "markdown",
   "metadata": {},
   "source": [
    "__Exercício:__ Crie uma função que calcule juros compostos usando\n",
    "`cumprod`. Dado um valor principal e um array de taxas de juros mensais\n",
    "(como valores decimais), retorne o saldo da conta após cada mês.\n",
    "Teste-o nos valores abaixo. _Dica:_ Os fatores de crescimento são dados por\n",
    "$ 1 + \\text{taxas mensais} $. Os saldos serão o produto do\n",
    "valor principal pelo produto cumulativo dos fatores de crescimento."
   ]
  },
  {
   "cell_type": "code",
   "execution_count": null,
   "metadata": {},
   "outputs": [],
   "source": [
    "principal = 1000\n",
    "monthly_rates = np.array([0.01, 0.012, 0.008, 0.011, 0.009, 0.013])\n",
    "# balances = ???"
   ]
  },
  {
   "cell_type": "markdown",
   "metadata": {},
   "source": [
    "📝 Nenhum dos métodos de redução e acumulação realiza transformações\n",
    "no local. Em vez disso, eles retornam novos arrays (ou números) com os resultados\n",
    "calculados, deixando o array original inalterado.\n",
    "\n",
    "Os métodos de redução `mean`, `median`, `var` e `std` fornecem operações\n",
    "estatísticas básicas essenciais para análise de dados, ou seja,\n",
    "eles calculam a média (aritmética), mediana, variância e desvio padrão\n",
    "do conjunto de elementos no array, respectivamente. Por exemplo:\n",
    "\n",
    "<img src=\"mean_median.svg\" width=\"1400\" height=\"300\" alt=\"Métodos de redução estatística\">"
   ]
  },
  {
   "cell_type": "markdown",
   "metadata": {},
   "source": [
    "Lembre-se que a __variância__ de uma coleção de números $ x_i $ é a média\n",
    "do quadrado dos desvios da média; ela mede o quão dispersos estão os valores.\n",
    "O __desvio padrão__ é simplesmente a raiz quadrada da variância.\n",
    "Em símbolos, se \n",
    "$$\n",
    "\\mu = \\frac{1}{n} \\sum_{i=1}^{n} x_i\n",
    "$$\n",
    "denota a média, então\n",
    "$$\n",
    "\\sigma^2 = \\text{Var} = \\frac{1}{n} \\sum_{i=1}^{n} (x_i - \\mu)^2 \\qquad\n",
    "\\text{e} \\qquad \n",
    "\\sigma = \\text{Std} = \\sqrt{\\text{Var}} = \\sqrt{\\frac{1}{n} \\sum_{i=1}^{n} (x_i - \\mu)^2}\n",
    "$$\n",
    "Como acima, o desvio padrão é frequentemente denotado por $ \\sigma $.\n",
    "\n",
    "__Exercício:__ Verifique usando as definições que os valores na ilustração\n",
    "anterior estão corretos."
   ]
  },
  {
   "cell_type": "code",
   "execution_count": null,
   "metadata": {},
   "outputs": [],
   "source": []
  },
  {
   "cell_type": "markdown",
   "metadata": {},
   "source": [
    "__Exercício:__ Quais são a média, mediana, variância e desvio padrão de um\n",
    "array cujos elementos têm todos o mesmo valor?"
   ]
  },
  {
   "cell_type": "markdown",
   "metadata": {},
   "source": [
    "__Exercício:__ Dado o array $ 1D $ abaixo, calcule a mediana e o desvio\n",
    "padrão de todos os números que são maiores que $ 50 $. _Dica:_ Use uma\n",
    "máscara booleana para filtrar os valores $ > 50 $."
   ]
  },
  {
   "cell_type": "code",
   "execution_count": 3,
   "metadata": {},
   "outputs": [
    {
     "name": "stdout",
     "output_type": "stream",
     "text": [
      "[86 64 52 27 31  5  8  2 18 82 65 92 51 61 98 73 64 55 56 94] ...\n"
     ]
    }
   ],
   "source": [
    "rng = np.random.default_rng(0)\n",
    "v = rng.integers(1, 101, size=100)\n",
    "# Primeiros 20 elementos:\n",
    "print(v[:20], \"...\")\n",
    "\n",
    "# Sua solução aqui:\n",
    "# print(f\"\\nMean of values greater than 50: {...:.2f}\")"
   ]
  },
  {
   "cell_type": "markdown",
   "metadata": {},
   "source": [
    "### $ 2.3 $ Aplicando métodos de redução e acumulação ao longo de um eixo\n",
    "\n",
    "Como argumento opcional para qualquer desses métodos, podemos designar um eixo\n",
    "_ao longo do qual_ a soma deve ocorrer. Como sempre em Python, a indexação é\n",
    "baseada em zero, o que significa que para a matriz $ C $ abaixo, as linhas estão ao longo do eixo $ 0\n",
    "$ e as colunas ao longo do eixo $ 1 $."
   ]
  },
  {
   "cell_type": "code",
   "execution_count": null,
   "metadata": {},
   "outputs": [],
   "source": [
    "C = np.array([[2, 1, 3],\n",
    "              [3, 2, 1]])\n",
    "print(C.sum(axis=0))  # Soma ao longo do eixo 0 (soma por coluna)"
   ]
  },
  {
   "cell_type": "markdown",
   "metadata": {},
   "source": [
    "Se pensarmos em $ C $ como a matriz $ C = (c_{ij}) $, onde $ i $ é o índice\n",
    "para o eixo $ 0 $ (ou seja, o índice das linhas), então tomar a soma _ao longo_ deste eixo\n",
    "significa que, para cada $ j $, o NumPy calcula\n",
    "$$ \\sum_{i} c_{ij}\n",
    "$$\n",
    "resultando no vetor anterior, já que $ C $ tem três colunas. Para colocar de\n",
    "outra forma, _o eixo especificado como argumento para `sum` é aquele que é\n",
    "colapsado_, neste caso pela soma."
   ]
  },
  {
   "cell_type": "markdown",
   "metadata": {},
   "source": [
    "__Exercício:__ Entender como o parâmetro de eixo funciona é crucial;\n",
    "este exercício ajudará você a dominar isso.\n",
    "Dada a matriz $ A $ na célula de código abaixo:\n",
    "\n",
    "(a) Encontre o valor máximo em cada linha (ou seja, ao longo das colunas).\n",
    "\n",
    "(b) Calcule a média (média aritmética) de cada coluna (ou seja, ao longo das linhas).\n",
    "\n",
    "(c) Determine o índice do elemento máximo em cada linha (ou seja, ao longo das colunas).\n",
    "\n",
    "(d) Calcule o desvio padrão dos valores em cada linha.\n",
    "\n",
    "(e) Encontre as somas cumulativas para cada linha usando o método `cumsum`. "
   ]
  },
  {
   "cell_type": "code",
   "execution_count": 12,
   "metadata": {},
   "outputs": [
    {
     "name": "stdout",
     "output_type": "stream",
     "text": [
      "[[1 2 3 4]\n",
      " [3 3 3 3]]\n"
     ]
    }
   ],
   "source": [
    "A = np.array([[1, 2, 3, 4],\n",
    "              [3, 3, 3, 3]])\n",
    "print(A)"
   ]
  },
  {
   "cell_type": "markdown",
   "metadata": {},
   "source": [
    "📝 É possível aplicar os métodos ao longo de múltiplos eixos passando uma tupla de\n",
    "eixos para o parâmetro `axis`. Isso realiza a operação através das dimensões especificadas\n",
    "simultaneamente."
   ]
  },
  {
   "cell_type": "markdown",
   "metadata": {},
   "source": [
    "__Exercício:__ Aplique `sum` ao longo dos eixos $ 1 $ e $ 2 $ do seguinte array $ 3D $\n",
    "e explique o resultado."
   ]
  },
  {
   "cell_type": "code",
   "execution_count": 10,
   "metadata": {},
   "outputs": [
    {
     "name": "stdout",
     "output_type": "stream",
     "text": [
      "[[[-12 -11 -10  -9]\n",
      "  [ -8  -7  -6  -5]\n",
      "  [ -4  -3  -2  -1]]\n",
      "\n",
      " [[  0   1   2   3]\n",
      "  [  4   5   6   7]\n",
      "  [  8   9  10  11]]]\n"
     ]
    }
   ],
   "source": [
    "M = np.arange(-12, 12).reshape(2, 3, 4)\n",
    "print(M)"
   ]
  },
  {
   "cell_type": "markdown",
   "metadata": {},
   "source": [
    "### $ 2.4 $ Outros métodos de redução e acumulação\n",
    "\n",
    "Os arrays têm vários outros métodos além dos discutidos acima. Para obter uma listagem\n",
    "de todos os atributos e métodos associados a um objeto `a` (não necessariamente um\n",
    "array), você pode executar o comando Python `dir(a)`. Além disso, em notebooks Jupyter,\n",
    "digitar `?` antes ou depois do nome de um objeto ou função (por exemplo, `A?` ou\n",
    "`?np.array`) exibe documentação detalhada sobre ele:"
   ]
  },
  {
   "cell_type": "code",
   "execution_count": 32,
   "metadata": {},
   "outputs": [],
   "source": [
    "A.sum?"
   ]
  },
  {
   "cell_type": "markdown",
   "metadata": {},
   "source": [
    "Aqui mencionaremos apenas dois métodos adicionais muito úteis: `any` e `all`, que são\n",
    "métodos de redução booleana:\n",
    "\n",
    "* `any` retorna `True` se e somente se pelo menos um elemento no array for verdadeiro (ou não-zero).\n",
    "   É equivalente a uma operação OR entre os elementos.\n",
    "* `all` retorna `True` se e somente se todos os elementos no array forem verdadeiros (ou não-zero). É\n",
    "   equivalente a uma operação AND entre os elementos.\n",
    "\n",
    "Ambos aceitam um argumento de eixo para aplicar a operação ao longo de dimensões específicas,\n",
    "e ambos lidam com arrays não-booleanos tratando valores não-zero como\n",
    "True."
   ]
  },
  {
   "cell_type": "markdown",
   "metadata": {},
   "source": [
    "__Exercício:__ Você tem leituras de sensores de vários dispositivos coletados\n",
    "ao longo do dia (fornecidos abaixo). Crie uma função que verifique se algum\n",
    "sensor relatou um valor crítico (acima de $ 95 $) e se todos os sensores permaneceram\n",
    "operacionais (acima de $ 0 $)."
   ]
  },
  {
   "cell_type": "code",
   "execution_count": 7,
   "metadata": {},
   "outputs": [],
   "source": [
    "# Cada linha dos dados representa um intervalo de tempo e cada coluna um sensor diferente:\n",
    "sensor_data = np.array([\n",
    "    [45, 62, 78, 81, 56],  # Hora 0\n",
    "    [47, 65, 76, 82, 58],  # Hora 1\n",
    "    [52, 68, 81, 85, 61],  # Hora 2\n",
    "    [56, 72, 85, 88, 65],  # Hora 3\n",
    "    [62, 78, 92, 93, 71],  # Hora 4\n",
    "    [68, 83, 96, 91, 75],  # Hora 5 - Valor crítico\n",
    "    [65, 81, 93, 87, 72],  # Hora 6\n",
    "    [60, 76, 88, 84, 69],  # Hora 7\n",
    "    [54, 71, 82, 80, 63],  # Hora 8\n",
    "    [51, 67, 78, 78, 59],  # Hora 9\n",
    "    [48, 65, 75, 75, 57],  # Hora 10\n",
    "    [46, 63, 73, 74, 54],  # Hora 11\n",
    "    [42, 59, 69, 70, 51],  # Hora 12\n",
    "    [39, 55, 65, 68, 48],  # Hora 13\n",
    "    [36, 53, 61, 65, 45],  # Hora 14\n",
    "    [32, 48, 58, 61, 41],  # Hora 15\n",
    "    [29, 43, 54, 58, 37],  # Hora 16\n",
    "    [25, 38, 49, 53, 33],  # Hora 17\n",
    "    [22, 35, 44, 49, 29],  # Hora 18\n",
    "    [18, 30, 40, 46, 25],  # Hora 19\n",
    "    [15, 28, 37, 42, 21],  # Hora 20\n",
    "    [13, 0, 35, 39, 18],   # Hora 21 - Falha do sensor (valor 0)\n",
    "    [11, 0, 32, 36, 15],   # Hora 22 - Falha do sensor (valor 0)\n",
    "    [10, 22, 30, 35, 13],  # Hora 23\n",
    "])\n",
    "\n",
    "def validate_sensor_data(data, critical_threshold=95, operational_threshold=0):\n",
    "    critical_readings = sensor_data > critical_threshold\n",
    "    operational_sensors = sensor_data > operational_threshold\n",
    "    # complete ..."
   ]
  },
  {
   "cell_type": "markdown",
   "metadata": {},
   "source": [
    "__Exercício:__ Dado um array $ 2D $ `data` de forma $ 100 \\times 5 $ representando um\n",
    "conjunto de dados onde cada linha é uma entrada e cada coluna corresponde a uma variável diferente:\n",
    "\n",
    "(a) Calcule a média e o desvio padrão de cada variável.\n",
    "\n",
    "(b) Usando `argmin`, identifique a variável com a menor variância, sugerindo que ela tem a\n",
    "menor dispersão."
   ]
  },
  {
   "cell_type": "code",
   "execution_count": null,
   "metadata": {},
   "outputs": [
    {
     "name": "stdout",
     "output_type": "stream",
     "text": [
      "[[ 1.29289305  0.45367126 -1.69015994 -0.72819503  1.2323034 ]\n",
      " [ 0.29833525 -0.00985894  0.44120059  0.72104895 -0.70846524]\n",
      " [-0.29040008  0.14291365 -0.54395772 -0.13345156  1.29787176]\n",
      " [-0.96781986  1.92666271  1.87934438 -1.71343944 -0.14102267]\n",
      " [ 0.34269157 -0.76087109 -0.7410805  -0.2374157   0.73917809]]\n"
     ]
    }
   ],
   "source": [
    "data = rng.normal(size=(100, 5))\n",
    "\n",
    "print(data[:5])  # Exibir as primeiras cinco linhas da tabela\n",
    "\n",
    "# (a) Média e desvio padrão de cada variável (coluna):\n",
    "\n",
    "# (b) Encontre a variável com a menor variância:"
   ]
  },
  {
   "cell_type": "code",
   "execution_count": null,
   "metadata": {},
   "outputs": [],
   "source": []
  },
  {
   "cell_type": "markdown",
   "metadata": {},
   "source": [
    "## $ \\S 3 $ Remodelagem e transformação de arrays\n",
    "\n",
    "### $ 3.1 $ Alterando o tipo de dados\n",
    "\n",
    "Lembre-se que o atributo `dtype` de um array armazena seu tipo de dados. Podemos criar\n",
    "um novo array com um tipo de dados diferente a partir de um dado array usando o método\n",
    "`astype`, desde que a conversão de tipo de dados faça sentido:"
   ]
  },
  {
   "cell_type": "code",
   "execution_count": null,
   "metadata": {},
   "outputs": [
    {
     "name": "stdout",
     "output_type": "stream",
     "text": [
      "[['1' '-2']\n",
      " ['3' '-4']] \n",
      "\n",
      "float64 \n",
      " [[ 1. -2.]\n",
      " [ 3. -4.]]\n"
     ]
    }
   ],
   "source": [
    "# Vamos começar criando um array de strings:\n",
    "A = np.array([[\"1\", \"-2\"],\n",
    "              [\"3\", \"-4\"]])\n",
    "print(A, '\\n')\n",
    "\n",
    "# Converter o tipo de dados para números de ponto flutuante de precisão dupla (64 bits):\n",
    "A_double = A.astype(\"float64\")\n",
    "print(A_double.dtype, '\\n', A_double)"
   ]
  },
  {
   "cell_type": "markdown",
   "metadata": {},
   "source": [
    "📝 Observe que o tipo de dados é passado como uma string. Na verdade, esses são apenas\n",
    "aliases convenientes para os verdadeiros nomes de tipos (do NumPy), como `np.float64` e\n",
    "`np.bool_`, que também podem ser passados diretamente.\n"
   ]
  },
  {
   "cell_type": "markdown",
   "metadata": {},
   "source": [
    "__Exercício:__ O que acontece se você tentar converter um array numérico para um cujo\n",
    "tipo de dados é `bool`? E quanto ao contrário, ou seja, de `bool` para, digamos, `int32`?"
   ]
  },
  {
   "cell_type": "code",
   "execution_count": 14,
   "metadata": {},
   "outputs": [],
   "source": [
    "numbers = np.array([-2, -1, 0, 1, 2])\n",
    "\n",
    "bool_vals = np.array([True, False, True, True])"
   ]
  },
  {
   "cell_type": "markdown",
   "metadata": {},
   "source": [
    "📝 Embora tenhamos falado sobre a \"conversão\" de um tipo para outro,\n",
    "`astype` não modifica realmente o array original; em vez disso, sempre cria uma\n",
    "_nova cópia_ do array original com o tipo de dados prescrito. Isso ocorre\n",
    "mesmo quando o tipo de dados alvo é o mesmo que o original.\n",
    "\n",
    "__Exercício:__ Prove que os dois arrays $ \\mathbf{u} $ e $ \\mathbf{v} $ abaixo\n",
    "são independentes modificando um deles e verificando que o outro\n",
    "não é afetado."
   ]
  },
  {
   "cell_type": "code",
   "execution_count": 15,
   "metadata": {},
   "outputs": [
    {
     "name": "stdout",
     "output_type": "stream",
     "text": [
      "Original u: [1 2 3] of type int64\n",
      "Original v: [1 2 3] of type int64 \n",
      "\n"
     ]
    }
   ],
   "source": [
    "u = np.array([1, 2, 3])\n",
    "print(f\"Original u: {u} of type {u.dtype}\")\n",
    "\n",
    "v = u.astype(\"int64\")\n",
    "print(f\"Original v: {v} of type {v.dtype} \\n\")\n",
    "\n",
    "# Modifique v e verifique se u é afetado:"
   ]
  },
  {
   "cell_type": "markdown",
   "metadata": {},
   "source": [
    "### $ 3.2 $ Modificando a forma dos arrays\n",
    "\n",
    "Remodelar arrays é uma operação comum e fundamental no NumPy. Existe tanto\n",
    "uma função quanto um método chamado `reshape` que podem realizar isso:"
   ]
  },
  {
   "cell_type": "code",
   "execution_count": 62,
   "metadata": {},
   "outputs": [],
   "source": [
    "a = np.array([1, 2, 3, 4, 5, 6])\n",
    "print(a, end='\\n\\n')\n",
    "\n",
    "A = np.reshape(a, (3, 2))  # Aqui usamos a _função_ `reshape`\n",
    "\n",
    "B = a.reshape((2, 3))   # Aqui usamos o _método_ `reshape`\n",
    "\n",
    "print(A, end=\"\\n\\n\")  # Aqui a foi remodelado em uma matriz 3 por 2\n",
    "print(B, end=\"\\n\\n\")  # Aqui a foi remodelado em uma matriz 2 por 3"
   ]
  },
  {
   "cell_type": "markdown",
   "metadata": {},
   "source": [
    "Note que quando remodelamos um array, a nova forma deve ser compatível com o\n",
    "tamanho do array original, no sentido de que o tamanho (número total de\n",
    "elementos) deve permanecer o mesmo. Por exemplo, o seguinte resulta em um erro:"
   ]
  },
  {
   "cell_type": "code",
   "execution_count": null,
   "metadata": {},
   "outputs": [],
   "source": [
    "C = np.reshape(a, (2, 2))"
   ]
  },
  {
   "cell_type": "markdown",
   "metadata": {},
   "source": [
    "Ao remodelar, também podemos especificar $ -1 $ em uma dimensão para instruir\n",
    "o NumPy a inferir o número de elementos ao longo dessa dimensão a partir do tamanho do\n",
    "array e das dimensões restantes. Isso é especialmente útil quando um\n",
    "array é passado para nós pelo usuário como argumento em uma chamada de função, mas nós\n",
    "não sabemos com antecedência quantas entradas ele tem:"
   ]
  },
  {
   "cell_type": "code",
   "execution_count": null,
   "metadata": {},
   "outputs": [],
   "source": [
    "a = np.array([[1, 2],\n",
    "              [3, 4]])\n",
    "A = a.reshape((-1, 1))  # Remodelar em um vetor coluna\n",
    "print(A)"
   ]
  },
  {
   "cell_type": "markdown",
   "metadata": {},
   "source": [
    "Neste exemplo, queríamos remodelar nosso array para que o resultado tivesse\n",
    "uma coluna, mas não queríamos calcular quantas linhas ele deveria ter para\n",
    "que isso acontecesse. Aqui está outro exemplo, no qual remodelamos um array $ 1D $ em uma\n",
    "matriz e depois em um vetor linha:"
   ]
  },
  {
   "cell_type": "code",
   "execution_count": 8,
   "metadata": {},
   "outputs": [
    {
     "name": "stdout",
     "output_type": "stream",
     "text": [
      "[ 1  2  3  4  5  6  7  8  9 10 11 12]\n",
      "\n",
      "[[ 1  2  3  4]\n",
      " [ 5  6  7  8]\n",
      " [ 9 10 11 12]]\n",
      "\n",
      "[[ 1  2  3  4  5  6  7  8  9 10 11 12]]\n",
      "\n"
     ]
    }
   ],
   "source": [
    "x = np.arange(1, 13)\n",
    "X = x.reshape((3, -1))\n",
    "x_row = X.reshape((1, -1))\n",
    "\n",
    "print(x, end='\\n\\n')\n",
    "print(X, end='\\n\\n')\n",
    "print(x_row, end='\\n\\n')"
   ]
  },
  {
   "cell_type": "markdown",
   "metadata": {},
   "source": [
    "📝 Não há diferença essencial entre as versões de função e método\n",
    "de `reshape`. Em ambos os casos, o NumPy retorna um _novo_ array, enquanto o array original\n",
    "permanece inalterado. No entanto, essas operações fornecem uma visão dos\n",
    "_dados_ do array original sempre que possível, o que significa que elas não copiam os\n",
    "_dados_ do array a menos que seja necessário. Assim, modificações nos dados do array remodelado\n",
    "podem afetar o array original e vice-versa. Vamos usar o exemplo\n",
    "anterior para ilustrar isso:"
   ]
  },
  {
   "cell_type": "code",
   "execution_count": null,
   "metadata": {},
   "outputs": [],
   "source": [
    "X[0, 0] = -23  # Modifica o elemento superior esquerdo de X\n",
    "print(x)  # O elemento 0 de x também foi afetado!"
   ]
  },
  {
   "cell_type": "markdown",
   "metadata": {},
   "source": [
    "Para criar uma cópia independente e profunda de um array NumPy, podemos usar o método `copy`.\n",
    "Este método gera um novo objeto array com os mesmos dados que o array original,\n",
    "mas armazenado em um local de memória separado."
   ]
  },
  {
   "cell_type": "code",
   "execution_count": null,
   "metadata": {},
   "outputs": [],
   "source": [
    "y = np.arange(3)  # y é o array 1D com entradas 0, 1, 2\n",
    "Y = y.copy().reshape((1, -1))  # Remodelar y em um vetor linha 2D independente\n",
    "y[0] = 10  # Modificar o elemento 0 de y\n",
    "\n",
    "print(y)\n",
    "print(Y)  # O elemento 0 de Y não é afetado, já que Y é uma cópia independente"
   ]
  },
  {
   "cell_type": "markdown",
   "metadata": {},
   "source": [
    "__Exercício:__ Dado um array $ 1D $ de $ 100 $ elementos, remoldele-o em uma matriz $ 10\n",
    "\\times 10 $. Em seguida, normalize a matriz para que todos os valores sejam escalados para\n",
    "estar entre $ 0 $ e $ 1 $ (inclusive). _Dica:_ Determine o máximo $ M $ e\n",
    "mínimo $ m $ de todas as entradas, escreva uma função linear $ f $ que leve $ [m, M] $ para $ [0, 1] $\n",
    "e então aplique-a ao array inteiro."
   ]
  },
  {
   "cell_type": "code",
   "execution_count": null,
   "metadata": {},
   "outputs": [
    {
     "name": "stdout",
     "output_type": "stream",
     "text": [
      "[400 787 316 239 791 876  79  58 671 336 573 150 860 450 894 796 705 230\n",
      " 767  52 570 404 996 198 946  90 623 580 898 298 902 671 890 199 758 942\n",
      "  48 365 636 105 510 629 763 927 409 440 474 954 195 499  49 425 945 620\n",
      " 349 995 603 948  16 460 834 757 407 497 420 529 230 785  77 414 281 734\n",
      " 749 711 924 932 184 114 132 729 970 927 668 967 871  14 119 863  82 981\n",
      " 827 957 360 148 516 972 367 889 383 822]\n"
     ]
    }
   ],
   "source": [
    "# Gerar array aleatório de 100 elementos\n",
    "data = rng.integers(0, 1000, size=100)\n",
    "print(data)"
   ]
  },
  {
   "cell_type": "markdown",
   "metadata": {},
   "source": [
    "### $ 3.3 $ Os métodos `ravel` e `flatten`\n",
    "\n",
    "O método `flatten` pega um array multidimensional e retorna um novo\n",
    "array _unidimensional_ independente contendo todos os elementos do array original. "
   ]
  },
  {
   "cell_type": "code",
   "execution_count": 16,
   "metadata": {},
   "outputs": [
    {
     "name": "stdout",
     "output_type": "stream",
     "text": [
      "[1 2 3 4]\n",
      "\n",
      "After modifying a[0]:\n",
      "[[1 2]\n",
      " [3 4]]\n",
      "a = [99  2  3  4]\n"
     ]
    }
   ],
   "source": [
    "A = np.array([[1, 2],\n",
    "              [3, 4]])\n",
    "a = A.flatten()  # Cria um novo array 1D com uma cópia dos dados\n",
    "print(a)\n",
    "\n",
    "# Vamos verificar que é uma cópia:\n",
    "a[0] = 99\n",
    "print(f\"\\nAfter modifying a[0]:\\n{A}\")\n",
    "print(f\"a = {a}\")"
   ]
  },
  {
   "cell_type": "markdown",
   "metadata": {},
   "source": [
    "A ordem em que os elementos são colocados no array achatado é baseada na\n",
    "ordenação lexicográfica de seus índices no array original. Por exemplo,\n",
    "se estamos lidando com um array $ 3D $, então a entrada na posição $ (0, 0, 2) $\n",
    "vem antes da entrada em $ (0, 1, 0) $, que será colocada antes da entrada\n",
    "em $ (1, 0, 0) $."
   ]
  },
  {
   "cell_type": "code",
   "execution_count": 11,
   "metadata": {},
   "outputs": [
    {
     "name": "stdout",
     "output_type": "stream",
     "text": [
      "[[0 1 2]\n",
      " [3 4 5]]\n",
      "[10  1  2  3  4  5]\n",
      "[[0 1 2]\n",
      " [3 4 5]]\n"
     ]
    }
   ],
   "source": [
    "A = np.arange(6).reshape((2, 3))\n",
    "print(A)\n",
    "\n",
    "a = A.flatten()\n",
    "a[0] = 10\n",
    "\n",
    "print(a)\n",
    "print(A)"
   ]
  },
  {
   "cell_type": "markdown",
   "metadata": {},
   "source": [
    "O NumPy fornece outro método chamado `ravel` que é semelhante a `flatten`, mas\n",
    "com uma diferença importante: enquanto `flatten` sempre retorna uma cópia profunda dos\n",
    "dados, `ravel` retorna uma visão quando possível, o que o torna mais\n",
    "eficiente em termos de memória.\n",
    "\n",
    "__Exercício:__ Aplique `ravel` e `flatten` à matriz $ A $ abaixo para obter\n",
    "dois vetores $ \\mathbf{r} $ e $ \\mathbf{f} $. Verifique se as alterações em\n",
    "$ A $ afetam algum dos vetores."
   ]
  },
  {
   "cell_type": "code",
   "execution_count": 14,
   "metadata": {},
   "outputs": [
    {
     "name": "stdout",
     "output_type": "stream",
     "text": [
      "[[1 2]\n",
      " [3 4]]\n"
     ]
    }
   ],
   "source": [
    "A = np.array([[1, 2],\n",
    "              [3, 4]])\n",
    "print(A)"
   ]
  },
  {
   "cell_type": "markdown",
   "metadata": {},
   "source": [
    "### $ 3.4 $ Usando o método e função `resize`\n",
    "\n",
    "Diferentemente de `reshape`, que requer que o número total de elementos permaneça o mesmo,\n",
    "`resize` pode alterar o tamanho total de um array. O método `resize` modifica o\n",
    "array no local, enquanto a função `np.resize` retorna um novo array. Se o\n",
    "novo tamanho for maior que o antigo, então o _método_ preenche as entradas ausentes\n",
    "com zeros, enquanto a _função_ percorre os elementos do array original:"
   ]
  },
  {
   "cell_type": "code",
   "execution_count": 18,
   "metadata": {},
   "outputs": [
    {
     "name": "stdout",
     "output_type": "stream",
     "text": [
      "Original a: [1 2 3 4]\n",
      "After a.resize(6): [1 2 3 4 0 0]\n"
     ]
    }
   ],
   "source": [
    "# Usando método resize (modifica no local), preenche com 0 se necessário:\n",
    "a = np.array([1, 2, 3, 4])\n",
    "print(f\"Original a: {a}\")\n",
    "\n",
    "a.resize(6)  # Redimensiona no local para comprimento 6\n",
    "print(f\"After a.resize(6): {a}\")"
   ]
  },
  {
   "cell_type": "code",
   "execution_count": 22,
   "metadata": {},
   "outputs": [
    {
     "name": "stdout",
     "output_type": "stream",
     "text": [
      "\n",
      "Original b: [1 2 3 4]\n",
      "After np.resize(b, (2, 3)):\n",
      "[[1 2 3]\n",
      " [4 1 2]]\n"
     ]
    }
   ],
   "source": [
    "# Usando função resize (retorna novo array)\n",
    "b = np.array([1, 2, 3, 4])\n",
    "C = np.resize(b, (2, 3))\n",
    "\n",
    "print(f\"\\nOriginal b: {b}\")\n",
    "print(f\"After np.resize(b, (2, 3)):\\n{C}\")"
   ]
  },
  {
   "cell_type": "markdown",
   "metadata": {},
   "source": [
    "### $ 3.5 $ Combinando arrays com `hstack` e `vstack`\n",
    "\n",
    "O NumPy fornece várias funções para empilhar arrays juntos. As mais comumente usadas são `hstack` (empilhamento horizontal) e `vstack` (empilhamento vertical)."
   ]
  },
  {
   "cell_type": "code",
   "execution_count": 24,
   "metadata": {},
   "outputs": [
    {
     "name": "stdout",
     "output_type": "stream",
     "text": [
      "Horizontal stack of a and b: [1 2 3 4 5 6]\n",
      "Vertical stack of a and b:\n",
      "[[1 2 3]\n",
      " [4 5 6]]\n"
     ]
    }
   ],
   "source": [
    "# Criando arrays de exemplo\n",
    "a = np.array([1, 2, 3])\n",
    "b = np.array([4, 5, 6])\n",
    "\n",
    "# Empilhamento horizontal (lado a lado):\n",
    "h_stacked = np.hstack((a, b))\n",
    "print(f\"Horizontal stack of a and b: {h_stacked}\")\n",
    "\n",
    "# Empilhamento vertical (um acima do outro):\n",
    "v_stacked = np.vstack((a, b))\n",
    "print(f\"Vertical stack of a and b:\\n{v_stacked}\")"
   ]
  },
  {
   "cell_type": "markdown",
   "metadata": {},
   "source": [
    "__Exercício:__ Empilhe as duas matrizes $ A $ e $ B $ abaixo, horizontal e verticalmente."
   ]
  },
  {
   "cell_type": "code",
   "execution_count": 25,
   "metadata": {},
   "outputs": [],
   "source": [
    "A = np.array([[1, 2], [3, 4]])\n",
    "B = np.array([[5, 6], [7, 8]])"
   ]
  },
  {
   "cell_type": "markdown",
   "metadata": {},
   "source": [
    "### $ 3.6 $ Encontrando elementos únicos com `np.unique`\n",
    "\n",
    "A função `np.unique` retorna os elementos únicos ordenados de um array. Ela também pode retornar contagens de cada valor único quando o parâmetro `return_counts` é definido como `True`."
   ]
  },
  {
   "cell_type": "code",
   "execution_count": 34,
   "metadata": {},
   "outputs": [
    {
     "name": "stdout",
     "output_type": "stream",
     "text": [
      "Original array: [3 1 4 1 5 9 2 6 5 3 5]\n",
      "\n",
      "Unique elements: [1 2 3 4 5 6 9]\n",
      "\n",
      "Unique elements: [1 2 3 4 5 6 9]\n",
      "Counts:          [2 1 2 1 3 1 1]\n"
     ]
    }
   ],
   "source": [
    "data = np.array([3, 1, 4, 1, 5, 9, 2, 6, 5, 3, 5])\n",
    "print(f\"Original array: {data}\")\n",
    "\n",
    "# Obter elementos únicos:\n",
    "unique_elements = np.unique(data)\n",
    "print(f\"\\nUnique elements: {unique_elements}\")\n",
    "\n",
    "# Obter elementos únicos e suas contagens:\n",
    "unique_elements, counts = np.unique(data, return_counts=True)\n",
    "print(f\"\\nUnique elements: {unique_elements}\")\n",
    "print(f\"Counts: {str(counts):>24}\")"
   ]
  },
  {
   "cell_type": "markdown",
   "metadata": {},
   "source": [
    "__Exercício:__ Use `argmax` para encontrar o elemento mais comum no array `data` do exemplo anterior."
   ]
  },
  {
   "cell_type": "code",
   "execution_count": 11,
   "metadata": {},
   "outputs": [
    {
     "name": "stdout",
     "output_type": "stream",
     "text": [
      "[[0 1 2]\n",
      " [3 4 5]]\n",
      "[10  1  2  3  4  5]\n",
      "[[0 1 2]\n",
      " [3 4 5]]\n"
     ]
    }
   ],
   "source": [
    "A = np.arange(6).reshape((2, 3))\n",
    "print(A)\n",
    "\n",
    "a = A.flatten()\n",
    "a[0] = 10\n",
    "\n",
    "print(a)\n",
    "print(A)"
   ]
  },
  {
   "cell_type": "markdown",
   "metadata": {},
   "source": [
    "O NumPy fornece outro método chamado `ravel` que é semelhante a `flatten`, mas\n",
    "com uma diferença importante: enquanto `flatten` sempre retorna uma cópia profunda dos\n",
    "dados, `ravel` retorna uma visão quando possível, o que o torna mais\n",
    "eficiente em termos de memória.\n",
    "\n",
    "__Exercício:__ Aplique `ravel` e `flatten` à matriz $ A $ abaixo para obter\n",
    "dois vetores $ \\mathbf{r} $ e $ \\mathbf{f} $. Verifique se as alterações em\n",
    "$ A $ afetam algum dos vetores."
   ]
  },
  {
   "cell_type": "code",
   "execution_count": 14,
   "metadata": {},
   "outputs": [
    {
     "name": "stdout",
     "output_type": "stream",
     "text": [
      "[[1 2]\n",
      " [3 4]]\n"
     ]
    }
   ],
   "source": [
    "A = np.array([[1, 2],\n",
    "              [3, 4]])\n",
    "print(A)"
   ]
  },
  {
   "cell_type": "markdown",
   "metadata": {},
   "source": [
    "### $ 3.4 $ Usando o método e função `resize`\n",
    "\n",
    "Diferentemente de `reshape`, que requer que o número total de elementos permaneça o mesmo,\n",
    "`resize` pode alterar o tamanho total de um array. O método `resize` modifica o\n",
    "array no local, enquanto a função `np.resize` retorna um novo array. Se o\n",
    "novo tamanho for maior que o antigo, então o _método_ preenche as entradas ausentes\n",
    "com zeros, enquanto a _função_ percorre os elementos do array original:"
   ]
  },
  {
   "cell_type": "code",
   "execution_count": 18,
   "metadata": {},
   "outputs": [
    {
     "name": "stdout",
     "output_type": "stream",
     "text": [
      "Original a: [1 2 3 4]\n",
      "After a.resize(6): [1 2 3 4 0 0]\n"
     ]
    }
   ],
   "source": [
    "# Usando método resize (modifica no local), preenche com 0 se necessário:\n",
    "a = np.array([1, 2, 3, 4])\n",
    "print(f\"Original a: {a}\")\n",
    "\n",
    "a.resize(6)  # Redimensiona no local para comprimento 6\n",
    "print(f\"After a.resize(6): {a}\")"
   ]
  },
  {
   "cell_type": "code",
   "execution_count": 22,
   "metadata": {},
   "outputs": [
    {
     "name": "stdout",
     "output_type": "stream",
     "text": [
      "\n",
      "Original b: [1 2 3 4]\n",
      "After np.resize(b, (2, 3)):\n",
      "[[1 2 3]\n",
      " [4 1 2]]\n"
     ]
    }
   ],
   "source": [
    "# Usando função resize (retorna novo array)\n",
    "b = np.array([1, 2, 3, 4])\n",
    "C = np.resize(b, (2, 3))\n",
    "\n",
    "print(f\"\\nOriginal b: {b}\")\n",
    "print(f\"After np.resize(b, (2, 3)):\\n{C}\")"
   ]
  },
  {
   "cell_type": "markdown",
   "metadata": {},
   "source": [
    "### $ 3.5 $ Combinando arrays com `hstack` e `vstack`\n",
    "\n",
    "O NumPy fornece várias funções para empilhar arrays juntos. As mais comumente usadas são `hstack` (empilhamento horizontal) e `vstack` (empilhamento vertical)."
   ]
  },
  {
   "cell_type": "code",
   "execution_count": 24,
   "metadata": {},
   "outputs": [
    {
     "name": "stdout",
     "output_type": "stream",
     "text": [
      "Horizontal stack of a and b: [1 2 3 4 5 6]\n",
      "Vertical stack of a and b:\n",
      "[[1 2 3]\n",
      " [4 5 6]]\n"
     ]
    }
   ],
   "source": [
    "# Criando arrays de exemplo\n",
    "a = np.array([1, 2, 3])\n",
    "b = np.array([4, 5, 6])\n",
    "\n",
    "# Empilhamento horizontal (lado a lado):\n",
    "h_stacked = np.hstack((a, b))\n",
    "print(f\"Horizontal stack of a and b: {h_stacked}\")\n",
    "\n",
    "# Empilhamento vertical (um acima do outro):\n",
    "v_stacked = np.vstack((a, b))\n",
    "print(f\"Vertical stack of a and b:\\n{v_stacked}\")"
   ]
  },
  {
   "cell_type": "markdown",
   "metadata": {},
   "source": [
    "__Exercício:__ Empilhe as duas matrizes $ A $ e $ B $ abaixo, horizontal e verticalmente."
   ]
  },
  {
   "cell_type": "code",
   "execution_count": 25,
   "metadata": {},
   "outputs": [],
   "source": [
    "A = np.array([[1, 2], [3, 4]])\n",
    "B = np.array([[5, 6], [7, 8]])"
   ]
  },
  {
   "cell_type": "markdown",
   "metadata": {},
   "source": [
    "### $ 3.6 $ Encontrando elementos únicos com `np.unique`\n",
    "\n",
    "A função `np.unique` retorna os elementos únicos ordenados de um array. Ela também pode retornar contagens de cada valor único quando o parâmetro `return_counts` é definido como `True`."
   ]
  },
  {
   "cell_type": "code",
   "execution_count": 34,
   "metadata": {},
   "outputs": [
    {
     "name": "stdout",
     "output_type": "stream",
     "text": [
      "Original array: [3 1 4 1 5 9 2 6 5 3 5]\n",
      "\n",
      "Unique elements: [1 2 3 4 5 6 9]\n",
      "\n",
      "Unique elements: [1 2 3 4 5 6 9]\n",
      "Counts:          [2 1 2 1 3 1 1]\n"
     ]
    }
   ],
   "source": [
    "data = np.array([3, 1, 4, 1, 5, 9, 2, 6, 5, 3, 5])\n",
    "print(f\"Original array: {data}\")\n",
    "\n",
    "# Obter elementos únicos:\n",
    "unique_elements = np.unique(data)\n",
    "print(f\"\\nUnique elements: {unique_elements}\")\n",
    "\n",
    "# Obter elementos únicos e suas contagens:\n",
    "unique_elements, counts = np.unique(data, return_counts=True)\n",
    "print(f\"\\nUnique elements: {unique_elements}\")\n",
    "print(f\"Counts: {str(counts):>24}\")"
   ]
  },
  {
   "cell_type": "markdown",
   "metadata": {},
   "source": [
    "__Exercício:__ Use `argmax` para encontrar o elemento mais comum no array `data` do exemplo anterior."
   ]
  },
  {
   "cell_type": "code",
   "execution_count": null,
   "metadata": {},
   "outputs": [],
   "source": []
  },
  {
   "cell_type": "markdown",
   "metadata": {},
   "source": [
    "### $ 3.7 $ Invertendo arrays com `np.flip`\n",
    "\n",
    "A função `np.flip` inverte a ordem dos elementos em um array ao longo de um eixo especificado. Ela sempre\n",
    "retorna um novo array independente, não uma visão do original."
   ]
  },
  {
   "cell_type": "code",
   "execution_count": null,
   "metadata": {},
   "outputs": [],
   "source": [
    "# Criar um array 1D:\n",
    "a = np.array([1, 2, 3, 4, 5])\n",
    "print(f\"Original array: {a}\")\n",
    "print(f\"Flipped array: {np.flip(a)}\")"
   ]
  },
  {
   "cell_type": "markdown",
   "metadata": {},
   "source": [
    "__Exercício:__ Dado o array $ 2D $ $ A $ abaixo:\n",
    "\n",
    "(a) Inverta $ A $ ao longo de seu eixo $ 0 $ usando `flip` com o argumento `axis=0`.\n",
    "\n",
    "(b) Inverta as colunas de $ A $.\n",
    "\n",
    "(c) Inverta ambos os eixos de $ A $ usando `flip` sem fornecer um argumento `axis`.\n",
    "\n",
    "(d) Você pode conseguir os mesmos resultados usando fatias do tipo `::-1`? Qual é a diferença?\n",
    "_Dica:_ O que acontece se você modificar o array invertido, o original é afetado?"
   ]
  },
  {
   "cell_type": "code",
   "execution_count": 40,
   "metadata": {},
   "outputs": [
    {
     "name": "stdout",
     "output_type": "stream",
     "text": [
      "\n",
      "Original 2D array:\n",
      "[[1 2 3]\n",
      " [4 5 6]\n",
      " [7 8 9]]\n"
     ]
    }
   ],
   "source": [
    "# Criar um array 2D\n",
    "A = np.array([[1, 2, 3],\n",
    "              [4, 5, 6],\n",
    "              [7, 8, 9]])\n",
    "\n",
    "print(f\"\\nOriginal 2D array:\\n{A}\")\n",
    "\n",
    "# (a) Inverter ao longo do eixo 0 (linhas):\n",
    "\n",
    "# (b) Inverter ao longo do eixo 1 (colunas):\n",
    "\n",
    "# (c) Inverter ao longo de ambos os eixos:"
   ]
  },
  {
   "cell_type": "markdown",
   "metadata": {},
   "source": [
    "__Exercício:__ O array $ 2D $ de forma $ 28 \\times 28 $ na célula de código abaixo\n",
    "representa uma imagem em escala de cinza. Escreva uma função para rotacionar esta imagem $ 90 $ graus\n",
    "no sentido horário.\n",
    "\n",
    "_Dica_: Isso pode ser realizado primeiro transpondo o array e depois\n",
    "invertendo-o verticalmente (ou seja, revertendo a ordem das entradas ao longo de cada\n",
    "coluna) com uma fatia apropriada ou usando `flip`. Isso é ilustrado no\n",
    "exemplo $ 3 \\times 3 $ abaixo, mas a mesma ideia funciona em qualquer dimensão.\n",
    "$$\n",
    "\\begin{bmatrix}\n",
    "a & b & c \\\\\n",
    "d & e & f \\\\\n",
    "g & h & i \\\\\n",
    "\\end{bmatrix}\n",
    "\\overset{\\text{transpor}}{\\longrightarrow}\n",
    "\\begin{bmatrix}\n",
    "a & d & g \\\\\n",
    "b & e & h \\\\\n",
    "c & f & i \\\\\n",
    "\\end{bmatrix}\n",
    "\\overset{\\text{inverter vert.}}{\\longrightarrow}\n",
    "\\begin{bmatrix}\n",
    "g & d & a \\\\\n",
    "h & e & b \\\\\n",
    "i & f & c \\\\\n",
    "\\end{bmatrix}\n",
    "$$"
   ]
  },
  {
   "cell_type": "code",
   "execution_count": 13,
   "metadata": {},
   "outputs": [
    {
     "name": "stdout",
     "output_type": "stream",
     "text": [
      "[[209 215 215 107 109]\n",
      " [139 143 115 203  34]\n",
      " [180 127  65  62 170]\n",
      " [  5 237  66 204  48]\n",
      " [206 217  69 153  58]]\n"
     ]
    }
   ],
   "source": [
    "image = np.array(rng.integers(0, 256, size=(28, 28)))\n",
    "print(image[:5, :5])\n",
    "\n",
    "def rotate_90_clockwise(img):\n",
    "    \"\"\" Rotaciona um array 2D 90 graus no sentido horário.  \"\"\""
   ]
  },
  {
   "cell_type": "markdown",
   "metadata": {},
   "source": [
    "### $ 3.8 $ O método `squeeze`\n",
    "\n",
    "O método `squeeze` remove entradas unidimensionais (eixos com comprimento $ 1 $)\n",
    "da forma de um array. Por exemplo, um array de forma $ (1, 3, 1) $ se torna\n",
    "$ (3,) $ após a compressão. "
   ]
  },
  {
   "cell_type": "code",
   "execution_count": null,
   "metadata": {},
   "outputs": [],
   "source": [
    "# Criar array com forma (1, 3, 1, 2):\n",
    "A = np.array([[[[1, 2]], [[3, 4]], [[5, 6]]]])\n",
    "print(A.shape)  # (1, 3, 1, 2)\n",
    "\n",
    "# Remover eixos unidimensionais:\n",
    "B = A.squeeze()\n",
    "print(B.shape)  # (3, 2)"
   ]
  },
  {
   "cell_type": "markdown",
   "metadata": {},
   "source": [
    "Algumas características principais do `squeeze`:\n",
    "* Ele retorna uma visão do array de entrada, não uma cópia.\n",
    "* Sem argumentos, ele remove todos os eixos unidimensionais.\n",
    "* Com o parâmetro axis, ele pode remover apenas eixos unidimensionais específicos.\n",
    "* Gera um `ValueError` se você tentar comprimir um eixo de tamanho $ > 1 $."
   ]
  },
  {
   "cell_type": "markdown",
   "metadata": {},
   "source": [
    "__Exercício:__ Comprima o eixo $ 2 $ do array $ A $ no exemplo anterior para obter\n",
    "um array $ C $. Em seguida, modifique um elemento de $ C $ e verifique se $ A $ é afetado."
   ]
  },
  {
   "cell_type": "code",
   "execution_count": null,
   "metadata": {},
   "outputs": [],
   "source": []
  }
 ],
 "metadata": {
  "kernelspec": {
   "display_name": "base",
   "language": "python",
   "name": "python3"
  },
  "language_info": {
   "codemirror_mode": {
    "name": "ipython",
    "version": 3
   },
   "file_extension": ".py",
   "mimetype": "text/x-python",
   "name": "python",
   "nbconvert_exporter": "python",
   "pygments_lexer": "ipython3",
   "version": "3.12.4"
  }
 },
 "nbformat": 4,
 "nbformat_minor": 2
}
