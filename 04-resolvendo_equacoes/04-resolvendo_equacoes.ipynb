{
 "cells": [
  {
   "cell_type": "code",
   "execution_count": null,
   "metadata": {},
   "outputs": [],
   "source": [
    "import numpy as np\n",
    "import matplotlib.pyplot as plt\n",
    "import scipy.linalg as spla\n",
    "import scipy.optimize as spo"
   ]
  },
  {
   "cell_type": "markdown",
   "metadata": {},
   "source": [
    "# Resolvendo equações\n",
    "\n",
    "Sistemas lineares de equações surgem naturalmente em muitos contextos na engenharia e\n",
    "ciência. O NumPy, especialmente através do seu submódulo `numpy.linalg`, oferece vários\n",
    "métodos para calcular soluções exatas ou aproximadas para tais sistemas, e para resolver\n",
    "problemas relacionados, como encontrar os autovalores e autovetores de uma matriz ou\n",
    "determinar suas várias decomposições. Neste notebook, também aprenderemos como\n",
    "usar outra biblioteca fundamental no ecossistema Python chamada __SciPy__ que\n",
    "pode nos ajudar a resolver equações não lineares e problemas de otimização."
   ]
  },
  {
   "cell_type": "markdown",
   "metadata": {},
   "source": [
    "## $ \\S 1 $ Sistemas lineares quadrados\n",
    "\n",
    "### $ 1.1 $ Terminologia básica\n",
    "\n",
    "Considere um conjunto de $ n $ equações lineares em $ n $ incógnitas $ x_1, \\dots, x_n $:\n",
    "\\begin{equation*}\n",
    "\\begin{cases}\n",
    "& a_{11} x_1 &+& a_{12}x_2 &+& \\cdots &+& a_{1n}x_n &=& b_1 \\\\\n",
    "& a_{21} x_1 &+& a_{22}x_2 &+& \\cdots &+& a_{2n}x_n &=& b_2 \\\\\n",
    "& \\vdots &+& \\vdots &+& \\cdots &+& \\vdots &=&\\vdots \\\\\n",
    "& a_{n1} x_1 &+& a_{n2}x_2 &+& \\cdots &+& a_{nn}x_n &=& b_n\n",
    "\\end{cases}\n",
    "\\end{equation*}\n",
    "\n",
    "Tais equações são chamadas de __lineares__ porque as expressões no lado esquerdo\n",
    "são lineares nas variáveis, ou seja, não envolvem potências como\n",
    "$ x_1^3 $ nem produtos das variáveis como $ x_1x_2 $ nem funções mais complicadas\n",
    "como $ \\sin(x_1) $ ou $ e^{x_2} $."
   ]
  },
  {
   "cell_type": "markdown",
   "metadata": {},
   "source": [
    "Equivalentemente, usando notação matricial, este sistema de equações pode ser reescrito como:\n",
    "\\begin{equation*}\n",
    "A\\,\\mathbf x =\n",
    "\\begin{bmatrix}\n",
    "a_{11} & a_{12} & \\cdots & a_{1n} \\\\\n",
    "a_{21} & a_{22} & \\cdots & a_{2n} \\\\\n",
    "\\vdots & \\vdots & \\ddots & \\vdots \\\\\n",
    "a_{n1} & a_{n2} & \\cdots & a_{nn}\n",
    "\\end{bmatrix}\n",
    "\\begin{bmatrix}\n",
    "x_1 \\\\\n",
    "x_2 \\\\\n",
    "\\vdots \\\\\n",
    "x_n\n",
    "\\end{bmatrix} =\n",
    "\\begin{bmatrix}\n",
    "b_1 \\\\\n",
    "b_2 \\\\\n",
    "\\vdots \\\\\n",
    "b_n\n",
    "\\end{bmatrix} = \\mathbf b\n",
    "\\end{equation*}\n",
    "ou mais concisamente\n",
    "$$\n",
    "\\boxed{\\ A\\,\\mathbf{x} = \\mathbf{b}\\ }\n",
    "$$\n",
    "\n",
    "A matriz $ A $ é chamada de __matriz de coeficientes__. Observe que em nosso\n",
    "caso, ela é _quadrada_ (ou seja, o número de linhas é o mesmo que o\n",
    "número de colunas). Sistemas de $ m $ equações lineares em $ n $ incógnitas onde\n",
    "$ m \\ne n $ serão considerados apenas na próxima seção, por simplicidade.\n",
    "\n",
    "📝 Dependendo das propriedades de $ A $ e $ \\mathbf{b} $, um sistema linear\n",
    "$ A\\,\\mathbf{x} = \\mathbf{b} $ pode ter exatamente uma solução, nenhuma solução, ou\n",
    "infinitas soluções."
   ]
  },
  {
   "cell_type": "markdown",
   "metadata": {},
   "source": [
    "__Exercício:__ Escreva como arrays NumPy as matrizes de coeficientes $ A $ e os\n",
    "vetores $ \\mathbf x $ e $ \\mathbf b $ para os sistemas de equações lineares\n",
    "abaixo:\n",
    "\n",
    "(a) $$ \\left\\{\n",
    "\\begin{align*}\n",
    "2x &+ 3y &\\ =& \\ 5 \\\\\n",
    "4x &- \\ y &\\ =& \\ 1\n",
    "\\end{align*} \\right.$$\n",
    "\n",
    "(b)\n",
    "$$\n",
    "\\left\\{\\begin{align*}\n",
    "x &\\ \\ +\\ &2y & \\ \\ - & z & \\ = & \\ 4 \\\\\n",
    "2x &\\ \\ - &y & \\ \\ + &3z & \\ = & -6 \\\\\n",
    "-3x &\\ \\ + &4y &\\ \\ + & z & \\ = & 10\n",
    "\\end{align*} \\right.\n",
    "$$"
   ]
  },
  {
   "cell_type": "code",
   "execution_count": null,
   "metadata": {},
   "outputs": [],
   "source": []
  },
  {
   "cell_type": "markdown",
   "metadata": {},
   "source": [
    "O __posto__ de uma matriz é o número máximo de linhas linearmente independentes ou,\n",
    "equivalentemente, colunas na matriz. Podemos calcular o posto de uma matriz em\n",
    "NumPy com `linalg.matrix_rank`. Por exemplo, as duas primeiras colunas da matriz\n",
    "abaixo são claramente linearmente independentes, mas a terceira coluna é apenas a soma das\n",
    "duas primeiras, portanto o posto da matriz é $ 2 $:\n",
    "$$\n",
    "    A = \\begin{bmatrix}\n",
    "    1 & -1 & \\phantom{-}0 \\\\\n",
    "    2 & -3 & -1 \\\\\n",
    "    0 & \\phantom{-}1 & \\phantom{-}1\n",
    "    \\end{bmatrix}\n",
    "$$"
   ]
  },
  {
   "cell_type": "code",
   "execution_count": null,
   "metadata": {},
   "outputs": [],
   "source": [
    "A = np.array([[1, -1,  0],\n",
    "              [2, -3, -1],\n",
    "              [0,  1,  1]])\n",
    "\n",
    "# Verificar o posto:\n",
    "rank = np.linalg.matrix_rank(A)\n",
    "print(f\"Posto de A: {rank}\")"
   ]
  },
  {
   "cell_type": "markdown",
   "metadata": {},
   "source": [
    "### $ 1.2 $ Resolvendo sistemas lineares quadrados de equações\n",
    "\n",
    "__Exemplo:__ Considere o sistema de equações:\n",
    "$$\n",
    "\\left\\{\\begin{alignat*}{4}\n",
    "3x\\  &+\\ 2y\\ &&-\\ &z\\ &=&\\ 1\\\\\n",
    "2x\\ &-\\ 2y\\ &&+\\ 4&z\\ &=&\\ -2\\\\\n",
    "-x\\  &+\\ \\tfrac{1}{2}y\\ &&- &z\\ &=&\\ 0\n",
    "\\end{alignat*}\\right.\n",
    "$$\n",
    "ou, na forma matricial,\n",
    "$$\n",
    "\\begin{align*}\n",
    "\\begin{bmatrix}\n",
    "3 & 2 & -1 \\\\\n",
    "2 & -2 & 4 \\\\\n",
    "-1 & 0.5 & -1\n",
    "\\end{bmatrix}\n",
    "\\begin{bmatrix}\n",
    "x \\\\\n",
    "y \\\\\n",
    "z\n",
    "\\end{bmatrix}\n",
    "=\n",
    "\\begin{bmatrix}\n",
    "\\phantom{-}1 \\\\\n",
    "-2 \\\\\n",
    "\\phantom{-}0\n",
    "\\end{bmatrix}\n",
    "\\end{align*}\n",
    "$$\n",
    "\n",
    "Podemos pedir ao NumPy para resolvê-lo usando a função `linalg.solve`:"
   ]
  },
  {
   "cell_type": "code",
   "execution_count": null,
   "metadata": {},
   "outputs": [],
   "source": [
    "# Matriz de coeficientes A e vetor constante b:\n",
    "A = np.array([[3, 2, -1],\n",
    "              [2, -2, 4],\n",
    "              [-1, 0.5, -1]])\n",
    "b = np.array([1, -2, 0])\n",
    "\n",
    "# Resolver o sistema de equações:\n",
    "x = np.linalg.solve(A, b)\n",
    "print(x)  # Vetor solução x"
   ]
  },
  {
   "cell_type": "markdown",
   "metadata": {},
   "source": [
    "__Exercício:__ Verifique por substituição direta que $ (1, -2, -2) $ é, de fato,\n",
    "a solução para as equações anteriores. _Dica:_ Multiplique $ A $ por $ (1, -2, -2)\n",
    "$ e verifique se o resultado coincide com $ \\mathbf{b} $ (dentro dos erros de arredondamento)."
   ]
  },
  {
   "cell_type": "code",
   "execution_count": null,
   "metadata": {},
   "outputs": [],
   "source": []
  },
  {
   "cell_type": "markdown",
   "metadata": {},
   "source": [
    "__Exercício:__ Resolva o seguinte sistema de equações lineares usando NumPy e\n",
    "depois verifique a solução substituindo-a em $ A\\,\\mathbf{x} = \\mathbf{b} $:\n",
    "$$\n",
    "\\left\\{\\begin{alignat*}{4}\n",
    "2x_1\\  &-\\ x_2\\ &&+\\ 3&x_3\\ &=&\\ 5\\\\\n",
    "4x_1\\ &+\\ 4x_2\\ &&-\\ 3&x_3\\ &=&\\ 3\\\\\n",
    "-2x_1\\  &+\\ 5x_2\\ &&+ &x_3\\ &=&\\ 7\n",
    "\\end{alignat*}\\right.\n",
    "$$"
   ]
  },
  {
   "cell_type": "code",
   "execution_count": null,
   "metadata": {},
   "outputs": [],
   "source": []
  },
  {
   "cell_type": "markdown",
   "metadata": {},
   "source": [
    "__Exercício:__ Sejam $ y = a_1 x + b_1 $ e $ y = a_2 x + b_2 $ equações que descrevem duas\n",
    "retas (não verticais). Escreva um procedimento `meeting_point` que recebe como entrada\n",
    "esses coeficientes e retorna o ponto onde as duas retas se encontram.\n",
    "Teste seu procedimento nas retas\n",
    "$$\n",
    "\\begin{align*}\n",
    "    y &= 2x + 1 \\\\\n",
    "    y &= -x + 4\n",
    "\\end{align*}\n",
    "$$\n",
    "que se intersectam em $ (1, 3) $.\n",
    "_Dica:_ Converta o problema para o de resolver equações lineares e use a\n",
    "função `linalg.solve`."
   ]
  },
  {
   "cell_type": "code",
   "execution_count": null,
   "metadata": {},
   "outputs": [],
   "source": []
  },
  {
   "cell_type": "markdown",
   "metadata": {},
   "source": [
    "__Exercício:__ Escreva um procedimento `meeting_planes` que calcula o ponto onde\n",
    "três planos dados \n",
    "$$\n",
    "\\begin{align*}\n",
    "    z &= a_1y + b_1x + c_1 \\\\\n",
    "    z &= a_2y + b_2x + c_2 \\\\\n",
    "    z &= a_3y + b_3x + c_3\n",
    "\\end{align*}\n",
    "$$\n",
    "se encontram. Teste seu código verificando que os seguintes três planos se intersectam em $ (-3, -5, -10) $:\n",
    "$$\n",
    "\\begin{align*}\n",
    "    z &= x + 2y + 3 \\\\\n",
    "    z &= 2x + y + 1 \\\\\n",
    "    z &= -x + 3y  + 2\n",
    "\\end{align*}\n",
    "$$"
   ]
  },
  {
   "cell_type": "code",
   "execution_count": null,
   "metadata": {},
   "outputs": [],
   "source": []
  },
  {
   "cell_type": "markdown",
   "metadata": {},
   "source": [
    "__Exercício:__ Considere um circuito elétrico simples com três malhas e três\n",
    "resistores. As correntes de malha $ I_1 $, $ I_2 $ e $ I_3 $ satisfazem as seguintes\n",
    "equações (derivadas das leis de Kirchhoff):\n",
    "$$\n",
    "\\left\\{\\begin{alignat*}{4}\n",
    "5I_1\\ &-\\ 2I_2\\ &&-\\ &I_3\\ &=&\\ 12\\\\\n",
    "-2I_1\\ &+\\ 8I_2\\ &&-\\ 3&I_3\\ &=&\\ -4\\\\\n",
    "-I_1\\ &-\\ 3I_2\\ &&+\\ 6&I_3\\ &=&\\ 6\n",
    "\\end{alignat*}\\right.\n",
    "$$\n",
    "onde os lados direitos representam fontes de tensão nas malhas. Resolva para as correntes de malha."
   ]
  },
  {
   "cell_type": "code",
   "execution_count": null,
   "metadata": {},
   "outputs": [],
   "source": []
  },
  {
   "cell_type": "markdown",
   "metadata": {},
   "source": [
    "### $ 1.3 $ Observações adicionais sobre `linalg.solve`"
   ]
  },
  {
   "cell_type": "markdown",
   "metadata": {},
   "source": [
    "__Exercício:__ Considere os seguintes dois sistemas lineares de equações. Tente resolvê-los usando NumPy e explique o resultado em cada caso.\n",
    "\n",
    "(a)\n",
    "$$\n",
    "\\begin{align*}\n",
    "\\begin{bmatrix}\n",
    "1 & -2 \\\\\n",
    "-3 & 6 \\\\\n",
    "\\end{bmatrix}\n",
    "\\begin{bmatrix}\n",
    "x \\\\\n",
    "y\n",
    "\\end{bmatrix}\n",
    "=\n",
    "\\begin{bmatrix}\n",
    "1 \\\\\n",
    "3\n",
    "\\end{bmatrix}\n",
    "\\end{align*}\n",
    "$$\n",
    "\n",
    "(b) \n",
    "$$\n",
    "\\begin{align*}\n",
    "\\begin{bmatrix}\n",
    "1 & -2 \\\\\n",
    "-3 & 6 \\\\\n",
    "\\end{bmatrix}\n",
    "\\begin{bmatrix}\n",
    "x \\\\\n",
    "y\n",
    "\\end{bmatrix}\n",
    "=\n",
    "\\begin{bmatrix}\n",
    "\\phantom{-}1 \\\\\n",
    "-3\n",
    "\\end{bmatrix}\n",
    "\\end{align*}\n",
    "$$\n",
    "\n",
    "(c)\n",
    "$$\n",
    "\\begin{align*}\n",
    "\\begin{bmatrix}\n",
    "1 & -2 & 3 \\\\\n",
    "-3 & 6 & 4 \\\\\n",
    "\\end{bmatrix}\n",
    "\\begin{bmatrix}\n",
    "x \\\\\n",
    "y \\\\\n",
    "z\n",
    "\\end{bmatrix}\n",
    "=\n",
    "\\begin{bmatrix}\n",
    "1 \\\\\n",
    "3\n",
    "\\end{bmatrix}\n",
    "\\end{align*}\n",
    "$$\n",
    "\n",
    "(d) Você consegue encontrar (manualmente) as soluções para os sistemas nos itens (a) e (b)?"
   ]
  },
  {
   "cell_type": "code",
   "execution_count": null,
   "metadata": {},
   "outputs": [],
   "source": []
  },
  {
   "cell_type": "markdown",
   "metadata": {},
   "source": [
    "O exercício anterior ilustra que:\n",
    "* `linalg.solve` deve ser usado apenas em sistemas _quadrados_ de equações lineares\n",
    "  (onde o número de equações é o mesmo que o número de incógnitas).\n",
    "* Se a matriz de coeficientes é quadrada mas __singular__\n",
    "  (ou seja, seu posto é $ < n $ ou equivalentemente seu determinante é igual a zero), \n",
    "  então o sistema correspondente não admitirá uma solução única: pode\n",
    "  não ter solução alguma ou ter um número infinito delas. Como regra,\n",
    "  `linalg.solve` não deve ser usado neste caso, pois pode fornecer um resultado errado\n",
    "  ou apenas uma solução."
   ]
  },
  {
   "cell_type": "markdown",
   "metadata": {},
   "source": [
    "⚡ Por baixo dos panos, `linalg.solve` resolve um sistema linear (quadrado) $ A\\mathbf x =\n",
    "\\mathbf b $ encontrando primeiro a decomposição $ LU $ de $ A $, depois reescrevendo\n",
    "o sistema original como\n",
    "$$\n",
    "\\left\\{\n",
    "\\begin{alignat*}{4}\n",
    "L\\,\\mathbf y &= \\mathbf b \\\\\n",
    "U\\,\\mathbf x &= \\mathbf y\n",
    "\\end{alignat*}\n",
    "\\right.\n",
    "$$\n",
    "Como $ L $ é triangular inferior e $ U $ é triangular superior, o primeiro\n",
    "destes sistemas pode ser facilmente resolvido por substituição direta, e o segundo\n",
    "por substituição reversa. Para encontrar a própria decomposição $ LU $, a eliminação gaussiana\n",
    "é aplicada a $ A $. Isso é discutido em qualquer curso de Álgebra Linear,\n",
    "onde você fará muitos desses cálculos manualmente.\n",
    "\n",
    "A complexidade temporal para encontrar a decomposição $ LU $ de (ou, equivalentemente,\n",
    "realizar a eliminação gaussiana em) uma matriz $ n \\times n $ $ A $ é $ O(n^3)\n",
    "$, mas uma vez que esta decomposição está disponível, a complexidade de resolver\n",
    "$ A \\mathbf{x} = \\mathbf{b} $ da maneira descrita acima é apenas $ O(n^2) $."
   ]
  },
  {
   "cell_type": "markdown",
   "metadata": {},
   "source": [
    "### $ 1.4 $ Resolvendo múltiplos sistemas quadrados compartilhando a mesma matriz de coeficientes\n",
    "\n",
    "Para sistemas com múltiplos lados direitos, podemos passar uma matriz $ B $ como o segundo argumento.\n",
    "Mais precisamente, considere o sistema linear\n",
    "$$\n",
    "AX = B\n",
    "$$\n",
    "onde $ A $ é uma matriz quadrada $ n \\times n $ como antes, $ X $ é uma matriz $ n \\times\n",
    "p $ de incógnitas, e $ B $ também é uma matriz $ n \\times p $, contendo\n",
    "múltiplos vetores coluna $ \\mathbf{b}_1,\\, \\mathbf{b}_2, \\cdots,\\, \\mathbf{b}_p $ em $\n",
    "\\mathbb{R}^n $. Em outras palavras, queremos resolver simultaneamente $ p $ sistemas de\n",
    "equações lineares compartilhando a mesma matriz de coeficientes $ A $ mas com diferentes\n",
    "vetores do lado direito $ \\mathbf{b}_i $. Podemos fazer isso usando\n",
    "`linalg.solve` assim como para um único $ \\mathbf{b} $:"
   ]
  },
  {
   "cell_type": "code",
   "execution_count": null,
   "metadata": {},
   "outputs": [],
   "source": [
    "# Definir a matriz de coeficientes A:\n",
    "A = np.array([[3, 1, -1],\n",
    "              [2, -2, 4],\n",
    "              [1, 5, -3]])\n",
    "\n",
    "# Definir dois vetores do lado direito como colunas de uma matriz B:\n",
    "B = np.array([[4, 9],\n",
    "              [6, 1],\n",
    "              [2, -5]])\n",
    "\n",
    "# Resolver AX = B para X:\n",
    "X = np.linalg.solve(A, B)\n",
    "print(\"Matriz solução X:\")\n",
    "print(X)\n",
    "\n",
    "# Verificando a solução:\n",
    "verification = A @ X\n",
    "print(\"\\nVerificação (A @ X deve ser igual a B):\", '\\n')\n",
    "print(verification, '\\n')\n",
    "print(B)"
   ]
  },
  {
   "cell_type": "markdown",
   "metadata": {},
   "source": [
    "__Exercício:__ Na análise de circuitos, frequentemente precisamos resolver múltiplos sistemas com a mesma matriz de conectividade, mas diferentes excitações. Considere um circuito com $ 4 $ nós descrito pela seguinte matriz de admitância nodal (simétrica):\n",
    "$$\n",
    "Y = \\begin{bmatrix} \n",
    "10 & -4 & -6 & 0 \\\\ \n",
    "-4 & 8 & 0 & -4 \\\\ \n",
    "-6 & 0 & 10 & -3 \\\\ \n",
    "0 & -4 & -3 & 7\n",
    "\\end{bmatrix}\n",
    "$$\n",
    "Resolva para as tensões nodais dados os seguintes três vetores de excitação de corrente (lados direitos):\n",
    "$$\n",
    "\\mathbf{i}_1 = \n",
    "\\begin{bmatrix}\n",
    "18 \\\\ 0 \\\\ 0 \\\\ 0\n",
    "\\end{bmatrix}\n",
    "\\quad\n",
    "\\mathbf{i}_2 = \n",
    "\\begin{bmatrix}\n",
    "0 \\\\ 18 \\\\ 0 \\\\ 0\n",
    "\\end{bmatrix}\n",
    "\\quad\n",
    "\\mathbf{i}_3 = \n",
    "\\begin{bmatrix}\n",
    "0 \\\\ 0 \\\\ 18 \\\\ 0\n",
    "\\end{bmatrix}\n",
    "$$"
   ]
  },
  {
   "cell_type": "code",
   "execution_count": null,
   "metadata": {},
   "outputs": [],
   "source": []
  },
  {
   "cell_type": "markdown",
   "metadata": {},
   "source": [
    "### ⚡ $ 1.5 $ Inversão de matriz vs. solução direta\n",
    "\n",
    "Em teoria, podemos resolver um sistema linear $A\\,\\mathbf{x} = \\mathbf{b}$ calculando\n",
    "$\\mathbf{x} = A^{-1}\\,\\mathbf{b}$, desde que $ A $ seja invertível (ou seja,\n",
    "não singular). Lembre-se que a inversa de $ A $ pode ser encontrada com `linalg.inv`.\n",
    "No entanto, essa abordagem para resolver sistemas lineares geralmente é evitada na prática\n",
    "porque:\n",
    "* É computacionalmente mais cara que métodos de solução direta.\n",
    "* Pode ser numericamente menos estável (significando que pequenos erros podem ser amplificados).\n",
    "\n",
    "Informalmente, o __número de condição__ de uma matriz $ A $ mede quão sensível\n",
    "o produto $ A \\,\\mathbf{x} $ é a perturbações nas entradas de $ A $. É\n",
    "dado por\n",
    "$$\n",
    "\\kappa(A) = \\|A\\|\\  \\|A^{-1}\\|\n",
    "$$\n",
    "onde $\\|\\cdot\\|$ denota uma norma matricial. Uma matriz __bem condicionada__ é aquela\n",
    "cujo número de condição é relativamente pequeno. Matrizes que são quase singulares,\n",
    "ou seja, cujo determinante está próximo de $ 0 $, têm números de condição muito grandes\n",
    "porque suas inversas terão entradas muito grandes. O número de condição de\n",
    "uma matriz singular é infinito.\n",
    "\n",
    "O número de condição de $ A $ pode ser calculado com `linalg.cond(A)`. Por\n",
    "padrão, isso usa a norma $ L_2 $ (raiz quadrada do maior autovalor de $\n",
    "A^TA $), embora outras normas também possam ser usadas; veja a [documentação](https://numpy.org/doc/stable/reference/generated/numpy.linalg.cond.html).\n",
    "\n",
    "Embora resolver um sistema linear usando inversão ou um método direto produza\n",
    "essencialmente a mesma resposta para problemas bem condicionados, a diferença na\n",
    "estabilidade numérica torna-se importante para matrizes de coeficientes mal condicionadas."
   ]
  },
  {
   "cell_type": "markdown",
   "metadata": {},
   "source": [
    "__Exercício:__ Calcule os números de condição das seguintes três matrizes:\n",
    "$$\n",
    "\\text{(a)}\\quad A_1 = \\begin{bmatrix}\n",
    "3 & 0 \\\\\n",
    "0 & 1\n",
    "\\end{bmatrix} \\qquad\n",
    "\\text{(b)}\\quad A_2 = \\begin{bmatrix}\n",
    "1 & 2 \\\\\n",
    "1.001 & 2.001\n",
    "\\end{bmatrix} \\qquad\n",
    "\\text{(c)}\\quad A_3 = \\begin{bmatrix}\n",
    "1 & 2 \\\\\n",
    "2 & 4\n",
    "\\end{bmatrix}\n",
    "$$"
   ]
  },
  {
   "cell_type": "code",
   "execution_count": null,
   "metadata": {},
   "outputs": [],
   "source": [
    "A1 = np.array([[3, 0],\n",
    "               [0, 1]])  # Não singular\n",
    "\n",
    "A2 = np.array([[1, 2],\n",
    "               [1.001, 2.001]])  # Quase singular\n",
    "\n",
    "A3 = np.array([[1, 2],\n",
    "               [2, 4]])  # Singular"
   ]
  },
  {
   "cell_type": "markdown",
   "metadata": {},
   "source": [
    "## $ \\S 2 $ Soluções por mínimos quadrados\n",
    "\n",
    "O sistema linear de equações mais geral é $ A \\mathbf x = \\mathbf b $ onde\n",
    "$$\n",
    "A \\text{ é $ m \\times n $}, \\quad \\mathbf x \\in \\mathbb{R}^n \\quad \\text{e} \\quad \\mathbf b \\in \\mathbb{R}^m\\,. \n",
    "$$\n",
    "Geometricamente, uma solução $ \\mathbf x $ corresponde a uma escolha de escalares $ x_k\n",
    "$ que expressaria $ \\mathbf b $ como uma combinação linear $ \\mathbf b = x_1\\,\n",
    "\\mathbf a_1 + \\cdots + x_n\\, \\mathbf a_n $ dos $ n $ vetores coluna de $ A $:\n",
    "$$\n",
    "\\begin{bmatrix}\n",
    "b_{1} \\\\\n",
    "b_{2} \\\\\n",
    "\\vdots \\\\\n",
    "b_{m}\n",
    "\\end{bmatrix}\n",
    "=\n",
    "x_1\n",
    "\\begin{bmatrix}\n",
    "a_{11} \\\\\n",
    "a_{21} \\\\\n",
    "\\vdots \\\\\n",
    "a_{m1}\n",
    "\\end{bmatrix}\n",
    "+\n",
    "x_2\n",
    "\\begin{bmatrix}\n",
    "a_{12} \\\\\n",
    "a_{22} \\\\\n",
    "\\vdots \\\\\n",
    "a_{m2}\n",
    "\\end{bmatrix}\n",
    "+\n",
    "x_n\n",
    "\\begin{bmatrix}\n",
    "a_{1n} \\\\\n",
    "a_{2n} \\\\\n",
    "\\vdots \\\\\n",
    "a_{mn}\n",
    "\\end{bmatrix}\\,.\n",
    "$$\n",
    "Portanto, haverá uma solução se e somente se $ \\mathbf b $ por acaso estiver no\n",
    "hiperplano $ W \\subset \\mathbb{R}^m $ que passa pela origem gerado pelos\n",
    "$ n $ vetores coluna de $ A $."
   ]
  },
  {
   "cell_type": "markdown",
   "metadata": {},
   "source": [
    "Agora, a dimensão do subespaço $ W $ é no máximo $ n $, já que por definição\n",
    "ele é gerado por $ n $ vetores. Portanto, se o sistema é __sobredeterminado__,\n",
    "ou seja, se temos menos incógnitas que equações ($ n < m $), então $ W $ não pode\n",
    "coincidir com todo o $ \\mathbb R^m $. Assim, para a maioria das escolhas de\n",
    "$ \\mathbf b \\in \\mathbb R^m $, não existe solução exata. Nesta situação,\n",
    "_o melhor que podemos fazer é escolher o vetor $ \\mathbf{p} $ em $ W $ que minimiza\n",
    "a distância até $ \\mathbf b $ e encontrar a solução correspondente $\n",
    "\\mathbf{\\hat{x}} $ para o sistema linear_\n",
    "$$\n",
    "A \\mathbf{x} = \\mathbf{p}\\,.\n",
    "$$\n",
    "Este $ \\mathbf{p} $ é a __projeção ortogonal__ de $ \\mathbf b $ em $ W $. É o\n",
    "vetor mais próximo de $ \\mathbf b $ em $ W $, de modo que $ \\mathbf{\\hat x} $ é tal que a distância\n",
    "de $ A\\mathbf{\\hat x} $ a $ \\mathbf b $ é a menor possível, ou seja,\n",
    "é a solução para o problema de otimização:\n",
    "$$\n",
    "\\boxed{\\ \\underset{\\mathbf{x}}{\\text{minimizar}}\\ \\Vert A\\,\\mathbf{x} - \\mathbf{b} \\Vert^2\\ }\n",
    "$$\n",
    "Devido a esta interpretação, este método de obter uma solução aproximada $ \\mathbf{\\hat x} $\n",
    "para o sistema original $ A\\mathbf x = \\mathbf b $ é conhecido como __método dos mínimos quadrados__.\n",
    "No NumPy, ele é implementado através da função `linalg.lstsq`.\n",
    "\n",
    "📝 Assumimos tacitamente na discussão anterior que o sistema modificado $ A \\mathbf{x} = \\mathbf{p} $\n",
    "tem uma solução _única_ $ \\mathbf{\\hat x} $. Este será o caso se e somente se os vetores coluna\n",
    "$ \\mathbf a_1,\\cdots,\\mathbf a_n $ de $ A $ que geram $ W $ são _linearmente independentes_. Se isso\n",
    "não for o caso, então haverá um número infinito de soluções para o sistema modificado. Nesta\n",
    "situação, geralmente escolhe-se a solução $ \\mathbf{\\hat x} $ que minimiza a norma euclidiana\n",
    "$ \\Vert \\mathbf{\\hat x} \\Vert $. Este é também o comportamento padrão de `linalg.lstsq`."
   ]
  },
  {
   "cell_type": "markdown",
   "metadata": {},
   "source": [
    "__Exercício:__ Para o sistema linear dado abaixo:\n",
    "$$\n",
    "\\left\\{\\begin{align*}\n",
    "    x + 2y &= 2 \\\\\n",
    "    3x + 4y &= 5 \\\\\n",
    "    5x + 6y &= 5\n",
    "\\end{align*}\\right.\n",
    "$$\n",
    "\n",
    "(a) Mostre manualmente que não existe uma solução exata.\n",
    "\n",
    "(b) Mostre que a solução aproximada por mínimos quadrados para o seguinte\n",
    "sistema linear é dada por $ \\mathbf{\\hat x} = \\big(-1, \\frac{7}{4}\\big) $.\n",
    "_Dica:_ Configure a matriz de coeficientes $ A $, o vetor $ \\mathbf b $ e aplique\n",
    "`linalg.lstsq`."
   ]
  },
  {
   "cell_type": "code",
   "execution_count": null,
   "metadata": {},
   "outputs": [],
   "source": [
    "# Defina a matriz A e o vetor b:\n",
    "# A = ...\n",
    "# b = ...\n",
    "\n",
    "# Calcule a solução de mínimos quadrados:\n",
    "x_hat, _, _, _ = np.linalg.lstsq(A, b, rcond=None)\n",
    "# Esta função retorna três outros valores além da solução aproximada, daí os '_'s.\n",
    "print(x_hat)"
   ]
  },
  {
   "cell_type": "markdown",
   "metadata": {},
   "source": [
    "Quando um sistema tem o mesmo número de equações e incógnitas, mas a matriz\n",
    "de coeficientes associada é singular, então há ou nenhuma solução\n",
    "ou infinitas soluções. Em qualquer uma dessas situações, devemos\n",
    "usar `linalg.lstsq` em vez de `linalg.solve` para resolvê-lo. \n",
    "* Se o sistema tem infinitas soluções, então o resultado é a\n",
    "  solução verdadeira que tem norma euclidiana mínima entre todas as soluções de\n",
    "  $ A\\,\\mathbf{x} = \\mathbf{b} $.\n",
    "* Se o sistema não tem soluções, então mínimos quadrados fornece a solução\n",
    "  _aproximada_ de norma mínima, ou seja, a solução para $ A\\,\\mathbf{x} = \\mathbf{p} $\n",
    "  que tem a menor norma euclidiana entre todas essas soluções. (Aqui $\n",
    "  \\mathbf{p} $ é a projeção ortogonal de $ \\mathbf{b} $ no subespaço\n",
    "  gerado pelas colunas de $ A $.)"
   ]
  },
  {
   "cell_type": "markdown",
   "metadata": {},
   "source": [
    "__Exercício:__ Resolva ou encontre soluções aproximadas para os seguintes sistemas de equações:\n",
    "$$\n",
    "\\begin{array}{cc}\n",
    "\\text{(a)} \\quad\n",
    "\\left\\{\n",
    "\\begin{array}{rcl}\n",
    "x & + & y & =\\ 2\\\\\n",
    "2x & + & 2y & =\\ 4\n",
    "\\end{array}\n",
    "\\right.\n",
    "& \\qquad\n",
    "\\text{(b)} \\quad\n",
    "\\left\\{\n",
    "\\begin{array}{rcl}\n",
    "x & + & y &=\\ 2\\\\\n",
    "2x & + & 2y &=\\ 2\n",
    "\\end{array}\n",
    "\\right.\n",
    "\\end{array}\n",
    "$$\n",
    "\n",
    "(c) Encontre (manualmente) _todas_ as soluções para (a) e verifique que a solução de mínimos quadrados\n",
    "é de fato aquela que tem norma mínima entre todas as soluções possíveis.\n",
    "\n",
    "(d) Mostre que (b) não tem soluções. Em seguida, encontre a projeção ortogonal $ \\mathbf{p} $\n",
    "de $ \\mathbf{b} = (2, 2) $ no subespaço gerado pelas colunas de $ A $ e \n",
    "finalmente verifique que a solução $ \\hat{\\mathbf{x}} $ produzida por `lstsq` é a\n",
    "que tem norma mínima entre todas as soluções para $ A\\,\\mathbf{x} = \\mathbf{p} $."
   ]
  },
  {
   "cell_type": "code",
   "execution_count": null,
   "metadata": {},
   "outputs": [],
   "source": [
    "A = np.array([[1, 1],\n",
    "              [2, 2]])\n",
    "b = np.array([2, 2])\n",
    "x_hat, _, _, _ = np.linalg.lstsq(A, b, rcond=None)\n",
    "print(x_hat)"
   ]
  },
  {
   "cell_type": "markdown",
   "metadata": {},
   "source": [
    "## $ \\S 3 $ Autovalores e autovetores\n",
    "\n",
    "Dada uma matriz quadrada $ A $, um __autovetor__ $ \\mathbf{v} $ é um\n",
    "vetor não nulo tal que quando $ A $ atua sobre $ \\mathbf{v} $,\n",
    "o resultado é um múltiplo escalar de $ \\mathbf{v} $, ou seja,\n",
    "$$\n",
    "\\boxed{\\ A\\mathbf{v} = \\lambda\\mathbf{v}\\ }\n",
    "$$\n",
    "para algum escalar $ \\lambda $, que é chamado de __autovalor__ correspondente ao\n",
    "autovetor $ \\mathbf{v} $. Autovalores e autovetores têm numerosas\n",
    "aplicações em engenharia e ciências. O NumPy fornece a função `linalg.eig`\n",
    "para calcular os autovalores e autovetores de uma matriz quadrada:"
   ]
  },
  {
   "cell_type": "code",
   "execution_count": null,
   "metadata": {},
   "outputs": [],
   "source": [
    "A = np.array([[0, 0, 6],\n",
    "              [1, 0, -11],\n",
    "              [0, 1, 6]])\n",
    "print(f\"Matriz A:\\n{A}\")\n",
    "# Calcular autovalores e autovetores\n",
    "eigenvalues, eigenvectors = np.linalg.eig(A)\n",
    "\n",
    "print(\"\\nAutovalores:\")\n",
    "print(eigenvalues)\n",
    "print(\"\\nAutovetores (cada coluna corresponde a um autovalor):\")\n",
    "print(np.round(eigenvectors, 2))"
   ]
  },
  {
   "cell_type": "markdown",
   "metadata": {},
   "source": [
    "📝 Os autovetores retornados pelo NumPy são normalizados para ter comprimento unitário (ou seja,\n",
    "$ \\|\\mathbf{v}\\| = 1 $). Além disso, eles aparecem na mesma ordem que seus\n",
    "autovalores correspondentes.\n",
    "\n",
    "Autovetores e autovalores têm numerosas aplicações em campos\n",
    "que vão da mecânica quântica ao aprendizado de máquina. Eles também são um dos\n",
    "conceitos centrais na própria álgebra linear. Algumas de suas\n",
    "propriedades mais importantes incluem:\n",
    "\n",
    "* O _determinante_ de uma matriz é igual ao produto de seus autovalores.\n",
    "* O _traço_ de uma matriz (soma dos elementos diagonais) é igual à soma de seus autovalores.\n",
    "* Uma matriz é _invertível_ se e somente se todos os seus autovalores são não nulos.\n",
    "* _Matrizes semelhantes_ têm os mesmos autovalores."
   ]
  },
  {
   "cell_type": "markdown",
   "metadata": {},
   "source": [
    "__Exercício:__ Lembre-se que qualquer matriz _simétrica_ real $ S $ $ n \\times n $ pode\n",
    "ser diagonalizada sobre $ \\mathbb R $ , e que podemos encontrar uma base para $ \\mathbb\n",
    "R^n $ consistindo de autovetores ortogonais de $ S $. Verifique que a matriz\n",
    "abaixo tem um conjunto completo de autovalores e que seus autovetores são de fato\n",
    "ortogonais."
   ]
  },
  {
   "cell_type": "code",
   "execution_count": null,
   "metadata": {},
   "outputs": [],
   "source": [
    "S = np.array([[2, -1, 0],\n",
    "              [-1, 2, -1],\n",
    "              [0, -1, 2]])"
   ]
  },
  {
   "cell_type": "markdown",
   "metadata": {},
   "source": [
    "📝 A função `linalg.eigh` é especificamente projetada para calcular os\n",
    "autovalores e autovetores de uma matriz simétrica ou hermitiana. (Uma matriz hermitiana\n",
    "é uma matriz complexa igual à sua transposta conjugada.)\n",
    "Ela é mais eficiente que o `linalg.eig` geral e garante autovalores reais."
   ]
  },
  {
   "cell_type": "markdown",
   "metadata": {},
   "source": [
    "__Exercício:__ Refaça o exercício anterior usando `eigh` em vez de `eig`. Você\n",
    "obtém os mesmos resultados? Se não, eles podem ser reconciliados (ou seja, você pode explicar as discrepâncias)?"
   ]
  },
  {
   "cell_type": "code",
   "execution_count": null,
   "metadata": {},
   "outputs": [],
   "source": []
  },
  {
   "cell_type": "markdown",
   "metadata": {},
   "source": [
    "Se precisarmos apenas dos autovalores, podemos usar `linalg.eigvals` (ou `linalg.eigvalsh` para matrizes simétricas).\n",
    "Por exemplo, a matriz\n",
    "$$\n",
    "R = \\begin{bmatrix}\n",
    "0 & -1 \\\\\n",
    "1 & 0\n",
    "\\end{bmatrix}\n",
    "$$\n",
    "corresponde a uma rotação no sentido anti-horário de $ \\mathbb{R}^2 $ por $\n",
    "\\frac{\\pi}{2} $ radianos ($ 90 $ graus). Seus autovalores são $ \\pm i $, onde\n",
    "$ i $ é a unidade imaginária. Podemos verificar isso com a ajuda do NumPy (mas\n",
    "lembre-se que em Python, a unidade imaginária é denotada por `j`)."
   ]
  },
  {
   "cell_type": "code",
   "execution_count": null,
   "metadata": {},
   "outputs": [],
   "source": [
    "R = np.array([[0, -1],\n",
    "              [1, 0]])\n",
    "\n",
    "print(np.linalg.eigvals(R))"
   ]
  },
  {
   "cell_type": "markdown",
   "metadata": {},
   "source": [
    "__Exercício (Cadeias de Markov):__\n",
    "Uma _cadeia de Markov_ é um sistema matemático que sofre transições de um\n",
    "estado para outro de acordo com certas regras probabilísticas. Em uma cadeia de Markov,\n",
    "a distribuição de probabilidade do próximo estado depende apenas do estado atual.\n",
    "A _distribuição estacionária_ é a proporção de tempo a longo prazo que a\n",
    "cadeia de Markov passa em cada estado, independentemente do estado inicial. \n",
    "\n",
    "Considere uma cadeia de Markov simples representando transições entre\n",
    "três estados climáticos: ensolarado, nublado e chuvoso, ou estados $ 0 $, $ 1 $ e $ 2\n",
    "$, respectivamente. A _matriz de transição_ $ P $ é dada por\n",
    "$$\n",
    "P = \\begin{bmatrix}\n",
    "0.7 & 0.2 & 0.1 \\\\\n",
    "0.3 & 0.4 & 0.3 \\\\\n",
    "0.2 & 0.3 & 0.5\n",
    "\\end{bmatrix}\n",
    "$$\n",
    "onde a entrada $ P_{ij} $ representa a probabilidade de transição do estado $\n",
    "i $ para o estado $ j $.\n",
    "\n",
    "(a) Encontre os autovalores e autovetores de $ P^T $ (a transposta de $ P $).\n",
    "\n",
    "(b) Use o autovetor de $ P^T $ correspondente ao autovalor $ 1 $ para\n",
    "determinar a distribuição de probabilidade de longo prazo $ \\mathbf{s} $ dos estados\n",
    "climáticos (ou seja, a distribuição estacionária). Isso pode ser obtido\n",
    "escalando este autovetor para que a soma das coordenadas se torne $ 1 $.\n",
    "\n",
    "(c) Verifique sua resposta elevando a matriz de transição $ P $ a uma alta potência\n",
    "$ n $: Pode-se mostrar que à medida que $ n \\to \\infty $, cada linha de $ P^n $ converge\n",
    "para $ \\mathbf{s} $."
   ]
  },
  {
   "cell_type": "code",
   "execution_count": null,
   "metadata": {},
   "outputs": [],
   "source": [
    "P = np.array([\n",
    "    [0.7, 0.2, 0.1],  # Ensolarado -> Ensolarado, Nublado, Chuvoso\n",
    "    [0.3, 0.4, 0.3],  # Nublado -> Ensolarado, Nublado, Chuvoso\n",
    "    [0.2, 0.3, 0.5]   # Chuvoso -> Ensolarado, Nublado, Chuvoso\n",
    "])"
   ]
  },
  {
   "cell_type": "markdown",
   "metadata": {},
   "source": [
    "## $ \\S 4 $ SciPy para Resolver Equações\n",
    "\n",
    "__SciPy__ é uma biblioteca construída sobre o NumPy que fornece extensa\n",
    "funcionalidade para computação científica. É um dos pacotes mais importantes\n",
    "no mundo Python. Devido ao seu amplo escopo, não podemos esperar cobri-lo em\n",
    "detalhes aqui. Em vez disso, vamos nos concentrar em apresentar as ferramentas básicas para resolver\n",
    "equações gerais (não lineares) e problemas de otimização.\n",
    "\n",
    "### $ 4.1 $ Módulo de álgebra linear do SciPy\n",
    "\n",
    "O SciPy tem um módulo `linalg` que se sobrepõe substancialmente ao do NumPy, mas\n",
    "também fornece rotinas de álgebra linear mais avançadas, incluindo\n",
    "solvers especializados para vários tipos de matrizes (simétrica, em banda,\n",
    "triangular, etc.) e solucionadores diretos para sistemas densos e esparsos. Como\n",
    "estes envolvem tópicos mais especializados, não entraremos neles aqui.\n",
    "Em vez disso, vamos comparar em um exemplo simples como o NumPy e o SciPy podem resolver\n",
    "sistemas lineares:"
   ]
  },
  {
   "cell_type": "code",
   "execution_count": null,
   "metadata": {},
   "outputs": [],
   "source": [
    "A = np.array([[4, 2, 1],\n",
    "              [2, 5, 3],\n",
    "              [1, 3, 6]])\n",
    "b = np.array([7, 10, 8])\n",
    "\n",
    "# Solução NumPy:\n",
    "x_np = np.linalg.solve(A, b)\n",
    "print(\"Solução NumPy:\")\n",
    "print(x_np)\n",
    "\n",
    "# Solução SciPy:\n",
    "x_sp = spla.solve(A, b)\n",
    "print(\"\\nSolução SciPy:\")\n",
    "print(x_sp)"
   ]
  },
  {
   "cell_type": "markdown",
   "metadata": {},
   "source": [
    "### $ 4.2 $ Resolvendo uma única equação não-linear\n",
    "\n",
    "O módulo `optimize` do SciPy fornece funções para resolver equações não-lineares.\n",
    "Para uma única variável, podemos usar `optimize.root_scalar` para encontrar uma raiz (zero)\n",
    "de uma função. Para que `root_scalar` faça seu trabalho, devemos fornecer ou um\n",
    "__intervalo de delimitação__ $ [a, b] $, ou seja, um intervalo dentro do domínio\n",
    "da função tal que $ f(a) $ e $ f(b) $ tenham sinais\n",
    "opostos, ou uma estimativa inicial $ x_0 $ para uma raiz mais alguns parâmetros opcionais.\n",
    "\n",
    "Por exemplo, considere o problema de localizar uma raiz do polinômio cúbico\n",
    "$$\n",
    "f(x) = x^3 - 2x^2 + 4x - 8\\,.\n",
    "$$\n",
    "Verificamos facilmente que\n",
    "$$\n",
    "f(1) = 1 -2 + 4 - 8 < 0 \\qquad \\text{enquanto} \\qquad f(3) = 27 - 18 + 12 - 8 > 0\n",
    "$$\n",
    "Logo, pelo teorema do valor intermediário, deve existir uma raiz de $ f $ dentro\n",
    "de $ [1, 3] $. Vamos verificar isso:"
   ]
  },
  {
   "cell_type": "code",
   "execution_count": null,
   "metadata": {},
   "outputs": [],
   "source": [
    "f = lambda x: x**3 - 2*x**2 + 4*x - 8  # definindo f\n",
    "\n",
    "# Usando root_scalar com método de bracket:\n",
    "solution = spo.root_scalar(f, bracket=[1, 3], method='brentq')\n",
    "print(\"Raiz encontrada:\")\n",
    "print(round(solution.root, 4))\n",
    "print(\"Valor da função na raiz:\")\n",
    "print(round(f(solution.root), 4))"
   ]
  },
  {
   "cell_type": "markdown",
   "metadata": {},
   "source": [
    "O valor de retorno de `root_scalar` contém outras informações úteis além do\n",
    "valor da raiz:"
   ]
  },
  {
   "cell_type": "code",
   "execution_count": null,
   "metadata": {},
   "outputs": [],
   "source": [
    "print(solution)"
   ]
  },
  {
   "cell_type": "markdown",
   "metadata": {},
   "source": [
    "Vamos verificar a resposta plotando o gráfico de $ f $:"
   ]
  },
  {
   "cell_type": "code",
   "execution_count": null,
   "metadata": {},
   "outputs": [],
   "source": [
    "xs = np.linspace(0, 3, 1000)\n",
    "ys = f(xs)\n",
    "\n",
    "fig, ax = plt.subplots(figsize=(8, 5))\n",
    "ax.plot(xs, ys)\n",
    "ax.axhline(y=0, color='k', linestyle='--', alpha=0.3)\n",
    "ax.grid(linestyle=\"--\", alpha=0.3)\n",
    "ax.plot(sol.root, 0, 'ro', markersize=6)\n",
    "ax.set_xlabel(\"$ x $\")\n",
    "ax.set_ylabel(\"$ f(x) $\")\n",
    "ax.set_title(\"Encontrar uma raiz de $ f(x) = x^3 - 2 x^2 + 4 x - 8 $\")\n",
    "plt.show()"
   ]
  },
  {
   "cell_type": "markdown",
   "metadata": {},
   "source": [
    "📝 `root_scalar` não encontra todas as raízes, encontra apenas uma única raiz próxima a uma estimativa\n",
    "inicial ou dentro de um intervalo especificado."
   ]
  },
  {
   "cell_type": "markdown",
   "metadata": {},
   "source": [
    "__Exercício:__ Resolva a seguinte equação não-linear usando `root_scalar` e um\n",
    "intervalo de delimitação.\n",
    "$$ e^x - 5x = 2 $$\n",
    "Faça um gráfico da função que você usou para encontrar uma raiz e marque a solução."
   ]
  },
  {
   "cell_type": "code",
   "execution_count": null,
   "metadata": {},
   "outputs": [],
   "source": []
  },
  {
   "cell_type": "markdown",
   "metadata": {},
   "source": [
    "Para usar `root_scalar` com uma estimativa, também precisamos especificar um método que não\n",
    "requeira delimitação, como o método de Newton ou o método da secante. Veja\n",
    "como fazer isso:"
   ]
  },
  {
   "cell_type": "code",
   "execution_count": null,
   "metadata": {},
   "outputs": [],
   "source": [
    "f = lambda x: x**2 - 4\n",
    "\n",
    "# Use root_scalar com uma estimativa:\n",
    "result = spo.root_scalar(f, \n",
    "                         x0=1.0,           # Estimativa inicial\n",
    "                         method=\"newton\")  # Método que usa uma estimativa\n",
    "\n",
    "print(f\"Raiz: {round(result.root, 4)}\")\n",
    "print(f\"Valor da função na raiz: {round(f(result.root), 4)}\")"
   ]
  },
  {
   "cell_type": "markdown",
   "metadata": {},
   "source": [
    "__Exercício:__ O que acontece se você tentar encontrar uma raiz de $ g(x) = x^2 + 1 $?\n",
    "Certifique-se de exibir as informações completas sobre a solução, não apenas seu valor."
   ]
  },
  {
   "cell_type": "code",
   "execution_count": null,
   "metadata": {},
   "outputs": [],
   "source": [
    "f = lambda x: x**2 + 4\n",
    "\n",
    "# Use root_scalar com uma estimativa:\n",
    "result = spo.root_scalar(f, \n",
    "                         x0=1.0,           # Estimativa inicial\n",
    "                         method='newton')  # Método que usa uma estimativa\n",
    "\n",
    "print(f\"Raiz: {round(result.root, 4)}\")\n",
    "print(f\"Valor da função na raiz: {round(f(result.root), 4)}\")\n",
    "result"
   ]
  },
  {
   "cell_type": "markdown",
   "metadata": {},
   "source": [
    "### $ 4.3 $ Encontrando raízes de polinômios\n",
    "\n",
    "Polinômios têm propriedades especiais que permitem algoritmos de busca de raízes mais eficientes e precisos. Dado um polinômio\n",
    "$$\n",
    "p(x) = a_n x^n + a_{n-1} x^{n-1} + \\cdots + a_1 x + a_0\\,,\n",
    "$$\n",
    "podemos encontrar todas as suas raízes usando a função `roots` do NumPy, que recebe um\n",
    "array de coeficientes $ [a_n, a_{n-1}, \\ldots, a_1, a_0] $ como entrada. Como\n",
    "ilustração, considere o problema de encontrar as raízes de\n",
    "$$\n",
    "p(x) = x^3 - 2x^2 - 5x + 6\n",
    "$$"
   ]
  },
  {
   "cell_type": "code",
   "execution_count": null,
   "metadata": {},
   "outputs": [],
   "source": [
    "coeffs = np.array([1, -2, -5, 6])  # coeficientes, do maior para o menor grau\n",
    "roots = np.roots(coeffs)\n",
    "print(\"Raízes do polinômio:\", roots)"
   ]
  },
  {
   "cell_type": "markdown",
   "metadata": {},
   "source": [
    "__Exercício:__ Verifique que estas são de fato todas as raízes de $ p $."
   ]
  },
  {
   "cell_type": "code",
   "execution_count": null,
   "metadata": {},
   "outputs": [],
   "source": []
  },
  {
   "cell_type": "markdown",
   "metadata": {},
   "source": [
    "__Exercício:__ Determine todas as raízes de\n",
    "$$\n",
    "q(x) = x^4 - 17x^3 + 101x^2 - 247x + 210\\,.\n",
    "$$"
   ]
  },
  {
   "cell_type": "code",
   "execution_count": null,
   "metadata": {},
   "outputs": [],
   "source": []
  },
  {
   "cell_type": "markdown",
   "metadata": {},
   "source": [
    "### $ 4.4 $ Resolvendo um sistema de equações não-lineares\n",
    "\n",
    "Considere o\n",
    "problema de encontrar a interseção entre o círculo centrado em\n",
    "$ \\big(1, \\frac{1}{2}\\big) $ com raio de $ 1 $ e o gráfico da curva\n",
    "senoidal. Em outras palavras, queremos resolver o sistema de equações (não-linear)\n",
    "$$\n",
    "\\begin{cases}\n",
    "\\ (x - 1)^2 + (y - 0.5)^2 = 1 \\\\\n",
    "\\ \\,y = \\sin x\n",
    "\\end{cases}\n",
    "$$\n",
    "Vamos fazer um gráfico da situação:"
   ]
  },
  {
   "cell_type": "code",
   "execution_count": null,
   "metadata": {},
   "outputs": [],
   "source": [
    "fig, ax = plt.subplots(figsize=(8, 5))\n",
    "\n",
    "# Plotar a curva senoidal:\n",
    "xs = np.linspace(-1, 3, 1000)\n",
    "ax.plot(xs, np.sin(xs), \"r-\", label=\"Seno: $ y = \\\\operatorname{sen}(x) $\")\n",
    "# Plotar o círculo:\n",
    "theta = np.linspace(0, 2 * np.pi, 100)\n",
    "circle_xs = 1 + np.cos(theta)\n",
    "circle_ys = 0.5 + np.sin(theta)\n",
    "ax.plot(circle_xs, circle_ys, \"b-\", label=\"Círculo: $ (x-1)^2 + (y-0.5)^2 = 1 $\")\n",
    "\n",
    "ax.set_xlabel(\"$ x $\")\n",
    "ax.set_ylabel(\"$ y $\")\n",
    "ax.set_title(\"Interseção de um círculo e uma curva senoidal\")\n",
    "ax.grid(linestyle=\"--\", alpha=0.3)\n",
    "ax.axis(\"equal\")\n",
    "ax.legend()\n",
    "plt.show()"
   ]
  },
  {
   "cell_type": "markdown",
   "metadata": {},
   "source": [
    "Tais sistemas de equações podem ser resolvidos com `scipy.optimize.root` fornecendo\n",
    "uma estimativa inicial. Veja como podemos encontrar ambos os pontos de interseção:"
   ]
  },
  {
   "cell_type": "code",
   "execution_count": null,
   "metadata": {},
   "outputs": [],
   "source": [
    "# Definir o sistema de equações:\n",
    "def equations(vars):\n",
    "   x, y = vars\n",
    "   eq1 = (x - 1)**2 + (y - 0.5)**2 - 1  # Equação do círculo = 0\n",
    "   eq2 = y - np.sin(x)                  # Equação da curva senoidal = 0\n",
    "   return [eq1, eq2]\n",
    "\n",
    "# Encontrar interseções usando diferentes estimativas iniciais:\n",
    "initial_guesses = [\n",
    "   [0, 0],   # Estimativa para interseção à esquerda\n",
    "   [2, 1]    # Estimativa para interseção à direita\n",
    "]\n",
    "\n",
    "# Resolver para cada estimativa inicial:\n",
    "for i, guess in enumerate(initial_guesses):\n",
    "   solution = spo.root(equations, guess)\n",
    "   \n",
    "   print(f\"\\nSolução {i+1} (a partir da estimativa inicial {guess}):\")\n",
    "   print(f\"x, y = {np.round(solution.x, 2)}\")\n",
    "   print(\"Valores da função na solução:\")\n",
    "   print(f\"f(x,y) = {np.round(solution.fun, 2)}\")"
   ]
  },
  {
   "cell_type": "markdown",
   "metadata": {},
   "source": [
    "__Exercício:__ Encontre os pontos de interseção das curvas descritas pelas\n",
    "seguintes duas equações não-lineares. Visualize as curvas e seus\n",
    "pontos de interseção:\n",
    "$$\n",
    "\\begin{cases}\n",
    "\\ \\sin x + \\cos y = 0.5 \\\\\n",
    "\\ x^2 + y^2 = 1\n",
    "\\end{cases}\n",
    "$$"
   ]
  },
  {
   "cell_type": "code",
   "execution_count": null,
   "metadata": {},
   "outputs": [],
   "source": []
  },
  {
   "cell_type": "markdown",
   "metadata": {},
   "source": [
    "### $ 4.5 $ Problemas de otimização\n",
    "\n",
    "O módulo `optimize` também fornece funções para resolver problemas de otimização.\n",
    "Vamos examinar o problema de minimizar a função\n",
    "$$\n",
    "x^2 + y^2 + (x + y - 2)^2\\,.\n",
    "$$"
   ]
  },
  {
   "cell_type": "code",
   "execution_count": null,
   "metadata": {},
   "outputs": [],
   "source": [
    "# Definir a função a minimizar:\n",
    "f = lambda vars: vars[0]**2 + vars[1]**2 + (vars[0] + vars[1] - 2)**2\n",
    "\n",
    "# Estimativa inicial:\n",
    "x0 = [0, 0]\n",
    "\n",
    "# Minimizar a função:\n",
    "result = spo.minimize(f, x0, method=\"BFGS\")\n",
    "\n",
    "print(\"Mínimo encontrado em:\")\n",
    "print(result.x)\n",
    "print(\"\\nValor da função no mínimo:\")\n",
    "print(result.fun)\n",
    "print(\"\\nNúmero de iterações:\")\n",
    "print(result.nit)\n",
    "print(\"\\nMensagem de convergência:\")\n",
    "print(result.message)"
   ]
  },
  {
   "cell_type": "markdown",
   "metadata": {},
   "source": [
    "__Exercício:__ Verifique manualmente que $ (2/3, 2/3) $ é o único ponto crítico de\n",
    "$ f(x) $, e que este é de fato um mínimo global.\n",
    "\n",
    "Vamos verificar esta resposta visualmente plotando as curvas de nível de $ f $ e\n",
    "marcando o ponto mínimo encontrado pelo SciPy. (Focaremos em contornos e outros\n",
    "tipos de gráficos em um notebook futuro; por enquanto, você pode ignorar o código abaixo e\n",
    "concentrar-se no próprio gráfico.)"
   ]
  },
  {
   "cell_type": "code",
   "execution_count": null,
   "metadata": {},
   "outputs": [],
   "source": [
    "xs = np.linspace(-2, 2, 100)\n",
    "ys = np.linspace(-2, 2, 100)\n",
    "X, Y = np.meshgrid(xs, ys)\n",
    "Z = X**2 + Y**2 + (X + Y - 2)**2\n",
    "\n",
    "fig, ax = plt.subplots(figsize=(8, 5))\n",
    "contour = ax.contour(X, Y, Z, 20, cmap=\"viridis\")\n",
    "fig.colorbar(contour, ax=ax)\n",
    "ax.scatter(result.x[0], result.x[1], color=\"red\", s=100, marker=\"x\")\n",
    "ax.grid(True)\n",
    "ax.set_xlabel(\"x\")\n",
    "ax.set_ylabel(\"y\")\n",
    "ax.grid(linestyle=\"--\", alpha=0.3)\n",
    "ax.set_title(\"Gráfico de Contorno de $ x^2 + y^2 + (x + y - 2)^2 $\")\n",
    "plt.show()"
   ]
  },
  {
   "cell_type": "markdown",
   "metadata": {},
   "source": [
    "📝 Por padrão, `minimize` encontra um mínimo _local_, não necessariamente o mínimo\n",
    "_global_, próximo à sua estimativa inicial. Para encontrar máximos usando SciPy, você pode chamar\n",
    "`minimize` no negativo da sua função. \n",
    "\n",
    "__Exercício:__ Encontre um máximo (local) de \n",
    "$$\n",
    "f(x, y) = x\\sin(4x) + y\\sin(2y)\\,.\n",
    "$$\n",
    "Experimente com várias estimativas iniciais diferentes e verifique se os\n",
    "resultados mudam."
   ]
  },
  {
   "cell_type": "code",
   "execution_count": null,
   "metadata": {},
   "outputs": [],
   "source": []
  }
 ],
 "metadata": {
  "kernelspec": {
   "display_name": "base",
   "language": "python",
   "name": "python3"
  },
  "language_info": {
   "codemirror_mode": {
    "name": "ipython",
    "version": 3
   },
   "file_extension": ".py",
   "mimetype": "text/x-python",
   "name": "python",
   "nbconvert_exporter": "python",
   "pygments_lexer": "ipython3",
   "version": "3.12.4"
  }
 },
 "nbformat": 4,
 "nbformat_minor": 2
}
