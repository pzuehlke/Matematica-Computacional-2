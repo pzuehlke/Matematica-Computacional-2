{
 "cells": [
  {
   "cell_type": "code",
   "execution_count": 2,
   "metadata": {},
   "outputs": [],
   "source": [
    "import numpy as np\n",
    "import matplotlib.pyplot as plt\n",
    "import scipy.linalg as spla\n",
    "import scipy.optimize as spo"
   ]
  },
  {
   "cell_type": "markdown",
   "metadata": {},
   "source": [
    "# Resolvendo equações\n",
    "\n",
    "Sistemas lineares de equações surgem naturalmente em muitos contextos na engenharia e\n",
    "em ciências. O NumPy, especialmente através do seu submódulo `numpy.linalg`, oferece vários\n",
    "métodos para calcular soluções exatas ou aproximadas para tais sistemas, e para resolver\n",
    "problemas relacionados, como encontrar os autovalores e autovetores de uma matriz ou\n",
    "determinar suas várias decomposições. Neste notebook, também aprenderemos como\n",
    "usar outra biblioteca fundamental no ecossistema Python chamada __SciPy__ que\n",
    "pode nos ajudar a resolver equações não lineares e problemas de otimização."
   ]
  },
  {
   "cell_type": "markdown",
   "metadata": {},
   "source": [
    "## $ \\S 1 $ Sistemas lineares quadrados\n",
    "\n",
    "### $ 1.1 $ Terminologia básica\n",
    "\n",
    "Considere um conjunto de $ n $ equações lineares em $ n $ incógnitas $ x_1, \\dots, x_n $:\n",
    "\\begin{equation*}\n",
    "\\begin{cases}\n",
    "& a_{11} x_1 &+& a_{12}x_2 &+& \\cdots &+& a_{1n}x_n &=& b_1 \\\\\n",
    "& a_{21} x_1 &+& a_{22}x_2 &+& \\cdots &+& a_{2n}x_n &=& b_2 \\\\\n",
    "& \\ \\ \\vdots & & \\ \\vdots & & & & \\ \\vdots & &\\vdots \\\\\n",
    "& a_{n1} x_1 &+& a_{n2}x_2 &+& \\cdots &+& a_{nn}x_n &=& b_n\n",
    "\\end{cases}\n",
    "\\end{equation*}\n",
    "\n",
    "Tais equações são chamadas de __lineares__ porque as expressões no lado esquerdo\n",
    "são lineares nas variáveis, ou seja, não envolvem potências como\n",
    "$ x_1^3 $ nem produtos das variáveis como $ x_1x_2 $ nem funções mais complicadas\n",
    "como $ \\cos(x_3) $ ou $ e^{x_2 - x_1} $."
   ]
  },
  {
   "cell_type": "markdown",
   "metadata": {},
   "source": [
    "Equivalentemente, usando notação matricial, este sistema de equações pode ser reescrito como:\n",
    "\\begin{equation*}\n",
    "A\\boldsymbol x =\n",
    "\\begin{bmatrix}\n",
    "a_{11} & a_{12} & \\cdots & a_{1n} \\\\\n",
    "a_{21} & a_{22} & \\cdots & a_{2n} \\\\\n",
    "\\vdots & \\vdots & \\ddots & \\vdots \\\\\n",
    "a_{n1} & a_{n2} & \\cdots & a_{nn}\n",
    "\\end{bmatrix}\n",
    "\\begin{bmatrix}\n",
    "x_1 \\\\\n",
    "x_2 \\\\\n",
    "\\vdots \\\\\n",
    "x_n\n",
    "\\end{bmatrix} =\n",
    "\\begin{bmatrix}\n",
    "b_1 \\\\\n",
    "b_2 \\\\\n",
    "\\vdots \\\\\n",
    "b_n\n",
    "\\end{bmatrix} = \\boldsymbol b\n",
    "\\end{equation*}\n",
    "ou mais concisamente\n",
    "$$\n",
    "\\boxed{\\ A\\boldsymbol{x} = \\boldsymbol{b}\\ }\n",
    "$$\n",
    "\n",
    "A matriz $ A $ é chamada de __matriz de coeficientes__. Observe que no nosso\n",
    "caso, ela é _quadrada_ (ou seja, o número de linhas é o mesmo que o\n",
    "número de colunas). Sistemas de $ m $ equações lineares em $ n $ incógnitas onde\n",
    "$ m \\ne n $ serão considerados apenas na próxima seção, por simplicidade.\n",
    "\n",
    "📝 Dependendo das propriedades de $ A $ e $ \\boldsymbol{b} $, um sistema linear\n",
    "$ A\\boldsymbol{x} = \\boldsymbol{b} $ pode ter exatamente uma solução, nenhuma solução, ou\n",
    "infinitas soluções."
   ]
  },
  {
   "cell_type": "markdown",
   "metadata": {},
   "source": [
    "__Exercício:__ Escreva como arrays NumPy as matrizes de coeficientes $ A $ e o\n",
    "vetor $ \\boldsymbol b $ para os sistemas de equações lineares\n",
    "abaixo:\n",
    "\n",
    "(a) $$ \\left\\{\n",
    "\\begin{align*}\n",
    "2x &+ 3y &\\ =& \\ 5 \\\\\n",
    "4x &- \\ y &\\ =& \\ 1\n",
    "\\end{align*} \\right.$$\n",
    "\n",
    "(b)\n",
    "$$\n",
    "\\left\\{\\begin{align*}\n",
    "x &\\ \\ +\\ &2y & \\ \\ - & z & \\ = & \\ 4 \\\\\n",
    "2x &\\ \\ - &y & \\ \\ + &3z & \\ = & -6 \\\\\n",
    "-3x &\\ \\ + &4y &\\ \\ + & z & \\ = & 10\n",
    "\\end{align*} \\right.\n",
    "$$"
   ]
  },
  {
   "cell_type": "code",
   "execution_count": null,
   "metadata": {},
   "outputs": [],
   "source": []
  },
  {
   "cell_type": "markdown",
   "metadata": {},
   "source": [
    "O __posto__ de uma matriz é o número máximo de linhas linearmente independentes ou,\n",
    "equivalentemente, colunas na matriz. Podemos calcular o posto de uma matriz usando o\n",
    "NumPy com `linalg.matrix_rank`. Por exemplo, as duas primeiras colunas da matriz\n",
    "abaixo são claramente linearmente independentes (pois uma não é múltipla da\n",
    "outra), mas a terceira coluna é a soma das duas primeiras, portanto o\n",
    "posto da matriz é $ 2 $:\n",
    "$$\n",
    "    A = \\begin{bmatrix}\n",
    "    1 & -1 & \\phantom{-}0 \\\\\n",
    "    2 & -3 & -1 \\\\\n",
    "    0 & \\phantom{-}1 & \\phantom{-}1\n",
    "    \\end{bmatrix}\n",
    "$$"
   ]
  },
  {
   "cell_type": "code",
   "execution_count": null,
   "metadata": {},
   "outputs": [],
   "source": [
    "A = np.array([[1, -1,  0],\n",
    "              [2, -3, -1],\n",
    "              [0,  1,  1]])\n",
    "\n",
    "# Verificar o posto:\n",
    "posto = np.linalg.matrix_rank(A)\n",
    "print(f\"Posto de A: {posto}\")"
   ]
  },
  {
   "cell_type": "markdown",
   "metadata": {},
   "source": [
    "### $ 1.2 $ Resolvendo sistemas lineares quadrados de equações\n",
    "\n",
    "__Exemplo:__ Considere o sistema de equações\n",
    "$$\n",
    "\\left\\{\\begin{alignat*}{4}\n",
    "3x\\  &+\\ 2y\\ &&-\\ &z\\ &=&\\ 1\\\\\n",
    "2x\\ &-\\ 2y\\ &&+\\ 4&z\\ &=&\\ -2\\\\\n",
    "-x\\  &+\\ \\tfrac{1}{2}y\\ &&- &z\\ &=&\\ 0\n",
    "\\end{alignat*}\\right.\n",
    "$$\n",
    "ou, na forma matricial,\n",
    "$$\n",
    "\\begin{align*}\n",
    "\\begin{bmatrix}\n",
    "3 & 2 & -1 \\\\\n",
    "2 & -2 & 4 \\\\\n",
    "-1 & 0.5 & -1\n",
    "\\end{bmatrix}\n",
    "\\begin{bmatrix}\n",
    "x \\\\\n",
    "y \\\\\n",
    "z\n",
    "\\end{bmatrix}\n",
    "=\n",
    "\\begin{bmatrix}\n",
    "\\phantom{-}1 \\\\\n",
    "-2 \\\\\n",
    "\\phantom{-}0\n",
    "\\end{bmatrix}\n",
    "\\end{align*}\n",
    "$$\n",
    "\n",
    "Podemos pedir ao NumPy para resolvê-lo usando a função `linalg.solve`:"
   ]
  },
  {
   "cell_type": "code",
   "execution_count": null,
   "metadata": {},
   "outputs": [],
   "source": [
    "# Matriz de coeficientes A e vetor constante b:\n",
    "A = np.array([[3, 2, -1],\n",
    "              [2, -2, 4],\n",
    "              [-1, 0.5, -1]])\n",
    "b = np.array([1, -2, 0])\n",
    "\n",
    "# Resolver o sistema de equações:\n",
    "x = np.linalg.solve(A, b)\n",
    "print(x)  # Vetor solução x"
   ]
  },
  {
   "cell_type": "markdown",
   "metadata": {},
   "source": [
    "__Exercício:__ Verifique por substituição direta que $ (1, -2, -2) $ é, de fato,\n",
    "a solução para as equações anteriores. _Dica:_ Multiplique $ A $ por $ (1, -2, -2)\n",
    "$ e verifique se o resultado coincide com $ \\boldsymbol{b} $ (a menos de erros de arredondamento)."
   ]
  },
  {
   "cell_type": "code",
   "execution_count": null,
   "metadata": {},
   "outputs": [],
   "source": []
  },
  {
   "cell_type": "markdown",
   "metadata": {},
   "source": [
    "__Exercício:__ Resolva o seguinte sistema de equações lineares usando NumPy e\n",
    "depois verifique a solução substituindo-na em $ A\\boldsymbol{x} = \\boldsymbol{b} $:\n",
    "$$\n",
    "\\left\\{\\begin{alignat*}{4}\n",
    "2x_1\\  &-\\ x_2\\ &&+\\ 3&x_3\\ &=&\\ 5\\\\\n",
    "4x_1\\ &+\\ 4x_2\\ &&-\\ 3&x_3\\ &=&\\ 3\\\\\n",
    "-2x_1\\  &+\\ 5x_2\\ &&+ &x_3\\ &=&\\ 7\n",
    "\\end{alignat*}\\right.\n",
    "$$"
   ]
  },
  {
   "cell_type": "code",
   "execution_count": null,
   "metadata": {},
   "outputs": [],
   "source": []
  },
  {
   "cell_type": "markdown",
   "metadata": {},
   "source": [
    "__Exercício:__ Sejam $ y = a_1 x + b_1 $ e $ y = a_2 x + b_2 $ equações que descrevem duas\n",
    "retas (não verticais). Escreva um procedimento `inter_retas` que recebe como entrada\n",
    "estes coeficientes e retorna o ponto onde as duas retas se encontram.\n",
    "Teste seu procedimento nas retas\n",
    "$$\n",
    "\\begin{align*}\n",
    "    y &= 2x + 1 \\\\\n",
    "    y &= -x + 4\n",
    "\\end{align*}\n",
    "$$\n",
    "que se intersectam em $ (1, 3) $.\n",
    "_Dica:_ Converta o problema original no de resolver equações lineares e use a\n",
    "função `linalg.solve`."
   ]
  },
  {
   "cell_type": "code",
   "execution_count": null,
   "metadata": {},
   "outputs": [],
   "source": []
  },
  {
   "cell_type": "markdown",
   "metadata": {},
   "source": [
    "__Exercício:__ Escreva um procedimento `inter_planos` que calcula o ponto onde\n",
    "três planos dados \n",
    "$$\n",
    "\\begin{align*}\n",
    "    z &= a_1y + b_1x + c_1 \\\\\n",
    "    z &= a_2y + b_2x + c_2 \\\\\n",
    "    z &= a_3y + b_3x + c_3\n",
    "\\end{align*}\n",
    "$$\n",
    "se encontram. Teste seu código verificando que os seguintes três planos se intersectam em $ (-3, -5, -10) $:\n",
    "$$\n",
    "\\begin{align*}\n",
    "    z &= x + 2y + 3 \\\\\n",
    "    z &= 2x + y + 1 \\\\\n",
    "    z &= -x + 3y  + 2\n",
    "\\end{align*}\n",
    "$$"
   ]
  },
  {
   "cell_type": "code",
   "execution_count": null,
   "metadata": {},
   "outputs": [],
   "source": []
  },
  {
   "cell_type": "markdown",
   "metadata": {},
   "source": [
    "__Exercício:__ Considere um circuito elétrico simples com três malhas e três\n",
    "resistores. As correntes de malha $ I_1 $, $ I_2 $ e $ I_3 $ satisfazem as seguintes\n",
    "equações (derivadas das leis de Kirchhoff):\n",
    "$$\n",
    "\\left\\{\\begin{alignat*}{4}\n",
    "5I_1\\ &-\\ 2I_2\\ &&-\\ &I_3\\ &=&\\ 12\\\\\n",
    "-2I_1\\ &+\\ 8I_2\\ &&-\\ 3&I_3\\ &=&\\ -4\\\\\n",
    "-I_1\\ &-\\ 3I_2\\ &&+\\ 6&I_3\\ &=&\\ 6\n",
    "\\end{alignat*}\\right.\n",
    "$$\n",
    "onde os lados direitos representam fontes de tensão nas malhas. Resolva para encontrar as correntes."
   ]
  },
  {
   "cell_type": "code",
   "execution_count": null,
   "metadata": {},
   "outputs": [],
   "source": []
  },
  {
   "cell_type": "markdown",
   "metadata": {},
   "source": [
    "### $ 1.3 $ Observações adicionais sobre `linalg.solve`"
   ]
  },
  {
   "cell_type": "markdown",
   "metadata": {},
   "source": [
    "__Exercício:__ Considere os seguintes três sistemas lineares de equações. Tente\n",
    "resolvê-los usando NumPy e explique o resultado em cada caso.\n",
    "\n",
    "(a)\n",
    "$$\n",
    "\\begin{align*}\n",
    "\\begin{bmatrix}\n",
    "1 & -2 \\\\\n",
    "-3 & 6 \\\\\n",
    "\\end{bmatrix}\n",
    "\\begin{bmatrix}\n",
    "x \\\\\n",
    "y\n",
    "\\end{bmatrix}\n",
    "=\n",
    "\\begin{bmatrix}\n",
    "1 \\\\\n",
    "3\n",
    "\\end{bmatrix}\n",
    "\\end{align*}\n",
    "$$\n",
    "\n",
    "(b) \n",
    "$$\n",
    "\\begin{align*}\n",
    "\\begin{bmatrix}\n",
    "1 & -2 \\\\\n",
    "-3 & 6 \\\\\n",
    "\\end{bmatrix}\n",
    "\\begin{bmatrix}\n",
    "x \\\\\n",
    "y\n",
    "\\end{bmatrix}\n",
    "=\n",
    "\\begin{bmatrix}\n",
    "\\phantom{-}1 \\\\\n",
    "-3\n",
    "\\end{bmatrix}\n",
    "\\end{align*}\n",
    "$$\n",
    "\n",
    "(c)\n",
    "$$\n",
    "\\begin{align*}\n",
    "\\begin{bmatrix}\n",
    "1 & -2 & 3 \\\\\n",
    "-3 & 6 & 4 \\\\\n",
    "\\end{bmatrix}\n",
    "\\begin{bmatrix}\n",
    "x \\\\\n",
    "y \\\\\n",
    "z\n",
    "\\end{bmatrix}\n",
    "=\n",
    "\\begin{bmatrix}\n",
    "1 \\\\\n",
    "3\n",
    "\\end{bmatrix}\n",
    "\\end{align*}\n",
    "$$\n",
    "\n",
    "(d) Você consegue encontrar (manualmente) as soluções para os sistemas nos itens (a) e (b)?"
   ]
  },
  {
   "cell_type": "code",
   "execution_count": null,
   "metadata": {},
   "outputs": [],
   "source": []
  },
  {
   "cell_type": "markdown",
   "metadata": {},
   "source": [
    "O exercício anterior ilustra que:\n",
    "* `linalg.solve` deve ser usado apenas em sistemas _quadrados_ de equações lineares\n",
    "  (onde o número de equações é o mesmo que o número de incógnitas).\n",
    "* Se a matriz de coeficientes é quadrada mas __singular__\n",
    "  (ou seja, seu posto é $ < n $ ou equivalentemente seu determinante é igual a zero), \n",
    "  então o sistema correspondente não admitirá uma solução única: pode\n",
    "  não ter solução alguma ou ter um número infinito delas. Seja como for,\n",
    "  `linalg.solve` tampouco deve ser usado.\n",
    "\n",
    "Se tentarmos utilizar `linalg.solve` em qualquer destas situações, o resultado\n",
    "será um erro do tipo `LinAlgError`."
   ]
  },
  {
   "cell_type": "markdown",
   "metadata": {},
   "source": [
    "⚡ Por baixo dos panos, `linalg.solve` resolve um sistema linear (quadrado) $ A\\boldsymbol x =\n",
    "\\boldsymbol b $ encontrando primeiro a decomposição $ LU $ de $ A $, depois reescrevendo\n",
    "o sistema original como\n",
    "$$\n",
    "\\left\\{\n",
    "\\begin{alignat*}{4}\n",
    "L\\boldsymbol y &= \\boldsymbol b \\\\\n",
    "U\\boldsymbol x &= \\boldsymbol y\n",
    "\\end{alignat*}\n",
    "\\right.\n",
    "$$\n",
    "Como $ L $ é triangular inferior e $ U $ é triangular superior, o primeiro\n",
    "destes sistemas pode ser facilmente resolvido por substituição progressiva, e o segundo\n",
    "por substituição regressiva. Para encontrar a própria decomposição $ LU $, a eliminação Gaussiana\n",
    "é aplicada a $ A $. Isso é discutido em qualquer curso de Álgebra Linear,\n",
    "onde você fará muitos desses cálculos manualmente.\n",
    "\n",
    "A complexidade temporal para encontrar a decomposição $ LU $ de (ou, equivalentemente,\n",
    "realizar a eliminação Gaussiana em) uma matriz $ n \\times n $ $ A $ é $ O(n^3)\n",
    "$, mas uma vez que esta decomposição esteja disponível, a complexidade de resolver\n",
    "$ A \\boldsymbol{x} = \\boldsymbol{b} $ da maneira descrita acima é apenas $ O(n^2) $."
   ]
  },
  {
   "cell_type": "markdown",
   "metadata": {},
   "source": [
    "### $ 1.4 $ Resolvendo múltiplos sistemas quadrados compartilhando a mesma matriz de coeficientes\n",
    "\n",
    "Suponha que queiramos resolver simultaneamente $ p $ sistemas de equações\n",
    "lineares compartilhando a mesma matriz de coeficientes $ A $ quadrada $ n \\times\n",
    "n $, mas com diferentes vetores $ \\boldsymbol{b}_1,\\, \\boldsymbol{b}_2,\n",
    "\\cdots,\\, \\boldsymbol{b}_p $ do lado direito.  Podemos então passar como segundo\n",
    "argumento da chamada ao `linalg.solve` uma matriz $ B $ de dimensões $ n \\times\n",
    "p $ , cujas colunas são os $ p $ vetores $ \\boldsymbol b_i $. Ou seja, considere\n",
    "o sistema linear\n",
    "$$\n",
    "AX = B =\n",
    "\\begin{bmatrix}\n",
    "    | & | & & | \\\\\n",
    "    \\boldsymbol{b}_1 & \\boldsymbol{b}_2 & \\cdots & \\boldsymbol{b}_p \\\\\n",
    "    | & | & & |\n",
    "\\end{bmatrix}\n",
    "$$\n",
    "A matriz $ X $ é $ n \\times p $ e suas colunas contêm as respectivas $ p $ soluções\n",
    "de cada sistema."
   ]
  },
  {
   "cell_type": "code",
   "execution_count": null,
   "metadata": {},
   "outputs": [],
   "source": [
    "# Definir a matriz de coeficientes A:\n",
    "A = np.array([[3, 1, -1],\n",
    "              [2, -2, 4],\n",
    "              [1, 5, -3]])\n",
    "\n",
    "# Definir dois vetores do lado direito como colunas de uma matriz B:\n",
    "B = np.array([[4, 9],\n",
    "              [6, 1],\n",
    "              [2, -5]])\n",
    "\n",
    "# Resolver AX = B para X:\n",
    "X = np.linalg.solve(A, B)\n",
    "print(\"Matriz solução X:\")\n",
    "print(X)\n",
    "\n",
    "# Verificando a solução:\n",
    "verification = A @ X\n",
    "print(\"\\nVerificação (A @ X deve ser igual a B):\", '\\n')\n",
    "print(verification, '\\n')\n",
    "print(B)"
   ]
  },
  {
   "cell_type": "markdown",
   "metadata": {},
   "source": [
    "__Exercício:__ Na análise de circuitos, frequentemente precisamos resolver múltiplos sistemas com a mesma matriz de conectividade, mas diferentes excitações. Considere um circuito com $ 4 $ nós descrito pela seguinte matriz de admitância nodal (simétrica):\n",
    "$$\n",
    "Y = \\begin{bmatrix} \n",
    "10 & -4 & -6 & 0 \\\\ \n",
    "-4 & 8 & 0 & -4 \\\\ \n",
    "-6 & 0 & 10 & -3 \\\\ \n",
    "0 & -4 & -3 & 7\n",
    "\\end{bmatrix}\n",
    "$$\n",
    "Resolva para as tensões nodais dados os seguintes três vetores de excitação de corrente (lados direitos):\n",
    "$$\n",
    "\\boldsymbol{i}_1 = \n",
    "\\begin{bmatrix}\n",
    "18 \\\\ 0 \\\\ 0 \\\\ 0\n",
    "\\end{bmatrix}\n",
    "\\quad\n",
    "\\boldsymbol{i}_2 = \n",
    "\\begin{bmatrix}\n",
    "0 \\\\ 18 \\\\ 0 \\\\ 0\n",
    "\\end{bmatrix}\n",
    "\\quad\n",
    "\\boldsymbol{i}_3 = \n",
    "\\begin{bmatrix}\n",
    "0 \\\\ 0 \\\\ 18 \\\\ 0\n",
    "\\end{bmatrix}\n",
    "$$"
   ]
  },
  {
   "cell_type": "code",
   "execution_count": null,
   "metadata": {},
   "outputs": [],
   "source": []
  },
  {
   "cell_type": "markdown",
   "metadata": {},
   "source": [
    "### ⚡ $ 1.5 $ Inversão de matriz vs. solução direta\n",
    "\n",
    "Em teoria, podemos resolver um sistema linear $A\\boldsymbol{x} = \\boldsymbol{b}$ calculando\n",
    "$\\boldsymbol{x} = A^{-1}\\boldsymbol{b}$, desde que $ A $ seja invertível (ou seja,\n",
    "não singular). Lembre-se que a inversa de $ A $ pode ser encontrada com `linalg.inv`.\n",
    "No entanto, essa abordagem para resolver sistemas lineares geralmente é evitada na prática\n",
    "porque:\n",
    "* É computacionalmente mais cara que métodos de solução direta.\n",
    "* Pode ser numericamente menos estável (significando que pequenos erros podem ser amplificados).\n",
    "\n",
    "Informalmente, o __número de condição__ de uma matriz $ A $ mede quão sensível\n",
    "a solução $ \\boldsymbol x $ de um sistema linear $ A\\boldsymbol x = \\boldsymbol\n",
    "b $ envolvendo esta matriz é a pequenas variações nas coordenadas de $\n",
    "\\boldsymbol b $.  O número de condição é definido por\n",
    "$$\n",
    "\\kappa(A) = \\|A\\|\\  \\|A^{-1}\\|\n",
    "$$\n",
    "onde $\\|\\cdot\\|$ denota uma norma matricial. Sempre vale $ \\kappa \\ge 1 $. Uma\n",
    "matriz __bem condicionada__ é aquela cujo número de condição é relativamente\n",
    "pequeno (próximo de $ 1 $). Matrizes que são quase singulares, ou seja, cujo determinante está\n",
    "próximo de $ 0 $, têm números de condição muito grandes porque suas inversas\n",
    "terão entradas muito grandes. O número de condição de uma matriz singular é\n",
    "infinito.\n",
    "\n",
    "O número de condição de $ A $ pode ser calculado com `linalg.cond(A)`. Por\n",
    "padrão, o NumPy usa a norma espectral no cálculo, definida por\n",
    "$$\n",
    "\\|A\\| = \\max_{\\Vert \\boldsymbol x \\Vert = 1} \\frac{\\|A\\boldsymbol x\\|}{\\|\\boldsymbol x\\|}.\n",
    "$$\n",
    "que também coincide com a raiz quadrada do maior autovalor de $\n",
    "A^TA $; entretanto, outras normas também podem ser usadas. (Veja a [documentação](https://numpy.org/doc/stable/reference/generated/numpy.linalg.cond.html).)\n",
    "\n",
    "Embora resolver um sistema linear usando inversão ou um método direto produza\n",
    "essencialmente a mesma resposta para problemas bem condicionados, a diferença na\n",
    "estabilidade numérica torna-se importante para matrizes de coeficientes mal condicionadas."
   ]
  },
  {
   "cell_type": "markdown",
   "metadata": {},
   "source": [
    "__Exercício:__ Calcule os números de condição das seguintes três matrizes:\n",
    "$$\n",
    "\\text{(a)}\\quad A_1 = \\begin{bmatrix}\n",
    "3 & 0 \\\\\n",
    "0 & 1\n",
    "\\end{bmatrix} \\qquad\n",
    "\\text{(b)}\\quad A_2 = \\begin{bmatrix}\n",
    "1 & 2 \\\\\n",
    "1.001 & 2.001\n",
    "\\end{bmatrix} \\qquad\n",
    "\\text{(c)}\\quad A_3 = \\begin{bmatrix}\n",
    "1 & 2 \\\\\n",
    "2 & 4\n",
    "\\end{bmatrix}\n",
    "$$"
   ]
  },
  {
   "cell_type": "code",
   "execution_count": null,
   "metadata": {},
   "outputs": [],
   "source": [
    "A1 = np.array([[3, 0],\n",
    "               [0, 1]])  # Não singular\n",
    "\n",
    "A2 = np.array([[1, 2],\n",
    "               [1.001, 2.001]])  # Quase singular\n",
    "\n",
    "A3 = np.array([[1, 2],\n",
    "               [2, 4]])  # Singular"
   ]
  },
  {
   "cell_type": "markdown",
   "metadata": {},
   "source": [
    "## $ \\S 2 $ Soluções por mínimos quadrados\n",
    "\n",
    "O sistema linear de equações mais geral é $ A \\boldsymbol x = \\boldsymbol b $ onde\n",
    "$$\n",
    "A \\text{ é $ m \\times n $}, \\quad \\boldsymbol x \\in \\mathbb{R}^n \\quad \\text{e} \\quad \\boldsymbol b \\in \\mathbb{R}^m\\,. \n",
    "$$\n",
    "Geometricamente, uma solução $ \\boldsymbol x $ corresponde a uma escolha de escalares $ x_k\n",
    "$ que expressaria $ \\boldsymbol b $ como uma combinação linear $ \\boldsymbol b = x_1\\,\n",
    "\\boldsymbol a_1 + \\cdots + x_n\\, \\boldsymbol a_n $ dos $ n $ vetores-coluna de $ A $:\n",
    "$$\n",
    "\\begin{bmatrix}\n",
    "b_{1} \\\\\n",
    "b_{2} \\\\\n",
    "\\vdots \\\\\n",
    "b_{m}\n",
    "\\end{bmatrix}\n",
    "=\n",
    "x_1\n",
    "\\begin{bmatrix}\n",
    "a_{11} \\\\\n",
    "a_{21} \\\\\n",
    "\\vdots \\\\\n",
    "a_{m1}\n",
    "\\end{bmatrix}\n",
    "+\n",
    "x_2\n",
    "\\begin{bmatrix}\n",
    "a_{12} \\\\\n",
    "a_{22} \\\\\n",
    "\\vdots \\\\\n",
    "a_{m2}\n",
    "\\end{bmatrix}\n",
    "+\n",
    "x_n\n",
    "\\begin{bmatrix}\n",
    "a_{1n} \\\\\n",
    "a_{2n} \\\\\n",
    "\\vdots \\\\\n",
    "a_{mn}\n",
    "\\end{bmatrix}\\,.\n",
    "$$\n",
    "Portanto, haverá uma solução se e somente se $ \\boldsymbol b $ por acaso estiver no\n",
    "hiperplano $ W \\subset \\mathbb{R}^m $ que passa pela origem gerado pelos\n",
    "$ n $ vetores coluna de $ A $."
   ]
  },
  {
   "cell_type": "markdown",
   "metadata": {},
   "source": [
    "Agora, a dimensão do subespaço $ W $ é no máximo $ n $, já que por definição\n",
    "ele é gerado por $ n $ vetores. Portanto, se o sistema é __sobredeterminado__,\n",
    "ou seja, se temos menos incógnitas que equações ($ n < m $), então $ W $ não pode\n",
    "coincidir com todo o $ \\mathbb R^m $. Assim, para a maioria das escolhas de\n",
    "$ \\boldsymbol b \\in \\mathbb R^m $, não existe solução exata. Nesta situação,\n",
    "_o melhor que podemos fazer é escolher o vetor $ \\boldsymbol{p} $ em $ W $ que minimiza\n",
    "a distância até $ \\boldsymbol b $ e encontrar a solução correspondente $\n",
    "\\boldsymbol{\\hat{x}} $ para o sistema linear_\n",
    "$$\n",
    "A \\boldsymbol{x} = \\boldsymbol{p}\\,.\n",
    "$$\n",
    "Este $ \\boldsymbol{p} $ é a __projeção ortogonal__ de $ \\boldsymbol b $ em $ W $. Ele é o\n",
    "vetor mais próximo de $ \\boldsymbol b $ em $ W $, de modo que $ \\boldsymbol{\\hat x} $ é tal que a distância\n",
    "de $ A\\boldsymbol{\\hat x} $ a $ \\boldsymbol b $ é a menor possível, ou seja,\n",
    "é a solução para o problema de otimização:\n",
    "$$\n",
    "\\boxed{\\ \\underset{\\boldsymbol{x}}{\\text{minimizar}}\\ \\Vert A\\boldsymbol{x} - \\boldsymbol{b} \\Vert^2\\ }\n",
    "$$\n",
    "Devido a esta interpretação, este método de obter uma solução aproximada $ \\boldsymbol{\\hat x} $\n",
    "para o sistema original $ A\\boldsymbol x = \\boldsymbol b $ é conhecido como __método dos mínimos quadrados__.\n",
    "No NumPy, ele é implementado através da função `linalg.lstsq`.\n",
    "\n",
    "📝 Assumimos tacitamente na discussão anterior que o sistema modificado $ A \\boldsymbol{x} = \\boldsymbol{p} $\n",
    "tem uma solução _única_ $ \\boldsymbol{\\hat x} $. Este será o caso se e somente se os vetores coluna\n",
    "$ \\boldsymbol a_1,\\cdots,\\boldsymbol a_n $ de $ A $ que geram $ W $ são _linearmente independentes_. Se este\n",
    "não for o caso, então haverá um número infinito de soluções para o sistema modificado. Nesta\n",
    "situação, geralmente escolhe-se a solução $ \\boldsymbol{\\hat x} $ que minimiza a norma euclidiana\n",
    "$ \\Vert \\boldsymbol{\\hat x} \\Vert $. Este é também o comportamento padrão de `linalg.lstsq`."
   ]
  },
  {
   "cell_type": "markdown",
   "metadata": {},
   "source": [
    "__Exercício:__ Para o sistema linear dado abaixo:\n",
    "$$\n",
    "\\left\\{\\begin{align*}\n",
    "    x + 2y &= 2 \\\\\n",
    "    3x + 4y &= 5 \\\\\n",
    "    5x + 6y &= 5\n",
    "\\end{align*}\\right.\n",
    "$$\n",
    "\n",
    "(a) Mostre manualmente que não existe uma solução exata.\n",
    "\n",
    "(b) Mostre que a solução aproximada por mínimos quadrados para este\n",
    "sistema linear é dada por $ \\boldsymbol{\\hat x} = \\big(-1, \\frac{7}{4}\\big) $.\n",
    "_Dica:_ Configure a matriz de coeficientes $ A $, o vetor $ \\boldsymbol b $ e aplique\n",
    "`linalg.lstsq`."
   ]
  },
  {
   "cell_type": "code",
   "execution_count": null,
   "metadata": {},
   "outputs": [],
   "source": [
    "# Defina a matriz A e o vetor b:\n",
    "# A = ...\n",
    "# b = ...\n",
    "\n",
    "# Calcule a solução de mínimos quadrados:\n",
    "x_chapeu, _, _, _ = np.linalg.lstsq(A, b, rcond=None)\n",
    "# Esta função retorna três outros valores além da solução aproximada, daí os '_'s.\n",
    "print(x_chapeu)"
   ]
  },
  {
   "cell_type": "markdown",
   "metadata": {},
   "source": [
    "Quando um sistema tem o mesmo número de equações e incógnitas, mas a matriz\n",
    "de coeficientes associada é singular, então há ou nenhuma solução\n",
    "ou infinitas soluções. Em qualquer uma dessas situações, devemos\n",
    "usar `linalg.lstsq` em vez de `linalg.solve` para resolvê-lo. \n",
    "* Se o sistema tem infinitas soluções, então o resultado é a\n",
    "  solução verdadeira que tem norma euclidiana mínima dentre todas as soluções de\n",
    "  $ A\\boldsymbol{x} = \\boldsymbol{b} $.\n",
    "* Se o sistema não tem soluções, então mínimos quadrados fornece a solução\n",
    "  _aproximada_ de norma mínima, ou seja, a solução para $ A\\boldsymbol{x} = \\boldsymbol{p} $\n",
    "  que tem a menor norma euclidiana dentre todas estas soluções. (Aqui $\n",
    "  \\boldsymbol{p} $ é novamente a projeção ortogonal de $ \\boldsymbol{b} $ no subespaço\n",
    "  gerado pelas colunas de $ A $.)"
   ]
  },
  {
   "cell_type": "markdown",
   "metadata": {},
   "source": [
    "__Exercício:__ Resolva ou encontre soluções aproximadas para os seguintes sistemas de equações:\n",
    "$$\n",
    "\\begin{array}{cc}\n",
    "\\text{(a)} \\quad\n",
    "\\left\\{\n",
    "\\begin{array}{rcl}\n",
    "x & + & y & =\\ 2\\\\\n",
    "2x & + & 2y & =\\ 4\n",
    "\\end{array}\n",
    "\\right.\n",
    "& \\qquad\n",
    "\\text{(b)} \\quad\n",
    "\\left\\{\n",
    "\\begin{array}{rcl}\n",
    "x & + & y &=\\ 2\\\\\n",
    "2x & + & 2y &=\\ 2\n",
    "\\end{array}\n",
    "\\right.\n",
    "\\end{array}\n",
    "$$\n",
    "\n",
    "(c) Encontre (manualmente) _todas_ as soluções para (a) e verifique que a solução de mínimos quadrados\n",
    "é de fato aquela que tem norma mínima entre todas as soluções possíveis.\n",
    "\n",
    "(d) Mostre que (b) não tem soluções. Em seguida, encontre a projeção ortogonal $ \\boldsymbol{p} $\n",
    "de $ \\boldsymbol{b} = (2, 2) $ no subespaço gerado pelas colunas de $ A $ e \n",
    "finalmente verifique que a solução $ \\hat{\\boldsymbol{x}} $ produzida por `lstsq` é a\n",
    "que tem norma mínima entre todas as soluções para $ A\\boldsymbol{x} = \\boldsymbol{p} $."
   ]
  },
  {
   "cell_type": "code",
   "execution_count": null,
   "metadata": {},
   "outputs": [],
   "source": [
    "A = np.array([[1, 1],\n",
    "              [2, 2]])\n",
    "b = np.array([2, 2])\n",
    "x_hat, _, _, _ = np.linalg.lstsq(A, b, rcond=None)\n",
    "print(x_hat)"
   ]
  },
  {
   "cell_type": "markdown",
   "metadata": {},
   "source": [
    "## $ \\S 3 $ Autovalores e autovetores\n",
    "\n",
    "Dada uma matriz quadrada $ A $, um __autovetor__ $ \\boldsymbol{v} $ é um\n",
    "vetor não-nulo tal que quando $ A $ age em $ \\boldsymbol{v} $,\n",
    "o resultado é um múltiplo escalar de $ \\boldsymbol{v} $, ou seja,\n",
    "$$\n",
    "\\boxed{\\ A\\boldsymbol{v} = \\lambda\\boldsymbol{v}\\ }\n",
    "$$\n",
    "para algum escalar $ \\lambda $, que é chamado de __autovalor__ correspondente ao\n",
    "autovetor $ \\boldsymbol{v} $. Autovalores e autovetores têm numerosas\n",
    "aplicações que vão desde a mecânica quântica ao aprendizado de máquina. O NumPy\n",
    "fornece a função `linalg.eig` para calcular os autovalores e autovetores de uma\n",
    "matriz quadrada:"
   ]
  },
  {
   "cell_type": "code",
   "execution_count": null,
   "metadata": {},
   "outputs": [],
   "source": [
    "A = np.array([[0, 0, 6],\n",
    "              [1, 0, -11],\n",
    "              [0, 1, 6]])\n",
    "print(f\"Matriz A:\\n{A}\")\n",
    "# Calcular autovalores e autovetores\n",
    "autovalores, autovetores = np.linalg.eig(A)\n",
    "\n",
    "print(\"\\nAutovalores:\")\n",
    "print(autovalores)\n",
    "print(\"\\nAutovetores (cada coluna corresponde a um autovalor):\")\n",
    "print(np.round(autovetores, 2))"
   ]
  },
  {
   "cell_type": "markdown",
   "metadata": {},
   "source": [
    "📝 Os autovetores retornados pelo NumPy são normalizados para ter comprimento\n",
    "unitário (ou seja, $ \\|\\boldsymbol{v}\\| = 1 $). Além disto, eles aparecem na\n",
    "mesma ordem que seus autovalores correspondentes.\n",
    "\n",
    "Autovalores e autovetores são dois conceitos centrais em Álgebra\n",
    "Linear. Algumas de suas propriedades mais importantes incluem:\n",
    "\n",
    "* O _determinante_ de uma matriz é igual ao produto de seus autovalores.\n",
    "* O _traço_ de uma matriz (soma dos elementos diagonais) é igual à soma de seus autovalores.\n",
    "* Uma matriz é _invertível_ se e somente se todos os seus autovalores são não-nulos.\n",
    "* _Matrizes semelhantes_ têm os mesmos autovalores."
   ]
  },
  {
   "cell_type": "markdown",
   "metadata": {},
   "source": [
    "__Exercício:__ Lembre-se que qualquer matriz _simétrica_ real $ S $ $ n \\times n $ pode\n",
    "ser diagonalizada sobre $ \\mathbb R $ , e que podemos encontrar uma base para $ \\mathbb\n",
    "R^n $ consistindo de autovetores ortogonais de $ S $. Verifique que a matriz\n",
    "abaixo tem um conjunto completo de autovalores e que seus autovetores são de fato\n",
    "ortogonais."
   ]
  },
  {
   "cell_type": "code",
   "execution_count": null,
   "metadata": {},
   "outputs": [],
   "source": [
    "S = np.array([[2, -1, 0],\n",
    "              [-1, 2, -1],\n",
    "              [0, -1, 2]])"
   ]
  },
  {
   "cell_type": "markdown",
   "metadata": {},
   "source": [
    "📝 A função `linalg.eigh` é especificamente projetada para calcular os\n",
    "autovalores e autovetores de uma matriz simétrica ou hermitiana. (Uma matriz\n",
    "_hermitiana_ é uma matriz complexa igual à sua transposta conjugada; ou seja,\n",
    "intuitivamente, é a versão complexa de uma matriz real simétrica.)\n",
    "Ela é mais eficiente que o `linalg.eig` geral e garante autovalores reais."
   ]
  },
  {
   "cell_type": "markdown",
   "metadata": {},
   "source": [
    "__Exercício:__ Refaça o exercício anterior usando `eigh` em vez de `eig`. Você\n",
    "obtém os mesmos resultados? Se não, eles podem ser reconciliados (ou seja, você pode explicar as discrepâncias)?"
   ]
  },
  {
   "cell_type": "code",
   "execution_count": null,
   "metadata": {},
   "outputs": [],
   "source": []
  },
  {
   "cell_type": "markdown",
   "metadata": {},
   "source": [
    "Se precisarmos apenas dos autovalores, podemos usar `linalg.eigvals` (ou `linalg.eigvalsh` para matrizes simétricas).\n",
    "Por exemplo, a matriz\n",
    "$$\n",
    "R = \\begin{bmatrix}\n",
    "0 & -1 \\\\\n",
    "1 & 0\n",
    "\\end{bmatrix}\n",
    "$$\n",
    "corresponde a uma rotação no sentido anti-horário de $ \\mathbb{R}^2 $ por $\n",
    "\\frac{\\pi}{2} $ radianos ($ 90 $ graus). Seus autovalores são $ \\pm i $, onde\n",
    "$ i $ é a unidade imaginária. Podemos verificar isso com a ajuda do NumPy (mas\n",
    "lembre-se que em Python, a unidade imaginária é denotada por `j`)."
   ]
  },
  {
   "cell_type": "code",
   "execution_count": null,
   "metadata": {},
   "outputs": [],
   "source": [
    "R = np.array([[0, -1],\n",
    "              [1, 0]])\n",
    "\n",
    "print(np.linalg.eigvals(R))"
   ]
  },
  {
   "cell_type": "markdown",
   "metadata": {},
   "source": [
    "__Exercício (Cadeias de Markov):__\n",
    "Uma _cadeia de Markov_ é um sistema matemático que sofre transições de um\n",
    "estado para outro de acordo com certas regras probabilísticas. Em uma cadeia de Markov,\n",
    "a distribuição de probabilidade do próximo estado depende apenas do estado atual.\n",
    "A _distribuição estacionária_ é a proporção de tempo a longo prazo que a\n",
    "cadeia de Markov passa em cada estado, independentemente do estado inicial. \n",
    "\n",
    "Considere uma cadeia de Markov simples representando transições entre\n",
    "três estados climáticos: ensolarado, nublado e chuvoso, ou estados $ 0 $, $ 1 $ e $ 2\n",
    "$, respectivamente. A _matriz de transição_ $ P $ é dada por\n",
    "$$\n",
    "P = \\begin{bmatrix}\n",
    "0.7 & 0.2 & 0.1 \\\\\n",
    "0.3 & 0.4 & 0.3 \\\\\n",
    "0.2 & 0.3 & 0.5\n",
    "\\end{bmatrix}\n",
    "$$\n",
    "onde a entrada $ P_{ij} $ representa a probabilidade de transição do estado $\n",
    "i $ para o estado $ j $.\n",
    "\n",
    "(a) Encontre os autovalores e autovetores de $ P^T $ (a transposta de $ P $).\n",
    "\n",
    "(b) Use o autovetor de $ P^T $ correspondente ao autovalor $ 1 $ para\n",
    "determinar a distribuição de probabilidade de longo prazo $ \\boldsymbol{s} $ dos estados\n",
    "climáticos (ou seja, a distribuição estacionária). Para isto você deve\n",
    "multiplicar este autovetor por um escalar de modo que a _soma das coordenadas_ se\n",
    "torne $ 1 $.\n",
    "\n",
    "(c) Verifique sua resposta elevando a matriz de transição $ P $ a uma alta potência\n",
    "$ n $: pode-se mostrar que à medida que $ n \\to \\infty $, cada linha de $ P^n $ converge\n",
    "para $ \\boldsymbol{s} $."
   ]
  },
  {
   "cell_type": "code",
   "execution_count": null,
   "metadata": {},
   "outputs": [],
   "source": [
    "P = np.array([\n",
    "    [0.7, 0.2, 0.1],  # Ensolarado -> Ensolarado, Nublado, Chuvoso\n",
    "    [0.3, 0.4, 0.3],  # Nublado -> Ensolarado, Nublado, Chuvoso\n",
    "    [0.2, 0.3, 0.5]   # Chuvoso -> Ensolarado, Nublado, Chuvoso\n",
    "])"
   ]
  },
  {
   "cell_type": "markdown",
   "metadata": {},
   "source": [
    "## $ \\S 4 $ SciPy para Resolver Equações\n",
    "\n",
    "__SciPy__ é uma biblioteca construída sobre o NumPy que fornece extensa\n",
    "funcionalidade para computação científica. É um dos pacotes mais importantes\n",
    "no mundo Python. Devido ao seu amplo escopo, não podemos esperar cobri-lo em\n",
    "detalhes aqui. Em vez disso, vamos nos concentrar em apresentar as ferramentas\n",
    "básicas para resolver equações gerais (não-lineares) e problemas de otimização.\n",
    "\n",
    "### $ 4.1 $ Módulo de álgebra linear do SciPy\n",
    "\n",
    "O SciPy tem um módulo `linalg` que se sobrepõe substancialmente ao do NumPy, mas\n",
    "também fornece rotinas de álgebra linear mais avançadas, incluindo\n",
    "solucionadores especializados para vários tipos de matrizes (simétrica, em banda,\n",
    "triangular, etc.) e solucionadores diretos para sistemas densos e esparsos. \n",
    "\n",
    "Vejamos através de um exemplo simples como o NumPy e o SciPy podem\n",
    "resolver sistemas lineares:"
   ]
  },
  {
   "cell_type": "code",
   "execution_count": null,
   "metadata": {},
   "outputs": [],
   "source": [
    "A = np.array([[4, 2, 1],\n",
    "              [2, 5, 3],\n",
    "              [1, 3, 6]])\n",
    "b = np.array([7, 10, 8])\n",
    "\n",
    "# Solução NumPy:\n",
    "x_np = np.linalg.solve(A, b)\n",
    "print(\"Solução NumPy:\")\n",
    "print(x_np)\n",
    "\n",
    "# Solução SciPy:\n",
    "x_sp = spla.solve(A, b)\n",
    "print(\"\\nSolução SciPy:\")\n",
    "print(x_sp)"
   ]
  },
  {
   "cell_type": "markdown",
   "metadata": {},
   "source": [
    "### $ 4.2 $ Resolvendo uma única equação não-linear\n",
    "\n",
    "O módulo `optimize` do SciPy fornece funções para resolver equações não-lineares.\n",
    "Para uma única variável, podemos usar `optimize.root_scalar` para encontrar uma raiz (zero)\n",
    "de uma função. Para que `root_scalar` faça seu trabalho, devemos fornecer ou um\n",
    "__intervalo de delimitação__ $ [a, b] $, ou seja, um intervalo dentro do domínio\n",
    "da função tal que $ f(a) $ e $ f(b) $ tenham sinais\n",
    "opostos, ou uma estimativa inicial $ x_0 $ para uma raiz mais alguns parâmetros opcionais.\n",
    "\n",
    "Por exemplo, considere o problema de localizar uma raiz do polinômio cúbico\n",
    "$$\n",
    "f(x) = x^3 - 2x^2 + 4x - 8\\,.\n",
    "$$\n",
    "Verificamos facilmente que\n",
    "$$\n",
    "f(1) = 1 -2 + 4 - 8 < 0 \\qquad \\text{enquanto} \\qquad f(3) = 27 - 18 + 12 - 8 > 0\n",
    "$$\n",
    "Logo, pelo teorema do valor intermediário, deve existir uma raiz de $ f $ dentro\n",
    "de $ [1, 3] $. Vamos verificar isso:"
   ]
  },
  {
   "cell_type": "code",
   "execution_count": 3,
   "metadata": {},
   "outputs": [
    {
     "name": "stdout",
     "output_type": "stream",
     "text": [
      "Raiz encontrada:\n",
      "2.0\n",
      "Valor da função na raiz:\n",
      "-0.0\n"
     ]
    }
   ],
   "source": [
    "f = lambda x: x**3 - 2*x**2 + 4*x - 8  # definindo f\n",
    "\n",
    "# Usando root_scalar com método de bracket:\n",
    "solucao = spo.root_scalar(f, bracket=[1, 3], method='brentq')\n",
    "print(\"Raiz encontrada:\")\n",
    "print(round(solucao.root, 4))\n",
    "print(\"Valor da função na raiz:\")\n",
    "print(round(f(solucao.root), 4))"
   ]
  },
  {
   "cell_type": "markdown",
   "metadata": {},
   "source": [
    "O valor de retorno de `root_scalar` contém outras informações úteis além do\n",
    "valor da raiz:"
   ]
  },
  {
   "cell_type": "code",
   "execution_count": 4,
   "metadata": {},
   "outputs": [
    {
     "name": "stdout",
     "output_type": "stream",
     "text": [
      "      converged: True\n",
      "           flag: converged\n",
      " function_calls: 10\n",
      "     iterations: 9\n",
      "           root: 1.9999999999999687\n",
      "         method: brentq\n"
     ]
    }
   ],
   "source": [
    "print(solucao)"
   ]
  },
  {
   "cell_type": "markdown",
   "metadata": {},
   "source": [
    "Vamos verificar a resposta plotando o gráfico de $ f $:"
   ]
  },
  {
   "cell_type": "code",
   "execution_count": 5,
   "metadata": {},
   "outputs": [
    {
     "data": {
      "image/png": "[encoded data removed]",
      "text/plain": [
       "<Figure size 800x500 with 1 Axes>"
      ]
     },
     "metadata": {},
     "output_type": "display_data"
    }
   ],
   "source": [
    "xs = np.linspace(0, 3, 1000)\n",
    "ys = f(xs)\n",
    "\n",
    "fig, ax = plt.subplots(figsize=(8, 5))\n",
    "ax.plot(xs, ys)\n",
    "ax.axhline(y=0, color='k', linestyle='--', alpha=0.3)\n",
    "ax.grid(linestyle=\"--\", alpha=0.3)\n",
    "ax.plot(solucao.root, 0, 'ro', markersize=6)\n",
    "ax.set_xlabel(\"$ x $\")\n",
    "ax.set_ylabel(\"$ f(x) $\")\n",
    "ax.set_title(\"Encontrar uma raiz de $ f(x) = x^3 - 2 x^2 + 4 x - 8 $\")\n",
    "plt.show()"
   ]
  },
  {
   "cell_type": "markdown",
   "metadata": {},
   "source": [
    "📝 `root_scalar` não encontra todas as raízes, encontra apenas uma única raiz próxima a uma estimativa\n",
    "inicial ou dentro de um intervalo especificado."
   ]
  },
  {
   "cell_type": "markdown",
   "metadata": {},
   "source": [
    "__Exercício:__ Resolva a seguinte equação não-linear usando `root_scalar` e um\n",
    "intervalo de delimitação.\n",
    "$$ e^x - 5x = 2 $$\n",
    "Faça um gráfico da função que você usou para encontrar uma raiz e marque a solução."
   ]
  },
  {
   "cell_type": "code",
   "execution_count": null,
   "metadata": {},
   "outputs": [],
   "source": []
  },
  {
   "cell_type": "markdown",
   "metadata": {},
   "source": [
    "Para usar `root_scalar` com uma estimativa, também precisamos especificar um método que não\n",
    "requeira delimitação, como o método de Newton ou o método da secante. Veja\n",
    "como fazer isso:"
   ]
  },
  {
   "cell_type": "code",
   "execution_count": null,
   "metadata": {},
   "outputs": [],
   "source": [
    "f = lambda x: x**2 - 4\n",
    "\n",
    "# Use root_scalar com uma estimativa:\n",
    "resultado = spo.root_scalar(f, \n",
    "                         x0=1.0,           # Estimativa inicial\n",
    "                         method=\"newton\")  # Método que usa uma estimativa\n",
    "\n",
    "print(f\"Raiz: {round(resultado.root, 4)}\")\n",
    "print(f\"Valor da função na raiz: {round(f(resultado.root), 4)}\")"
   ]
  },
  {
   "cell_type": "markdown",
   "metadata": {},
   "source": [
    "__Exercício:__ O que acontece se você tentar encontrar uma raiz de $ g(x) = x^2 + 1 $?\n",
    "Certifique-se de exibir as informações completas sobre a solução, não apenas seu valor."
   ]
  },
  {
   "cell_type": "code",
   "execution_count": 6,
   "metadata": {},
   "outputs": [
    {
     "name": "stdout",
     "output_type": "stream",
     "text": [
      "Raiz: -1.5399\n",
      "Valor da função na raiz: 6.3714\n"
     ]
    },
    {
     "data": {
      "text/plain": [
       "      converged: False\n",
       "           flag: convergence error\n",
       " function_calls: 100\n",
       "     iterations: 50\n",
       "           root: -1.5399419490670345\n",
       "         method: newton"
      ]
     },
     "execution_count": 6,
     "metadata": {},
     "output_type": "execute_result"
    }
   ],
   "source": [
    "f = lambda x: x**2 + 4\n",
    "\n",
    "# Use root_scalar com uma estimativa:\n",
    "resultado = spo.root_scalar(f, \n",
    "                            x0=1.0,           # Estimativa inicial\n",
    "                             method='newton')  # Método que usa uma estimativa\n",
    "\n",
    "print(f\"Raiz: {round(resultado.root, 4)}\")\n",
    "print(f\"Valor da função na raiz: {round(f(resultado.root), 4)}\")\n",
    "resultado"
   ]
  },
  {
   "cell_type": "markdown",
   "metadata": {},
   "source": [
    "### $ 4.3 $ Encontrando raízes de polinômios\n",
    "\n",
    "Polinômios têm propriedades especiais que permitem algoritmos de busca de raízes mais eficientes e precisos. Dado um polinômio\n",
    "$$\n",
    "p(x) = a_n x^n + a_{n-1} x^{n-1} + \\cdots + a_1 x + a_0\\,,\n",
    "$$\n",
    "podemos encontrar todas as suas raízes usando a função `roots` do NumPy, que recebe um\n",
    "array de coeficientes $ [a_n, a_{n-1}, \\ldots, a_1, a_0] $ como entrada. Como\n",
    "ilustração, considere o problema de encontrar as raízes de\n",
    "$$\n",
    "p(x) = x^3 - 2x^2 - 5x + 6\n",
    "$$"
   ]
  },
  {
   "cell_type": "code",
   "execution_count": null,
   "metadata": {},
   "outputs": [],
   "source": [
    "coefs = np.array([1, -2, -5, 6])  # coeficientes, do maior para o menor grau\n",
    "raizes = np.roots(coefs)\n",
    "print(\"Raízes do polinômio:\", raizes)"
   ]
  },
  {
   "cell_type": "markdown",
   "metadata": {},
   "source": [
    "__Exercício:__ Verifique que estas são de fato todas as raízes de $ p $."
   ]
  },
  {
   "cell_type": "code",
   "execution_count": null,
   "metadata": {},
   "outputs": [],
   "source": []
  },
  {
   "cell_type": "markdown",
   "metadata": {},
   "source": [
    "__Exercício:__ Determine todas as raízes de\n",
    "$$\n",
    "q(x) = x^4 - 17x^3 + 101x^2 - 247x + 210\\,.\n",
    "$$\n",
    "Verifique que de fato $ q $ se anula em todas elas."
   ]
  },
  {
   "cell_type": "code",
   "execution_count": null,
   "metadata": {},
   "outputs": [],
   "source": []
  },
  {
   "cell_type": "markdown",
   "metadata": {},
   "source": [
    "### $ 4.4 $ Resolvendo um sistema de equações não-lineares\n",
    "\n",
    "Considere o\n",
    "problema de encontrar a interseção entre o círculo centrado em\n",
    "$ \\big(1, \\frac{1}{2}\\big) $ com raio de $ 1 $ e o gráfico da curva\n",
    "senoidal. Em outras palavras, queremos resolver o sistema de equações (não-linear)\n",
    "$$\n",
    "\\begin{cases}\n",
    "\\ (x - 1)^2 + (y - 0.5)^2 = 1 \\\\\n",
    "\\ \\,y = \\sin x\n",
    "\\end{cases}\n",
    "$$\n",
    "Vamos fazer um gráfico da situação:"
   ]
  },
  {
   "cell_type": "code",
   "execution_count": 7,
   "metadata": {},
   "outputs": [
    {
     "data": {
      "image/png": "[encoded data removed]",
      "text/plain": [
       "<Figure size 800x500 with 1 Axes>"
      ]
     },
     "metadata": {},
     "output_type": "display_data"
    }
   ],
   "source": [
    "fig, ax = plt.subplots(figsize=(8, 5))\n",
    "\n",
    "# Plotar a curva senoidal:\n",
    "xs = np.linspace(-1, 3, 1000)\n",
    "ax.plot(xs, np.sin(xs), \"r-\", label=\"Seno: $ y = \\\\operatorname{sen}(x) $\")\n",
    "# Plotar o círculo:\n",
    "theta = np.linspace(0, 2 * np.pi, 100)\n",
    "circle_xs = 1 + np.cos(theta)\n",
    "circle_ys = 0.5 + np.sin(theta)\n",
    "ax.plot(circle_xs, circle_ys, \"b-\", label=\"Círculo: $ (x-1)^2 + (y-0.5)^2 = 1 $\")\n",
    "\n",
    "ax.set_xlabel(\"$ x $\")\n",
    "ax.set_ylabel(\"$ y $\")\n",
    "ax.set_title(\"Interseção de um círculo e uma curva senoidal\")\n",
    "ax.grid(linestyle=\"--\", alpha=0.3)\n",
    "ax.axis(\"equal\")\n",
    "ax.legend()\n",
    "plt.show()"
   ]
  },
  {
   "cell_type": "markdown",
   "metadata": {},
   "source": [
    "Tais sistemas de equações podem ser resolvidos com `scipy.optimize.root` fornecendo\n",
    "uma estimativa inicial. Veja como podemos encontrar ambos os pontos de interseção:"
   ]
  },
  {
   "cell_type": "code",
   "execution_count": null,
   "metadata": {},
   "outputs": [],
   "source": [
    "# Definir o sistema de equações:\n",
    "def equations(vars):\n",
    "   x, y = vars\n",
    "   eq1 = (x - 1)**2 + (y - 0.5)**2 - 1  # Equação do círculo = 0\n",
    "   eq2 = y - np.sin(x)                  # Equação da curva senoidal = 0\n",
    "   return [eq1, eq2]\n",
    "\n",
    "# Encontrar interseções usando diferentes estimativas iniciais:\n",
    "initial_guesses = [\n",
    "   [0, 0],   # Estimativa para interseção à esquerda\n",
    "   [2, 1]    # Estimativa para interseção à direita\n",
    "]\n",
    "\n",
    "# Resolver para cada estimativa inicial:\n",
    "for i, guess in enumerate(initial_guesses):\n",
    "   solution = spo.root(equations, guess)\n",
    "   \n",
    "   print(f\"\\nSolução {i+1} (a partir da estimativa inicial {guess}):\")\n",
    "   print(f\"x, y = {np.round(solution.x, 2)}\")\n",
    "   print(\"Valores da função na solução:\")\n",
    "   print(f\"f(x,y) = {np.round(solution.fun, 2)}\")"
   ]
  },
  {
   "cell_type": "markdown",
   "metadata": {},
   "source": [
    "__Exercício:__ Encontre os pontos de interseção das curvas descritas pelas\n",
    "seguintes duas equações não-lineares. Visualize as curvas e seus\n",
    "pontos de interseção:\n",
    "$$\n",
    "\\begin{cases}\n",
    "\\ \\sin x + \\cos y = 0.5 \\\\\n",
    "\\ x^2 + y^2 = 1\n",
    "\\end{cases}\n",
    "$$"
   ]
  },
  {
   "cell_type": "code",
   "execution_count": null,
   "metadata": {},
   "outputs": [],
   "source": []
  },
  {
   "cell_type": "markdown",
   "metadata": {},
   "source": [
    "### $ 4.5 $ Problemas de otimização\n",
    "\n",
    "O módulo `optimize` também fornece funções para resolver problemas de otimização.\n",
    "Vamos examinar o problema de minimizar a função\n",
    "$$\n",
    "x^2 + y^2 + (x + y - 2)^2\\,.\n",
    "$$"
   ]
  },
  {
   "cell_type": "code",
   "execution_count": null,
   "metadata": {},
   "outputs": [],
   "source": [
    "# Definir a função a minimizar:\n",
    "f = lambda vars: vars[0]**2 + vars[1]**2 + (vars[0] + vars[1] - 2)**2\n",
    "\n",
    "# Estimativa inicial:\n",
    "x0 = [0, 0]\n",
    "\n",
    "# Minimizar a função:\n",
    "result = spo.minimize(f, x0, method=\"BFGS\")\n",
    "\n",
    "print(\"Mínimo encontrado em:\")\n",
    "print(result.x)\n",
    "print(\"\\nValor da função no mínimo:\")\n",
    "print(result.fun)\n",
    "print(\"\\nNúmero de iterações:\")\n",
    "print(result.nit)\n",
    "print(\"\\nMensagem de convergência:\")\n",
    "print(result.message)"
   ]
  },
  {
   "cell_type": "markdown",
   "metadata": {},
   "source": [
    "__Exercício:__ Verifique manualmente que $ (2/3, 2/3) $ é o único ponto crítico de\n",
    "$ f(x) $, e que este é de fato um mínimo global.\n",
    "\n",
    "Vamos verificar esta resposta visualmente plotando as curvas de nível de $ f $ e\n",
    "marcando o ponto mínimo encontrado pelo SciPy. (Focaremos em contornos e outros\n",
    "tipos de gráficos em um notebook futuro; por enquanto, você pode ignorar o código abaixo e\n",
    "concentrar-se no próprio gráfico.)"
   ]
  },
  {
   "cell_type": "code",
   "execution_count": null,
   "metadata": {},
   "outputs": [],
   "source": [
    "xs = np.linspace(-2, 2, 100)\n",
    "ys = np.linspace(-2, 2, 100)\n",
    "X, Y = np.meshgrid(xs, ys)\n",
    "Z = X**2 + Y**2 + (X + Y - 2)**2\n",
    "\n",
    "fig, ax = plt.subplots(figsize=(8, 5))\n",
    "contour = ax.contour(X, Y, Z, 20, cmap=\"viridis\")\n",
    "fig.colorbar(contour, ax=ax)\n",
    "ax.scatter(result.x[0], result.x[1], color=\"red\", s=100, marker=\"x\")\n",
    "ax.grid(True)\n",
    "ax.set_xlabel(\"x\")\n",
    "ax.set_ylabel(\"y\")\n",
    "ax.grid(linestyle=\"--\", alpha=0.3)\n",
    "ax.set_title(\"Gráfico de Contorno de $ x^2 + y^2 + (x + y - 2)^2 $\")\n",
    "plt.show()"
   ]
  },
  {
   "cell_type": "markdown",
   "metadata": {},
   "source": [
    "📝 Por padrão, `minimize` encontra um mínimo _local_, não necessariamente um mínimo\n",
    "_global_, próximo à sua estimativa inicial. Para encontrar máximos usando SciPy, você pode chamar\n",
    "`minimize` no negativo da sua função. \n",
    "\n",
    "__Exercício:__ Encontre um máximo (local) de \n",
    "$$\n",
    "f(x, y) = x\\sin(4x) + y\\sin(2y)\\,.\n",
    "$$\n",
    "Experimente com várias estimativas iniciais diferentes e verifique se os\n",
    "resultados mudam."
   ]
  },
  {
   "cell_type": "code",
   "execution_count": null,
   "metadata": {},
   "outputs": [],
   "source": []
  }
 ],
 "metadata": {
  "kernelspec": {
   "display_name": "base",
   "language": "python",
   "name": "python3"
  },
  "language_info": {
   "codemirror_mode": {
    "name": "ipython",
    "version": 3
   },
   "file_extension": ".py",
   "mimetype": "text/x-python",
   "name": "python",
   "nbconvert_exporter": "python",
   "pygments_lexer": "ipython3",
   "version": "3.12.4"
  }
 },
 "nbformat": 4,
 "nbformat_minor": 2
}
