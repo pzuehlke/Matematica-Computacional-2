{
 "cells": [
  {
   "cell_type": "markdown",
   "metadata": {},
   "source": [
    "# Introdução aos arrays NumPy\n",
    "\n",
    "## $ \\S 1 $ Motivação\n",
    "\n",
    "Suponha que desejamos representar vetores como $ \\mathbf{u}\n",
    "= (1, 2, 3) $ ou $ \\mathbf{v} = (-1, 0, 1) $ em Python. É natural pensar\n",
    "que listas ou tuplas podem ser uma boa escolha para esta tarefa."
   ]
  },
  {
   "cell_type": "code",
   "execution_count": null,
   "metadata": {},
   "outputs": [],
   "source": [
    "u = [1, 2, 3]   # Criar uma lista cujos elementos são 1, 2, 3\n",
    "v = [-1, 0, 1]"
   ]
  },
  {
   "cell_type": "markdown",
   "metadata": {},
   "source": [
    "No entanto, em algum momento provavelmente vamos querer não apenas armazenar, mas manipular\n",
    "esses vetores. Por exemplo, como podemos adicionar $ \\mathbf u $ e $ \\mathbf v $ ou\n",
    "pegar um múltiplo de $ \\mathbf v $? É razoável tentar o seguinte código:"
   ]
  },
  {
   "cell_type": "code",
   "execution_count": null,
   "metadata": {},
   "outputs": [],
   "source": [
    "s = u + v\n",
    "multiple = 3 * v\n",
    "\n",
    "print(s)\n",
    "print(multiple)"
   ]
  },
  {
   "cell_type": "markdown",
   "metadata": {},
   "source": [
    "Esses resultados inesperados podem ser explicados lembrando que tanto para listas quanto para\n",
    "tuplas (ou strings), o operador `+` denota _concatenação_, não adição; e\n",
    "consequentemente, `*` denota _repetição_, não multiplicação. Esse comportamento não é\n",
    "tão estranho se levarmos em conta que listas e tuplas são tipos sequenciais\n",
    "_genéricos_, capazes de conter objetos de tipos arbitrários, para os quais\n",
    "adição e multiplicação podem não fazer sentido."
   ]
  },
  {
   "cell_type": "markdown",
   "metadata": {},
   "source": [
    "__Exercício:__ O que acontece se você representar $ \\mathbf u $ e $ \\mathbf v $ como\n",
    "tuplas e tentar calcular a diferença $ \\mathbf u - \\mathbf v $? E se elas\n",
    "forem representadas como listas?"
   ]
  },
  {
   "cell_type": "code",
   "execution_count": null,
   "metadata": {},
   "outputs": [],
   "source": []
  },
  {
   "cell_type": "markdown",
   "metadata": {},
   "source": [
    "Vetores e matrizes são objetos fundamentais em engenharia, ciência\n",
    "e aprendizado de máquina. Portanto, existe uma clara necessidade de uma biblioteca que\n",
    "estenda o Python fornecendo maneiras eficientes de operar com esses objetos."
   ]
  },
  {
   "cell_type": "markdown",
   "metadata": {},
   "source": [
    "## $ \\S 2 $ Arrays\n",
    "\n",
    "<img src=\"NumPy.png\" width=\"105\" height=\"38\" alt=\"NumPy\">, que significa _Numerical Python_, é um pacote fundamental\n",
    "para computação científica em Python. É quase universalmente importado com o\n",
    "alias `np`, da seguinte forma:"
   ]
  },
  {
   "cell_type": "code",
   "execution_count": null,
   "metadata": {},
   "outputs": [],
   "source": [
    "import numpy as np"
   ]
  },
  {
   "cell_type": "markdown",
   "metadata": {},
   "source": [
    "Também poderíamos importar todos os objetos/funções do NumPy com:"
   ]
  },
  {
   "cell_type": "code",
   "execution_count": null,
   "metadata": {},
   "outputs": [],
   "source": [
    "from numpy import *"
   ]
  },
  {
   "cell_type": "markdown",
   "metadata": {},
   "source": [
    "Assim, evitaríamos ter que digitar o prefixo `np.` toda vez. No entanto,\n",
    "isso não é recomendado, pois pode levar a conflitos com nomes no Python puro\n",
    "(por exemplo, `max` e `min`) ou aqueles usados por outros módulos (como\n",
    "`exp` e `sqrt` do módulo Math)."
   ]
  },
  {
   "cell_type": "markdown",
   "metadata": {},
   "source": [
    "O recurso central do NumPy é uma nova estrutura de dados chamada **ndarray** (uma\n",
    "abreviação de array $n$-dimensional), ou simplesmente **array**. Um array é\n",
    "essencialmente uma tabela multidimensional. Por exemplo, um array $1$-dimensional é\n",
    "outra versão de uma lista; é apenas uma linha de dados. Um array $2$-dimensional pode ser\n",
    "visto como uma planilha ou matriz. E arrays $3$-dimensionais são pilhas de\n",
    "tabelas, por exemplo, tendo a forma de um cubo.\n",
    "\n",
    "Um ndarray é uma grade de valores _do mesmo tipo de dados_; em outras palavras, arrays\n",
    "devem ser **homogêneos**. Na maioria das aplicações, esse tipo de dados é numérico (ou seja,\n",
    "os elementos do array são todos inteiros ou todos números de ponto flutuante). No entanto,\n",
    "também é possível criar um array cujos elementos são booleanos ou strings,\n",
    "por exemplo.\n",
    "\n",
    "Um array $1$-dimensional numérico é semelhante a um vetor no sentido da\n",
    "Álgebra Linear, como na discussão no $ \\S 1 $. Arrays podem ser instanciados\n",
    "com a função `array`:"
   ]
  },
  {
   "cell_type": "code",
   "execution_count": null,
   "metadata": {},
   "outputs": [],
   "source": [
    "u = np.array([1, 2, 3])     # Chamando `array` na lista [1, 2, 3]\n",
    "print(u)\n",
    "print(f\"O tipo de um array como u é: {type(u)}\")"
   ]
  },
  {
   "cell_type": "markdown",
   "metadata": {},
   "source": [
    "Observe a ausência de vírgulas separando as entradas do array quando ele é exibido\n",
    "(em contraste com as listas).\n",
    "\n",
    "__Exercício:__ Imprima a lista `primes = [2, 3, 5, 7]` e seu tipo. Em seguida, gere\n",
    "um array `primes_arr` a partir desta lista e imprima-o, junto com seu tipo."
   ]
  },
  {
   "cell_type": "code",
   "execution_count": null,
   "metadata": {},
   "outputs": [],
   "source": []
  },
  {
   "cell_type": "markdown",
   "metadata": {},
   "source": [
    "__Exercício:__ Defina o vetor\n",
    "$ \\mathbf a = \\frac{1}{2} \\big(1, 1, 1, 1 \\big) \\in \\mathbb R^4 $ como um array NumPy.\n",
    "Qual é o comprimento (norma) de $ \\mathbf a $?"
   ]
  },
  {
   "cell_type": "code",
   "execution_count": null,
   "metadata": {},
   "outputs": [],
   "source": []
  },
  {
   "cell_type": "markdown",
   "metadata": {},
   "source": [
    "__Exercício:__ Imprima e determine os tipos dos seguintes arrays."
   ]
  },
  {
   "cell_type": "code",
   "execution_count": null,
   "metadata": {},
   "outputs": [],
   "source": [
    "b = np.array([True, False, True, False])\n",
    "s = np.array(list(\"test\"))"
   ]
  },
  {
   "cell_type": "markdown",
   "metadata": {},
   "source": [
    "📝 Recapitulando, `ndarray` é o nome oficial do tipo de dados fornecido pelo NumPy, e `array` é tanto\n",
    "o nome informal deste tipo de dados quanto o nome da função que podemos usar\n",
    "para criar ndarrays.\n",
    "\n",
    "O argumento da função `array` pode ser uma lista, uma tupla, um range, outro\n",
    "array ou qualquer objeto semelhante a um array."
   ]
  },
  {
   "cell_type": "code",
   "execution_count": null,
   "metadata": {},
   "outputs": [],
   "source": [
    "v = np.array((-1, 0, 1))    # O argumento de `array` também pode ser uma tupla\n",
    "print(v)"
   ]
  },
  {
   "cell_type": "markdown",
   "metadata": {},
   "source": [
    "__Exercício:__ É possível converter uma string como \"hello\" diretamente para um array de caracteres com `array`? Tente isso abaixo."
   ]
  },
  {
   "cell_type": "code",
   "execution_count": null,
   "metadata": {},
   "outputs": [],
   "source": []
  },
  {
   "cell_type": "markdown",
   "metadata": {},
   "source": [
    "Observe que o tipo de um array como um todo é sempre o mesmo (`numpy.ndarray`)\n",
    "e não deve ser confundido com seu __tipo de dados__, que é o tipo dos\n",
    "_elementos_ que ele contém. Podemos determinar o tipo de dados de um array $ \\mathbf a $ através de `a.dtype`:"
   ]
  },
  {
   "cell_type": "code",
   "execution_count": null,
   "metadata": {},
   "outputs": [],
   "source": [
    "v.dtype"
   ]
  },
  {
   "cell_type": "markdown",
   "metadata": {},
   "source": [
    "Como podemos ver, o array $ \\mathbf v = (-1, 0, 1) $ definido acima contém inteiros de $ 64 $ bits.\n",
    "\n",
    "__Exercício:__ Determine o tipo de dados dos arrays $ \\mathbf b $ e\n",
    "$ \\mathbf c $ definidos abaixo."
   ]
  },
  {
   "cell_type": "code",
   "execution_count": null,
   "metadata": {},
   "outputs": [],
   "source": [
    "b = np.array([True, False, True, False])\n",
    "c = np.array((1, 2, 3.))"
   ]
  },
  {
   "cell_type": "markdown",
   "metadata": {},
   "source": [
    "Também podemos converter uma lista, tupla ou range _existente_ em um\n",
    "array:"
   ]
  },
  {
   "cell_type": "code",
   "execution_count": null,
   "metadata": {},
   "outputs": [],
   "source": [
    "odds = range(1, 11, 2)  # Criar um range contendo números ímpares de 1 a 9\n",
    "print(np.array(odds))   # Criar um array a partir de `odds` e imprimi-lo"
   ]
  },
  {
   "cell_type": "markdown",
   "metadata": {},
   "source": [
    "## $ \\S 3 $ Arrays multidimensionais\n",
    "\n",
    "O número de dimensões de um array também é chamado de seu\n",
    "**posto** (inglês: _rank_). Um array $ 2 $-dimensional, ou array de posto $ 2 $ pode ser visto\n",
    "como uma tabela ou matriz. "
   ]
  },
  {
   "cell_type": "code",
   "execution_count": null,
   "metadata": {},
   "outputs": [],
   "source": [
    "A = np.array([[1, 1, 1, 1],   # primeira linha da matriz A\n",
    "              [2, 2, 2, 2],   # segunda linha\n",
    "              [3, 3, 3, 3]])  # terceira linha\n",
    "print(A)\n",
    "print(type(A))  # Imprimir o tipo do objeto A"
   ]
  },
  {
   "cell_type": "markdown",
   "metadata": {},
   "source": [
    "Observe o uso de colchetes _duplos_ aqui: o primeiro colchete de abertura `[` serve\n",
    "para delimitar o próprio array, enquanto o segundo está sendo usado para delimitar os elementos\n",
    "da primeira linha. As linhas são separadas por vírgulas, assim como os elementos dentro de cada linha.\n",
    "\n",
    "📝 No código do exemplo anterior, cada linha da matriz aparece\n",
    "separadamente em uma linha para melhorar a legibilidade, mas os caracteres de nova linha não\n",
    "delimitam as linhas (as vírgulas e colchetes fazem isso).\n",
    "Portanto, o seguinte produz o mesmo resultado:"
   ]
  },
  {
   "cell_type": "code",
   "execution_count": null,
   "metadata": {},
   "outputs": [],
   "source": [
    "A = np.array([[1, 1, 1, 1], [2, 2, 2, 2], [3, 3, 3, 3]])\n",
    "print(A)"
   ]
  },
  {
   "cell_type": "markdown",
   "metadata": {},
   "source": [
    "__Exercício:__ Crie e exiba a matriz\n",
    "$$\n",
    "    T = \\begin{bmatrix}\n",
    "    \\phantom{-}0 & \\phantom{-}1 & \\phantom{-}0 \\\\\n",
    "    -1 & \\phantom{-}0 & \\phantom{-}1 \\\\\n",
    "    \\phantom{-}0 & -1 & \\phantom{-}0\n",
    "    \\end{bmatrix}\n",
    "$$"
   ]
  },
  {
   "cell_type": "code",
   "execution_count": null,
   "metadata": {},
   "outputs": [],
   "source": []
  },
  {
   "cell_type": "markdown",
   "metadata": {},
   "source": [
    "__Exercício:__ Crie um array $ 3\\times 3 $ para representar um tabuleiro de jogo da velha.\n",
    "Use a string `' '` (um espaço em branco) para uma célula vazia, e as strings\n",
    "`'X'` e `'O'` para as peças colocadas por cada um dos dois jogadores.\n",
    "Configure o tabuleiro para o seguinte estado de jogo:\n",
    "\n",
    "<img src=\"tic_tac_toe.png\" width=\"200\">"
   ]
  },
  {
   "cell_type": "code",
   "execution_count": null,
   "metadata": {},
   "outputs": [],
   "source": [
    "game_board = np.array(...)\n",
    "\n",
    "print(game_board)"
   ]
  },
  {
   "cell_type": "markdown",
   "metadata": {},
   "source": [
    "⚡ Arrays não precisam ser retangulares; eles também podem ser\n",
    "_irregulares_ (significando que as linhas podem ter comprimentos diferentes), como no exemplo\n",
    "abaixo. No entanto, arrays irregulares perdem muitos dos benefícios de desempenho do NumPy, que\n",
    "dependem de formas consistentes para eficiência."
   ]
  },
  {
   "cell_type": "code",
   "execution_count": null,
   "metadata": {},
   "outputs": [],
   "source": [
    "jagged = np.array([\n",
    "    [1, 2, 3],\n",
    "    [4, 5],\n",
    "    [6, 7, 8, 9]\n",
    "], dtype=object)\n",
    "print(jagged)"
   ]
  },
  {
   "cell_type": "markdown",
   "metadata": {},
   "source": [
    "Observe que este array está armazenando listas Python, em vez de um\n",
    "bloco contíguo de memória com inteiros."
   ]
  },
  {
   "cell_type": "markdown",
   "metadata": {},
   "source": [
    "A __forma__ de um array é uma _tupla_ de inteiros indicando o tamanho de cada uma de\n",
    "suas dimensões. O array $ A $ abaixo tem forma $ (3, 4) $ pois tem três\n",
    "linhas e quatro colunas."
   ]
  },
  {
   "cell_type": "code",
   "execution_count": null,
   "metadata": {},
   "outputs": [],
   "source": [
    "A = np.array([[42, 17, 99, 3], [-2, -3, -5, -7], [0, 0, 0, 0]])\n",
    "print(A)\n",
    "print(A.shape)  # Imprimir a forma de A"
   ]
  },
  {
   "cell_type": "markdown",
   "metadata": {},
   "source": [
    "__Exercício:__ Qual é a forma de um array unidimensional, por exemplo o\n",
    "array $ \\mathbf b $ abaixo? Você pode explicar o resultado de `b.shape` (por que há\n",
    "uma vírgula quando você o imprime)?"
   ]
  },
  {
   "cell_type": "code",
   "execution_count": null,
   "metadata": {},
   "outputs": [],
   "source": [
    "b = np.array([True, False, False, True, False])"
   ]
  },
  {
   "cell_type": "markdown",
   "metadata": {},
   "source": [
    "__Exercício:__ Como você criaria a matriz\n",
    "$$\n",
    "\\mathbf B = \\begin{equation*}\n",
    "\\left[ \\begin{array}{cc}\n",
    "b_{11} & b_{12} \\\\\n",
    "b_{21} & b_{22} \\\\\n",
    "b_{31} & b_{32} \\\\\n",
    "b_{41} & b_{42}\n",
    "\\end{array} \\right]\n",
    "\\end{equation*}\n",
    "$$\n",
    "onde $ b_{ij} = i \\cdot j $?"
   ]
  },
  {
   "cell_type": "code",
   "execution_count": null,
   "metadata": {},
   "outputs": [],
   "source": []
  },
  {
   "cell_type": "markdown",
   "metadata": {},
   "source": [
    "⚡ __Exercício:__ Lembre-se da matriz $ \\mathbf{B} = \\big(b_{ij}\\big) = (i \\cdot j) $ do\n",
    "exercício anterior. Use uma compreensão de lista dupla para gerar os $ b_{ij} $\n",
    "como uma lista de listas e depois converta isso para um array. _Dica:_ Você precisará de uma\n",
    "compreensão dupla, da forma `[[... for j in ...] for i in ...]`. "
   ]
  },
  {
   "cell_type": "code",
   "execution_count": null,
   "metadata": {},
   "outputs": [],
   "source": []
  },
  {
   "cell_type": "markdown",
   "metadata": {},
   "source": [
    "Um array $ 3D $ está para uma matriz assim como um bloco sólido está para um retângulo. Em outras palavras,\n",
    "um array de posto $ 3 $ é aquele que tem três eixos em vez de apenas dois.\n",
    "\n",
    "<img src=\"array_3D.png\" alt=\"drawing\" width=\"400\"/>\n",
    "\n",
    "__Exercício:__ Qual é o posto e a forma do array ilustrado acima?\n",
    "\n",
    "Aqui está um exemplo concreto de um array $ 3D $ de forma $ 2 \\times 2 \\times 2 $.\n",
    "Pense nele como um array com $ 2 $ \"hiper-linhas\",\n",
    "cada uma sendo uma matriz $ 2 \\times 2 $."
   ]
  },
  {
   "cell_type": "code",
   "execution_count": null,
   "metadata": {},
   "outputs": [],
   "source": [
    "A = np.array([[[1, 2],   # A primeira \"hiper-linha\" é uma matriz 2x2\n",
    "               [3, 4]], \n",
    "\n",
    "              [[5, 6],   # A segunda \"hiper-linha\" também é uma matriz 2x2\n",
    "               [7, 8]]])\n",
    "print(A)"
   ]
  },
  {
   "cell_type": "markdown",
   "metadata": {},
   "source": [
    "__Exercício:__ O que acontece se você excluir a linha em branco dentro da definição de $ A $ acima?\n",
    "O que acontece se você inserir uma linha em branco adicional?\n",
    "\n",
    "Observe que um array $ 3D $ não precisa ser um cubo (ou seja, ter as três dimensões\n",
    "do mesmo comprimento) como no exemplo anterior.\n",
    "\n",
    "__Exercício:__ Construa um array de posto três com forma $ (2, 3, 4) $. \n",
    "_Dica:_ Pense nisso como um par de matrizes $ 3 \\times 4 $."
   ]
  },
  {
   "cell_type": "code",
   "execution_count": null,
   "metadata": {},
   "outputs": [],
   "source": []
  },
  {
   "cell_type": "markdown",
   "metadata": {},
   "source": [
    "Não há limite para o número de dimensões que um array pode ter, embora\n",
    "para a maioria das aplicações, arrays de posto maior que $ 4 $ raramente são usados."
   ]
  },
  {
   "cell_type": "markdown",
   "metadata": {},
   "source": [
    "## $ \\S 4 $ Outras maneiras de criar arrays\n",
    "\n",
    "### $ 4.1 $ Preenchendo arrays automaticamente"
   ]
  },
  {
   "cell_type": "markdown",
   "metadata": {},
   "source": [
    "Existem outras formas de criar arrays que geralmente são mais convenientes do que usar a função `array`. Por exemplo,\n",
    "para instanciar um array de uma forma desejada preenchido com $ 0\\text{s} $, podemos usar a função `zeros`:"
   ]
  },
  {
   "cell_type": "code",
   "execution_count": null,
   "metadata": {},
   "outputs": [],
   "source": [
    "Z = np.zeros((2, 5))  # O argumento de `zeros` é a forma que você deseja\n",
    "print(Z)"
   ]
  },
  {
   "cell_type": "markdown",
   "metadata": {},
   "source": [
    "📝 Observe os parênteses duplos necessários nesta chamada. O par mais externo\n",
    "delimita os argumentos da função `array` e o par mais interno\n",
    "especifica a forma, que é sempre uma tupla. No entanto, há uma exceção para \n",
    "arrays $ 1D $. Se quisermos um vetor com, digamos, $ 10 $ coordenadas iguais a\n",
    "$ 0 $, então podemos usar `np.zeros((10,))` ou `np.zeros(10)`."
   ]
  },
  {
   "cell_type": "code",
   "execution_count": null,
   "metadata": {},
   "outputs": [],
   "source": [
    "origin = np.zeros(3)\n",
    "print(origin)"
   ]
  },
  {
   "cell_type": "markdown",
   "metadata": {},
   "source": [
    "Observe que, por padrão, o array resultante tem tipo de dados de ponto flutuante."
   ]
  },
  {
   "cell_type": "markdown",
   "metadata": {},
   "source": [
    "__Exercício:__ Crie e imprima um array $ 3D $ de forma $ (3, 4, 5) $ preenchido com zeros."
   ]
  },
  {
   "cell_type": "code",
   "execution_count": null,
   "metadata": {},
   "outputs": [],
   "source": []
  },
  {
   "cell_type": "markdown",
   "metadata": {},
   "source": [
    "Arrays também podem ser automaticamente preenchidos com $ 1\\text{s} $ por meio da função `ones`: "
   ]
  },
  {
   "cell_type": "code",
   "execution_count": null,
   "metadata": {},
   "outputs": [],
   "source": [
    "U = np.ones((2, 3))\n",
    "print(U)"
   ]
  },
  {
   "cell_type": "markdown",
   "metadata": {},
   "source": [
    "Generalizando `zeros` e `ones`, a função `full` cria um array de uma\n",
    "forma especificada, preenchido inteiramente com um valor prescrito:"
   ]
  },
  {
   "cell_type": "code",
   "execution_count": null,
   "metadata": {},
   "outputs": [],
   "source": [
    "# Criar um array 3x5 onde cada elemento é igual a 3.14:\n",
    "P = np.full((3, 5), 3.14)\n",
    "print(P)"
   ]
  },
  {
   "cell_type": "markdown",
   "metadata": {},
   "source": [
    "__Exercício:__ Crie um array $ 1D $ com $ 50 $ coordenadas, todas iguais a $ 1 $, de duas maneiras diferentes."
   ]
  },
  {
   "cell_type": "code",
   "execution_count": null,
   "metadata": {},
   "outputs": [],
   "source": []
  },
  {
   "cell_type": "markdown",
   "metadata": {},
   "source": [
    "Finalmente, podemos criar um novo array _da mesma forma e tipo de dados_ que um\n",
    "array $ A $ dado, mas preenchido com zeros, uns ou algum outro valor especificado com as\n",
    "funções `zeros_like`, `ones_like` e `full_like`, respectivamente:"
   ]
  },
  {
   "cell_type": "code",
   "execution_count": null,
   "metadata": {},
   "outputs": [],
   "source": [
    "A = np.array([[1, 2, 3],\n",
    "              [4, 5, 6]])\n",
    "\n",
    "Z = np.zeros_like(A)\n",
    "print(Z, '\\n')\n",
    "\n",
    "T = np.full_like(A, 3)\n",
    "print(T)"
   ]
  },
  {
   "cell_type": "markdown",
   "metadata": {},
   "source": [
    "### $ 4.2 $ Gerando sequências com `arange` e `linspace`"
   ]
  },
  {
   "cell_type": "markdown",
   "metadata": {},
   "source": [
    "A função `arange` é muito parecida com a função integrada `range` do Python, mas retorna um array:"
   ]
  },
  {
   "cell_type": "code",
   "execution_count": null,
   "metadata": {},
   "outputs": [],
   "source": [
    "digits = np.arange(10)\n",
    "print(type(digits), digits)\n"
   ]
  },
  {
   "cell_type": "markdown",
   "metadata": {},
   "source": [
    "A sintaxe completa é `arange(<início>, <fim>, <passo>)`. Observe que o valor inicial\n",
    "está incluído, mas o valor final não está (exatamente como no `range` normal)."
   ]
  },
  {
   "cell_type": "code",
   "execution_count": null,
   "metadata": {},
   "outputs": [],
   "source": [
    "y = np.arange(4, 10, 2)\n",
    "print(y)"
   ]
  },
  {
   "cell_type": "markdown",
   "metadata": {},
   "source": [
    "Uma vantagem do `arange` sobre o `range` é que _ele aceita argumentos do tipo float_. Por exemplo:"
   ]
  },
  {
   "cell_type": "code",
   "execution_count": null,
   "metadata": {},
   "outputs": [],
   "source": [
    "x = np.arange(0.1, 1, 0.1)\n",
    "print(x)"
   ]
  },
  {
   "cell_type": "markdown",
   "metadata": {},
   "source": [
    "No entanto, esse recurso deve ser usado com cautela, pois às vezes erros de arredondamento\n",
    "podem levar a resultados inesperados, como no seguinte exemplo:"
   ]
  },
  {
   "cell_type": "code",
   "execution_count": null,
   "metadata": {},
   "outputs": [],
   "source": [
    "print(np.arange(1, 1.3, 0.1))\n",
    "print(\"Observe que o valor 1.3 foi incluído!\")"
   ]
  },
  {
   "cell_type": "markdown",
   "metadata": {},
   "source": [
    "__Exercício:__ Para cada item, crie um array $ 1D $ contendo os elementos descritos:\n",
    "\n",
    "(a) A sequência de números pares entre $ 2 $ e $ 19 $.\n",
    "\n",
    "(b) Todos os inteiros de $ 10 $ até $ 1 $.\n",
    "\n",
    "(c) Todos os inteiros de $ 5 $ a $ 15 $ (inclusive), mas representados como\n",
    "números de ponto flutuante.\n",
    "\n",
    "\n",
    "(d) Todos os números de $ -3.14 $ a $ 2.86 = -3.14 + 6 $, com um passo de $ 2 $."
   ]
  },
  {
   "cell_type": "code",
   "execution_count": null,
   "metadata": {},
   "outputs": [],
   "source": []
  },
  {
   "cell_type": "markdown",
   "metadata": {},
   "source": [
    "Alternativamente, com `linspace` podemos construir um array contendo valores igualmente espaçados\n",
    "dentro de um intervalo especificado. A sintaxe é semelhante à do `arange`,\n",
    "exceto que _o valor final no segundo argumento está incluído_ no resultado, e\n",
    "_o terceiro argumento fornece o número de valores a serem gerados_, em vez do\n",
    "tamanho do passo:"
   ]
  },
  {
   "cell_type": "code",
   "execution_count": null,
   "metadata": {},
   "outputs": [],
   "source": [
    "z = np.linspace(0, 10, 11)\n",
    "print(z, '\\n')\n",
    "\n",
    "w = np.linspace(0, 10, 10)\n",
    "print(w)"
   ]
  },
  {
   "cell_type": "markdown",
   "metadata": {},
   "source": [
    "__Exercício:__ Dividindo o intervalo $ [0, 1] $ em três partes iguais, obtemos três subintervalos de comprimento $ \\frac{1}{3} $. Quantos pontos de subdivisão são necessários? Use `linspace` para obtê-los."
   ]
  },
  {
   "cell_type": "code",
   "execution_count": null,
   "metadata": {},
   "outputs": [],
   "source": []
  },
  {
   "cell_type": "markdown",
   "metadata": {},
   "source": [
    "__Exercício:__ Quantos intervalos limitados são determinados por $ n + 1 $ pontos igualmente espaçados em uma linha?"
   ]
  },
  {
   "cell_type": "markdown",
   "metadata": {},
   "source": [
    "Recapitulando, a sintaxe é `linspace(<início>, <fim (inclusive)>, <# \n",
    "elementos>)`. Podemos excluir o valor final em `linspace` para fazê-lo se comportar\n",
    "de forma mais semelhante ao `arange` usando `endpoint=False`:"
   ]
  },
  {
   "cell_type": "code",
   "execution_count": null,
   "metadata": {},
   "outputs": [],
   "source": [
    "print(np.linspace(0, 10, 10, endpoint=False))"
   ]
  },
  {
   "cell_type": "markdown",
   "metadata": {},
   "source": [
    "__Exercício:__ O que acontece com o resultado de `linspace` se o valor inicial for maior que o valor final? E se eles forem iguais? E se o terceiro argumento for zero ou negativo? "
   ]
  },
  {
   "cell_type": "code",
   "execution_count": null,
   "metadata": {},
   "outputs": [],
   "source": []
  },
  {
   "cell_type": "markdown",
   "metadata": {},
   "source": [
    "## $ \\S 5 $ Acessando e modificando elementos individuais de arrays"
   ]
  },
  {
   "cell_type": "markdown",
   "metadata": {},
   "source": [
    "Lembre-se que listas em Python são __mutáveis__, o que significa que podemos modificar\n",
    "elementos individuais de uma lista:"
   ]
  },
  {
   "cell_type": "code",
   "execution_count": null,
   "metadata": {},
   "outputs": [],
   "source": [
    "primes = [199, 1_999, 19_999]\n",
    "primes[2] = 19"
   ]
  },
  {
   "cell_type": "markdown",
   "metadata": {},
   "source": [
    "Em contraste, uma tupla é __imutável__. Ainda podemos acessar seus\n",
    "elementos através de `[]`, mas não podemos modificá-los:"
   ]
  },
  {
   "cell_type": "code",
   "execution_count": null,
   "metadata": {},
   "outputs": [],
   "source": [
    "fruits = ('🍎', '🍊', '🍍')\n",
    "print(fruits[0])"
   ]
  },
  {
   "cell_type": "code",
   "execution_count": null,
   "metadata": {},
   "outputs": [],
   "source": [
    "fruits[0] = '🍉'"
   ]
  },
  {
   "cell_type": "markdown",
   "metadata": {},
   "source": [
    "Arrays NumPy também são mutáveis, como listas. Considere o seguinte vetor $ \\mathbf{a} $:"
   ]
  },
  {
   "cell_type": "code",
   "execution_count": null,
   "metadata": {},
   "outputs": [],
   "source": [
    "a = np.array([1, 2, 3])\n",
    "print(a)"
   ]
  },
  {
   "cell_type": "markdown",
   "metadata": {},
   "source": [
    "Para acessar ou modificar o elemento $ 0 $-ésimo de $ \\mathbf a $ (lembre-se que sempre\n",
    "contamos a partir de $ 0 $ em Python), usamos a mesma sintaxe que usaríamos se fosse uma\n",
    "lista:"
   ]
  },
  {
   "cell_type": "code",
   "execution_count": null,
   "metadata": {},
   "outputs": [],
   "source": [
    "print(a[0])  # Acessar o elemento 0-ésimo de `a`\n",
    "a[0] = -1    # Modificar este elemento\n",
    "print(a)     # Imprimir o resultado"
   ]
  },
  {
   "cell_type": "markdown",
   "metadata": {},
   "source": [
    "Se estamos lidando com um array $ 2D $, usamos `[i, j]` para acessar sua entrada $ (i, j) $-ésima, ou seja, o elemento na linha $ i $ e coluna $ j $:"
   ]
  },
  {
   "cell_type": "code",
   "execution_count": null,
   "metadata": {},
   "outputs": [],
   "source": [
    "A = np.ones((2, 2))\n",
    "print(\"Antes das modificações:\")\n",
    "print(A, '\\n')\n",
    "\n",
    "A[0, 1] = 0\n",
    "A[1, 0] = 0 \n",
    "print(\"Depois das modificações:\")\n",
    "print(A)"
   ]
  },
  {
   "cell_type": "markdown",
   "metadata": {},
   "source": [
    "Em geral, ao lidar com um array $ n $-dimensional, use `[k_1, k_2, ..., k_n]` para acessar seu elemento com índices $ k_1, k_2, \\cdots, k_n $, respectivamente."
   ]
  },
  {
   "cell_type": "markdown",
   "metadata": {},
   "source": [
    "__Exercício:__ Construa um \"array identidade $ 3D $\" $ M $ de forma $ (5, 5, 5) $\n",
    "primeiro preenchendo-o com zeros, depois definindo todos os elementos com índices\n",
    "da forma $ (i, i, i) $ iguais a $ 1 $ das seguintes duas maneiras: \n",
    "\n",
    "(a) Usando um loop `for`.\n",
    "\n",
    "(b) Com a chamada única `fill_diagonal(M, 1)`."
   ]
  },
  {
   "cell_type": "code",
   "execution_count": null,
   "metadata": {},
   "outputs": [],
   "source": [
    "# Preencher M com zeros:\n",
    "# M = ...\n",
    "\n",
    "# Definir elementos diagonais iguais a 1:\n",
    "# ...\n",
    "\n",
    "# Imprimir o resultado:\n",
    "# print(M)\n"
   ]
  },
  {
   "cell_type": "markdown",
   "metadata": {},
   "source": [
    "## $ \\S 6 $ Outros recursos do NumPy\n",
    "\n",
    "Como veremos mais tarde, arrays são muito mais eficientes e convenientes para computação\n",
    "numérica do que os tipos de dados integrados do Python, como listas, tanto em memória quanto\n",
    "em custos computacionais. O NumPy é usado em análise de dados, aprendizado de máquina,\n",
    "engenharia e qualquer outro campo que requer computação numérica intensiva.\n",
    "Também serve como base para bibliotecas de nível superior\n",
    "como SciPy, pandas e scikit-learn. Outros recursos\n",
    "fornecidos pelo NumPy incluem (mas não se limitam a):\n",
    "* Operações estatísticas básicas;\n",
    "* Geração de números aleatórios a partir de várias distribuições de probabilidade;\n",
    "* Transformadas de Fourier e processamento de sinais;\n",
    "* Integração com vários tipos de bancos de dados e formatos de arquivos para importação/exportação de dados.\n",
    "\n",
    "Encontraremos e usaremos alguns desses em outros notebooks."
   ]
  }
 ],
 "metadata": {
  "kernelspec": {
   "display_name": "base",
   "language": "python",
   "name": "python3"
  },
  "language_info": {
   "codemirror_mode": {
    "name": "ipython",
    "version": 3
   },
   "file_extension": ".py",
   "mimetype": "text/x-python",
   "name": "python",
   "nbconvert_exporter": "python",
   "pygments_lexer": "ipython3",
   "version": "3.12.4"
  }
 },
 "nbformat": 4,
 "nbformat_minor": 2
}
