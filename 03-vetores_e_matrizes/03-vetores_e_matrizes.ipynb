{
 "cells": [
  {
   "cell_type": "code",
   "execution_count": 6,
   "metadata": {},
   "outputs": [],
   "source": [
    "import numpy as np"
   ]
  },
  {
   "cell_type": "markdown",
   "metadata": {},
   "source": [
    "# Álgebra Linear com NumPy\n",
    "\n",
    "Nos notebooks anteriores, exploramos arrays NumPy e suas operações básicas.\n",
    "Aqui, vamos nos concentrar nos comandos básicos do NumPy para fazer Álgebra Linear, que é\n",
    "talvez ainda mais importante que o Cálculo para muitas aplicações de engenharia,\n",
    "como análise estrutural, processamento de sinais, otimização e análise de\n",
    "circuitos, entre outros. Também é essencial para aprendizado de máquina e computação gráfica."
   ]
  },
  {
   "cell_type": "markdown",
   "metadata": {},
   "source": [
    "## $ \\S 1 $ Operações básicas com vetores\n",
    "\n",
    "### $ 1.1 $ Adição de vetores e multiplicação por escalar\n",
    "\n",
    "Vimos no notebook anterior que um vetor como $ (1, 2, 3) $\n",
    "pode ser representado no NumPy como um array $ 1D $:"
   ]
  },
  {
   "cell_type": "code",
   "execution_count": null,
   "metadata": {},
   "outputs": [],
   "source": [
    "v = np.array([1, 2, 3])\n",
    "w = np.array([4, 5, 6])"
   ]
  },
  {
   "cell_type": "markdown",
   "metadata": {},
   "source": [
    "Também podemos usar o NumPy para realizar todas as operações familiares com vetores.\n",
    "\n",
    "Dados os vetores $ \\mathbf v = (v_1, v_2, \\cdots, v_n) $ e $ \\mathbf w = (w_1,\n",
    "w_2, \\cdots, w_n) $ com o mesmo número de coordenadas, sua __soma__ e\n",
    "__diferença__ são calculadas elemento a elemento:\n",
    "$$\n",
    "\\begin{alignat*}{2}\n",
    "\\mathbf{v} + \\mathbf{w} &= (v_1 + w_1, v_2 + w_2, \\ldots, v_n + w_n) \\\\\n",
    "\\mathbf{v} - \\mathbf{w} &= (v_1 - w_1, v_2 - w_2, \\ldots, v_n - w_n)\n",
    "\\end{alignat*}\n",
    "$$\n",
    "O NumPy usa a mesma notação:"
   ]
  },
  {
   "cell_type": "code",
   "execution_count": null,
   "metadata": {},
   "outputs": [],
   "source": [
    "s = v + w\n",
    "print(s, type(s))\n",
    "\n",
    "d = v - w\n",
    "print(d, type(d))"
   ]
  },
  {
   "cell_type": "markdown",
   "metadata": {},
   "source": [
    "__Multiplicação por escalar__ de um vetor por um fator $ c \\in \\mathbb{R} $ também é definida\n",
    "elemento a elemento:\n",
    "$$\n",
    "c\\, \\mathbf v = (c\\,v_1, c\\,v_2, \\cdots, c\\,v_n)\\,.\n",
    "$$"
   ]
  },
  {
   "cell_type": "code",
   "execution_count": null,
   "metadata": {},
   "outputs": [],
   "source": [
    "print(2 * v)\n",
    "print(-3.14 * v)\n",
    "print(0 * v)"
   ]
  },
  {
   "cell_type": "markdown",
   "metadata": {},
   "source": [
    "Naturalmente, também podemos escrever $ -\\mathbf v $ em vez de $ (-1)\\mathbf v $. Tente no bloco de código abaixo:"
   ]
  },
  {
   "cell_type": "code",
   "execution_count": null,
   "metadata": {},
   "outputs": [],
   "source": []
  },
  {
   "cell_type": "markdown",
   "metadata": {},
   "source": [
    "Se operarmos em um array cujo tipo de dados é `int` e qualquer número de ponto flutuante está\n",
    "envolvido na operação, então o resultado será do tipo de dados `float`. Uma observação\n",
    "semelhante se aplica a qualquer outra coerção de tipo."
   ]
  },
  {
   "cell_type": "code",
   "execution_count": null,
   "metadata": {},
   "outputs": [],
   "source": [
    "# `v.dtype` retorna o tipo de dados dos elementos de v.\n",
    "# Estudaremos `dtype` com mais detalhes posteriormente.\n",
    "v = np.array([1, 2, 3])\n",
    "print(v, v.dtype)\n",
    "\n",
    "u = 1.0 * v\n",
    "print(u, u.dtype)"
   ]
  },
  {
   "cell_type": "markdown",
   "metadata": {},
   "source": [
    "__Exercício:__ Você consegue explicar a saída da célula seguinte?"
   ]
  },
  {
   "cell_type": "code",
   "execution_count": null,
   "metadata": {},
   "outputs": [],
   "source": [
    "x = np.array([-1, 0, 1, 3])\n",
    "b = np.array([True, False, True, False])\n",
    "\n",
    "x_plus_b = x + b\n",
    "print(x_plus_b, x_plus_b.dtype)"
   ]
  },
  {
   "cell_type": "markdown",
   "metadata": {},
   "source": [
    "### $ 1.2 $ Produtos escalares\n",
    "\n",
    "O __produto escalar__ $ \\mathbf v \\cdot \\mathbf w $ de dois vetores $ \\mathbf v =\n",
    "(w_1, w_2, \\cdots, w_n) $ e $ \\mathbf w  = (w_1, w_2, \\cdots, w_n) $ do\n",
    "mesmo formato é a soma dos produtos de suas coordenadas correspondentes:\n",
    "$$\n",
    "\\boxed{\\ \\mathbf v \\cdot \\mathbf w = \\sum_{i=1}^n v_i\\,w_i =  v_1w_1 + v_2w_2 + \\cdots + v_nw_n\\ } \n",
    "$$\n",
    "A função `dot` calcula produtos escalares:"
   ]
  },
  {
   "cell_type": "code",
   "execution_count": null,
   "metadata": {},
   "outputs": [],
   "source": [
    "a = np.array([1, 2, 3])\n",
    "b = np.array([1, 0, -1])\n",
    "\n",
    "dot_product = np.dot(a, b)\n",
    "print(dot_product)"
   ]
  },
  {
   "cell_type": "markdown",
   "metadata": {},
   "source": [
    "Equivalentemente, também podemos usar o operador `@`:"
   ]
  },
  {
   "cell_type": "code",
   "execution_count": null,
   "metadata": {},
   "outputs": [],
   "source": [
    "alternative_dot_product = a @ b\n",
    "print(alternative_dot_product)"
   ]
  },
  {
   "cell_type": "markdown",
   "metadata": {},
   "source": [
    "__Exercício:__ Calcule o produto escalar de $ \\mathbf{v} = (2, 3, -1) $ e\n",
    "$ \\mathbf{w} = (4, 0, 5) $ usando `dot` e `@`."
   ]
  },
  {
   "cell_type": "code",
   "execution_count": null,
   "metadata": {},
   "outputs": [],
   "source": []
  },
  {
   "cell_type": "markdown",
   "metadata": {},
   "source": [
    "É fácil verificar diretamente da definição que o produto escalar é:\n",
    "* simétrico, ou seja,\n",
    "    $$ \\mathbf v \\cdot \\mathbf w = \\mathbf w \\cdot \\mathbf v $$\n",
    "* bilinear, significando que \n",
    "\\begin{alignat*}{9}\n",
    "    (a\\, \\mathbf u + b\\,\\mathbf v) \\cdot \\mathbf w\n",
    "    &= a\\, (\\mathbf u \\cdot \\mathbf w) + b\\, (\\mathbf v \\cdot \\mathbf w) \\\\\n",
    "    \\mathbf u \\cdot (a\\,\\mathbf v + b\\,\\mathbf w) \n",
    "    &= a\\, (\\mathbf u \\cdot \\mathbf v) + b\\, (\\mathbf u \\cdot \\mathbf w)\\,.\n",
    "\\end{alignat*}\n",
    "\n",
    "Aqui $ \\mathbf u,\\,\\mathbf v,\\, \\mathbf w \\in \\mathbb R^n $ e $ a,\\,b \\in \\mathbb R\\, $ são arbitrários."
   ]
  },
  {
   "cell_type": "markdown",
   "metadata": {},
   "source": [
    "### $ 1.3 $ Norma de vetores\n",
    "\n",
    "A __norma__ ou __comprimento__ de um vetor\n",
    "$ \\mathbf v = (v_1, v_2, \\cdots, v_n) \\in \\mathbb R^n $ é definida por\n",
    "$$\n",
    "\\boxed{\\ \\Vert \\mathbf v \\Vert = \\sqrt{\\mathbf v \\cdot \\mathbf v} = \\sqrt{v_1^2 + v_2^2 + \\cdots + v_n^2}\\ } $$\n",
    "Na dimensão $ 2 $, esta definição de \"comprimento\" corresponde à nossa noção intuitiva e\n",
    "pode ser justificada por uma simples aplicação do teorema de Pitágoras, como ilustrado\n",
    "na figura abaixo. \n",
    "\n",
    "<img src=\"notebook_3_vector.png\" alt=\"Vector\" width=\"500px\">\n",
    "\n",
    "Em dimensões mais altas, poderíamos derivar de forma semelhante a fórmula para o comprimento usando\n",
    "o teorema de Pitágoras e indução. Por exemplo, a norma (comprimento) do vetor\n",
    "$ \\mathbf w = (1, -2, 3) \\in \\mathbb R^3 $ é\n",
    "$ \\Vert \\mathbf{w} \\Vert = \\sqrt{1^2 + (-2)^2 + 3^2} = \\sqrt{14} $.\n",
    "\n",
    "\n",
    "No NumPy, a norma de um vetor pode ser facilmente calculada com uma chamada à\n",
    "função `norm` do submódulo `linalg`:"
   ]
  },
  {
   "cell_type": "code",
   "execution_count": null,
   "metadata": {},
   "outputs": [],
   "source": [
    "v = np.array([3, 4])\n",
    "\n",
    "print(np.linalg.norm(v))\n",
    "\n",
    "# Alternativamente, podemos tirar a raiz quadrada do produto escalar:\n",
    "print(np.sqrt(v @ v))"
   ]
  },
  {
   "cell_type": "markdown",
   "metadata": {},
   "source": [
    "__Exercício:__ Verifique com a ajuda do NumPy que o comprimento de\n",
    "$ \\mathbf{u} = \\big(\\frac{1}{2}, \\frac{1}{2}, \\frac{1}{2}, \\frac{1}{2} \\big) \\in \\mathbb R^4 $\n",
    "é $ 1 $."
   ]
  },
  {
   "cell_type": "code",
   "execution_count": null,
   "metadata": {},
   "outputs": [],
   "source": []
  },
  {
   "cell_type": "markdown",
   "metadata": {},
   "source": [
    "⚡ Também podemos usar `norm` para calcular diferentes normas, por exemplo:\n",
    "$$\n",
    "\\begin{alignat*}{2}\n",
    "    \\|\\mathbf{v}\\|_1 &= \\sum_{i=1}^n |v_i| &\\quad& \\text{(norma $ L_1 $ para $\\mathbf{v} \\in \\mathbb{R}^n$)} \\\\\n",
    "    \\|\\mathbf{v}\\|_{\\infty} &= \\max_{1 \\leq i \\leq n} |v_i| && \\text{(norma $ L_\\infty$ para $\\mathbf{v} \\in \\mathbb{R}^n$)}\n",
    "\\end{alignat*}\n",
    "$$\n",
    "Nesta notação, a norma usual (Euclidiana) também é chamada de norma $ L_2 $."
   ]
  },
  {
   "cell_type": "markdown",
   "metadata": {},
   "source": [
    "__Exercício:__ Seja\n",
    "$ \\mathbf{u} = \\big(\\frac{1}{2}, \\frac{1}{2}, \\frac{1}{2}, \\frac{1}{2} \\big) \\in \\mathbb R^4 $.\n",
    "Calcule suas normas $ L_1 $ e $ L_\\infty $ fornecendo os argumentos adicionais\n",
    "`ord=1` e `ord=np.inf` para a função `norm`."
   ]
  },
  {
   "cell_type": "code",
   "execution_count": null,
   "metadata": {},
   "outputs": [],
   "source": [
    "norm_u_1 = # ...    # Norma L_1 (distância de Manhattan)\n",
    "norm_u_inf = # ...    # Norma L_infinito (valor absoluto máximo)\n",
    "\n",
    "print(f\"Norma L_1 de u = {norm_u_1}\")\n",
    "print(f\"Norma L_infinito de u = {norm_u_inf}\")"
   ]
  },
  {
   "cell_type": "markdown",
   "metadata": {},
   "source": [
    "### $ 1.4 $ A geometria dos produtos escalares\n",
    "\n",
    "Lembre-se que dois vetores são __ortogonais__ (ou __perpendiculares__) se e somente se\n",
    "seu produto escalar é zero. \n",
    "\n",
    "__Exercício:__ Determine se os dois vetores abaixo são ortogonais\n",
    "calculando seu produto escalar:"
   ]
  },
  {
   "cell_type": "code",
   "execution_count": null,
   "metadata": {},
   "outputs": [],
   "source": [
    "a = np.array([-3, 4, 7, 3, -6])\n",
    "b = np.array([2, 5, -2, 4, 2])"
   ]
  },
  {
   "cell_type": "markdown",
   "metadata": {},
   "source": [
    "De forma mais geral, lembre-se da Álgebra Linear a seguinte relação entre o produto escalar e\n",
    "o menor ângulo $ \\theta \\in [0, \\pi] $ entre dois vetores não nulos:\n",
    "$$\n",
    "\\boxed{\\ \\cos \\theta = \\frac{\\mathbf v \\cdot \\mathbf w}{\\Vert \\mathbf v \\Vert \\,\\Vert \\mathbf w \\Vert}\\ }\n",
    "$$\n",
    "                                                                                                    "
   ]
  },
  {
   "cell_type": "markdown",
   "metadata": {},
   "source": [
    "__Exercício:__ Calcule o ângulo entre os vetores $ \\mathbf v = (2, 0) $ e\n",
    "$ \\mathbf w = (3, 3) $ em graus. Verifique sua resposta com a figura abaixo.\n",
    "_Dica:_ Use `np.arccos` para calcular o arco cosseno e `np.degrees` para transformar\n",
    "o resultado em graus.\n"
   ]
  },
  {
   "cell_type": "code",
   "execution_count": null,
   "metadata": {},
   "outputs": [],
   "source": []
  },
  {
   "cell_type": "markdown",
   "metadata": {},
   "source": [
    "<img src=\"notebook_3_vectors_and_angle.png\" alt=\"Angle\" width=\"500px\">"
   ]
  },
  {
   "cell_type": "markdown",
   "metadata": {},
   "source": [
    "__Exercício:__ Considere os vetores $ \\mathbf a $ e $ \\mathbf b $ na \n",
    "figura abaixo. Projete $ \\mathbf b $ ortogonalmente na linha gerada\n",
    "por $ \\mathbf a $. Ou seja, calcule a projeção\n",
    "$$ \\boxed{\\ \\mathbf p = \\frac{\\mathbf b \\cdot \\mathbf a}{\\Vert \\mathbf{a} \\Vert^2}\\, \\mathbf a\n",
    "= \\frac{\\mathbf b \\cdot \\mathbf a}{\\mathbf a \\cdot \\mathbf a}\\, \\mathbf a\\ } $$"
   ]
  },
  {
   "cell_type": "markdown",
   "metadata": {},
   "source": [
    "<img src=\"notebook_3_projection.png\" alt=\"Projection\" width=\"400px\">"
   ]
  },
  {
   "cell_type": "code",
   "execution_count": null,
   "metadata": {},
   "outputs": [],
   "source": [
    "# a = ...\n",
    "# b = ...\n",
    "# p = ...\n",
    "print(p)"
   ]
  },
  {
   "cell_type": "markdown",
   "metadata": {},
   "source": [
    "Um __vetor unitário__ é um vetor de comprimento $ 1 $. Para obter um vetor unitário $ \\mathbf u $ tendo a mesma\n",
    "direção que um dado vetor não nulo $ \\mathbf v $, podemos simplesmente dividir este último por sua norma:\n",
    "$$\n",
    "    \\mathbf u = \\frac{\\mathbf v}{\\Vert \\mathbf v \\Vert}\\,.\n",
    "$$\n",
    "De fato, usando as propriedades do produto escalar e a definição da norma, podemos verificar diretamente que\n",
    "$$\n",
    "    \\mathbf u \\cdot \\mathbf u = \\bigg(\\frac{\\mathbf v}{\\Vert \\mathbf v \\Vert}\\bigg) \\cdot \\bigg(\\frac{\\mathbf v}{\\Vert \\mathbf v \\Vert}\\bigg)\n",
    "    = \\frac{{\\mathbf v \\cdot \\mathbf v}}{\\Vert \\mathbf v \\Vert^2} = 1\\,.\n",
    "$$"
   ]
  },
  {
   "cell_type": "markdown",
   "metadata": {},
   "source": [
    "__Exercício:__ Quantos vetores _unitários_ em $ \\mathbb{R}^3 $ são paralelos a $ \\mathbf v = (3, -4, 12) $ (ou seja, estão na mesma linha que passa pela origem como $ \\mathbf v $)? Calcule todos eles usando NumPy."
   ]
  },
  {
   "cell_type": "code",
   "execution_count": null,
   "metadata": {},
   "outputs": [],
   "source": [
    "v = np.array([3, -4, 12])"
   ]
  },
  {
   "cell_type": "markdown",
   "metadata": {},
   "source": [
    "__Exercício:__ A __base canônica__ em $ \\mathbb R^3 $ consiste nos três vetores\n",
    "$$ \\mathbf e_1 = (1, 0, 0)\\,, \\quad \\mathbf e_2 = (0, 1, 0)\\,, \\quad \\text{e} \\quad \\mathbf e_3 = (0, 0, 1) \\,,$$\n",
    "que têm norma $ 1 $ e apontam na mesma direção que os eixos positivos $ x $, $ y $ e $ z$, respectivamente.\n",
    "Calcule todos os produtos escalares possíveis $ \\mathbf e_i \\cdot \\mathbf e_j $.\n",
    "Armazene os produtos escalares em uma matriz $ 3 \\times 3 $ cuja entrada $ (i, j) $\n",
    "é igual a $ \\mathbf{e}_i \\cdot \\mathbf{e}_j $.\n",
    " _Dica:_ Armazene os vetores em uma lista e use dois loops for. "
   ]
  },
  {
   "cell_type": "code",
   "execution_count": null,
   "metadata": {},
   "outputs": [],
   "source": []
  },
  {
   "cell_type": "markdown",
   "metadata": {},
   "source": [
    "### $ 1.5 $ O produto vetorial\n",
    "\n",
    "O __produto vetorial__ $ \\mathbf v \\times \\mathbf w \\in \\mathbb R^3 $ de dois vetores _no\n",
    "espaço tridimensional_ resulta em um vetor que:\n",
    "1. é ortogonal a $ \\mathbf v $ e $ \\mathbf w $;\n",
    "2. tem comprimento dado por\n",
    "$$\n",
    "\\boxed{\\ \\Vert{\\mathbf v \\times \\mathbf w}\\Vert = \\Vert{\\mathbf v}\\Vert\\,\\Vert{\\mathbf w}\\Vert\\,\\sin \\theta\\ }\n",
    "$$\n",
    "onde novamente $ \\theta \\in [0, \\pi] $ denota o menor ângulo entre\n",
    "$ \\mathbf v $ e $ \\mathbf w $. Note que a expressão à direita\n",
    "coincide com a área do paralelogramo definido por $ \\mathbf{v} $ e $\n",
    "\\mathbf{w} $.\n",
    "\n",
    "O produto vetorial é unicamente determinado por essas duas propriedades junto com\n",
    "o fato de que:\n",
    "\n",
    "3. a base $ \\big(\\mathbf v,\\, \\mathbf w,\\, \\mathbf v \\times \\mathbf w \\big) $ é _positivamente orientada_ (ou seja, este\n",
    "trio de vetores, nesta ordem, satisfaz a \"regra da mão direita\").\n",
    "\n",
    "\n",
    "<img src=\"notebook_3_cross_product.png\" alt=\"Projection\" width=\"500px\">\n",
    "\n",
    "Como o produto escalar, o produto vetorial $ \\times $ também é bilinear, mas é\n",
    "antissimétrico em vez de simétrico:\n",
    "$$ \\mathbf w \\times \\mathbf v = -\\mathbf v \\times \\mathbf w \\quad (\\mathbf v,\\, \\mathbf w \\in \\mathbb R^3)\\,.\n",
    "$$\n",
    "Produtos vetoriais podem ser calculados no NumPy com a função `cross`."
   ]
  },
  {
   "cell_type": "markdown",
   "metadata": {},
   "source": [
    "__Exercício:__ Sejam $ \\mathbf{a} = (2, 1, 0) $ e $ \\mathbf{b} = (1, 2, 0) $. Use\n",
    "`cross` para verificar que:\n",
    "\n",
    "(a) $ \\mathbf{a} \\times \\mathbf{b} = (0, 0, 3) $.\n",
    "\n",
    "(b) $ \\mathbf{b} \\times \\mathbf{a} = - \\mathbf{a} \\times \\mathbf{b} $."
   ]
  },
  {
   "cell_type": "code",
   "execution_count": null,
   "metadata": {},
   "outputs": [],
   "source": []
  },
  {
   "cell_type": "markdown",
   "metadata": {},
   "source": [
    "## $ \\S 2 $ Operações básicas envolvendo matrizes\n",
    "\n",
    "### $ 2.1 $ Adição, subtração e multiplicação por escalar\n",
    "\n",
    "Lembre-se que matrizes são representadas no NumPy como arrays $ 2D $. Assim como para\n",
    "vetores, podemos __adicionar__ e __subtrair__ duas matrizes, ou mais genericamente quaisquer dois\n",
    "arrays tendo o mesmo formato, usando `+` e `-` respectivamente.\n",
    "A adição e subtração de matrizes são realizadas elemento a elemento: se $ A = (a_{ij}) $\n",
    "e $ B = (b_{ij}) $, então\n",
    "$$\n",
    "\\begin{align*}\n",
    "A + B &= (a_{ij} + b_{ij}) \\\\\n",
    "A - B &= (a_{ij} - b_{ij})\n",
    "\\end{align*}\n",
    "$$\n",
    "\n",
    "__Exercício:__ Calcule a soma e diferença das matrizes $ A $ e $ B $\n",
    "dadas abaixo:"
   ]
  },
  {
   "cell_type": "code",
   "execution_count": null,
   "metadata": {},
   "outputs": [],
   "source": [
    "A = np.array([[1, 2, 3],\n",
    "              [1, 2, 3]])\n",
    "\n",
    "B = np.array([[4, 4, 4],\n",
    "              [5, 5, 5]])\n",
    "\n",
    "# S = ... (soma)\n",
    "# D = ... (diferença)\n",
    "\n",
    "print(\"Matriz A:\\n\", A, '\\n')\n",
    "print(\"Matriz B:\\n\", B, '\\n')\n",
    "print(\"Soma:\\n\", S, '\\n')\n",
    "print(\"Diferença:\\n\", D, '\\n')"
   ]
  },
  {
   "cell_type": "markdown",
   "metadata": {},
   "source": [
    "Da mesma forma, para __escalar__ cada elemento de uma matriz (ou, mais genericamente, um array\n",
    "$n$-dimensional) $ A $ por um escalar $ c $, podemos usar `c * A` ou `A * c`.\n",
    "\n",
    "__Exercício:__  Calcule $ 2M $ multiplicando $ M $ por $ 2 $ tanto à direita\n",
    "quanto à esquerda, onde:"
   ]
  },
  {
   "cell_type": "code",
   "execution_count": null,
   "metadata": {},
   "outputs": [],
   "source": [
    "M = np.array([\n",
    "    [4, 7, 2],\n",
    "    [9, 1, 5]\n",
    "])\n",
    "c = 2\n",
    "\n",
    "# print(\"cM:\\n\", ... )\n",
    "# print(\"Mc:\\n\", ... )"
   ]
  },
  {
   "cell_type": "markdown",
   "metadata": {},
   "source": [
    "### $ 2.2 $ Multiplicação de matrizes\n",
    "\n",
    "\n",
    "A __multiplicação de matrizes__ é a operação mais fundamental na álgebra linear.\n",
    "Dadas as matrizes $ A $ de formato $ (m, n) $ e $ B $ de formato $ (n, p) $, seu\n",
    "produto $ C = A B $ é uma matriz de formato $ (m, p) $. A entrada $ (i, j) $ de\n",
    "$ C $, denotada por $ C_{ij} $, é o produto escalar da $ i $-ésima linha de $ A $ e da\n",
    "$ j $-ésima coluna de $ B $:\n",
    "$$\n",
    "\\boxed{\\ C_{ij} = (\\textbf{$ \\mathbf{i} $-ésima linha de $ \\mathbf{A} $}) \\cdot (\\textbf{$ \\mathbf{j} $-ésima coluna de $ \\mathbf{B} $})\n",
    "= \\sum_{k=1}^{n} A_{ik} B_{kj}\\ }\n",
    "$$\n",
    "Em particular, para que o produto de duas matrizes faça sentido, o número de\n",
    "colunas na primeira matriz deve coincidir com o número de linhas na segunda matriz.\n",
    "A multiplicação de matrizes não deve ser confundida com a multiplicação elemento a elemento,\n",
    "que é menos frequentemente necessária na Álgebra Linear.\n",
    "\n",
    "No NumPy, a multiplicação de matrizes pode ser realizada usando as funções `matmul` ou\n",
    "`dot`, ou o operador `@`. \n",
    "\n",
    "__Exercício:__ Calcule o produto $ AB $ das matrizes $ A $ e $ B $\n",
    "abaixo usando esses três métodos e compare os resultados."
   ]
  },
  {
   "cell_type": "code",
   "execution_count": null,
   "metadata": {},
   "outputs": [],
   "source": [
    "# Criando uma matriz 2 x 3 A:\n",
    "A = np.array([[1, 2, 3],\n",
    "              [4, 5, 6]])\n",
    "\n",
    "# Criando uma matriz 3 x 4 B:\n",
    "B = np.array([[7, 8, 9, 10],\n",
    "              [11, 12, 13, 14],\n",
    "              [15, 16, 17, 18]])\n",
    "\n",
    "# P_1 =      (usando np.matmul())\n",
    "# P_2 =      (usando np.dot())\n",
    "# P_3 =      (usando o operador @)\n",
    "\n",
    "print(P_1, '\\n')\n",
    "print(P_2, '\\n')\n",
    "print(P_3, '\\n')\n",
    "print(P_1.shape)"
   ]
  },
  {
   "cell_type": "markdown",
   "metadata": {},
   "source": [
    "📝 Para multiplicação de matrizes, `dot`, `matmul` e `@` são completamente equivalentes\n",
    "em sua saída e desempenho. A escolha entre eles é uma questão de\n",
    "preferência e legibilidade do código.\n",
    "\n",
    "Ao multiplicar um array $ 2D $ (matriz) por um array $ 1D $ (vetor), o vetor\n",
    "é temporariamente visto como uma matriz coluna e a operação é tratada como uma\n",
    "multiplicação de matrizes. Assim, a multiplicação matriz-vetor também pode ser tratada\n",
    "por `@`, `dot` ou `matmul`.\n",
    "\n",
    "__Exercício:__ Calcule o produto $ A \\mathbf{v} $ para $ A $ e $ \\mathbf{v} $\n",
    "como dados abaixo usando esses três métodos. Determine o formato do resultado;\n",
    "é um array $ 1D $ ou um array $ 2D $ com apenas uma coluna?"
   ]
  },
  {
   "cell_type": "code",
   "execution_count": null,
   "metadata": {},
   "outputs": [],
   "source": [
    "A = np.array([[1, 2, 3],\n",
    "              [4, 5, 6]])\n",
    "v = np.array([-1, 0, 1])\n"
   ]
  },
  {
   "cell_type": "markdown",
   "metadata": {},
   "source": [
    "⚠️ É um erro comum para programadores usar o operador `*` quando\n",
    "a multiplicação de matrizes é pretendida. No entanto, `A * B` fornece o\n",
    "_produto elemento a elemento de $ A $ e $ B $._\n",
    "\n",
    "__Exercício:__ Calcule `C @ C`, `C * C`, `C**2` e `C**(-1)` para a matriz $ C $ abaixo. Você consegue explicar esses resultados?"
   ]
  },
  {
   "cell_type": "code",
   "execution_count": null,
   "metadata": {},
   "outputs": [],
   "source": [
    "C = np.array([[1.0, 1.0, 1.0],\n",
    "              [2.0, 2.0, 2.0],\n",
    "              [-3., -3., -3.]])"
   ]
  },
  {
   "cell_type": "markdown",
   "metadata": {},
   "source": [
    "⚠️ A multiplicação de matrizes não é comutativa: $ A B \\neq B A $ em geral.\n",
    "\n",
    "__Exercício:__ Sejam \n",
    "$$\n",
    "    P = \\begin{bmatrix} 2 & 0 \\\\ -1 & 3 \\end{bmatrix} \\quad \\text{e} \\quad \n",
    "    Q = \\begin{bmatrix} 1 & 4 \\\\ 2 & -3 \\end{bmatrix}\n",
    "$$\n",
    "Verifique se $ P Q = Q P $."
   ]
  },
  {
   "cell_type": "code",
   "execution_count": null,
   "metadata": {},
   "outputs": [],
   "source": []
  },
  {
   "cell_type": "markdown",
   "metadata": {},
   "source": [
    "__Exercício:__ Para números reais $ a,\\, b $, se $ a $ e $ b $ são ambos não nulos,\n",
    "então seu produto $ ab $ também é não nulo. Isso também é verdade para matrizes? _Dica:_ Tente\n",
    "encontrar uma matriz $ 2 \\times 2 $ não nula $ A $ tal que $ A^2 $ seja a matriz nula $ 2\n",
    "\\times 2 $."
   ]
  },
  {
   "cell_type": "code",
   "execution_count": null,
   "metadata": {},
   "outputs": [],
   "source": []
  },
  {
   "cell_type": "markdown",
   "metadata": {},
   "source": [
    "Para calcular a $ n $-ésima potência de uma matriz $ A $, podemos usar `np.linalg.matrix_power(A, n)`.\n",
    "Como aplicação, considere o grafo direcionado abaixo:\n",
    "\n",
    "<img src=\"notebook_3_graph.png\" alt=\"Directed graph\" width=\"300px\">"
   ]
  },
  {
   "cell_type": "markdown",
   "metadata": {},
   "source": [
    "A __matriz de adjacência__  $ A $ para este grafo é uma matriz $ 4 \\times 4 $ \n",
    "cuja entrada $ (i, j) $ é igual a $ 1 $ se houver uma aresta do vértice $ i $ para\n",
    "o vértice $ j $ e $ 0 $ caso contrário. (Começamos a contar $ i $ e $ j $ a partir de $ 0 $\n",
    "para ser consistente com nosso código.) Assim, em nosso caso:\n",
    "$$\n",
    "A = \\begin{bmatrix}\n",
    "0 & 1 & 1 & 0 \\\\\n",
    "0 & 0 & 1 & 0 \\\\\n",
    "1 & 0 & 0 & 1 \\\\\n",
    "0 & 1 & 0 & 0\n",
    "\\end{bmatrix}\n",
    "$$\n",
    "\n",
    "As potências de uma matriz de adjacência têm uma bela interpretação na teoria dos grafos:\n",
    "* $ A^1 = A $, a própria matriz de adjacência, mostra conexões diretas entre nós;\n",
    "* $ A^2 $ mostra o número de caminhos de comprimento $ 2 $ entre nós;\n",
    "* $ A^3 $ mostra o número de caminhos de comprimento $ 3 $ entre nós; e assim por diante...\n",
    "* Em geral, $ A^n_{ij} $ representa o número de caminhos distintos de comprimento $ n $\n",
    "  do vértice $ i $ para o vértice $ j $ no grafo."
   ]
  },
  {
   "cell_type": "markdown",
   "metadata": {},
   "source": [
    "No caso do nosso grafo,\n",
    "$$\n",
    "A^2 = \\begin{bmatrix}\n",
    "0 & 0 & 1 & 1 \\\\\n",
    "1 & 0 & 0 & 1 \\\\\n",
    "0 & 2 & 1 & 0 \\\\\n",
    "0 & 0 & 1 & 0\n",
    "\\end{bmatrix}\n",
    "$$\n",
    "Por exemplo, o fato de que $ A^2_{2,1} = 2 $ indica que existem exatamente\n",
    "dois caminhos distintos de comprimento $ 2 $ do vértice $ 2 $ para o vértice $ 1 $. De fato,\n",
    "podemos verificar diretamente olhando para o grafo que esses caminhos são:\n",
    "$$\n",
    "2 \\rightarrow 0 \\rightarrow 1 \\qquad \\text{e} \\qquad 2 \\rightarrow 3 \\rightarrow 1\\,.\n",
    "$$"
   ]
  },
  {
   "cell_type": "markdown",
   "metadata": {},
   "source": [
    "__Exercício:__ Usando `np.linalg.matrix_power(A, n)`:\n",
    "\n",
    "(a) Determine o número de caminhos de comprimento $ 20 $ que começam no vértice $ 3 $ e\n",
    "terminam no vértice $ 0 $ no grafo representado acima.\n",
    "\n",
    "(b) Determine o número de caminhos de comprimento $ \\le 20 $ que começam no vértice $ 1 $\n",
    "    e retornam a esse mesmo vértice. _Dica:_ Use um loop for para adicionar as entradas relevantes\n",
    "    em $ I + A + A^2 + \\cdots + A^{20} $."
   ]
  },
  {
   "cell_type": "code",
   "execution_count": null,
   "metadata": {},
   "outputs": [],
   "source": [
    "A = np.array([\n",
    "    [0, 1, 1, 0],\n",
    "    [0, 0, 1, 0],\n",
    "    [1, 0, 0, 1],\n",
    "    [0, 1, 0, 0]\n",
    "])"
   ]
  },
  {
   "cell_type": "markdown",
   "metadata": {},
   "source": [
    "### $ 2.3 $ Matrizes identidade e diagonais\n",
    "\n",
    "Para instanciar uma cópia da matriz identidade de formato $ n \\times n $,\n",
    "podemos usar a função `identity` da seguinte forma:"
   ]
  },
  {
   "cell_type": "code",
   "execution_count": null,
   "metadata": {},
   "outputs": [],
   "source": [
    "n = 4\n",
    "I = np.identity(n)  # Criar uma matriz identidade n x n\n",
    "print(I)\n",
    "print(I.dtype)"
   ]
  },
  {
   "cell_type": "markdown",
   "metadata": {},
   "source": [
    "Uma versão mais flexível de `identity` que permite a criação de matrizes não quadradas\n",
    "é `eye` (o nome vem da letra 'I'):"
   ]
  },
  {
   "cell_type": "code",
   "execution_count": null,
   "metadata": {},
   "outputs": [],
   "source": [
    "I = np.eye(3, 4)\n",
    "print(I)"
   ]
  },
  {
   "cell_type": "markdown",
   "metadata": {},
   "source": [
    "O terceiro parâmetro (opcional) de `eye` especifica um deslocamento da diagonal:"
   ]
  },
  {
   "cell_type": "code",
   "execution_count": null,
   "metadata": {},
   "outputs": [],
   "source": [
    "I = np.eye(4, 4, 0)   # Um deslocamento de 0 corresponde à diagonal principal\n",
    "U = np.eye(4, 4, 1)   # Um deslocamento de 1 corresponde à diagonal imediatamente acima da principal\n",
    "L = np.eye(4, 4, -2)  # Um deslocamento negativo refere-se a uma diagonal inferior\n",
    "\n",
    "print(I, '\\n')\n",
    "print(U, '\\n')\n",
    "print(L, '\\n')"
   ]
  },
  {
   "cell_type": "markdown",
   "metadata": {},
   "source": [
    "__Exercício:__ Calcule a combinação linear $ M^2 - 3 M + 2I $, para $ M $ a matriz abaixo:"
   ]
  },
  {
   "cell_type": "code",
   "execution_count": null,
   "metadata": {},
   "outputs": [],
   "source": [
    "M = np.array([[ 0, -2],\n",
    "              [ 1,  3]])"
   ]
  },
  {
   "cell_type": "markdown",
   "metadata": {},
   "source": [
    "A função `diag` tem duplo propósito: ela tanto cria matrizes diagonais quanto\n",
    "extrai diagonais de matrizes existentes, dependendo de sua entrada."
   ]
  },
  {
   "cell_type": "code",
   "execution_count": null,
   "metadata": {},
   "outputs": [],
   "source": [
    "# np.diag cria uma matriz diagonal quando recebe um array 1D:\n",
    "diagonal_values = [1, 2, 3, 4]\n",
    "diag_matrix = np.diag(diagonal_values)\n",
    "print(diag_matrix)"
   ]
  },
  {
   "cell_type": "code",
   "execution_count": null,
   "metadata": {},
   "outputs": [],
   "source": [
    "# np.diag extrai a diagonal quando recebe um array 2D:\n",
    "existing_matrix = np.array([[1, 2, 3], \n",
    "                            [4, 5, 6], \n",
    "                            [7, 8, 9]])\n",
    "diagonal = np.diag(existing_matrix)\n",
    "print(diagonal, diagonal.shape)"
   ]
  },
  {
   "cell_type": "markdown",
   "metadata": {},
   "source": [
    "__Exercício:__ Extraia os elementos diagonais da matriz $ C $ abaixo em um vetor e\n",
    "depois calcule seu comprimento e o ângulo que ele faz com o vetor $ (7, -2, 1) $:"
   ]
  },
  {
   "cell_type": "code",
   "execution_count": null,
   "metadata": {},
   "outputs": [],
   "source": [
    "C = np.array([[0, -4, 2],\n",
    "              [3, 1, -5],\n",
    "              [-3, 0, 2]])"
   ]
  },
  {
   "cell_type": "markdown",
   "metadata": {},
   "source": [
    "### $ 2.4 $ Transposição\n",
    "\n",
    "A transposta de uma matriz $ A $ é uma nova matriz $ A^T $ cujas linhas são as\n",
    "colunas de $ A $ e vice-versa. Formalmente, se $ A $ é uma matriz $ m \\times n $,\n",
    "então $ A^T $ é uma matriz $ n \\times m $ com elementos $ (A^T)_{ij} = A_{ji} $.\n",
    "No NumPy, a transposta de $ A $ é denotada por `A.T`:"
   ]
  },
  {
   "cell_type": "code",
   "execution_count": 5,
   "metadata": {},
   "outputs": [
    {
     "name": "stdout",
     "output_type": "stream",
     "text": [
      "A:\n",
      "[[1 2 3]\n",
      " [4 5 6]\n",
      " [7 8 9]] \n",
      "\n",
      "A^T:\n",
      "[[1 4 7]\n",
      " [2 5 8]\n",
      " [3 6 9]]\n"
     ]
    }
   ],
   "source": [
    "import numpy as np\n",
    "A = np.array([[1, 2, 3],\n",
    "              [4, 5, 6],\n",
    "              [7, 8, 9]])\n",
    "\n",
    "print(\"A:\")\n",
    "print(A, \"\\n\")\n",
    "print(\"A^T:\")\n",
    "print(A.T)"
   ]
  },
  {
   "cell_type": "markdown",
   "metadata": {},
   "source": [
    "__Exercício:__ Uma matriz quadrada $ n \\times n $ $ A $ é\n",
    "__ortogonal__ se e somente se seus $ n $ vetores coluna\n",
    "$ \\mathbf v_1, \\cdots, \\mathbf v_n $ formam uma _base ortonormal_ de $ \\mathbb R^n $, ou seja,\n",
    "$$\n",
    "\\mathbf v_i \\cdot \\mathbf v_j = \n",
    "\\begin{cases}\n",
    "1 & \\text{se $ i = j $} \\\\\n",
    "0 & \\text{caso contrário}\n",
    "\\end{cases}\n",
    "\\qquad \\text{para cada $ i,\\,j = 1, \\cdots, n\\,. $}\n",
    "$$\n",
    "\n",
    "(a) Escreva um procedimento `is_orthogonal` que determina se uma\n",
    "dada matriz quadrada $ n \\times n $ $ A $ é ortogonal. \n",
    "_Dica:_ Use o slice `A[:, i]` para extrair o $ i $-ésimo vetor coluna de $ A $\n",
    "e calcule todos os produtos escalares possíveis.\n",
    "\n",
    "(b) Você consegue ver algum problema potencial com sua abordagem quando $ A $\n",
    "consiste de números de ponto flutuante?"
   ]
  },
  {
   "cell_type": "code",
   "execution_count": null,
   "metadata": {},
   "outputs": [],
   "source": []
  },
  {
   "cell_type": "markdown",
   "metadata": {},
   "source": [
    "__Exercício:__ Uma condição equivalente para a ortogonalidade de $ A $ é que ela satisfaça\n",
    "$$\n",
    "A^TA = I_n = AA^T\\,,\n",
    "$$\n",
    "onde $ A^T $ é a transposta de $ A $ e $ I_n $ é a matriz identidade $ n \\times n $.\n",
    "(Na verdade, qualquer uma dessas equações por si só já é suficiente para a ortogonalidade.)\n",
    " \n",
    "Escreva outra versão de `is_orthogonal` que faz uso desse critério e da\n",
    "transposta `A.T`. Ao comparar com a identidade, você pode querer usar\n",
    "`np.round(B, 10)` para arredondar todas as entradas de $ B $ para dez dígitos decimais para evitar\n",
    "falsos negativos."
   ]
  },
  {
   "cell_type": "code",
   "execution_count": null,
   "metadata": {},
   "outputs": [],
   "source": []
  },
  {
   "cell_type": "markdown",
   "metadata": {},
   "source": [
    "### $ 2.5 $ O traço, determinante e inversa de uma matriz quadrada\n",
    "\n",
    "Lembre-se que o __traço__ de uma matriz quadrada é, por definição, a soma de todos os\n",
    "seus elementos diagonais. Para calcular o __traço__, __determinante__ e a\n",
    "__inversa__ de uma matriz _quadrada_, podemos usar as funções `np.trace`, `np.linalg.det` e\n",
    "`np.linalg.inv`, respectivamente. \n",
    "\n",
    "__Exercício:__ Calcule o traço, determinante e inversa $ X^{-1} $ de $ X $.\n",
    "Verifique se $ X^{-1} X = I_2 = XX^{-1} $ e explique os resultados."
   ]
  },
  {
   "cell_type": "code",
   "execution_count": null,
   "metadata": {},
   "outputs": [],
   "source": [
    "X = np.array([[3, 1, 2],\n",
    "              [1, 5, 1],\n",
    "              [2, 1, 4]])\n",
    "\n",
    "# trace = ...\n",
    "# determinante = ...\n",
    "# inversa = ...\n",
    "print(f\"Traço de X: {trace:.4f}\")\n",
    "print(f\"Determinante de X: {determinante:.2f}\")\n",
    "print(f\"Inversa de X\\n: {inversa}\")"
   ]
  },
  {
   "cell_type": "markdown",
   "metadata": {},
   "source": [
    "__Exercício:__ Encontre a área do paralelogramo definido pelos vetores \n",
    "$ (3, 5) $ e $ (2, 4) $ em $ \\mathbb{R}^2 $. Lembre-se que esta área pode ser\n",
    "calculada como o valor absoluto do determinante da matriz formada por esses\n",
    "vetores. _Dica:_ A função de valor absoluto no NumPy é denotada por `np.abs`."
   ]
  },
  {
   "cell_type": "code",
   "execution_count": null,
   "metadata": {},
   "outputs": [],
   "source": []
  },
  {
   "cell_type": "markdown",
   "metadata": {},
   "source": [
    "__Exercício:__ Dadas duas matrizes quadradas $ C $ e $ D $ do mesmo tamanho, lembre-se\n",
    "que o determinante do produto delas é o produto de seus determinantes:\n",
    "$$\n",
    "\\boxed{\\ \\det(CD) = \\det(C) \\cdot \\det(D)\\ }\n",
    "$$\n",
    "Verifique esta identidade no exemplo particular onde\n",
    "$$\n",
    "C = \\begin{bmatrix}\n",
    "1 & 2 \\\\\n",
    "3 & 4 \\\\\n",
    "\\end{bmatrix} \\quad \\text{e} \\quad\n",
    "D = \\begin{bmatrix}\n",
    "2 & 3 \\\\\n",
    "1 & 4 \\\\\n",
    "\\end{bmatrix}\\,.\n",
    "$$\n",
    "$ CD = DC $?"
   ]
  },
  {
   "cell_type": "code",
   "execution_count": null,
   "metadata": {},
   "outputs": [],
   "source": []
  },
  {
   "cell_type": "markdown",
   "metadata": {},
   "source": [
    "__Exercício:__ Resolva o sistema linear de equações dado por\n",
    "$ A\\mathbf{x} = \\mathbf{b} $, onde\n",
    "$$\n",
    "A = \\begin{bmatrix}\n",
    "1 & 2 & 3 \\\\\n",
    "0 & 1 & 4 \\\\\n",
    "5 & 6 & 0 \\\\\n",
    "\\end{bmatrix} \\quad \\text{e} \\quad \\mathbf b = \\begin{bmatrix}\n",
    "3 \\\\\n",
    "7 \\\\\n",
    "8 \\\\\n",
    "\\end{bmatrix}\\,.\n",
    "$$\n",
    "Verifique sua resposta multiplicando $ A $ por $ \\mathbf x $.\n",
    "_Dica:_ Use a inversa de $ A $ para encontrar $ \\mathbf{x} = A^{-1}\\mathbf{b} $."
   ]
  },
  {
   "cell_type": "code",
   "execution_count": null,
   "metadata": {},
   "outputs": [],
   "source": []
  },
  {
   "cell_type": "markdown",
   "metadata": {},
   "source": [
    "⚡ __Exercício:__ Para uma lista de valores $ x_0, x_1, \\ldots, x_n $, a correspondente __matriz de Vandermonde\n",
    "__ é definida como:\n",
    "$$\n",
    "V = \\begin{bmatrix} \n",
    "1 & x_0 & x_0^2 & \\cdots & x_0^{n} \\\\ \n",
    "1 & x_1 & x_1^2 & \\cdots & x_1^{n} \\\\ \n",
    "\\vdots & \\vdots & \\vdots & \\ddots & \\vdots \\\\ \n",
    "1 & x_n & x_n^2 & \\cdots & x_n^{n}\n",
    "\\end{bmatrix}\\,.\n",
    "$$\n",
    "Esta matriz surge naturalmente em problemas envolvendo interpolação polinomial e\n",
    "equações diferenciais. O determinante de $ V $ tem uma bela expressão fechada:\n",
    "$$\n",
    "    \\det(V) = \\prod_{0 \\leq i < j \\leq n} (x_j - x_i)\\,.\n",
    "$$\n",
    "Este é o produto de todas as diferenças possíveis entre \n",
    "dois valores, com o primeiro tendo o índice maior.\n",
    "\n",
    "(a) Escreva um procedimento que cria uma matriz de Vandermonde para uma dada lista de\n",
    "valores de entrada. _Dica:_ Comece com uma matriz nula de dimensões apropriadas e\n",
    "preencha os elementos um por um. Use um loop duplo for e a fórmula $ V_{ij}\n",
    "= x_i^j $.\n",
    "\n",
    "(b) Escreva um procedimento que usa a fórmula fechada acima para calcular o\n",
    "determinante da matriz de Vandermonde correspondente a uma lista de valores.\n",
    "_Dica:_ Comece com o valor $ 1 $ para o determinante e use um loop duplo for\n",
    "para incluir um fator $ (x_j - x_i) $ de cada vez.\n",
    "\n",
    "(c) Teste suas funções na matriz abaixo. _Dica:_ Use `det` para verificar o\n",
    "determinante que seu procedimento do item (a) produz.\n",
    "$$\n",
    "V = V(2, 3, 5, 7, 11) = \\begin{bmatrix} \n",
    "1 & 2 & 4 & 8 & 16 \\\\ \n",
    "1 & 3 & 9 & 27 & 81 \\\\ \n",
    "1 & 5 & 25 & 125 & 625 \\\\ \n",
    "1 & 7 & 49 & 343 & 2401 \\\\ \n",
    "1 & 11 & 121 & 1331 & 14641\n",
    "\\end{bmatrix}\n",
    "$$"
   ]
  },
  {
   "cell_type": "code",
   "execution_count": null,
   "metadata": {},
   "outputs": [],
   "source": []
  },
  {
   "cell_type": "markdown",
   "metadata": {},
   "source": []
  }
 ],
 "metadata": {
  "kernelspec": {
   "display_name": "base",
   "language": "python",
   "name": "python3"
  },
  "language_info": {
   "codemirror_mode": {
    "name": "ipython",
    "version": 3
   },
   "file_extension": ".py",
   "mimetype": "text/x-python",
   "name": "python",
   "nbconvert_exporter": "python",
   "pygments_lexer": "ipython3",
   "version": "3.12.4"
  }
 },
 "nbformat": 4,
 "nbformat_minor": 2
}
