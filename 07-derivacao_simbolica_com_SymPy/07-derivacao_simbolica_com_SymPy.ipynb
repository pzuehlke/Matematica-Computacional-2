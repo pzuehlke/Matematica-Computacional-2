{
 "cells": [
  {
   "cell_type": "markdown",
   "metadata": {},
   "source": [
    "# Cálculo simbólico de derivadas com SymPy\n",
    "\n",
    "## $ \\S 1 $ Introdução\n",
    "\n",
    "Nesta aula aprenderemos a calcular derivadas de funções usando Python.  O\n",
    "cálculo de derivadas pode ser abordado de duas maneiras principais:\n",
    "**simbólica** e **numérica**. Para cada tipo, usaremos um pacote diferente:\n",
    "**SymPy** e **SciPy**, respectivamente. (Para distingüir um do outro,\n",
    "note que \"Sym\" é abreviação de \"Symbolic\").\n",
    "\n",
    "⚠️ Quando importados, tanto o SymPy quanto o SciPy são freqüentemente abreviados por `sp`.\n",
    "Para evitar confusão, utilizaremos as abreviações abaixo."
   ]
  },
  {
   "cell_type": "code",
   "execution_count": null,
   "metadata": {},
   "outputs": [],
   "source": [
    "import sympy as sym\n",
    "import scipy as sp"
   ]
  },
  {
   "cell_type": "markdown",
   "metadata": {},
   "source": [
    "O **cálculo numérico** utiliza técnicas de discretização do domínio para estimar\n",
    "a derivada de uma função com base nos valores dela em alguns pontos específicos.\n",
    "O *método das diferenças finitas* é o mais comumente utilizado. Na forma mais\n",
    "simples, aproximamos a derivada de uma função $ f $ em $ x = x_0 $ pela\n",
    "expressão\n",
    "$$\n",
    "f'(x_0) \\approx \\frac{f(x_0 + h) - f(x_0)}{h}\\,\n",
    "$$\n",
    "para $ h > 0 $ pequeno. Esta é a chamada _fórmula da diferença progressiva_.\n",
    "O erro cometido utilizando-se esta aproximação é, em teoria, proporcional a $ \\vert h\\vert $.\n",
    "\n",
    "Outras fórmulas, como a da _diferença centrada_\n",
    "$$\n",
    "f'(x_0) \\approx \\frac{f(x_0 + h) - f(x_0 - h)}{2h}\\,\n",
    "$$\n",
    "oferecem aproximações melhores. Mais precisamente, esta expressão fornece uma\n",
    "aproximação cujo erro associado é proporcional a $ \\vert h \\vert^2 $ (de novo,\n",
    "em teoria).\n",
    "\n",
    "Infelizmente, os métodos numéricos de derivação não são muito precisos, por\n",
    "exemplo quando comparados aos métodos numéricos para integração. Isto ocorre por\n",
    "causa do conflito entre os erros envolvidos na interpolação em si (para os\n",
    "quais a solução seria diminuir $ h $ ao máximo nas expressões acima) e os erros\n",
    "de arredondamento inerentes à precisão limitada do sistema de ponto flutuante\n",
    "(para os quais a solução seria não tomar $ h $ muito pequeno)."
   ]
  },
  {
   "cell_type": "markdown",
   "metadata": {},
   "source": [
    "__Exercício:__ Para $ h =10^{0} $, $ 10^{-1}, \\cdots, 10^{-16} $, calcule o\n",
    "valor aproximado da derivada de $ f(x) = \\sin x $ em $ x = \\frac{\\pi}{4} $\n",
    "usando:\n",
    "\n",
    "(a) A fórmula da diferença progressiva.\n",
    "\n",
    "(b) A fórmula da diferença centrada."
   ]
  },
  {
   "cell_type": "code",
   "execution_count": null,
   "metadata": {},
   "outputs": [],
   "source": []
  },
  {
   "cell_type": "markdown",
   "metadata": {},
   "source": [
    "No **cálculo simbólico**, como o realizado pelo SymPy, as derivadas são obtidas\n",
    "manipulando-se a expressão matemática exata da função de acordo com as regras usuais\n",
    "de derivação aprendidas no curso de Cálculo. As variáveis são tratadas como\n",
    "_símbolos_, e o resultado é uma expressão analítica para a derivada como uma função\n",
    "independente, não apenas o valor dela num determinado ponto $ x_0 $.\n",
    "\n",
    "\n",
    "|   | Cálculo simbólico                     | Cálculo numérico                      |\n",
    "|---------------------------|---------------------------------------|---------------------------------------|\n",
    "| **Precisão**              | exata                                 | aproximada                            |\n",
    "| **Resultado**             | expressão analítica                   | valor numérico                        |\n",
    "| **Dependência dos dados**  | não é capaz de lidar diretamente com dados        | pode ser usado com dados experimentais |\n",
    "| **Aplicabilidade**        | ideal para análises teóricas          | ideal para avaliações práticas        |\n",
    "| **Custo computacional** | pode ser alto para funções complicadas | geralmente mais eficiente             |\n",
    "| **Facilidade de implementação** | requer consideração de vários casos e regras | geralmente muito simples |\n"
   ]
  },
  {
   "cell_type": "markdown",
   "metadata": {},
   "source": [
    "## $ \\S 2 $ Derivadas simbólicas com o SymPy\n",
    "\n",
    "Agora vamos aprender a usar o SymPy para calcular derivadas simbolicamente.\n",
    "Comecemos com o caso mais simples, de funções reais de uma variável real,\n",
    "estudadas em Cálculo 1.\n",
    "\n",
    "### $ 2.1 $ Exemplos\n",
    "\n",
    "**Exemplo 1 (derivada de um polinômio):** Considere $ f(x) = x^2 + 3x + 2 $.\n",
    "Vamos calcular sua derivada (em relação a $ x $)."
   ]
  },
  {
   "cell_type": "code",
   "execution_count": null,
   "metadata": {},
   "outputs": [
    {
     "data": {
      "text/latex": [
       "$\\displaystyle 2 x + 3$"
      ],
      "text/plain": [
       "2*x + 3"
      ]
     },
     "metadata": {},
     "output_type": "display_data"
    }
   ],
   "source": [
    "# Importando o SymPy:\n",
    "import sympy as sym\n",
    "\n",
    "# Definindo a variável simbólica:\n",
    "x = sym.symbols('x')\n",
    "\n",
    "# Definindo a função:\n",
    "f = x**2 + 3*x + 2\n",
    "\n",
    "# Calculando a derivada:\n",
    "df_dx = sym.diff(f, x)\n",
    "\n",
    "# Retornando o resultado:\n",
    "df_dx"
   ]
  },
  {
   "cell_type": "markdown",
   "metadata": {},
   "source": [
    "__Exercício:__ \n",
    "\n",
    "(a) Calcule a derivada da função constante igual a $ 1 $.\n",
    "\n",
    "(b) Seja $ c $ uma constante. Calcule a derivada da função $ x \\mapsto cx $. _Dica:_ Introduza $ c $ como um novo símbolo."
   ]
  },
  {
   "cell_type": "code",
   "execution_count": null,
   "metadata": {},
   "outputs": [],
   "source": []
  },
  {
   "cell_type": "markdown",
   "metadata": {},
   "source": [
    "__Exemplo 2 (derivada da exponencial):__ Para calcular derivadas de uma função\n",
    "especial, como a exponencial, o logaritmo ou o seno, precisamos importar a\n",
    "versão dela fornecida pelo SymPy. Por exemplo, se $ g(t) = e^{-t^2} $:"
   ]
  },
  {
   "cell_type": "code",
   "execution_count": null,
   "metadata": {},
   "outputs": [
    {
     "data": {
      "text/latex": [
       "$\\displaystyle e^{- t^{2}}$"
      ],
      "text/plain": [
       "exp(-t**2)"
      ]
     },
     "metadata": {},
     "output_type": "display_data"
    },
    {
     "data": {
      "text/latex": [
       "$\\displaystyle - 2 t e^{- t^{2}}$"
      ],
      "text/plain": [
       "-2*t*exp(-t**2)"
      ]
     },
     "metadata": {},
     "output_type": "display_data"
    }
   ],
   "source": [
    "# Definindo a variável simbólica:\n",
    "t = sym.symbols('t')\n",
    "\n",
    "# Definindo g:\n",
    "g = sym.exp(-t * t)  # sym.exp é a exponencial\n",
    "\n",
    "# Calculando e retornando a derivada:\n",
    "dg_dt = sym.diff(g, t)\n",
    "display(g, dg_dt)"
   ]
  },
  {
   "cell_type": "markdown",
   "metadata": {},
   "source": [
    "📝 A instrução `display` que aparece na última linha é usada para exibir de\n",
    "forma clara e formatada expressões matemáticas simbólicas num caderno Jupyter ou\n",
    "em outros ambientes que suportem renderização matemática. Se o resultado\n",
    "de uma célula é uma única função, ela é chamada automaticamente pelo Jupyter, por\n",
    "isto é desnecessário utilizá-la. Por outro lado, fora de um caderno Jupyter ela\n",
    "precisa ser importada do pacote `IPython`. Observe como a formatação ficaria\n",
    "desagradável se não a tivéssemos utilizado no exemplo acima:"
   ]
  },
  {
   "cell_type": "code",
   "execution_count": null,
   "metadata": {},
   "outputs": [
    {
     "name": "stdout",
     "output_type": "stream",
     "text": [
      "exp(-t**2) -2*t*exp(-t**2)\n"
     ]
    },
    {
     "data": {
      "text/plain": [
       "(exp(-t**2), -2*t*exp(-t**2))"
      ]
     },
     "metadata": {},
     "output_type": "display_data"
    }
   ],
   "source": [
    "print(g, dg_dt)  # Tentando imprimir usando `print`\n",
    "g, dg_dt         # Tentando simplesmente retorná-las como resultado"
   ]
  },
  {
   "cell_type": "markdown",
   "metadata": {},
   "source": [
    "__Exercício:__ Verifique que:\n",
    "\n",
    "(a) $ \\ln'(x) = \\frac{1}{x} $ para $ x > 0 $. _Dica:_ O logaritmo natural é denotado por `log`.\n",
    "\n",
    "(b) $ \\ln'(\\vert x \\vert) = \\frac{1}{x} $ para $ x \\ne 0 $. _Dica:_ A função\n",
    "módulo (valor absoluto) é denotada por `Abs`. Você precisará declarar a variável\n",
    "$ x $ como real (em vez de complexa) através do comando `sym.symbols('x',\n",
    "real=True)`."
   ]
  },
  {
   "cell_type": "code",
   "execution_count": null,
   "metadata": {},
   "outputs": [],
   "source": []
  },
  {
   "cell_type": "markdown",
   "metadata": {},
   "source": [
    "Não é possível utilizar funções importadas de outras bibliotecas, como o NumPy\n",
    "ou a Math, porque elas têm tipos diferentes que as funções correspondentes do\n",
    "SymPy; estas últimas são funções simbólicas (ou seja, são apenas expressões, não\n",
    "são realmente funções no sentido convencional do Python).\n",
    "\n",
    "__Exercício:__ Importe a função seno (`sin`) do NumPy e tente derivá-la como\n",
    "nos exemplos acima."
   ]
  },
  {
   "cell_type": "code",
   "execution_count": null,
   "metadata": {},
   "outputs": [],
   "source": []
  },
  {
   "cell_type": "markdown",
   "metadata": {},
   "source": [
    "Pelo mesmo motivo, não conseguimos avaliar diretamente uma função no sentido do SymPy num ponto:"
   ]
  },
  {
   "cell_type": "code",
   "execution_count": null,
   "metadata": {},
   "outputs": [
    {
     "ename": "TypeError",
     "evalue": "'sin' object is not callable",
     "output_type": "error",
     "traceback": [
      "\u001b[0;31m---------------------------------------------------------------------------\u001b[0m\n",
      "\u001b[0;31mTypeError\u001b[0m                                 Traceback (most recent call last)\n",
      "Cell \u001b[0;32mIn[11], line 2\u001b[0m\n",
      "\u001b[1;32m      1\u001b[0m seno \u001b[38;5;241m=\u001b[39m sym\u001b[38;5;241m.\u001b[39msin(x)  \u001b[38;5;66;03m# definindo a função seno\u001b[39;00m\n",
      "\u001b[0;32m----> 2\u001b[0m \u001b[43mseno\u001b[49m\u001b[43m(\u001b[49m\u001b[38;5;241;43m3.14\u001b[39;49m\u001b[43m)\u001b[49m  \u001b[38;5;66;03m# gera um erro porque seno é uma função simbólica\u001b[39;00m\n",
      "\n",
      "\u001b[0;31mTypeError\u001b[0m: 'sin' object is not callable"
     ]
    }
   ],
   "source": [
    "seno = sym.sin(x)  # definindo a função seno\n",
    "seno(3.14)  # gera um erro porque seno é uma função simbólica"
   ]
  },
  {
   "cell_type": "markdown",
   "metadata": {},
   "source": [
    "Para substituir um valor específico para a variável (digamos, $ x $) de uma função $ f $, utilize `f.subs(x, <valor>)`:"
   ]
  },
  {
   "cell_type": "code",
   "execution_count": null,
   "metadata": {},
   "outputs": [
    {
     "data": {
      "text/latex": [
       "$\\displaystyle 0.00159265291648683$"
      ],
      "text/plain": [
       "0.00159265291648683"
      ]
     },
     "metadata": {},
     "output_type": "display_data"
    }
   ],
   "source": [
    "seno.subs(x, 3.14)"
   ]
  },
  {
   "cell_type": "markdown",
   "metadata": {},
   "source": [
    "__Exercício:__ Avalie o cosseno em $ \\frac{\\pi}{2} $ e o logaritmo natural em\n",
    "$ e $. Utilize as constantes $ \\pi $ (`sym.pi`) e $ e $ (`sym.E`)."
   ]
  },
  {
   "cell_type": "code",
   "execution_count": null,
   "metadata": {},
   "outputs": [],
   "source": []
  },
  {
   "cell_type": "markdown",
   "metadata": {},
   "source": [
    "Podemos utilizar qualquer caracter Unicode (ou palavra consistindo de\n",
    "caracteres deste tipo) como nomes para as variáveis, por exemplo '$ \\alpha $' ou\n",
    "\"alfa\".\n",
    "\n",
    "__Exemplo 3 (derivadas de ordem superior):__ Vamos verificar a periodicidade das\n",
    "derivadas da função seno. "
   ]
  },
  {
   "cell_type": "code",
   "execution_count": null,
   "metadata": {},
   "outputs": [
    {
     "data": {
      "text/latex": [
       "$\\displaystyle \\sin{\\left(θ \\right)}$"
      ],
      "text/plain": [
       "sin(θ)"
      ]
     },
     "metadata": {},
     "output_type": "display_data"
    },
    {
     "data": {
      "text/latex": [
       "$\\displaystyle \\cos{\\left(θ \\right)}$"
      ],
      "text/plain": [
       "cos(θ)"
      ]
     },
     "metadata": {},
     "output_type": "display_data"
    },
    {
     "data": {
      "text/latex": [
       "$\\displaystyle - \\sin{\\left(θ \\right)}$"
      ],
      "text/plain": [
       "-sin(θ)"
      ]
     },
     "metadata": {},
     "output_type": "display_data"
    },
    {
     "data": {
      "text/latex": [
       "$\\displaystyle - \\cos{\\left(θ \\right)}$"
      ],
      "text/plain": [
       "-cos(θ)"
      ]
     },
     "metadata": {},
     "output_type": "display_data"
    },
    {
     "data": {
      "text/latex": [
       "$\\displaystyle \\sin{\\left(θ \\right)}$"
      ],
      "text/plain": [
       "sin(θ)"
      ]
     },
     "metadata": {},
     "output_type": "display_data"
    }
   ],
   "source": [
    "# Definindo a variável simbólica (θ):\n",
    "θ = sym.symbols('θ')\n",
    "\n",
    "# Definindo a função seno:\n",
    "f = sym.sin(θ)\n",
    "\n",
    "# Primeira derivada:\n",
    "df_dθ = sym.diff(f, θ)\n",
    "\n",
    "# Para calcular a segunda derivada, podemos derivar df_dt:\n",
    "d2f_dθ2 = sym.diff(df_dθ, θ)\n",
    "# Alternativamente, basta indicar a ordem como um argumento extra:\n",
    "d2f_dθ2 = sym.diff(f, θ, 2)\n",
    "\n",
    "# Similarmente para as derivadas de ordem mais alta:\n",
    "d3f_dθ3 = sym.diff(f, θ, 3)\n",
    "d4f_dθ4 = sym.diff(f, θ, 4)\n",
    "\n",
    "# Exibindo os resultados:\n",
    "display(f, df_dθ, d2f_dθ2, d3f_dθ3, d4f_dθ4)\n"
   ]
  },
  {
   "cell_type": "markdown",
   "metadata": {},
   "source": [
    "**Exercício:** Use o SymPy para obter a primeira e segunda derivada de cada uma\n",
    "das seguintes funções.\n",
    "\n",
    "(a) $ f(x) = 5x^3 - 4x^2 + 2x - 7 \\,$. Verifique ainda que $ f^{(4)} \\equiv 0 $.\n",
    "\n",
    "(b) $ g(x) = e^{3x} \\sin x \\,$\n",
    "\n",
    "(c) $ h(t) = \\frac{t^2 + 1}{t - 1} \\,$\n",
    "\n",
    "(d) $ u(x) = \\ln(x^2 + 3x + 2) \\,$ (o logaritmo natural no SymPy é `log`).\n",
    "\n",
    "(e) $ v(\\alpha) = \\sqrt{\\alpha^2 + \\cos^2(\\alpha)} \\ $ (utilize a variável-símbolo '$ \\alpha $')."
   ]
  },
  {
   "cell_type": "code",
   "execution_count": null,
   "metadata": {},
   "outputs": [],
   "source": []
  },
  {
   "cell_type": "markdown",
   "metadata": {},
   "source": [
    "### $ 2.2 $ Explicação do método simbólico\n",
    "\n",
    "De maneira breve, o cálculo simbólico de derivadas consiste em formalizar\n",
    "num algoritmo as regras formais de derivação, tais como:\n",
    "\n",
    "$$\n",
    "\\begin{aligned}\n",
    "& \\big(a\\, f + b\\,g\\big)' = a\\, f' + b\\, g' && (\\text{regra da combinação linear}) \\\\\n",
    "& (x^r)' = r\\,x^{r - 1} && (\\text{regra da potência}) \\\\\n",
    "& (f \\cdot g)' = f' \\cdot g + f \\cdot g' && (\\text{regra do produto}) \\\\\n",
    "& \\left(\\frac{f}{g}\\right)' = \\frac{f' \\cdot g - f \\cdot g'}{g^2} && (\\text{regra do quociente}) \\\\\n",
    "& (f \\circ g)' = (f'\\circ g) \\cdot g' && (\\text{regra da cadeia})\n",
    "\\end{aligned}\n",
    "$$\n",
    "Além destas, é necessário implementar diretamente a derivada de funções\n",
    "especiais, como a exponencial ou o seno.\n",
    "\n",
    "Durante o processo, o algoritmo deve simplificar automaticamente as expressões\n",
    "intermediárias para tentar controlar a complexidade.  Isso envolve a combinação\n",
    "de termos semelhantes, a aplicação de identidades trigonométricas, etc. Todas\n",
    "estas regras precisam ser codificadas \"à mão\".  Apesar da implementação\n",
    "trabalhosa, as idéias subjacentes a um algoritmo deste tipo são relativamente\n",
    "simples.\n",
    "\n",
    "**Exemplo 4:** Se derivarmos $ f(x) = \\sin^2 x + \\cos^2⁡ x $ usando\n",
    "cegamente a regra da soma e a do produto, obteremos a expressão\n",
    "$$\n",
    "f'(x) = 2\\,\\sin x \\,\\cos x + 2\\,\\cos x\\,\\big(-\\sin x\\big)\\,.\n",
    "$$\n",
    "Contudo, o SymPy foi programado para notar que $ f(x) = 1 $ para todo $ x $ ou\n",
    "que os dois termos na expressão para $ f' $ podem ser cancelados:"
   ]
  },
  {
   "cell_type": "code",
   "execution_count": null,
   "metadata": {},
   "outputs": [
    {
     "data": {
      "text/latex": [
       "$\\displaystyle 0$"
      ],
      "text/plain": [
       "0"
      ]
     },
     "metadata": {},
     "output_type": "display_data"
    }
   ],
   "source": [
    "# Reservando o símbolo x e definindo f:\n",
    "x = sym.symbols('x')\n",
    "f = sym.sin(x)**2 + sym.cos(x)**2\n",
    "\n",
    "# Calculando a derivada:\n",
    "df_dx = sym.diff(f, x)\n",
    "df_dx"
   ]
  },
  {
   "cell_type": "markdown",
   "metadata": {},
   "source": [
    "__Exercício:__ O valor presente $ V $ de uma série de pagamentos mensais (por\n",
    "exemplo da hipoteca de uma casa) é dado pela fórmula:\n",
    "$$\n",
    "V = \\frac{C}{r_m} \\left[1 - (1 + r_m)^{-n}\\right]\n",
    "$$\n",
    "onde $ C $ é o valor do pagamento mensal, $ r_m $ é a taxa de juros mensal e $ n $ é o número total de meses da série.\n",
    "Calcule a sensibilidade (ou seja, a taxa de variação) do valor presente em\n",
    "relação à taxa de juros mensal. _Dica:_ Constantes também podem ser vistas como símbolos."
   ]
  },
  {
   "cell_type": "code",
   "execution_count": null,
   "metadata": {},
   "outputs": [],
   "source": []
  },
  {
   "cell_type": "markdown",
   "metadata": {},
   "source": [
    "## $ \\S 3 $ Derivadas simbólicas de funções de várias variáveis\n",
    "\n",
    "As construções da $ \\S 1 $ se estendem facilmente à diferenciação simbólica de\n",
    "funções de várias variáveis.\n",
    "\n",
    "__Exemplo 1 (derivadas de uma função de duas variáveis):__\n",
    "Vamos calcular as derivadas parciais com respeito a $ x $ e $ y $ da função\n",
    "$ f(x, y) = x^3 - y^2 + 2xy $."
   ]
  },
  {
   "cell_type": "code",
   "execution_count": 28,
   "metadata": {},
   "outputs": [
    {
     "data": {
      "text/latex": [
       "$\\displaystyle x^{3} + 2 x y - y^{2}$"
      ],
      "text/plain": [
       "x**3 + 2*x*y - y**2"
      ]
     },
     "metadata": {},
     "output_type": "display_data"
    },
    {
     "data": {
      "text/latex": [
       "$\\displaystyle 3 x^{2} + 2 y$"
      ],
      "text/plain": [
       "3*x**2 + 2*y"
      ]
     },
     "metadata": {},
     "output_type": "display_data"
    },
    {
     "data": {
      "text/latex": [
       "$\\displaystyle 2 x - 2 y$"
      ],
      "text/plain": [
       "2*x - 2*y"
      ]
     },
     "metadata": {},
     "output_type": "display_data"
    }
   ],
   "source": [
    "# Desta vez precisamos utilizar duas variáveis simbólicas:\n",
    "x, y = sym.symbols('x y')\n",
    "\n",
    "# Definindo f:\n",
    "f = x**3 - y**2 + 2 * x * y\n",
    "\n",
    "# Calculando as derivadas parciais:\n",
    "df_dx = sym.diff(f, x)\n",
    "df_dy = sym.diff(f, y)\n",
    "\n",
    "# Exibindo f e suas derivadas parciais:\n",
    "display(f, df_dx, df_dy)"
   ]
  },
  {
   "cell_type": "markdown",
   "metadata": {},
   "source": [
    "__Exemplo 2 (derivadas de ordem superior):__ \n",
    "Calcule as derivadas parciais de primeira e segunda ordem da função $ g(u,v) = \\sin⁡(uv) $."
   ]
  },
  {
   "cell_type": "code",
   "execution_count": 5,
   "metadata": {},
   "outputs": [
    {
     "data": {
      "text/latex": [
       "$\\displaystyle \\sin{\\left(u v \\right)}$"
      ],
      "text/plain": [
       "sin(u*v)"
      ]
     },
     "metadata": {},
     "output_type": "display_data"
    },
    {
     "data": {
      "text/latex": [
       "$\\displaystyle v \\cos{\\left(u v \\right)}$"
      ],
      "text/plain": [
       "v*cos(u*v)"
      ]
     },
     "metadata": {},
     "output_type": "display_data"
    },
    {
     "data": {
      "text/latex": [
       "$\\displaystyle u \\cos{\\left(u v \\right)}$"
      ],
      "text/plain": [
       "u*cos(u*v)"
      ]
     },
     "metadata": {},
     "output_type": "display_data"
    },
    {
     "data": {
      "text/latex": [
       "$\\displaystyle - v^{2} \\sin{\\left(u v \\right)}$"
      ],
      "text/plain": [
       "-v**2*sin(u*v)"
      ]
     },
     "metadata": {},
     "output_type": "display_data"
    },
    {
     "data": {
      "text/latex": [
       "$\\displaystyle - u^{2} \\sin{\\left(u v \\right)}$"
      ],
      "text/plain": [
       "-u**2*sin(u*v)"
      ]
     },
     "metadata": {},
     "output_type": "display_data"
    },
    {
     "data": {
      "text/latex": [
       "$\\displaystyle - u v \\sin{\\left(u v \\right)} + \\cos{\\left(u v \\right)}$"
      ],
      "text/plain": [
       "-u*v*sin(u*v) + cos(u*v)"
      ]
     },
     "metadata": {},
     "output_type": "display_data"
    }
   ],
   "source": [
    "# Definindo as variáveis e a função g: \n",
    "u, v = sym.symbols('u v')\n",
    "g = sym.sin(u * v)\n",
    "\n",
    "# Calculando as derivadas parciais de primeira ordem:\n",
    "dg_du = sym.diff(g, u)\n",
    "dg_dv = sym.diff(g, v)\n",
    "\n",
    "# Para calcular a derivada parcial de ordem 2 com respeito a u,\n",
    "# podemos derivar dg_du com respeito a u:\n",
    "d2g_du2 = sym.diff(dg_du, u)\n",
    "# Porém é mais fácil e natural derivar g com respeito a u e a u:\n",
    "d2g_du2 = sym.diff(g, u, u)\n",
    "# Ou ainda: \n",
    "d2g_du2 = sym.diff(g, u, 2)\n",
    "\n",
    "# Similarmente para a derivada parcial com respeito a v:\n",
    "d2g_dv2 = sym.diff(g, v, 2)\n",
    "\n",
    "# Agora a derivada parcial mista:\n",
    "d2g_dudv = sym.diff(g, u, v)\n",
    "\n",
    "# Exibindo os resultados:\n",
    "display(g, dg_du, dg_dv, d2g_du2, d2g_dv2, d2g_dudv)"
   ]
  },
  {
   "cell_type": "markdown",
   "metadata": {},
   "source": [
    "__ExercÍcio (função de três variáveis):__ Determine todas as derivadas parciais\n",
    "de primeira e segunda ordem da função $$ h(x,y,z) = x^2 y + yze^z\\,. $$"
   ]
  },
  {
   "cell_type": "code",
   "execution_count": null,
   "metadata": {},
   "outputs": [],
   "source": []
  },
  {
   "cell_type": "markdown",
   "metadata": {},
   "source": [
    "__Exercício:__\n",
    "\n",
    "(a) Quantas derivadas parciais de ordem $ 3 $ tem uma função de duas variáveis?\n",
    "\n",
    "(b) Quantas derivadas parciais de ordem $ r $ tem uma função $ f $ de $ m $ variáveis?\n",
    "Você pode assumir que a ordem em que tomamos derivadas parciais não importa, de modo\n",
    "que por exemplo:\n",
    "$$\n",
    "\\frac{\\partial^3 f}{\\partial x\\, \\partial y^2} = \\frac{\\partial^3 f}{\\partial y\\, \\partial x\\, \\partial y}\n",
    "$$\n",
    "_Dica:_ Este problema é equivalente ao seguinte: de quantas maneiras podemos\n",
    "alocar $ r $ bolas indistingüíveis em $ m $ caixas distintas?"
   ]
  },
  {
   "cell_type": "markdown",
   "metadata": {},
   "source": [
    "## $ \\S 4 $ Calculando o gradiente\n",
    "\n",
    "### $ 4.1 $ O gradiente de funções de duas variáveis\n",
    "\n",
    "Seja $ z = f(x, y) $ uma função de duas variáveis $ x $ e $ y $. O __gradiente__ de\n",
    "$ f $, denotado por $ \\nabla f $, é um campo vetorial cujas componentes são as\n",
    "duas derivadas parciais de $ f $:\n",
    "$$\n",
    "\\nabla f = \\big(f_x\\,,\\,f_y\\big) = \\bigg(\n",
    "\\frac{\\partial f}{\\partial x}\\,,\\, \\frac{\\partial f}{\\partial y}\n",
    "\\bigg)\\,.\n",
    "$$\n",
    "\n",
    "Em um ponto específico do domínio, o gradiente aponta na direção de maior\n",
    "crescimento da função, e a taxa de maior crescimento é dada pela norma\n",
    "(magnitude) do gradiente.\n",
    "\n",
    "Geometricamente, o gradiente de uma função $ f $ em cada ponto é perpendicular\n",
    "à __curva de nível__ de $ f $ passando por aquele ponto. A curva de nível $ L_c\n",
    "$ correspondente a $ z = c $ é, por definição, o subconjunto de pontos do\n",
    "domínio onde $ f $ vale $ c $, ou seja, $ L_c = f^{-1}(c) $.\n",
    "\n",
    "No SymPy, podemos calcular o gradiente de uma função utilizando o procedimento\n",
    "`derive_by_array`. Mais precisamente, ele permite calcular as derivadas parciais\n",
    "de uma função com respeito a um conjunto qualquer de variáveis,\n",
    "retornando um array (do SymPy, não do NumPy) como resultado.\n",
    "\n",
    "__Exemplo 1:__ Vamos determinar o gradiente da função $ f(x, y) = x^2 + xy - y^2\\, $."
   ]
  },
  {
   "cell_type": "code",
   "execution_count": 6,
   "metadata": {},
   "outputs": [
    {
     "data": {
      "text/latex": [
       "$\\displaystyle x^{2} + x y - y^{2}$"
      ],
      "text/plain": [
       "x**2 + x*y - y**2"
      ]
     },
     "metadata": {},
     "output_type": "display_data"
    },
    {
     "data": {
      "text/latex": [
       "$\\displaystyle \\left[\\begin{matrix}2 x + y & x - 2 y\\end{matrix}\\right]$"
      ],
      "text/plain": [
       "[2*x + y, x - 2*y]"
      ]
     },
     "metadata": {},
     "output_type": "display_data"
    },
    {
     "name": "stdout",
     "output_type": "stream",
     "text": [
      "<class 'sympy.tensor.array.dense_ndim_array.ImmutableDenseNDimArray'>\n"
     ]
    }
   ],
   "source": [
    "# Definindo as variáveis simbólicas e f:\n",
    "x, y = sym.symbols('x y')\n",
    "f = x**2 + x*y - y**2\n",
    "\n",
    "# Calculando o gradiente usando `derive_by_array`:\n",
    "grad_f = sym.derive_by_array(f, (x, y))\n",
    "\n",
    "# Exibindo os resultados:\n",
    "display(f, grad_f)\n",
    "\n",
    "# Checando que o resultado é um array:\n",
    "print(type(grad_f))"
   ]
  },
  {
   "cell_type": "markdown",
   "metadata": {},
   "source": [
    "![Curvas de nível e gradiente](curvas_de_nivel_gradiente.png)"
   ]
  },
  {
   "cell_type": "markdown",
   "metadata": {},
   "source": [
    "### $ 4.2 $ O gradiente de funções de várias variáveis\n",
    "\n",
    "Seja $ w = f(x_1, x_2, \\ldots, x_m) $ uma função de $ m $ variáveis, definida num subconjunto de $ \\mathbb R^m $. Por definição, o **gradiente** de $ f $ é dado por\n",
    "$$\n",
    "\\nabla f = \\big(f_{x_1}\\,,\\,f_{x_2}\\,,\\, \\cdots \\,,\\, f_{x_m}\\big) = \\bigg( \\frac{\\partial f}{\\partial x_1}\\,,\\, \\frac{\\partial f}{\\partial x_2}\\,,\\, \\ldots\\,,\\, \\frac{\\partial f}{\\partial x_m} \\bigg)\\,.\n",
    "$$\n",
    "\n",
    "Assim como no caso de duas variáveis, o gradiente aponta na direção de maior\n",
    "crescimento da função e sua magnitude representa a taxa máxima de variação nesse\n",
    "ponto. Além disto, o gradiente é perpendicular aos **conjuntos de nível**\n",
    "de $ f $. Um conjunto de nível $ L_c $ correspondente a $ w = c $ é o conjunto\n",
    "de pontos do domínio onde $ f $ assume o valor $ c $, isto é, $ L_c = f^{-1}(c)\n",
    "$.  Para a maioria dos valores de $ c $, $ L_c $ forma uma hipersuperfície\n",
    "de dimensão $ m - 1 $ dentro do domínio de $ f $.\n",
    "\n",
    "Um __ponto crítico__ de $ f $ é um ponto $ \\mathbf p $ de seu domínio onde o\n",
    "gradiente se anula (é igual ao vetor nulo de $ \\mathbb R^m $); em símbolos,\n",
    "$$\n",
    "\\nabla f(\\mathbf p) = \\mathbf 0 = \\big(0, 0, \\cdots, 0)\\,.\n",
    "$$\n",
    "Os pontos críticos são os candidatos a mínimo e máximo local de $ f $ _no\n",
    "interior do domínio_.  Mais precisamente, qualquer mínimo ou máximo local contido\n",
    "no interior do domínio tem de ser um ponto crítico, mas nem todo ponto crítico é\n",
    "necessariamente um extremo local.\n",
    "\n",
    "__Exemplo:__ Vamos encontrar os pontos críticos da função $ g(x, y, z) = x^2 +\n",
    "y^2 + z^2 - 4xz + 2y $ definida em todo o $ \\mathbb R^3 $. Começamos calculando\n",
    "o gradiente como antes:"
   ]
  },
  {
   "cell_type": "code",
   "execution_count": 13,
   "metadata": {},
   "outputs": [
    {
     "data": {
      "text/latex": [
       "$\\displaystyle \\left[\\begin{matrix}2 x - 4 z & 2 y + 2 & - 4 x + 2 z\\end{matrix}\\right]$"
      ],
      "text/plain": [
       "[2*x - 4*z, 2*y + 2, -4*x + 2*z]"
      ]
     },
     "execution_count": 13,
     "metadata": {},
     "output_type": "execute_result"
    }
   ],
   "source": [
    "# Definindo as variáveis e a função g:\n",
    "x, y, z = sym.symbols('x y z')\n",
    "\n",
    "g = x**2 + y**2 + z**2 - 4*x*z + 2*y\n",
    "\n",
    "# Calculando o gradiente:\n",
    "grad_g = sym.derive_by_array(g, (x, y, z))\n",
    "grad_g"
   ]
  },
  {
   "cell_type": "markdown",
   "metadata": {},
   "source": [
    "Neste caso, igualando o gradiente ao vetor nulo, obtemos um sistema linear de\n",
    "três equações nas três incógnitas $ x $, $ y $ e $ z $ que pode facilmente ser\n",
    "resolvido à mão. A única solução é $ (0, -1, 0) $. Mas também podemos delegar\n",
    "esta parte do trabalho ao computador usando a função `sympy.solve` como abaixo:"
   ]
  },
  {
   "cell_type": "code",
   "execution_count": 23,
   "metadata": {},
   "outputs": [
    {
     "data": {
      "text/plain": [
       "{x: 0, y: -1, z: 0}"
      ]
     },
     "execution_count": 23,
     "metadata": {},
     "output_type": "execute_result"
    }
   ],
   "source": [
    "# Encontrando os pontos críticos (gradiente igual a zero):\n",
    "pontos_criticos = sym.solve(grad_g, (x, y, z))\n",
    "\n",
    "# Exibindo a solução:\n",
    "ponto_criticos"
   ]
  },
  {
   "cell_type": "markdown",
   "metadata": {},
   "source": [
    "📝 Observe que neste caso o resultado foi apresentado como um dicionário para\n",
    "aumentar a legibilidade: com três ou mais variáveis, fica mais difícil\n",
    "reconhecer qual coordenada corresponde a qual variável."
   ]
  },
  {
   "cell_type": "markdown",
   "metadata": {},
   "source": [
    "📝 `sympy.solve` tenta encontrar os zeros _exatos_ de uma função usando técnicas\n",
    "algébricas e outras transformações. Se esta solução não puder ser encontrada,\n",
    "o resultado pode ser uma expressão implícita ou paramétrica, ou o SymPy pode\n",
    "gerar apenas um número finito de zeros e ignorar outros.  Para obter\n",
    "_aproximações numéricas_ para a solução, utilize o procedimento `sympy.nsolve`.\n",
    "\n",
    "__Exercício:__ Para cada uma das funções abaixo, determine o gradiente\n",
    "usando `sympy.derive_by_array` e encontre os pontos críticos resolvendo o\n",
    "sistema de equações formado ao se igualar o gradiente ao vetor nulo com\n",
    "ajuda do procedimento `sympy.solve`.\n",
    "\n",
    "(a) $ f(x, y) = x^3 - 3xy^2 $.\n",
    "\n",
    "(b) $ g(x, y) = \\sin(x) \\sin(y) $. As soluções fornecidas pelo `solve` são exaustivas?\n",
    "\n",
    "(c) $ h(x, y, z) = x^2 + y^2 + z^2 - 4xz + 2y $."
   ]
  },
  {
   "cell_type": "code",
   "execution_count": null,
   "metadata": {},
   "outputs": [],
   "source": []
  }
 ],
 "metadata": {
  "kernelspec": {
   "display_name": "Python 3",
   "language": "python",
   "name": "python3"
  },
  "language_info": {
   "codemirror_mode": {
    "name": "ipython",
    "version": 3
   },
   "file_extension": ".py",
   "mimetype": "text/x-python",
   "name": "python",
   "nbconvert_exporter": "python",
   "pygments_lexer": "ipython3",
   "version": "3.12.3"
  }
 },
 "nbformat": 4,
 "nbformat_minor": 2
}
