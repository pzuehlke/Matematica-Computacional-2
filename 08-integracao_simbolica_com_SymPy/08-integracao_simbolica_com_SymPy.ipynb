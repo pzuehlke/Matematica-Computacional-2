{
 "cells": [
  {
   "cell_type": "markdown",
   "metadata": {},
   "source": [
    "# Cálculo simbólico de integrais com SymPy"
   ]
  },
  {
   "cell_type": "markdown",
   "metadata": {},
   "source": [
    "## $ \\S 1 $ Exemplos de integração em uma variável\n",
    "\n",
    "O SymPy também é capaz de realizar integrações simbólicas. No caso de integrais\n",
    "indefinidas, ele utiliza uma combinação de regras algébricas, mudanças de\n",
    "variáveis, integração por partes e expansões em série, dentre outras técnicas.\n",
    "Para integrais definidas, ele apenas efetua o processo adicional de avaliação da\n",
    "antiderivada nos limites de integração, conforme o teorema fundamental do\n",
    "Cálculo. \n",
    "\n",
    "__Exemplo 1 (integração indefinida em uma variável):__ Para calcular uma\n",
    "antiderivada da função $ f(x) = x^2 $ usando o SymPy, procedemos da seguinte\n",
    "forma:"
   ]
  },
  {
   "cell_type": "code",
   "execution_count": 2,
   "metadata": {},
   "outputs": [
    {
     "data": {
      "text/latex": [
       "$\\displaystyle \\frac{x^{3}}{3}$"
      ],
      "text/plain": [
       "x**3/3"
      ]
     },
     "execution_count": 2,
     "metadata": {},
     "output_type": "execute_result"
    }
   ],
   "source": [
    "# Importando o SymPy:\n",
    "import sympy as sym\n",
    "\n",
    "# Definindo a variável simbólica:\n",
    "x = sym.symbols('x')\n",
    "\n",
    "# Definindo a função:\n",
    "f = x**2\n",
    "\n",
    "# Calculando a antiderivada:\n",
    "F = sym.integrate(f, x)\n",
    "\n",
    "# Retornando o resultado:\n",
    "F"
   ]
  },
  {
   "cell_type": "markdown",
   "metadata": {},
   "source": [
    "O SymPy calculou uma antiderivada específica, mas recorde do curso de Cálculo\n",
    "que qualquer outra antiderivada difere desta por uma constante aditiva, ou seja,\n",
    "$$\n",
    "\\int x^2\\,dx = \\frac{x^3}{3} + C\\qquad \\text{onde $ C \\in \\mathbb R $ é arbitrária.}\n",
    "$$"
   ]
  },
  {
   "cell_type": "markdown",
   "metadata": {},
   "source": [
    "__Exemplo 2 (integração definida em uma variável):__ Agora vamos calcular\n",
    "a integral definida da função seno no intervalo $ [0, \\pi] $:\n",
    "$$\n",
    "\\int_0^\\pi \\sin x \\,dx\\,.\n",
    "$$"
   ]
  },
  {
   "cell_type": "code",
   "execution_count": 3,
   "metadata": {},
   "outputs": [
    {
     "data": {
      "text/latex": [
       "$\\displaystyle 2$"
      ],
      "text/plain": [
       "2"
      ]
     },
     "execution_count": 3,
     "metadata": {},
     "output_type": "execute_result"
    }
   ],
   "source": [
    "# Definindo a função seno:\n",
    "g = sym.sin(x)\n",
    "\n",
    "# Desta vez precisamos especificar também os limites de integração:\n",
    "integral_definida = sym.integrate(g, (x, 0, sym.pi))\n",
    "\n",
    "# Retornando o resultado:\n",
    "integral_definida"
   ]
  },
  {
   "cell_type": "markdown",
   "metadata": {},
   "source": [
    "__Exemplo 3 (integral transcendente):__ Por fim, vamos testar os\n",
    "poderes de integração do SymPy tentando calcular uma antiderivada para uma\n",
    "função mais interessante,\n",
    "$$\n",
    "\\phi(x) = \\frac{1}{\\sqrt{2\\pi}} e^{-{x^2}/{2}} \\qquad (x \\in \\mathbb R)\\,.\n",
    "$$\n",
    "Esta é a função densidade da _distribuição normal_ padrão e tem\n",
    "papel central em probabilidade e estatística.\n",
    "Observe que a integral indefinida de $ \\phi $ _existe_. Isto segue\n",
    "do teorema fundamental do Cálculo, já que (claramente) $ \\phi $ é contínua em toda\n",
    "a reta real.  Além disto, não é difícil mostrar que a integral de $ \\phi $ de $\n",
    "-\\infty $ a $ +\\infty $ vale $ 1 $. Portanto\n",
    "$$\n",
    "\\Phi(x) = \\int_{-\\infty}^x \\phi(x)\\,dx\n",
    "$$\n",
    "é uma antiderivada. Entretanto, $ \\Phi $ não é uma função elementar. Uma\n",
    "__função elementar__ é uma função construída a partir de funções racionais,\n",
    "exponenciais e trigonométricas, além de suas inversas, utilizando-se um número\n",
    "finito de operações de adição, subtração, multiplicação, divisão, extração de\n",
    "raízes e composição de funções. Uma função não-elementar é chamada de\n",
    "__transcendente__. Dito de outra forma, é impossível encontrar uma \"fórmula\n",
    "fechada\" para $ \\Phi $, não importa quão sofisticadas sejam as técnicas de\n",
    "integração que tentemos empregar."
   ]
  },
  {
   "cell_type": "code",
   "execution_count": 24,
   "metadata": {},
   "outputs": [
    {
     "data": {
      "text/latex": [
       "$\\displaystyle \\frac{\\operatorname{erf}{\\left(\\frac{\\sqrt{2} x}{2} \\right)}}{2}$"
      ],
      "text/plain": [
       "erf(sqrt(2)*x/2)/2"
      ]
     },
     "execution_count": 24,
     "metadata": {},
     "output_type": "execute_result"
    }
   ],
   "source": [
    "# Definindo a função densidade da distribuição normal:\n",
    "phi = (1 / sym.sqrt(2 * sym.pi)) * sym.exp(-x**2 / 2)\n",
    "\n",
    "# Calculando uma antiderivada:\n",
    "Phi = sym.integrate(phi, x)\n",
    "\n",
    "# Retornando o resultado:\n",
    "Phi"
   ]
  },
  {
   "cell_type": "markdown",
   "metadata": {},
   "source": [
    "Por definição, a chamada _função erro_ $ \\text{erf} $ é dada por\n",
    "$$ \\text{erf}(x) = \\frac{2}{\\sqrt{\\pi}} \\int_0^x e^{-t^2} \\, dt\\,. $$\n",
    "\n",
    "Este exemplo ilustra um fato geral: quando não é possível encontrar uma fórmula\n",
    "fechada para a antiderivada de uma função, o SymPy tenta expressá-la em termos\n",
    "de alguma __função especial__, i.e., uma função transcendente que ocorre com\n",
    "freqüência na prática e possui propriedades bem estudadas."
   ]
  },
  {
   "cell_type": "markdown",
   "metadata": {},
   "source": [
    "__Exercício:__ Calcule as integrais indicadas usando o SymPy.\n",
    "\n",
    "(a) $$ \\int e^x \\cos x\\,dx $$\n",
    "\n",
    "(b) $$ \\int_2^4 \\frac{1}{at\\, \\ln(bt)} \\, dt \\qquad (a,\\,b > 0) $$\n",
    "\n",
    "(c) $$ \\int \\frac{1}{(u^2 + 2u + 5)} \\,du $$\n",
    "\n",
    "(d) $$ \\int_{-\\infty}^{+\\infty} \\frac{1}{x^2 + 1}\\,dx $$\n",
    "_Dica:_ Use `sym.oo` (duplo 'o') para representar infinito.\n",
    "\n",
    "(e) $$ \\int \\frac{\\sin t}{t} \\, dt $$ Esta integral indefinida não\n",
    "pode ser expressa através de uma fórmula fechada. A antiderivada\n",
    "$$ \\text{Si}(x) = \\int_0^x \\frac{\\sin t}{t} \\, dt \\qquad (x \\in \\mathbb R) $$\n",
    "é conhecida como a\n",
    "**função seno integral** e denotada por $ \\text{Si} $."
   ]
  },
  {
   "cell_type": "code",
   "execution_count": null,
   "metadata": {},
   "outputs": [],
   "source": []
  },
  {
   "cell_type": "markdown",
   "metadata": {},
   "source": [
    "__Exercício:__ A __função gama__ é definida por\n",
    "$$ \\Gamma(x) = \\int_0^\\infty t^{x-1} e^{-t} \\, dt\\,. $$\n",
    "Ela está definida para todo $ x > 0 $.\n",
    "\n",
    "(a) Usando o SymPy, mostre que $ \\Gamma\\big(\\frac{3}{2}\\big) = \\frac{\\sqrt{\\pi}}{2} $.\n",
    "_Dica:_ Substitua $ x = \\frac{3}{2} $ na definição e calcule a integral resultante. Você\n",
    "vai precisar da função raiz quadrada (`sym.sqrt`), da exponencial (`sym.exp`) e do\n",
    "símbolo $ +\\infty $ (`sym.oo`).\n",
    "\n",
    "(b) Usando o SymPy, calcule $ \\Gamma(n) $ para $ n = 1, 2, \\cdots, 8 $. Conjecture o valor\n",
    "de $ \\Gamma(n) $ para um inteiro $ n \\ge 1 $ qualquer. _Dica:_ Use um laço de repetição.\n",
    "\n",
    "(c) Verifique que $ \\Gamma(x + 1) = x\\,\\Gamma(x) $ para todo $ x $ no domínio\n",
    "usando integração por partes (sem ajuda do computador). _Dica:_ Na integral\n",
    "que define $ \\Gamma(x + 1) $, tome $ u = t^{x} $ e $ dv = e^{-t}\\,dt $.\n",
    "\n",
    "(d) Utilize o SymPy para verificar esta identidade através das instruções:\n",
    "$$\n",
    "\\begin{alignat*}{9}\n",
    "&\\mathtt{equacao = sym.Eq(sym.gamma(x + 1),\\ x * sym.gamma(x))} \\\\\n",
    "&\\mathtt{equacao\\_simplificada = sym.simplify(identidade)} \\\\\n",
    "&\\mathtt{display(equacao\\_simplificada)}\n",
    "\\end{alignat*}\n",
    "$$\n",
    "Aqui `sym.gamma` é a função gama fornecida pelo SimPy. A primeira instrução cria\n",
    "uma equação simbólica. O primeiro (resp. segundo) argumento é o lado esquerdo\n",
    "(resp. direito) da equação. A função `simplify` tenta simplificar a expressão ou\n",
    "equação passada como argumento."
   ]
  },
  {
   "cell_type": "code",
   "execution_count": null,
   "metadata": {},
   "outputs": [],
   "source": []
  },
  {
   "cell_type": "markdown",
   "metadata": {},
   "source": [
    "__Exercício:__\n",
    "\n",
    "(a) Calcule\n",
    "$$\n",
    "I(n) = \\int_0^\\pi \\sin^n x\\,dx\n",
    "$$\n",
    "para cada $ n = 0,\\,1,\\,\\cdots,\\,10 $ usando o SymPy. Conjecture\n",
    "uma fórmula para a razão $ \\frac{I(n)}{I(n-2)} $.\n",
    "\n",
    "(b) Usando integração por partes, verifique que\n",
    "$$\n",
    "\\frac{I(n)}{I(n - 2)} = \\frac{n - 1}{n}\\qquad (n \\ge 2 \\text{ inteiro}).\n",
    "$$\n",
    "_Dica:_ Tome $ u = \\sin^{n - 1} x $ e $ dv = \\sin x\\,dx $."
   ]
  },
  {
   "cell_type": "code",
   "execution_count": 28,
   "metadata": {},
   "outputs": [],
   "source": []
  },
  {
   "cell_type": "markdown",
   "metadata": {},
   "source": [
    "## $ \\S 2 $ Avaliando e transformando funções definidas com o SymPy\n",
    "\n",
    "Como visto no caderno anterior, as funções definidas no SymPy não têm o mesmo\n",
    "tipo que as funções padrões em Python (ou do NumPy). Em particular, para avaliar\n",
    "uma tal função num ponto $ a $, a sintaxe `f(a)` não funciona diretamente. Em\n",
    "vez disto, precisamos utilizar a função `subs`.\n",
    "\n",
    "__Exemplo 1:__ Considere a função $ f(x) = x^2 - x - 1 $. Vamos avaliá-la no ponto $ x = 3 $."
   ]
  },
  {
   "cell_type": "code",
   "execution_count": 5,
   "metadata": {},
   "outputs": [
    {
     "data": {
      "text/latex": [
       "$\\displaystyle 5$"
      ],
      "text/plain": [
       "5"
      ]
     },
     "execution_count": 5,
     "metadata": {},
     "output_type": "execute_result"
    }
   ],
   "source": [
    "f = x**2 - x - 1\n",
    "y = f.subs(x, 3)    # Avaliando a função no ponto x = 3\n",
    "y"
   ]
  },
  {
   "cell_type": "markdown",
   "metadata": {},
   "source": [
    "Para transformar uma função simbólica do SymPy em uma função Python convencional\n",
    "(como aquelas construídas com `def` ou `lambda`), podemos utilizar o comando\n",
    "`lambdify`. Em particular, uma vez transformada, a função passa\n",
    "a ser compatível com o NumPy e o Matplotlib, de modo que podemos\n",
    "avaliá-la num array, desenhar seu gráfico ou passá-la como argumento\n",
    "de outras funções.\n",
    "\n",
    "__Exemplo 2:__ Considere a mesma função $ f(x) = x^2 - x - 1 $ que no exemplo anterior.\n",
    "Vamos convertê-la numa função \"normal\"."
   ]
  },
  {
   "cell_type": "code",
   "execution_count": 8,
   "metadata": {},
   "outputs": [
    {
     "name": "stdout",
     "output_type": "stream",
     "text": [
      "[-1  1  5 11 19]\n"
     ]
    }
   ],
   "source": [
    "# Vamos importar o NumPy para avaliar f em vários pontos simultaneamente:\n",
    "import numpy as np\n",
    "\n",
    "f = x**2 - x - 1\n",
    "\n",
    "# Transformando a função simbólica em uma função normal:\n",
    "g = sym.lambdify(x, f)\n",
    "\n",
    "# Avaliando g em diferentes pontos:\n",
    "pontos = np.array([1, 2, 3, 4, 5])\n",
    "resultados = g(pontos)\n",
    "print(resultados)"
   ]
  },
  {
   "cell_type": "markdown",
   "metadata": {},
   "source": [
    "## $ \\S 3 $ Integração de funções de várias variáveis\n",
    "\n",
    "O SymPy também suporta a integração de funções de várias variáveis. A integração\n",
    "múltipla pode ser realizada especificando-se os limites de integração para cada\n",
    "variável de forma aninhada.\n",
    "\n",
    "__Exemplo 1 (integral de função de duas variáveis sobre um retângulo):__\n",
    "Considere a função $ f(x, y) = y \\sin(xy) $. Vamos calcular a integral dupla\n",
    "dessa função sobre o retângulo\n",
    "$ [0, 1] \\times \\big[0, \\frac{\\pi}{4}\\big] $\n",
    "(verifique o resultado calculando a integral sem ajuda do\n",
    "computador)."
   ]
  },
  {
   "cell_type": "code",
   "execution_count": 13,
   "metadata": {},
   "outputs": [
    {
     "data": {
      "text/latex": [
       "$\\displaystyle - \\frac{\\sqrt{2}}{2} + \\frac{\\pi}{4}$"
      ],
      "text/plain": [
       "-sqrt(2)/2 + pi/4"
      ]
     },
     "execution_count": 13,
     "metadata": {},
     "output_type": "execute_result"
    }
   ],
   "source": [
    "# Reservando os símbolos para as variáveis e definindo f:\n",
    "x, y = sym.symbols('x y')\n",
    "f = y * sym.sin(x * y)\n",
    "\n",
    "# Calculando a integral dupla:\n",
    "integral_dupla = sym.integrate(f, (x, 0, 1), (y, 0, sym.pi / 4))\n",
    "\n",
    "# Retornando o resultado:\n",
    "integral_dupla"
   ]
  },
  {
   "cell_type": "markdown",
   "metadata": {},
   "source": [
    "__Exemplo 2:__ Também é possível considerar integrais \"mistas\" em que o limite de integração\n",
    "é especificado apenas para algumas das variáveis. Por exemplo, para calcular\n",
    "$$\n",
    "\\int \\int_{1}^{e} 2\\,\\frac{\\ln(x + y)}{x + y} \\,dy\\,dx\n",
    "$$\n",
    "basta não indicar os limites de integração para $ x $:"
   ]
  },
  {
   "cell_type": "code",
   "execution_count": 6,
   "metadata": {},
   "outputs": [
    {
     "data": {
      "text/latex": [
       "$\\displaystyle - x \\log{\\left(x \\right)}^{2} + 2 x \\log{\\left(x \\right)} - 2 x \\log{\\left(x + e \\right)} + \\left(x + e\\right) \\log{\\left(x + e \\right)}^{2} - 2 e \\log{\\left(x + e \\right)}$"
      ],
      "text/plain": [
       "-x*log(x)**2 + 2*x*log(x) - 2*x*log(x + E) + (x + E)*log(x + E)**2 - 2*E*log(x + E)"
      ]
     },
     "execution_count": 6,
     "metadata": {},
     "output_type": "execute_result"
    }
   ],
   "source": [
    "import sympy as sym\n",
    "# Calculando a integral dupla:\n",
    "x, y = sym.symbols('x y')\n",
    "g = 2 * sym.log(x + y) / (x + y)\n",
    "integral_mista = sym.integrate(g, (y, 0, sym.E), x)\n",
    "\n",
    "# Retornando o resultado:\n",
    "integral_mista"
   ]
  },
  {
   "cell_type": "markdown",
   "metadata": {},
   "source": [
    "⚠️ A ordem em que as variáveis de integração aparecem como argumentos do\n",
    "procedimento `integrate` é importante e determina a ordem em que as integrações\n",
    "são realizadas. A variável de integração mais interna deve aparecer antes na\n",
    "lista de argumentos, e assim em diante até a variável de integração mais externa."
   ]
  },
  {
   "cell_type": "markdown",
   "metadata": {},
   "source": [
    "__Exemplo 3 (integração com limites variáveis em coordenadas polares):__ \n",
    "Gostaríamos de encontrar a área delimitada pela curva cardióide dada em\n",
    "coordenadas polares por\n",
    "$$\n",
    "r = a(1 + \\cos \\theta) \\qquad \\text{onde } 0 \\le \\theta \\le 2\\pi\\,.\n",
    "$$\n",
    "Para isto, precisamos integrar a função constante $ 1 $ sobre a região\n",
    "dada por $ 0 \\le \\theta \\le 2\\pi $ e $ 0 \\le r \\le a(1 + \\cos \\theta) $.\n",
    "Como os limites de integração de $ r $ dependem de $ \\theta $,\n",
    "a integração com respeito a $ r $ deve ser efetuada primeiro."
   ]
  },
  {
   "cell_type": "code",
   "execution_count": null,
   "metadata": {},
   "outputs": [
    {
     "data": {
      "text/latex": [
       "$\\displaystyle \\frac{3 \\pi a^{2}}{2}$"
      ],
      "text/plain": [
       "3*pi*a**2/2"
      ]
     },
     "metadata": {},
     "output_type": "display_data"
    }
   ],
   "source": [
    "# Introduzindo as varíaveis r, θ e a constante a como símbolos:\n",
    "r, θ, a = sym.symbols('r θ a')\n",
    "f = 1\n",
    "\n",
    "# Calculando a integral dupla com limites variáveis em coordenadas polares,\n",
    "# sem esquecer de incluir o fator de integração r:\n",
    "integral_polar = sym.integrate(f * r, (r, 0, a * (1 + sym.cos(θ))), (θ, 0, 2 * sym.pi))\n",
    "integral_polar"
   ]
  },
  {
   "cell_type": "markdown",
   "metadata": {},
   "source": [
    "__Exercício:__ \n",
    "Calcule\n",
    "$$ I = \\int_{0}^{2} \\int_{0}^{\\sqrt{4 - x^2}} \\frac{1}{\\big(x^2 + y^2\\big)^{\\frac{1}{3}}} \\, dy \\, dx. $$\n",
    "utilizando coordenadas polares. _Dica:_ Primeiro esboce a região de integração e determine os limites de integração em termos de $ r $ e $ \\theta $. A função _raiz $ n $-ésima_ de $ x $ é `sym.root(x, n)`."
   ]
  },
  {
   "cell_type": "code",
   "execution_count": null,
   "metadata": {},
   "outputs": [],
   "source": []
  },
  {
   "cell_type": "markdown",
   "metadata": {},
   "source": [
    "O procedimento para o cálculo de integrais triplas, quádruplas, etc. é inteiramente análogo."
   ]
  },
  {
   "cell_type": "markdown",
   "metadata": {},
   "source": [
    "__Exercício:__ Encontre o volume das regiões seguintes:\n",
    "\n",
    "(a) A bola $ B^3 $ delimitada pela esfera de raio $ r > 0 $ centrada na origem\n",
    "em $ \\mathbb R^3 $, descrita pela equação\n",
    "$$\n",
    "B^3(r) = \\{(x, y, z) \\in \\mathbb R^3 : x^2 + y^2 + z^2 \\le r^2 \\}\\,.\n",
    "$$\n",
    "_Dica:_ Não tente calcular a integral tripla diretamente. Considere as seções de $ B^3 $\n",
    "por planos horizontais de altura $ z $.\n",
    "\n",
    "(b) A bola $ B^4 $ delimitada pela esfera unitária centrada na origem em\n",
    "$ \\mathbb R^4 $, descrita pela equação\n",
    "$$\n",
    "B^4 = \\{(x, y, z, w) \\in \\mathbb R^4 : x^2 + y^2 + z^2 + w^2 \\le 1 \\}\\,.\n",
    "$$\n",
    "_Dica:_ Quem são as seções de $ B^4 $ por planos com $ w $ constante?\n",
    "Utilize o resultado encontrado no item (a).\n",
    "\n",
    "(c) A região $ E^3 $ delimitada pelo elipsóide de equação\n",
    "$$\n",
    "\\frac{x^2}{a^2} + \\frac{y^2}{b^2} + \\frac{z^2}{c^2} = 1\\qquad (a,\\,b,\\,c > 0).\n",
    "$$\n",
    "_Dica:_ Introduza a mudança de variáveis $ u = \\frac{x}{a} $, $ v = \\frac{y}{b} $ e $ w = \\frac{z}{c} $."
   ]
  },
  {
   "cell_type": "code",
   "execution_count": null,
   "metadata": {},
   "outputs": [],
   "source": []
  },
  {
   "cell_type": "markdown",
   "metadata": {},
   "source": [
    "__Exercício:__ Considere o tetraedro $ T $ de vértices \n",
    "$$\n",
    "(0, 0, 0), \\quad (1, 0, 0), \\quad (0, 1, 0), \\quad (0, 0, 1)\\,.\n",
    "$$\n",
    "_Dica:_ Desenhe uma figura para encontrar os limites de integração.\n",
    "\n",
    "(a) Calcule o volume de $ T $.\n",
    "\n",
    "(b) Calcule a terceira coordenada $ \\bar z $ do centróide de $ T $, definida por\n",
    "$$\n",
    "\\bar z\\, \\iiint_T\\, 1\\,dx\\,dy\\,dz = \\iiint_T\\, z\\,dx\\,dy\\,dz\\,.\n",
    "$$\n",
    "Informalmente, $ \\bar z $ é a altura média dos pontos de $ T $."
   ]
  },
  {
   "cell_type": "code",
   "execution_count": null,
   "metadata": {},
   "outputs": [],
   "source": []
  }
 ],
 "metadata": {
  "kernelspec": {
   "display_name": "Python 3",
   "language": "python",
   "name": "python3"
  },
  "language_info": {
   "codemirror_mode": {
    "name": "ipython",
    "version": 3
   },
   "file_extension": ".py",
   "mimetype": "text/x-python",
   "name": "python",
   "nbconvert_exporter": "python",
   "pygments_lexer": "ipython3",
   "version": "3.12.3"
  }
 },
 "nbformat": 4,
 "nbformat_minor": 2
}
