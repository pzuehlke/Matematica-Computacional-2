{
 "cells": [
  {
   "cell_type": "code",
   "execution_count": 22,
   "id": "9167cf80",
   "metadata": {},
   "outputs": [],
   "source": [
    "import numpy as np"
   ]
  },
  {
   "cell_type": "markdown",
   "id": "8c85fcc7",
   "metadata": {},
   "source": [
    "# Alguns algoritmos geométricos\n",
    "\n",
    "A __geometria computacional__ é dedicada à obtenção e ao estudo de algoritmos\n",
    "eficientes para resolver problemas geométricos. Ela tem aplicações práticas em\n",
    "diversos campos: em computação gráfica e jogos, é essencial para a detecção de\n",
    "colisões, renderização e animação; em sistemas de informação geográfica (GIS) e\n",
    "cartografia, permite o processamento de mapas; na robótica,\n",
    "possibilita o planejamento de trajetórias e a navegação autônoma; no design\n",
    "assistido por computador (CAD/CAM), viabiliza a modelagem e manufatura de peças\n",
    "complexas; em visão computacional, auxilia no reconhecimento de padrões e\n",
    "reconstrução $ 3D $; e em biologia computacional, ajuda na análise de estruturas\n",
    "moleculares e dobramento de proteínas.\n",
    "\n",
    "Neste cadernos, exploraremos somente alguns conceitos fundamentais mas\n",
    "representativos desta área.  Trabalharemos exclusivamente com pontos e vetores\n",
    "no plano $ \\mathbb R^2 $."
   ]
  },
  {
   "cell_type": "markdown",
   "id": "2a2d657b",
   "metadata": {},
   "source": [
    "## $ \\S 1 $ Definições básicas\n",
    "\n",
    "Dado dois pontos distintos $\\boldsymbol p_1 = (x_1, y_1) $ e $\\boldsymbol p_2 =\n",
    "(x_2, y_2) $, o **segmento de reta** $\\overline{\\boldsymbol p_1\\boldsymbol p_2}$\n",
    "consiste dos pontos entre $\\boldsymbol p_1$ e $\\boldsymbol p_2$ na única reta\n",
    "que passa por eles.  Chamamos $\\boldsymbol p_1$ e $\\boldsymbol p_2$ de\n",
    "**extremidades** do segmento $\\overline{\\boldsymbol p_1\\boldsymbol p_2}$."
   ]
  },
  {
   "cell_type": "markdown",
   "id": "75652dbe",
   "metadata": {},
   "source": [
    "Um ponto $ \\boldsymbol p_3 = (x_3, y_3) $ pertence à reta por  $\\boldsymbol p_1$ e\n",
    "$\\boldsymbol p_2$ se e somente se pode ser expresso na forma\n",
    "$$\\boldsymbol p_3 = s \\boldsymbol p_1 + (1 - s) \\boldsymbol p_2$$\n",
    "para algum $ s \\in \\mathbb R $.\n",
    "Ou, separando as coordenadas,\n",
    "$$\n",
    "x_3 = s x_1 + (1 - s) x_2, \\quad \n",
    "y_3 = s y_1 + (1 - s) y_2 \\qquad (s \\in \\mathbb R)\\,.\n",
    "$$\n",
    "Já os pontos $\\boldsymbol p_3 = s \\boldsymbol p_1 + (1 - s) \\boldsymbol p_2$\n",
    "para $ 0 \\le s \\le 1 $ são chamados de **combinações convexas** de $\\boldsymbol p_1 = (x_1, y_1)$ e\n",
    "$\\boldsymbol p_2 = (x_2, y_2)$. Conforme $ s $ varia entre $ 0 $ e $ 1 $, eles\n",
    "descrevem exatamente o segmento de reta\n",
    "$\\overline{\\boldsymbol p_1\\boldsymbol p_2} $. "
   ]
  },
  {
   "cell_type": "markdown",
   "id": "1911cece",
   "metadata": {},
   "source": [
    "Às vezes a ordem importa e falamos do **segmento dirigido**\n",
    "$\\overrightarrow{\\boldsymbol p_1\\boldsymbol p_2}$. \n",
    "Este último pode ser visualizado como uma seta de\n",
    "$ \\boldsymbol p_1 $ a $ \\boldsymbol p_2 $.\n",
    "No caso especial em que $\\boldsymbol p_1$ é a origem $(0,0)$, podemos tratar\n",
    "$\\overrightarrow{\\boldsymbol p_1\\boldsymbol p_2}$ simplesmente como o vetor\n",
    "$\\boldsymbol p_2$.\n",
    "\n",
    "Propriedades de segmentos de reta e produtos vetoriais formam a base para\n",
    "vários algoritmos geométricos. Os problemas que vamos resolver aqui admitem\n",
    "soluções simples do ponto de vista matemático; contudo, precisamos nos preocupar\n",
    "também em obter algoritmos eficientes e robustos, que evitem operações\n",
    "numericamente instáveis (como a divisão) sempre que possível."
   ]
  },
  {
   "cell_type": "markdown",
   "id": "7b089226",
   "metadata": {},
   "source": [
    "## $ \\S 2 $ Produtos Vetoriais\n",
    "\n",
    "Considere os vetores $\\boldsymbol p_1$ e $\\boldsymbol p_2$ no plano. \n",
    "Definiremos o seu **produto vetorial** por\n",
    "$$\n",
    "\\boxed{\\ \\boldsymbol p_1 \\times \\boldsymbol p_2 = \n",
    "\\det \\begin{bmatrix}\n",
    "x_1 & y_1 \\\\\n",
    "x_2 & y_2\n",
    "\\end{bmatrix}\n",
    "= x_1 y_2 - x_2 y_1\\ }\n",
    "$$\n",
    "Observe que vale $ \\boldsymbol p_2 \\times \\boldsymbol p_1 = - \\boldsymbol p_1 \\times \\boldsymbol p_2 $.\n",
    "O cálculo destes produtos será a ferramenta principal em vários dos nossos algoritmos."
   ]
  },
  {
   "cell_type": "markdown",
   "id": "20fdb05b",
   "metadata": {},
   "source": [
    "⚠️ Talvez você tenha visto uma definição diferente de produto vetorial em Álgebra Linear.\n",
    "Dados dois vetores $\\boldsymbol{u} = (x_1, y_1, z_1) $ e\n",
    "$\\boldsymbol{v} = (x_2, y_2, z_2) $ em $\\mathbb{R}^3$, o seu produto vetorial é dado pelo\n",
    "determinante simbólico\n",
    "$$\\boldsymbol{u} \\times \\boldsymbol{v} = \\begin{vmatrix}\n",
    "\\boldsymbol{i} & \\boldsymbol{j} & \\boldsymbol{k} \\\\\n",
    "x_1 & y_1 & z_1 \\\\\n",
    "x_2 & y_2 & z_2\n",
    "\\end{vmatrix}$$\n",
    "Quando ambos os vetores $ \\boldsymbol u $ e $ \\boldsymbol v $ estão no plano $ \\mathbb R^2 $, i.e.,\n",
    "têm terceira coordenada nula, então  $ \\boldsymbol{u} \\times \\boldsymbol{v} $ se reduz a\n",
    "$$ (x_1y_2 - x_2y_1)\\,\\boldsymbol k\\,. $$\n",
    "Portanto, neste caso o produto vetorial definido anteriormente representa a única\n",
    "coordenada não-nula do produto vetorial tradicional, e sendo assim contém exatamente\n",
    "a mesma informação. A vantagem da nossa definição é que ela fornece um\n",
    "número, em vez de um vetor em $ \\mathbb R^3 $. $\\quad \\blacksquare $"
   ]
  },
  {
   "cell_type": "markdown",
   "id": "c3478542",
   "metadata": {},
   "source": [
    "Podemos interpretar o produto vetorial $\\boldsymbol p_1 \\times \\boldsymbol p_2$ como a **área orientada**\n",
    "do paralelogramo $ P $ de vértices $\\boldsymbol 0 $, $\\boldsymbol p_1$, $\\boldsymbol p_2$ e $\\boldsymbol p_1 + \\boldsymbol p_2 = (x_1 + x_2, y_1 + y_2)$. Mais precisamente, vale\n",
    "$$\n",
    "\\boxed{\\ \\text{área}(P) = \\vert\\boldsymbol p_1 \\times \\boldsymbol p_2\\vert\\ }\n",
    "$$\n",
    "Provaremos esta fórmula numa seção adiante.\n",
    "<p align=\"center\">\n",
    "    <img src=\"paralelogramo.png\" alt=\"Calculando a área de um paralelograma usando o produto vetorial\"><br>\n",
    "    <em>Figura 1: Calculando a área de um paralelograma usando o produto vetorial</em>\n",
    "</p>"
   ]
  },
  {
   "cell_type": "markdown",
   "id": "ba8aab74",
   "metadata": {},
   "source": [
    "O sinal de $ \\boldsymbol p_1 \\times \\boldsymbol p_2 $ indica a orientação\n",
    "relativa destes vetores:\n",
    "- Se $\\boldsymbol p_1 \\times \\boldsymbol p_2 > 0$, então $\\boldsymbol p_2$ está no sentido *anti-horário* em relação a $\\boldsymbol p_1$, ao redor da origem.\n",
    "- Se $\\boldsymbol p_1 \\times \\boldsymbol p_2 < 0$, então $\\boldsymbol p_2$ está no sentido *horário* em relação a $\\boldsymbol p_1$, ao redor da origem.\n",
    "- Se $\\boldsymbol p_1 \\times \\boldsymbol p_2 = 0$, os vetores são\n",
    "  *colineares*, apontando na mesma direção ou em direções opostas."
   ]
  },
  {
   "cell_type": "markdown",
   "id": "bd7740d4",
   "metadata": {},
   "source": [
    "**Exercício 1:** Mostre que o sinal de $\\boldsymbol p_1 \\times \\boldsymbol p_2 $ tem\n",
    "o significado descrito acima. _Dica:_ Uma possibilidade de demonstração seria a seguinte.\n",
    "Sabemos da Álgebra Linear que os vetores são colineares se e somente se $\n",
    "\\boldsymbol p_1 \\times \\boldsymbol p_2 = 0 $, logo vale a terceira afirmação. E a\n",
    "primeira afirmação está correta no caso especial em que $ \\boldsymbol p_1 =\n",
    "\\boldsymbol i = (1, 0) $ e $ \\boldsymbol p_2 = \\boldsymbol j = (0, 1) $. Mas\n",
    "observe que podemos deformar continuamente qualquer par $ \\boldsymbol p_1 $ e $\n",
    "\\boldsymbol p_2 $ tal que $ \\boldsymbol p_2 $ está no sentido anti-horário a\n",
    "partir de $ \\boldsymbol p_1 $ no par $ \\boldsymbol i $ e $ \\boldsymbol j $,\n",
    "respectivamente, sem nunca passar por um par de vetores colineares. Pela\n",
    "continuidade de $ \\boldsymbol p_1 \\times \\boldsymbol p_2 $ com respeito a $ x_1,\n",
    "x_2, y_1, y_2 $, o sinal do produto vetorial não pode mudar durante esta\n",
    "deformação, logo se mantém positivo. Podemos estabelecer a segunda afirmação de\n",
    "maneira inteiramente análoga, a partir do caso especial em que $ \\boldsymbol p_1\n",
    "= \\boldsymbol i $ e $ \\boldsymbol p_2 = -\\boldsymbol j $."
   ]
  },
  {
   "cell_type": "markdown",
   "id": "44e690f8",
   "metadata": {},
   "source": [
    "**Exercício 2:** Usando o NumPy:\n",
    "\n",
    "(a) Implemente um procedimento para calcular\n",
    "o produto vetorial $ \\boldsymbol p_1 \\times \\boldsymbol p_2 $ de dois\n",
    "pontos dados no plano. Você pode assumir que $ \\boldsymbol p_1 $\n",
    "e $ \\boldsymbol p_2 $ são arrays unidimensionais. _Dica:_ Você\n",
    "pode utilizar diretamente a definição, extraindo as coordenadas dos\n",
    "dois pontos, ou então a função `np.cross` que calcula o produto vetorial\n",
    "tradicional (i.e., como vetor em $ \\mathbb R^3 $).\n",
    "\n",
    "(b) Teste o seu procedimento de modo a cobrir todas as três possibilidades."
   ]
  },
  {
   "cell_type": "code",
   "execution_count": null,
   "id": "9faa4a17",
   "metadata": {},
   "outputs": [],
   "source": [
    "import numpy as np\n",
    "\n",
    "def produto_vetorial(p_1, p_2):\n",
    "    # complete a definicao\n",
    "    # a saída deve ser um número, não um vetor"
   ]
  },
  {
   "cell_type": "markdown",
   "id": "6c1720c7",
   "metadata": {},
   "source": [
    "## $ \\S 3 $ Determinando a orientação de segmentos dirigidos com a mesma origem\n",
    "\n",
    "Generalizando a interpretação do sinal do produto vetorial na $ \\S 2 $,\n",
    "podemos determinar se um segmento dirigido\n",
    "$\\overrightarrow{\\boldsymbol p_0\\boldsymbol p_2}$ está mais próximo de um\n",
    "segmento dirigido $\\overrightarrow{\\boldsymbol p_0\\boldsymbol p_1}$ no sentido\n",
    "horário ou anti-horário em relação ao ponto extremo comum $\\boldsymbol p_0$.\n",
    "Para isto, basta realizar uma translação para que $\\boldsymbol p_0$ coincida com\n",
    "a origem, ou seja, tomamos\n",
    "$$\n",
    "\\boldsymbol p_1' = (x_1 - x_0, \\; y_1 - y_0), \\quad \n",
    "\\boldsymbol p_2' = (x_2 - x_0, \\; y_2 - y_0).\n",
    "$$\n",
    "Então, calculamos o produto vetorial:\n",
    "$$\n",
    "\\boldsymbol p_1' \\times \\boldsymbol p_2' = (x_1 - x_0)(y_2 - y_0) - (x_2 - x_0)(y_1 - y_0).\n",
    "$$\n",
    "Pelo que foi visto na $ \\S 2 $:\n",
    "- Se o valor for positivo, $\\overrightarrow{\\boldsymbol p_0\\boldsymbol p_2}$ está no sentido *anti-horário*\n",
    "  em relação a $\\overrightarrow{\\boldsymbol p_0\\boldsymbol p_1}$.\n",
    "- Se o valor for negativo, está no sentido *horário*.\n",
    "- Se o valor for nulo, os três pontos são *colineares*.\n",
    "\n",
    "__Exercício 3:__ Complete a definição do procedimento abaixo para determinar\n",
    "a orientação de dois pontos $ \\boldsymbol p_1 $ e $ \\boldsymbol p_2 $\n",
    "relativamente a $ \\boldsymbol p_0 $. A saída deve ser um sinal\n",
    "($ 1 $, $ 0 $ ou $ -1 $), conforme fornecido pela função `np.sign`,\n",
    "com $ 1 $ correspondendo ao primeiro caso listado acima. _Dica:_\n",
    "Aproveite o procedimento que você criou no Exercício $ 2 $."
   ]
  },
  {
   "cell_type": "code",
   "execution_count": null,
   "id": "452f98b5",
   "metadata": {},
   "outputs": [],
   "source": [
    "def orientacao(p_0, p_1, p_2):\n",
    "    # complete a definicao\n",
    "    # retorne um sinal (1, 0, ou -1) conforme a descrição acima"
   ]
  },
  {
   "cell_type": "markdown",
   "id": "fb828979",
   "metadata": {},
   "source": [
    "## $ \\S 4 $ Determinando a orientação de segmentos dirigidos consecutivos"
   ]
  },
  {
   "cell_type": "markdown",
   "id": "dff64239",
   "metadata": {},
   "source": [
    "Agora em vez de considerar dois segmentos dirigidos com mesma origem, considere\n",
    "dois segmentos consecutivos,\n",
    "$$\\overrightarrow{\\boldsymbol p_0\\boldsymbol p_1} \\qquad \\text{e} \\qquad\n",
    "\\overrightarrow{\\boldsymbol p_1\\boldsymbol p_2}\\,.$$\n",
    "Imagine que os percorramos nesta ordem; precisamos curvar à\n",
    "esquerda ou à direita no ponto intermediário $\\boldsymbol p_1$?\n",
    "De forma equivalente, queremos um método para determinar em qual direção o\n",
    "ângulo $\\angle \\boldsymbol p_0\\boldsymbol p_1\\boldsymbol p_2$ gira. O uso de\n",
    "produtos vetoriais nos permite responder esta pergunta sem calcular\n",
    "explicitamente o ângulo. Para isto, basta verificar a posição de\n",
    "$\\overrightarrow{\\boldsymbol p_0\\boldsymbol p_2}$ relativamente\n",
    "a $\\overrightarrow{\\boldsymbol p_0\\boldsymbol p_1}$. Mais precisamente, calculamos\n",
    "$$\n",
    "(\\boldsymbol p_2 - \\boldsymbol p_0) \\times (\\boldsymbol p_1 - \\boldsymbol p_0) =\n",
    "(x_2 - x_0)(y_1 - y_0) - (x_1 - x_0)(y_2 - y_0)\n",
    "$$\n",
    "Pelo que vimos na $ \\S 3 $:\n",
    "- Se o sinal for *positivo*, então $\\overrightarrow{\\boldsymbol p_0\\boldsymbol p_2}$ está no sentido\n",
    "  *anti-horário* em relação a $\\overrightarrow{\\boldsymbol p_0\\boldsymbol p_1}$, portanto fazemos uma *curva à esquerda* em $\\boldsymbol p_1$.\n",
    "- Se o sinal for *negativo*, a orientação é no sentido horário e fazemos uma *curva à direita* em $ \\boldsymbol p_1 $.\n",
    "- Se o valor for *nulo*, os pontos $\\boldsymbol p_0$, $\\boldsymbol p_1$ e $\\boldsymbol p_2$ são *colineares*,\n",
    "portanto o ângulo em $ \\boldsymbol p_1 $ é raso."
   ]
  },
  {
   "cell_type": "markdown",
   "id": "2976dc7e",
   "metadata": {},
   "source": [
    "**Exercício 4:** O __ângulo polar__ de um ponto $\\boldsymbol p_1$ com respeito\n",
    "a $\\boldsymbol p_0$ é o ângulo do vetor\n",
    "$\\boldsymbol p_1 - \\boldsymbol p_0$ medido da maneira usual\n",
    "(a partir do eixo-$ x $ positivo).  Por exemplo, o\n",
    "ângulo polar de $(2,7)$ com respeito a $(-1,4)$ é o ângulo do vetor $(3,3)$,\n",
    "ou seja, $45^\\circ$ ou $\\frac{\\pi}{4}$ radianos. \n",
    "\n",
    "Mostre que é possível ordenar uma sequência $\\big( \\boldsymbol p_1,\n",
    "\\boldsymbol p_2, \\ldots, \\boldsymbol p_n \\big)$ de $n$ pontos pelos seus\n",
    "ângulos polares com respeito a uma origem $\\boldsymbol p_0$\n",
    "em tempo $O(n \\log n)$ e evitando o uso de funções trigonométricas e divisões.\n",
    "_Dica:_ Use qualquer algoritmo de ordenação com tempo de execução $ O(n \\log n)\n",
    "$, mas compare dois ângulos polares usando produtos vetoriais, em vez de\n",
    "calculá-los diretamente."
   ]
  },
  {
   "cell_type": "markdown",
   "id": "affedb5f",
   "metadata": {},
   "source": [
    "**Exercício 5:** Usando força-bruta (tomando todos os possíveis trios de pontos),\n",
    "podemos determinar em tempo $ O(n^3 )$ se existem três pontos colineares em um\n",
    "conjunto de $ n $ pontos. Mostre como executar a mesma tarefa em tempo $O(n^2 \\log n)$.\n",
    "_Dica:_ Para cada um dos $ n $ pontos $ \\boldsymbol p $:\n",
    "1. Ordene os $ n - 1 $ pontos restantes de acordo com seu ângulo polar\n",
    "relativamente a $ \\boldsymbol p $ em tempo $ O(n\\log n) $ (veja o\n",
    "exercício anterior).\n",
    "2. Percorra esta lista ordenada e para cada par de pontos consecutivos, verifique\n",
    "se são ambos colineares com $ \\boldsymbol p $."
   ]
  },
  {
   "cell_type": "markdown",
   "id": "98694bbf",
   "metadata": {},
   "source": [
    "## $ \\S 5 $ Determinando se dois segmentos de reta se intersectam\n",
    "\n",
    "Consideremos agora o problema de decidir se dois segmentos de reta\n",
    "$\\overline{\\boldsymbol p_1\\boldsymbol p_2}$ e $\\overline{\\boldsymbol p_3\\boldsymbol p_4}$ se intersectam.\n",
    "\n",
    "Uma solução seria encontrar as equações $ y = mx + b $ e $ y = m'x + b' $ das retas que contêm\n",
    "os respectivos segmentos, então encontrar a coordenada-$x$ do ponto de intersecção e finalmente\n",
    "verificar que ela está entre as coordenadas $ x $ de $ \\boldsymbol p_1 $ e $ \\boldsymbol p_2 $,\n",
    "assim como entre as de $ \\boldsymbol p_3 $ e $ \\boldsymbol p_4 $. O problema com esta estratégia\n",
    "é que ela envolve uma divisão (por $ m - m' $) e portanto sofre de instabilidade\n",
    "numérica: se as duas retas forem quase paralelas, o resultado do cálculo será extremamente sensível\n",
    "aos erros de arredondamente inerentes às operações com números de ponto flutuante.\n",
    "\n",
    "Para obter uma solução eficiente mas sem este defeito, observe que os\n",
    "dois segmentos se cruzam exatamente quando _cada segmento intersecta a reta que contém o outro_.\n",
    "Dizemos que um segmento $\\overline{\\boldsymbol p_1\\boldsymbol p_2}$ __cruza__ uma reta $ r $ caso $\\boldsymbol p_1$\n",
    "e $ \\boldsymbol p_2 $ estejam em lados opostos de\n",
    "$ \\mathbb R^2 \\smallsetminus r $. Um caso de fronteira ocorre quando\n",
    "$\\boldsymbol p_1$ ou $\\boldsymbol p_2$ está exatamente sobre a reta.\n",
    "\n",
    "Dois segmentos $\\overline{\\boldsymbol p_1\\boldsymbol p_2}$ e\n",
    "$\\overline{\\boldsymbol p_3\\boldsymbol p_4}$ se interceptam, i.e.,\n",
    "têm ao menos um ponto em comum, se e somente se\n",
    "ao menos uma das seguintes condições for verdadeira:\n",
    "1. Cada segmento cruza a reta que contém o outro.\n",
    "2. Uma extremidade de um segmento está sobre o outro segmento.\n"
   ]
  },
  {
   "cell_type": "markdown",
   "id": "d4ae05af",
   "metadata": {},
   "source": [
    "Usando este critério e o produto vetorial como ferramenta principal, podemos\n",
    "determinar se dois segmentos se intersectam em tempo $ O(1) $ e sem\n",
    "realizar nenhuma divisão através do seguinte algoritmo:\n",
    "\n",
    "**Entrada:** Segmentos $\\overline{p_1 p_2}$ e $\\overline{p_3 p_4}$.\n",
    "\n",
    "**Saída:** Verdadeiro se e somente se os segmentos se intersectam.\n",
    "\n",
    "**Algoritmo (`segmentos_se_intersectam`):**\n",
    "1. $d_1 \\gets$ orientacao($p_3$, $p_4$, $p_1$)\n",
    "2. $d_2 \\gets$ orientacao($p_3$, $p_4$, $p_2$)\n",
    "3. $d_3 \\gets$ orientacao($p_1$, $p_2$, $p_3$)\n",
    "4. $d_4 \\gets$ orientacao($p_1$, $p_2$, $p_4$)\n",
    "5. **se** ($d_1d_2 < 0$) **e** ($d_3d_4 < 0$) **então retorne** Verdadeiro\n",
    "8. **se** $d_1 = 0$ **e** ponto_no_segmento($p_3$, $p_4$, $p_1$) **então retorne** Verdadeiro\n",
    "9. **se** $d_2 = 0$ **e** ponto_no_segmento($p_3$, $p_4$, $p_2$) **então retorne** Verdadeiro\n",
    "10. **se** $d_3 = 0$ **e** ponto_no_segmento($p_1$, $p_2$, $p_3$) **então retorne** Verdadeiro\n",
    "11. **se** $d_4 = 0$ **e** ponto_no_segmento($p_1$, $p_2$, $p_4$) **então retorne** Verdadeiro\n",
    "12. **retorne** Falso"
   ]
  },
  {
   "cell_type": "markdown",
   "id": "d4d074ce",
   "metadata": {},
   "source": [
    "__Exercício 6:__ Implemente o procedimento `ponto_no_segmento` utilizado acima,\n",
    "que recebe três pontos $ \\boldsymbol p $, $ \\boldsymbol q $ e $ \\boldsymbol r $\n",
    "decide se o terceiro ponto $ \\boldsymbol r $ pertence ao segmento que conecta os dois\n",
    "primeiros. Você pode optar por assumir que os pontos são colineares ou escrever\n",
    "uma versão mais geral que primeiro testa a colinearidade do trio."
   ]
  },
  {
   "cell_type": "code",
   "execution_count": null,
   "id": "c4a8fcb0",
   "metadata": {},
   "outputs": [],
   "source": [
    "def ponto_no_segmento(p, q, r):\n",
    "    # complete a definição"
   ]
  },
  {
   "cell_type": "markdown",
   "id": "f17782a5",
   "metadata": {},
   "source": [
    "__Exercício 7:__ Se convença que o algoritmo acima decide corretamente\n",
    "se os segmentos dados se intersectam; considere também os casos marginais\n",
    "(em que uma extremidade de um segmento pertence ao outro).\n"
   ]
  },
  {
   "cell_type": "markdown",
   "id": "d0a05468",
   "metadata": {},
   "source": [
    "__Exercício 8:__ Implemente o algoritmo descrito acima para determinar\n",
    "se dois segmentos dados se intersectam."
   ]
  },
  {
   "cell_type": "code",
   "execution_count": null,
   "id": "dc87a67e",
   "metadata": {},
   "outputs": [],
   "source": [
    "def segmentos_se_intersectam(p_1, p_2, p_3, p_4):\n",
    "    # complete a definição\n",
    "    # seguindo a estratégia do pseudo-código acima"
   ]
  },
  {
   "cell_type": "markdown",
   "id": "346ac0a5",
   "metadata": {},
   "source": [
    "**Exercício 9:** Dado um ponto $\\boldsymbol p_0 = (x_0, y_0)$, a **semi-reta horizontal à direita**\n",
    "a partir de $\\boldsymbol p_0$ é o conjunto de pontos $\\{(x, y) \\mid x \\ge x_0 \\text{ e } y = y_0\\}$,\n",
    "ou seja, é o conjunto de todos os pontos à direita de $\\boldsymbol\n",
    "p_0$, incluindo o próprio $\\boldsymbol p_0$.  Mostre como determinar, em tempo\n",
    "$O(1)$, se esta semi-reta intersecta um segmento de reta\n",
    "$\\overline{\\boldsymbol p_1\\boldsymbol p_2}$, reduzindo o problema ao de determinar se dois segmentos de\n",
    "reta se intersectam."
   ]
  },
  {
   "cell_type": "markdown",
   "id": "c78961c2",
   "metadata": {},
   "source": [
    "__Exercício 10:__ Uma forma de determinar se um ponto $\\boldsymbol p_0$ está no interior\n",
    "de um polígono simples $P$ (não necessariamente convexo) é considerar qualquer\n",
    "semi-reta que parte de $\\boldsymbol p_0$ e verificar se esta semi-reta intersecta a fronteira de $P$\n",
    "um número ímpar de vezes, assegurando ainda que $\\boldsymbol p_0$ não esteja na fronteira.\n",
    "Mostre como determinar, em tempo $\\Theta(n)$, se um ponto $\\boldsymbol p_0$ está no interior\n",
    "de um polígono de $n$ vértices $P$. *Dica:* Use o Exercício anterior (redução a um\n",
    "teste de intersecção de segmentos). Garanta que o algoritmo está correto quando a\n",
    "semi-reta intersecta a fronteira em um vértice e quando a semi-reta sobrepõe um lado."
   ]
  },
  {
   "cell_type": "markdown",
   "id": "c50e6cd6",
   "metadata": {},
   "source": [
    "## $ \\S 6 $ Áreas de paralelogramos\n",
    "\n",
    "Como mencionado anteriormente, o produto vetorial\n",
    "$$\n",
    "\\boldsymbol p_1 \\times \\boldsymbol p_2 =\n",
    "\\det \n",
    "\\begin{bmatrix}\n",
    "\\rule[.5ex]{1em}{0.4pt}\\ \\,\\boldsymbol p_1\\ \\rule[.5ex]{1em}{0.4pt} \\\\\n",
    "\\rule[.5ex]{1em}{0.4pt}\\ \\,\\boldsymbol p_2\\ \\rule[.5ex]{1em}{0.4pt}\n",
    "\\end{bmatrix}\n",
    "=\n",
    "\\det \\begin{bmatrix}\n",
    "x_1 & y_1 \\\\\n",
    "x_2 & y_2\n",
    "\\end{bmatrix}\n",
    "= x_1 y_2 - x_2 y_1\n",
    "$$\n",
    "fornece, exceto possivelmente pelo sinal, a área do paralelogramo $\n",
    "P(\\boldsymbol p_1, \\boldsymbol p_2) $ de vértices $\\boldsymbol 0 $, $\\boldsymbol\n",
    "p_1$, $\\boldsymbol p_2$ e $\\boldsymbol p_1 + \\boldsymbol p_2 = (x_1 + x_2, y_1 +\n",
    "y_2)$.  Mais precisamente, vale\n",
    "$$\n",
    "\\text{área}(P) = \\vert\\,\\boldsymbol p_1 \\times \\boldsymbol p_2\\,\\vert\\,.\n",
    "$$"
   ]
  },
  {
   "cell_type": "markdown",
   "id": "7b1ba715",
   "metadata": {},
   "source": [
    "⚡ Há várias maneiras de se demonstrar esta fórmula, mas uma delas é observar que a função\n",
    "$ \\text{área}(P) $ satisfaz (a menos do sinal) as mesmas três propriedades que _caracterizam_\n",
    "o determinante de matrizes $ 2 \\times 2 $ como função das suas duas linhas:\n",
    "1. Quando $ \\boldsymbol p_1 = (1, 0) $ e $ \\boldsymbol p_2 = (0, 1) $, o paralelogramo\n",
    "se torna o quadrado de vértices $ (0, 0) $, $ (1, 0) $, $ (0, 1) $ e $ (1 , 1) $, \n",
    "que tem área $ 1 $. Esta propriedade corresponde ao fato que $ \\det I_2 = 1 $.\n",
    "2. Quando trocamos as duas linhas de uma matriz $ 2 \\times 2 $, o sinal (mas não\n",
    "o módulo) do determinante muda. Da mesma forma, se trocarmos os papéis dos pontos\n",
    "$ \\boldsymbol p_1 $ e $ \\boldsymbol p_2 $ no paralelogramo $ P $, a área permanece\n",
    "a mesma, mas a orientação relativa deles se inverte.\n",
    "3. Finalmente, o determinante é linear separadamente em cada linha. Similarmente, podemos\n",
    "mostrar que $ \\text{área}(P) $ é linear\n",
    "em $ \\boldsymbol p_1 $ e $ \\boldsymbol p_2 $:\n",
    "    * (preserva multiplicações por escalares) Se multiplicamos o comprimento de $ \\boldsymbol p_1 $ (ou $ \\boldsymbol p_2 $)\n",
    "    por  $ c \\in \\mathbb R $, a área é multiplicada por $ c $.\n",
    "    * (preserva somas) A área do paralelogramo com vértices na origem e em $ \\boldsymbol p_1 $ e $ \\boldsymbol p_2 + \\boldsymbol q $,\n",
    "    coincide com a soma das áreas dos paralelogramos $ P $ de vértices $ \\boldsymbol 0 $, $ \\boldsymbol p_1,\\ \\boldsymbol p_2 $\n",
    "    e $ P' $ de vértices $ \\boldsymbol 0 $, $ \\boldsymbol p_1,\\ \\boldsymbol q $.\n",
    "\n",
    "Mas o determinante é a _única_ função que satisfaz todas estas três\n",
    "propriedades, logo a área orientada de $ P $ deve coincidir com\n",
    "$$\n",
    "\\det\\begin{bmatrix}\n",
    "\\rule[.5ex]{1em}{0.4pt}\\ \\,\\boldsymbol p_1\\ \\rule[.5ex]{1em}{0.4pt} \\\\\n",
    "\\rule[.5ex]{1em}{0.4pt}\\ \\,\\boldsymbol p_2\\ \\rule[.5ex]{1em}{0.4pt}\n",
    "\\end{bmatrix}\n",
    "=\n",
    " \\boldsymbol p_1 \\times \\boldsymbol p_2\n",
    "\\qquad \\blacksquare $$"
   ]
  },
  {
   "cell_type": "markdown",
   "id": "70a85075",
   "metadata": {},
   "source": [
    "__Exercício 11:__ Implemente a função `area_paralelogramo` que retorna\n",
    "a área, sem sinal, do paralelogramo $ P $ de vértices\n",
    "$\\boldsymbol 0 $, $\\boldsymbol p_1$, $\\boldsymbol p_2$ e $\\boldsymbol p_1 + \\boldsymbol p_2 $."
   ]
  },
  {
   "cell_type": "code",
   "execution_count": null,
   "id": "de06450b",
   "metadata": {},
   "outputs": [],
   "source": [
    "# complete o código..."
   ]
  },
  {
   "cell_type": "markdown",
   "id": "5cafcd5c",
   "metadata": {},
   "source": [
    "__Exercício 12:__ Modifique a definição do seu procedimento escrito no exercício anterior de modo\n",
    "que ele calcule a área do paralelogramo de vértices\n",
    "$ \\boldsymbol p_0,\\ \\boldsymbol p_1,\\, \\boldsymbol p_2 $ e $ \\boldsymbol p_3\\, $.\n",
    "_Dica:_ Translade o paralelogramo de modo que um dos vértices, digamos $ \\boldsymbol p_0 $,\n",
    "passe a coincidir com a origem. Você pode também querer verificar que realmente se\n",
    "trata de um paralelogramo."
   ]
  },
  {
   "cell_type": "code",
   "execution_count": null,
   "id": "5e1374ed",
   "metadata": {},
   "outputs": [],
   "source": [
    "def area_paralelogramo(p_0, p_1, p_2, p_3):\n",
    "    # complete o código"
   ]
  },
  {
   "cell_type": "markdown",
   "id": "bad3753a",
   "metadata": {},
   "source": [
    "## $ \\S 7 $ Áreas de triângulos\n",
    "Considere um triângulo $ T_0 $ com vértices em $(0,0)$, $\\boldsymbol p_1 = (x_1, y_1)$ e $\\boldsymbol p_2 = (x_2, y_2)$.\n",
    "Então $ T_0 $ é uma das metades do paralelogramo $ P $ tendo ainda por quarto vértice $ \\boldsymbol p_1 + \n",
    "\\boldsymbol p_2 $. Portanto,\n",
    "$$\n",
    "\\text{área}(T_0) = \\frac{1}{2} |x_1 y_2 - x_2 y_1| = \\tfrac{1}{2} |\\boldsymbol p_1 \\times \\boldsymbol p_2|\n",
    "$$\n",
    "Mais geralmente, para um triângulo $ T $ com vértices\n",
    "$\\boldsymbol p_0 = (x_0, y_0)$, $\\boldsymbol p_1 = (x_1, y_1)$ e\n",
    "$\\boldsymbol p_2 = (x_2, y_2)$, a **área orientada** é:\n",
    "$$\n",
    "\\text{área(T)} = \\frac{1}{2} \\left\\vert\\,\\det \\begin{bmatrix}\n",
    "x_0 & y_0 & 1 \\\\\n",
    "x_1 & y_1 & 1 \\\\\n",
    "x_2 & y_2 & 1\n",
    "\\end{bmatrix}\\,\\right\\vert\n",
    "$$"
   ]
  },
  {
   "cell_type": "markdown",
   "id": "71268655",
   "metadata": {},
   "source": [
    "__Exercício 13:__ Mostre esta fórmula e implemente-a como um procedimento\n",
    "do Python. _Dica:_ No determinante acima, subtraia a linha $ 1 $ das linhas\n",
    "$ 2 $ e $ 3 $ (o que não altera o seu valor). Então use expansão de Laplace\n",
    "(fórmula dos cofatores) para calcular o determinante $ 3 \\times 3 $ pela\n",
    "terceira coluna. Agora observe que o determinante $ 2 \\times 2 $ resultante\n",
    "fornece a área do triângulo $ T_0 $ de vértices\n",
    "$ \\boldsymbol 0,\\ \\boldsymbol p_1 - \\boldsymbol p_0,\\ \\boldsymbol p_2 - \\boldsymbol p_0 $. Por\n",
    "que esta área coincide com a de $ T $?"
   ]
  },
  {
   "cell_type": "code",
   "execution_count": null,
   "id": "15039d14",
   "metadata": {},
   "outputs": [],
   "source": [
    "def area_triangulo(p_0, p_1, p_2):\n",
    "    # complete o código"
   ]
  },
  {
   "cell_type": "markdown",
   "id": "48c20994",
   "metadata": {},
   "source": [
    "## $ \\S 8 $ A fórmula do cadarço"
   ]
  },
  {
   "cell_type": "markdown",
   "id": "cacb327c",
   "metadata": {},
   "source": [
    "Um **polígono** é uma curva fechada no plano formada por segmentos de reta\n",
    "(seus **lados** ou **arestas**).\n",
    "Um ponto pertencente a dois lados consecutivos é um **vértice**. Um polígono é\n",
    "**simples** quando não possui auto-intersecções. O\n",
    "conjunto de pontos no plano cercado pelo polígono simples forma o seu\n",
    "**interior**; os pontos no próprio polígono formam a sua **fronteira**; os\n",
    "pontos fora formam o **exterior**.\n",
    "\n",
    "Um polígono simples é **convexo** se, dados quaisquer dois pontos na fronteira\n",
    "ou no interior, todo ponto no segmento de reta entre eles está contido na\n",
    "fronteira ou no interior do polígono. Um vértice de um polígono convexo não\n",
    "pode ser expresso como combinação convexa de quaisquer dois pontos distintos na\n",
    "fronteira ou no interior do polígono."
   ]
  },
  {
   "cell_type": "markdown",
   "id": "8d161682",
   "metadata": {},
   "source": [
    "Vamos mostrar agora como calcular a área de um polígono simples\n",
    "de $ n $ vértices em tempo $\\Theta(n)$. O algoritmo é baseado na chamada\n",
    "**fórmula do cadarço** (também conhecida como fórmula de Gauss ou fórmula do agrimensor).\n",
    "Esta fórmula nos permite calcular a área usando apenas as coordenadas dos\n",
    "vértices, sem necessidade de decomposições explícitas ou cálculos\n",
    "trigonométricos.\n",
    "\n",
    "Seja $ P $ um polígono simples, _convexo ou não-convexo_, com $ n $ vértices:\n",
    "$\\boldsymbol p_1 = (x_1, y_1), \\boldsymbol p_2 = (x_2, y_2), \\ldots, \\boldsymbol\n",
    "p_{n} = (x_{n}, y_{n})$ listados em ordem (horária ou anti-horária). Então\n",
    "a área de $ P $ é dada por:\n",
    "$$\n",
    "\\boxed{\\ \\text{área}(P) = \\frac{1}{2} \\left| \\sum_{i=1}^{n} \\boldsymbol p_i \\times \\boldsymbol p_{i + 1} \\right|\\ }\n",
    "$$\n",
    "onde por convenção $\\boldsymbol p_{n + 1} = \\boldsymbol p_1$.\n",
    "Alternativamente, montamos a matriz $ (n + 1) \\times 2 $ abaixo:\n",
    "$$\n",
    "\\begin{bmatrix}\n",
    "\\rule[.5ex]{1em}{0.4pt}\\ \\,\\boldsymbol p_1\\ \\rule[.5ex]{1em}{0.4pt} \\\\\n",
    "\\rule[.5ex]{1em}{0.4pt}\\ \\,\\boldsymbol p_2\\ \\rule[.5ex]{1em}{0.4pt} \\\\\n",
    "\\rule[.5ex]{1em}{0.4pt}\\ \\,\\boldsymbol p_3\\ \\rule[.5ex]{1em}{0.4pt} \\\\\n",
    "\\vdots \\\\\n",
    "\\rule[.5ex]{1em}{0.4pt}\\ \\,\\boldsymbol p_n\\ \\rule[.5ex]{1em}{0.4pt} \\\\\n",
    "\\rule[.5ex]{1em}{0.4pt}\\ \\,\\boldsymbol p_1\\ \\rule[.5ex]{1em}{0.4pt}\n",
    "\\end{bmatrix}\n",
    "=\n",
    "\\begin{bmatrix}\n",
    "x_1 & y_1 \\\\\n",
    "x_2 & y_2 \\\\\n",
    "x_3 & y_3 \\\\\n",
    "\\vdots & \\vdots \\\\\n",
    "x_n & y_n \\\\\n",
    "x_1 & y_1\n",
    "\\end{bmatrix}\n",
    "$$\n",
    "e calculamos os $ n $ determinantes $ 2 \\times 2 $ de cada par de linhas consecutivas;\n",
    "o módulo da soma de todos eles, dividido por $ 2 $, representa a área\n",
    "do polígono de vértices $\\boldsymbol p_1 , \\boldsymbol p_2 , \\ldots, \\boldsymbol\n",
    "p_{n} $ (nesta ordem).  O nome \"fórmula do cadarço\" vem do padrão cruzado que surge ao expandir os\n",
    "determinantes como produtos cruzados, lembrando o entrelaçamento de um cadarço de sapato."
   ]
  },
  {
   "cell_type": "markdown",
   "id": "b68a2da0",
   "metadata": {},
   "source": [
    "__Exercício 14:__ Implemente a fórmula do cadarço em tempo $ \\Theta(n) $.\n",
    "Sua função deve ter como entrada um array $ 2D $ de forma $ n \\times 2 $\n",
    "cuja $ i $-ésima linha é $ \\boldsymbol p_i $."
   ]
  },
  {
   "cell_type": "code",
   "execution_count": null,
   "id": "81797bc3",
   "metadata": {},
   "outputs": [],
   "source": [
    "def cadarco(P):\n",
    "    # retorne a área do polígono P"
   ]
  },
  {
   "cell_type": "markdown",
   "id": "72285ded",
   "metadata": {},
   "source": [
    "__Exercício 15:__ Teste sua implementação com:\n",
    "\n",
    "(a) Um quadrado unitário com vértices em $(0,0)$, $(1,0)$, $(1,1)$, $(0,1)$.\n",
    "\n",
    "(b) Um triângulo com vértices em $(0,0)$, $(1,2)$, $(2,1)$.\n",
    "\n",
    "(c) Um polígono não-convexo em forma de \"L\" com vértices apropriados."
   ]
  },
  {
   "cell_type": "code",
   "execution_count": null,
   "id": "8096cb72",
   "metadata": {},
   "outputs": [],
   "source": []
  },
  {
   "cell_type": "markdown",
   "id": "7da62417",
   "metadata": {},
   "source": [
    "## ⚡ $ \\S 9 $ Demonstração da fórmula do cadarço\n",
    "\n",
    "Podemos demonstrar a fórmula do cadarço por indução no número $ n $ de vértices\n",
    "do polígono.\n",
    "Observe primeiramente que quando $ P $ é um triângulo ($ n = 3 $), a fórmula\n",
    "está correta, pois se reduz à fórmula vista na $ \\S 7 $ (verifique!).\n",
    "\n",
    "Agora, suponha que $ P $ tenha $ n \\ge 4 $ vértices. Mesmo que ele seja não-convexo,\n",
    "podemos traçar uma diagonal, digamos $ \\overline{\\boldsymbol p_1 \\boldsymbol p_k} $,\n",
    "para subdividir $ P $ em dois polígonos $ P_1 $\n",
    "e $ P_2 $ de $ n_1 $ e $ n_2 $ vértices respectivamente, onde\n",
    "$$ n_1 + n_2 = n + 2\\,. $$\n",
    "(O $ 2 $ do lado direito vem do fato que as duas extremidades da diagonal são\n",
    "contadas duas vezes, uma para cada subpolígono.)\n",
    "\n",
    "Em particular, $ n_1,\\,n_2 $ são ambos menores que $ n $, portanto pela hipótese\n",
    "de indução, a fórmula do cadarço vale para cada um deles. Suponha que os\n",
    "vértices de $ P_1 $ sejam $ \\boldsymbol p_1,\\, \\cdots,\\,\\boldsymbol p_k $ e os de\n",
    "$ P_2 $ sejam $ \\boldsymbol p_k,\\, \\cdots,\\, \\boldsymbol p_1 $. Então somando\n",
    "os determinantes $ 2 \\times 2 $ consecutivos em"
   ]
  },
  {
   "cell_type": "markdown",
   "id": "06ee7a29",
   "metadata": {},
   "source": [
    "$$\n",
    "\\begin{bmatrix}\n",
    "\\rule[.5ex]{1em}{0.4pt}\\ \\,\\boldsymbol p_1\\ \\rule[.5ex]{1em}{0.4pt} \\\\\n",
    "\\rule[.5ex]{1em}{0.4pt}\\ \\,\\boldsymbol p_2\\ \\rule[.5ex]{1em}{0.4pt} \\\\\n",
    "\\rule[.5ex]{1em}{0.4pt}\\ \\,\\boldsymbol p_3\\ \\rule[.5ex]{1em}{0.4pt} \\\\\n",
    "\\vdots \\\\\n",
    "\\rule[.5ex]{1em}{0.4pt}\\ \\,\\boldsymbol p_{k -1}\\ \\rule[.5ex]{1em}{0.4pt} \\\\\n",
    "\\rule[.5ex]{1em}{0.4pt}\\ \\,\\boldsymbol p_k\\ \\rule[.5ex]{1em}{0.4pt} \\\\\n",
    "\\rule[.5ex]{1em}{0.4pt}\\ \\,\\boldsymbol p_1\\ \\rule[.5ex]{1em}{0.4pt}\n",
    "\\end{bmatrix}\n",
    "\\quad \\text{e em} \\quad\n",
    "\\begin{bmatrix}\n",
    "\\rule[.5ex]{1em}{0.4pt}\\ \\,\\boldsymbol p_k\\ \\rule[.5ex]{1em}{0.4pt} \\\\\n",
    "\\rule[.5ex]{1em}{0.4pt}\\ \\,\\boldsymbol p_{k + 1}\\ \\rule[.5ex]{1em}{0.4pt} \\\\\n",
    "\\rule[.5ex]{1em}{0.4pt}\\ \\,\\boldsymbol p_{k + 2}\\ \\rule[.5ex]{1em}{0.4pt} \\\\\n",
    "\\vdots \\\\\n",
    "\\rule[.5ex]{1em}{0.4pt}\\ \\,\\boldsymbol p_n\\ \\rule[.5ex]{1em}{0.4pt} \\\\\n",
    "\\rule[.5ex]{1em}{0.4pt}\\ \\,\\boldsymbol p_1\\ \\rule[.5ex]{1em}{0.4pt} \\\\\n",
    "\\rule[.5ex]{1em}{0.4pt}\\ \\,\\boldsymbol p_k\\ \\rule[.5ex]{1em}{0.4pt}\n",
    "\\end{bmatrix}\n",
    "$$\n",
    "obtemos exatamente os $ n + 1 $ determinantes $ 2 \\times 2 $ na fórmula\n",
    "do cadarço para $ P $:\n",
    "$$\n",
    "\\begin{bmatrix}\n",
    "\\rule[.5ex]{1em}{0.4pt}\\ \\,\\boldsymbol p_1\\ \\rule[.5ex]{1em}{0.4pt} \\\\\n",
    "\\rule[.5ex]{1em}{0.4pt}\\ \\,\\boldsymbol p_2\\ \\rule[.5ex]{1em}{0.4pt} \\\\\n",
    "\\vdots \\\\\n",
    "\\rule[.5ex]{1em}{0.4pt}\\ \\,\\boldsymbol p_n\\ \\rule[.5ex]{1em}{0.4pt} \\\\\n",
    "\\rule[.5ex]{1em}{0.4pt}\\ \\,\\boldsymbol p_1\\ \\rule[.5ex]{1em}{0.4pt}\n",
    "\\end{bmatrix}\n",
    "$$\n",
    "juntamente com dois determinantes extras, os de:\n",
    "$$\n",
    "\\begin{bmatrix}\n",
    "\\rule[.5ex]{1em}{0.4pt}\\ \\,\\boldsymbol p_k\\ \\rule[.5ex]{1em}{0.4pt} \\\\\n",
    "\\rule[.5ex]{1em}{0.4pt}\\ \\,\\boldsymbol p_1\\ \\rule[.5ex]{1em}{0.4pt} \\\\\n",
    "\\end{bmatrix} \\quad \\text{e} \\quad\n",
    "\\begin{bmatrix}\n",
    "\\rule[.5ex]{1em}{0.4pt}\\ \\,\\boldsymbol p_1\\ \\rule[.5ex]{1em}{0.4pt} \\\\\n",
    "\\rule[.5ex]{1em}{0.4pt}\\ \\,\\boldsymbol p_k\\ \\rule[.5ex]{1em}{0.4pt} \\\\\n",
    "\\end{bmatrix}\n",
    "$$\n",
    "que se cancelam. Concluímos portanto que a fórmula do cadarço aplicada\n",
    "a $ P $ coincide com\n",
    "$$\n",
    "\\text{área}(P_1) + \\text{área}(P_2) = \\text{área}(P)\\,,\n",
    "$$\n",
    "o que conclui a demonstração. $ \\qquad \\blacksquare $\n",
    "\n",
    "📝 A fórmula do cadarço também pode ser demonstrada como conseqüência\n",
    "do teorema de Green."
   ]
  },
  {
   "cell_type": "markdown",
   "id": "9c687704",
   "metadata": {},
   "source": [
    "__Exercício 16:__ Mostre que a fórmula do cadarço é _invariante por translações_:\n",
    "se transladarmos todos os vértices por $ -\\boldsymbol p_0 $, obtendo novos\n",
    "pontos $ \\boldsymbol p_i' = (x_i - x_0, y_i - y_0)$, o valor fornecido pela fórmula permanece\n",
    "inalterado (assim como a área do polígono). _Dica:_ Pela linearidade do determinante\n",
    "com respeito a cada linha,\n",
    "$$\n",
    "\\begin{vmatrix}\n",
    "\\rule[.5ex]{1em}{0.4pt}\\ \\,\\big(\\boldsymbol{p}_i - \\boldsymbol{p}_0\\big)\\ \\rule[.5ex]{1em}{0.4pt} \\\\\n",
    "\\rule[.5ex]{1em}{0.4pt}\\ \\,\\big(\\boldsymbol{p}_{i+1} - \\boldsymbol{p}_0\\big)\\ \\rule[.5ex]{1em}{0.4pt}\n",
    "\\end{vmatrix}\n",
    "= \n",
    "\\begin{vmatrix}\n",
    "\\rule[.5ex]{1em}{0.4pt}\\ \\,\\boldsymbol{p}_i\\ \\rule[.5ex]{1em}{0.4pt} \\\\\n",
    "\\rule[.5ex]{1em}{0.4pt}\\ \\,\\boldsymbol{p}_{i+1}\\ \\rule[.5ex]{1em}{0.4pt}\n",
    "\\end{vmatrix}\n",
    "-\n",
    "\\begin{vmatrix}\n",
    "\\rule[.5ex]{1em}{0.4pt}\\ \\,\\boldsymbol{p}_0\\ \\rule[.5ex]{1em}{0.4pt} \\\\\n",
    "\\rule[.5ex]{1em}{0.4pt}\\ \\,\\boldsymbol{p}_{i+1}\\ \\rule[.5ex]{1em}{0.4pt}\n",
    "\\end{vmatrix}\n",
    "-\n",
    "\\begin{vmatrix}\n",
    "\\rule[.5ex]{1em}{0.4pt}\\ \\,\\boldsymbol{p}_i\\ \\rule[.5ex]{1em}{0.4pt} \\\\\n",
    "\\rule[.5ex]{1em}{0.4pt}\\ \\,\\boldsymbol{p}_0\\ \\rule[.5ex]{1em}{0.4pt}\n",
    "\\end{vmatrix}\n",
    "+\n",
    "\\underbrace{\n",
    "\\begin{vmatrix}\n",
    "\\rule[.5ex]{1em}{0.4pt}\\ \\,\\boldsymbol{p}_0\\ \\rule[.5ex]{1em}{0.4pt} \\\\\n",
    "\\rule[.5ex]{1em}{0.4pt}\\ \\,\\boldsymbol{p}_0\\ \\rule[.5ex]{1em}{0.4pt}\n",
    "\\end{vmatrix}\n",
    "}_{0}\n",
    "$$\n",
    "Portanto, quando somamos de $ i = 1 $ a $ i= n $, os determinantes\n",
    "$$\n",
    "\\begin{vmatrix}\n",
    "\\rule[.5ex]{1em}{0.4pt}\\ \\,\\boldsymbol{p}_i\\ \\rule[.5ex]{1em}{0.4pt} \\\\\n",
    "\\rule[.5ex]{1em}{0.4pt}\\ \\,\\boldsymbol{p}_0\\ \\rule[.5ex]{1em}{0.4pt}\n",
    "\\end{vmatrix}\n",
    "\\quad \\text{e} \\quad\n",
    "\\begin{vmatrix}\n",
    "\\rule[.5ex]{1em}{0.4pt}\\ \\,\\boldsymbol{p}_0\\ \\rule[.5ex]{1em}{0.4pt} \\\\\n",
    "\\rule[.5ex]{1em}{0.4pt}\\ \\,\\boldsymbol{p}_i\\ \\rule[.5ex]{1em}{0.4pt}\n",
    "\\end{vmatrix}\n",
    "$$\n",
    "se cancelam, sobrando apenas os termos que compunham a fórmula para o\n",
    "polígono original (de vértices $ \\boldsymbol p_i $)."
   ]
  },
  {
   "cell_type": "markdown",
   "id": "889b0cb7",
   "metadata": {},
   "source": [
    "## ⚡ $ \\S 10 $ Algoritmo da marcha de Jarvis\n",
    "\n",
    "Recorde que um subconjunto de $ \\mathbb R^d $ é dito **convexo** se para\n",
    "quaisquer dois pontos dentro deste subconjunto, ele também contém o\n",
    "segmento de reta que os conecta.\n",
    "\n",
    "O **fecho convexo** (*convex hull* em inglês) de uma coleção $ Q $ de $ n $\n",
    "pontos $\\boldsymbol{p}_1, \\boldsymbol{p}_2, \\ldots, \\boldsymbol{p}_n$ em\n",
    "$\\mathbb{R}^d$ é o menor conjunto convexo que contém todos eles.\n",
    "Formalmente:\n",
    "$$\n",
    "\\text{conv}(\\boldsymbol{p}_1, \\ldots, \\boldsymbol{p}_n) = \\left\\{ \\sum_{i=1}^{n} s_i \\boldsymbol{p}_i : s_i \\geq 0, \\sum_{i=1}^{n} s_i = 1 \\right\\}\n",
    "$$\n",
    "Ou seja, é o conjunto de todas as *combinações convexas* dos pontos dados."
   ]
  },
  {
   "cell_type": "markdown",
   "id": "e24edf77",
   "metadata": {},
   "source": [
    "No caso de $ \\mathbb R^2 $, pense nos pontos como tachinhas numa placa de\n",
    "cortiça; então o fecho convexo deles tem por fronteira a curva formada por um\n",
    "elástico que engloba todas as tachinhas.\n",
    "A **marcha de Jarvis** usa esta idéia para determinar o fecho convexo $\n",
    "\\mathrm{conv}(Q) $ de um conjunto $Q $. Esta técnica é conhecida como\n",
    "**embrulho de pacote**. O algoritmo executa em tempo $O(mn)$, onde $m$ é o\n",
    "número de vértices de $\\mathrm{conv}(Q)$.  Observe que $ m \\le n $."
   ]
  },
  {
   "cell_type": "markdown",
   "id": "f55047d8",
   "metadata": {},
   "source": [
    "Intuitivamente, a marcha de Jarvis simula passar um barbante ao redor do\n",
    "conjunto $Q$, passo a passo. Começamos prendendo uma extremidade do barbante ao\n",
    "ponto mais baixo do conjunto, que chamaremos de $ \\boldsymbol q_1 $.\n",
    "Este ponto deve ser um vértice do fecho convexo (por quê?). Agora esticamos\n",
    "o barbante para a direita e, mantendo-o esticado, o rodamos no sentido\n",
    "anti-horário ao redor de $ \\boldsymbol q_1 $ (i.e., para cima) até que toque em\n",
    "um dos pontos $ \\boldsymbol q_2 $ de $ Q $. Este ponto também deve ser um\n",
    "vértice do fecho convexo. No próximo passo, ainda mantendo o barbante esticado,\n",
    "ele é rodado ao redor de $ \\boldsymbol q_2 $ até encontrarmos um novo ponto de $\n",
    "Q $, e assim por diante."
   ]
  },
  {
   "cell_type": "markdown",
   "id": "9f8cd55e",
   "metadata": {},
   "source": [
    "Mais formalmente, a marcha de Jarvis constrói a sequência $H = \\big(\n",
    "\\boldsymbol{q}_1, \\boldsymbol{q}_2, \\ldots, \\boldsymbol{q}_{m} \\big)$ dos\n",
    "vértices de $\\mathrm{conv}(Q)$. Como acima, $\\boldsymbol{q}_1$ é o elemento\n",
    "com a menor coordenada-$y$ em $ Q $, (em caso de empate, escolhemos dentre\n",
    "os candidatos aquele com menor coordenada-$x$). O próximo\n",
    "vértice $\\boldsymbol{q}_2$ no fecho convexo tem o menor ângulo polar com\n",
    "respeito a $\\boldsymbol{q}_1$. Em caso de empates, escolhemos o\n",
    "ponto mais distante de $\\boldsymbol{q}_1$. De maneira similar,\n",
    "$\\boldsymbol{q}_3$ tem o menor ângulo polar com respeito a $\\boldsymbol{q}_2$, e\n",
    "assim por diante. Quando alcançamos o vértice mais alto, digamos\n",
    "$\\boldsymbol{q}_k$ (sempre quebrando empates escolhendo o vértice mais\n",
    "distante), construímos, a *cadeia direita* de\n",
    "$\\mathrm{conv}(Q)$. Para construir a *cadeia esquerda*, começamos em\n",
    "$\\boldsymbol{q}_k$ e escolhemos $\\boldsymbol{q}_{k+1}$ como o ponto com o menor\n",
    "ângulo polar com respeito a $\\boldsymbol{q}_k$, mas a partir do eixo-$x$\n",
    "negativo. Continuamos formando a cadeia esquerda tomando ângulos polares a\n",
    "partir do eixo-$x$ negativo até voltarmos ao nosso vértice original\n",
    "$\\boldsymbol{q}_1$.\n",
    "\n",
    "O algoritmo executa em tempo $ O(mn) $ porque para cada um dos $ m $ vértices $\n",
    "\\boldsymbol q_i $ do fecho convexo, precisamos determinar aquele dentre os $ n $\n",
    "vértices de $ Q $ que possui o menor ângulo polar com respeito a $ \\boldsymbol\n",
    "q_i $."
   ]
  },
  {
   "cell_type": "markdown",
   "id": "c517697c",
   "metadata": {},
   "source": []
  }
 ],
 "metadata": {
  "kernelspec": {
   "display_name": "base",
   "language": "python",
   "name": "python3"
  },
  "language_info": {
   "codemirror_mode": {
    "name": "ipython",
    "version": 3
   },
   "file_extension": ".py",
   "mimetype": "text/x-python",
   "name": "python",
   "nbconvert_exporter": "python",
   "pygments_lexer": "ipython3",
   "version": "3.12.4"
  }
 },
 "nbformat": 4,
 "nbformat_minor": 5
}
