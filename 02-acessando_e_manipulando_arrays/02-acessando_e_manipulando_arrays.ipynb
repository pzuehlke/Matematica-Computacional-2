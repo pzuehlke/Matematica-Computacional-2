{
 "cells": [
  {
   "cell_type": "code",
   "execution_count": null,
   "metadata": {},
   "outputs": [],
   "source": [
    "import numpy as np"
   ]
  },
  {
   "cell_type": "markdown",
   "metadata": {},
   "source": [
    "# Acessando e manipulando arrays\n",
    "\n",
    "No notebook anterior, exploramos a criação de arrays NumPy. Agora vamos\n",
    "aprender como acessar e manipular elementos dentro de arrays, e também\n",
    "como extrair elementos específicos de arrays."
   ]
  },
  {
   "cell_type": "markdown",
   "metadata": {},
   "source": [
    "## $ \\S 1 $ Acessando e modificando elementos individuais de arrays"
   ]
  },
  {
   "cell_type": "markdown",
   "metadata": {},
   "source": [
    "Lembre-se que listas em Python são __mutáveis__, o que significa que podemos modificar\n",
    "os elementos individuais de uma lista:"
   ]
  },
  {
   "cell_type": "code",
   "execution_count": null,
   "metadata": {},
   "outputs": [],
   "source": [
    "primes = [199, 1_999, 19_999]\n",
    "primes[2] = 19\n",
    "print(primes)"
   ]
  },
  {
   "cell_type": "markdown",
   "metadata": {},
   "source": [
    "Em contraste, uma tupla em Python é __imutável__. Ainda podemos acessar seus\n",
    "elementos através de `[]`, mas não podemos modificá-los:"
   ]
  },
  {
   "cell_type": "code",
   "execution_count": null,
   "metadata": {},
   "outputs": [],
   "source": [
    "fruits = ('🍎', '🍊', '🍍')\n",
    "print(fruits[0])"
   ]
  },
  {
   "cell_type": "code",
   "execution_count": null,
   "metadata": {},
   "outputs": [],
   "source": [
    "fruits[0] = '🍉'"
   ]
  },
  {
   "cell_type": "markdown",
   "metadata": {},
   "source": [
    "Arrays NumPy também são mutáveis, como listas. Considere o seguinte vetor $ \\mathbf{a} $:"
   ]
  },
  {
   "cell_type": "code",
   "execution_count": null,
   "metadata": {},
   "outputs": [],
   "source": [
    "a = np.array([1, 2, 3])\n",
    "print(a)"
   ]
  },
  {
   "cell_type": "markdown",
   "metadata": {},
   "source": [
    "Para acessar ou modificar o elemento $ 0 $ de $ \\mathbf a $ (lembre-se que sempre\n",
    "contamos a partir de $ 0 $ em Python), usamos a mesma sintaxe que usaríamos se fosse uma\n",
    "lista:"
   ]
  },
  {
   "cell_type": "code",
   "execution_count": null,
   "metadata": {},
   "outputs": [],
   "source": [
    "print(a[0])  # Acessa o elemento 0 de `a`\n",
    "a[0] = -1    # Modifica este elemento\n",
    "print(a)     # Imprime o resultado"
   ]
  },
  {
   "cell_type": "markdown",
   "metadata": {},
   "source": [
    "Se estamos lidando com um array $ 2D $, usamos `[i, j]` para acessar sua entrada $ (i, j)\n",
    "$, ou seja, o elemento na linha $ i $ e coluna $ j $.\n",
    "\n",
    "__Exercício:__ Modifique os elementos fora da diagonal na seguinte matriz $ A $ para\n",
    "transformá-la na matriz identidade $ 2 \\times 2 $."
   ]
  },
  {
   "cell_type": "code",
   "execution_count": null,
   "metadata": {},
   "outputs": [],
   "source": [
    "A = np.ones((2, 2))\n",
    "print(\"Antes das modificações:\")\n",
    "print(A, '\\n')\n",
    "\n",
    "# ...\n",
    "# ...\n",
    "print(\"Depois das modificações:\")\n",
    "print(A)"
   ]
  },
  {
   "cell_type": "markdown",
   "metadata": {},
   "source": [
    "Em geral, ao lidar com um array de $ n $ dimensões, use\n",
    "`[k_1, k_2, ..., k_n]` para acessar o elemento com índices\n",
    "$ k_1, k_2, \\cdots, k_n $, respectivamente."
   ]
  },
  {
   "cell_type": "markdown",
   "metadata": {},
   "source": [
    "__Exercício:__ Construa um array identidade $ 3D $ $ M $ de formato $ (5, 5, 5) $ primeiro\n",
    "preenchendo-o com zeros, depois definindo todos os elementos cujos índices\n",
    "têm a forma $ (i, i, i) $ como $ 1 $ das seguintes duas maneiras: \n",
    "\n",
    "(a) Usando um loop `for`.\n",
    "\n",
    "(b) Com uma única chamada `fill_diagonal(M, 1)`."
   ]
  },
  {
   "cell_type": "code",
   "execution_count": null,
   "metadata": {},
   "outputs": [],
   "source": [
    "# Preencha M com zeros:\n",
    "# M = ...\n",
    "\n",
    "# Defina os elementos diagonais como 1:\n",
    "# ...\n",
    "\n",
    "# Imprima o resultado:\n",
    "# print(M)\n"
   ]
  },
  {
   "cell_type": "markdown",
   "metadata": {},
   "source": [
    "Assim como as listas Python, os arrays NumPy suportam indexação negativa. O índice $ -1 $\n",
    "refere-se ao último elemento, $ -2 $ ao penúltimo, e assim por diante:\n",
    "\n",
    "__Exercício:__ Modifique a última coordenada do vetor\n",
    "$ \\mathbf{v} \\in \\mathbb{R}^6 $ abaixo para que seu comprimento se torne $ 3 $. _Dica:_\n",
    "Lembre-se que a norma (comprimento) de um vetor $ \\mathbf{v} = (v_1, v_2, \\cdots, v_n) $\n",
    "em $ \\mathbb{R}^n $ é dada por $ \\sqrt{v_1^2 + v_2^2 + \\cdots + v_n^2} $."
   ]
  },
  {
   "cell_type": "code",
   "execution_count": null,
   "metadata": {},
   "outputs": [],
   "source": [
    "v = np.array([1, 1, 1, 1, 1, 1])\n",
    "\n",
    "print(f\"Vetor: {v}\")\n",
    "print(f\"Norma de v = {np.linalg.norm(v):.3f}\")"
   ]
  },
  {
   "cell_type": "markdown",
   "metadata": {},
   "source": [
    "A indexação negativa também funciona com arrays multidimensionais:"
   ]
  },
  {
   "cell_type": "code",
   "execution_count": null,
   "metadata": {},
   "outputs": [],
   "source": [
    "A = np.array([[1, 2, 3],\n",
    "              [4, 5, 6],\n",
    "              [7, 8, 9]])\n",
    "\n",
    "print(A[-1, -1])  # Elemento inferior direito (valor: 9)\n",
    "print(A[-2, -3])  # Elemento na penúltima linha, antepenúltima coluna (valor: 4)"
   ]
  },
  {
   "cell_type": "markdown",
   "metadata": {},
   "source": [
    "__Exercício:__ Dado o array $ 3D $ abaixo, acesse e imprima:\n",
    "\n",
    "(a) O elemento na posição $ (0, 1, 1) $.\n",
    "\n",
    "(b) O último elemento de todo o array.\n",
    "\n",
    "(c) O elemento na linha $ 0 $, coluna $ 1 $ da \"camada\" $ 2 $."
   ]
  },
  {
   "cell_type": "code",
   "execution_count": null,
   "metadata": {},
   "outputs": [],
   "source": [
    "B = np.array([[[1, 2], [3, 4]], \n",
    "              [[5, 6], [7, 8]], \n",
    "              [[9, 10], [11, 12]]])\n",
    "print(B)\n",
    "# (a)\n",
    "\n",
    "# (b)\n",
    "\n",
    "# (c)"
   ]
  },
  {
   "cell_type": "markdown",
   "metadata": {},
   "source": [
    "## $ \\S 2 $ Fatiando arrays $ 1D $\n",
    "\n",
    "__Fatiamento__ é uma operação que nos permite extrair um subarray de um array.\n",
    "A sintaxe para arrays $ 1D $ é exatamente a mesma que para fatias de listas Python,\n",
    "ou seja, `a[start:stop:step]`, onde `a` denota um array e:\n",
    "\n",
    "* `start` é o índice onde a fatia começa (incluído).\n",
    "* `stop` é o índice onde a fatia termina (excluído).\n",
    "* `step` é o tamanho do passo entre elementos.\n",
    "\n",
    "Se qualquer um desses for omitido, eles assumem seus limites naturais (início do\n",
    "array, fim do array e tamanho do passo $ 1 $)."
   ]
  },
  {
   "cell_type": "markdown",
   "metadata": {},
   "source": [
    "__Exercício:__ Seja $ \\mathbf a = (0, 1, \\cdots, 10) $.\n",
    "\n",
    "(a) Instancie este array usando `arange` ou com `linspace` junto com a instrução `a.astype(int)`.\n",
    "\n",
    "(b) Faça uma fatia de $ \\mathbf a $ resultando em $ (0, 1, \\cdots, 4) $.\n",
    "\n",
    "(c) Faça uma fatia de $ \\mathbf a $ para obter o array $ (5, 6, \\cdots, 10) $.\n",
    "\n",
    "(d) Construa uma fatia para recuperar o subarray $ (3, 5, 7, 9) $.\n",
    "\n",
    "(e) Obtenha um novo array consistindo de todos os elementos de $ \\mathbf a $ em ordem inversa.\n",
    "\n",
    "(f) Faça uma fatia completa de $ \\mathbf a $, chame-a de $ \\mathbf b $, e modifique seu elemento $ 0\n",
    "$. $ \\mathbf a $ é afetado?"
   ]
  },
  {
   "cell_type": "code",
   "execution_count": null,
   "metadata": {},
   "outputs": [],
   "source": []
  },
  {
   "cell_type": "markdown",
   "metadata": {},
   "source": [
    "Como visto no exercício anterior, _fatiar um array apenas cria uma visão do\n",
    "array original, não uma cópia_. Uma __visão__ é um novo objeto array que se refere\n",
    "aos mesmos dados do array original. Isso significa que:\n",
    "* Mudanças feitas através da visão afetam o array original, e vice-versa.\n",
    "* Nenhuma duplicação de memória ocorre ao criar uma visão.\n",
    "\n",
    "Este comportamento é intencional, por razões de eficiência."
   ]
  },
  {
   "cell_type": "code",
   "execution_count": null,
   "metadata": {},
   "outputs": [],
   "source": [
    "a = np.array([1, 2, 3, 4, 5])\n",
    "b = a[1:4]  # Isso cria uma visão, não uma cópia\n",
    "print(\"Original a:\", a)\n",
    "print(\"Visão b:      \", b)\n",
    "\n",
    "b[0] = 8  # Modificando a visão\n",
    "print(\"Depois de modificar b, a se torna:\", a)"
   ]
  },
  {
   "cell_type": "markdown",
   "metadata": {},
   "source": [
    "📝 Para criar uma cópia em vez de uma visão no NumPy, use o método `copy()`:"
   ]
  },
  {
   "cell_type": "code",
   "execution_count": null,
   "metadata": {},
   "outputs": [],
   "source": [
    "a = np.array([1, 2, 3, 4, 5])\n",
    "c = a.copy()  # Isso cria uma cópia explícita\n",
    "c[1] = 8\n",
    "\n",
    "print(\"Cópia c:    \", c)\n",
    "print(\"Original a:\", a)  # Permanece inalterado"
   ]
  },
  {
   "cell_type": "markdown",
   "metadata": {},
   "source": [
    "__Exercício:__ Crie um vetor $ \\mathbf{a} = (1, 2, 3) $ e uma fatia completa $\n",
    "\\mathbf{b} $ de $ \\mathbf{a} $. Verifique se $ \\mathbf{a} $ e\n",
    "$ \\mathbf{b} $ apontam para os mesmos dados com `np.shares_memory(a, b)`."
   ]
  },
  {
   "cell_type": "code",
   "execution_count": null,
   "metadata": {},
   "outputs": [],
   "source": []
  },
  {
   "cell_type": "markdown",
   "metadata": {},
   "source": [
    "⚠️⚡ Note que, em contraste, fatias de listas ou tuplas Python _são_ cópias\n",
    "independentes de seus originais. No entanto, estas são cópias _rasas_: apenas\n",
    "os contêineres em si são cópias, não seus elementos. Isso pode levar a\n",
    "comportamentos inesperados, como no exemplo a seguir:"
   ]
  },
  {
   "cell_type": "code",
   "execution_count": null,
   "metadata": {},
   "outputs": [],
   "source": [
    "original = [[1, 2, 3], [4, 5, 6]]\n",
    "shallow_1 = original[:]\n",
    "shallow_2 = original[:]\n",
    "\n",
    "shallow_1[0] = [-1, -2, -3]\n",
    "print(original)  # original não é afetado\n",
    "\n",
    "shallow_2[0][0] = 8\n",
    "print(original)  # original é afetado!"
   ]
  },
  {
   "cell_type": "markdown",
   "metadata": {},
   "source": [
    "## $ \\S 3 $ Fatiando arrays gerais\n",
    "\n",
    "O fatiamento se torna mais interessante com arrays de dimensões superiores. Para um array $ 2D $,\n",
    "em princípio precisamos especificar fatias para ambas as dimensões, separadas por\n",
    "uma vírgula. Se usarmos uma única fatia, então estamos indexando linhas completas."
   ]
  },
  {
   "cell_type": "code",
   "execution_count": null,
   "metadata": {},
   "outputs": [],
   "source": [
    "M = np.array([[1, 2, 3],\n",
    "              [4, 5, 6],\n",
    "              [7, 8, 9]])\n",
    "print(M, '\\n')\n",
    "\n",
    "# Acessando uma linha específica:\n",
    "print(M[1, :], '\\n')  # \"Primeira\" linha\n",
    "\n",
    "# Acessando uma coluna específica:\n",
    "print(M[:, 2], '\\n')  # \"Segunda\" coluna\n",
    "\n",
    "# Fatiamento de sub-array:\n",
    "print(M[0:2, 1:3], '\\n')  # Sub-array 2x2 superior direito\n",
    "\n",
    "# Se usarmos apenas uma fatia, então linhas inteiras são extraídas:\n",
    "print(M[0:2])  # Primeiras 2 linhas"
   ]
  },
  {
   "cell_type": "markdown",
   "metadata": {},
   "source": [
    "__Exercício:__ \n",
    "Dada a matriz $ 3 \\times 4 $ abaixo, use fatiamento para extrair:\n",
    "\n",
    "\n",
    "<img src=\"notebook_2_slicing.png\" alt=\"Exercício de fatiamento\" width=\"870\" height=\"174\">\n",
    "\n",
    "(a) As duas primeiras linhas.\n",
    "\n",
    "(b) As duas últimas colunas.\n",
    "\n",
    "(c) Uma submatriz $ 2 \\times 2 $ contendo os elementos na interseção das\n",
    "    duas últimas linhas e das duas primeiras colunas."
   ]
  },
  {
   "cell_type": "code",
   "execution_count": null,
   "metadata": {},
   "outputs": [],
   "source": [
    "M = np.array([[1, 2, 3, 4],\n",
    "              [5, 6, 7, 8],\n",
    "              [9, 10, 11, 12]])\n",
    "# (a)\n",
    "\n",
    "# (b)\n",
    "\n",
    "# (c)"
   ]
  },
  {
   "cell_type": "markdown",
   "metadata": {},
   "source": [
    "Todos os princípios que vimos se estendem a arrays de dimensões superiores."
   ]
  },
  {
   "cell_type": "markdown",
   "metadata": {},
   "source": [
    "__Exercício:__ Considere um array $ 3D $ representando uma imagem RGB de formato\n",
    "$ (3, \\text{altura}, \\text{largura}) $. Escreva fatias para:\n",
    "\n",
    "(a) Extrair apenas o canal verde (índice $ 1 $ na dimensão $ 0 $).\n",
    "\n",
    "(b) Extrair a parte central da imagem (um retângulo com metade da altura e\n",
    "    metade da largura da imagem original). _Dica:_ Use o intervalo\n",
    "    $$ \\texttt{[altura // 4 : (3 * altura) // 4]} $$\n",
    "    para fatiar a dimensão da altura e similarmente para a largura.\n",
    "\n",
    "(c) Reduzir a amostragem da imagem pegando cada segundo pixel em ambas as dimensões de altura e\n",
    "    largura, como no exemplo (exagerado) abaixo."
   ]
  },
  {
   "cell_type": "markdown",
   "metadata": {},
   "source": [
    "<p align=\"center\">\n",
    "  <img src=\"notebook_2_panda_hi.JPG\" width=\"40%\" />\n",
    "  <img src=\"notebook_2_panda_lo.JPG\" width=\"40%\" />\n",
    "</p>"
   ]
  },
  {
   "cell_type": "code",
   "execution_count": null,
   "metadata": {},
   "outputs": [],
   "source": [
    "# Vamos criar uma imagem aleatória com 3 canais (R, G e B)\n",
    "# com 8 bits = 256 valores por canal (intensidades de cor entre 0 e 255):\n",
    "image = rng.integers(0, 256, size=(3, 1280, 720))\n",
    "# (a)\n",
    "\n",
    "# (b)\n",
    "\n",
    "# (c)"
   ]
  },
  {
   "cell_type": "markdown",
   "metadata": {},
   "source": [
    "## $ \\S 4 $ Outros tipos de indexação\n",
    "\n",
    "Vamos agora considerar alguns mecanismos adicionais de indexação que permitem\n",
    "seleções e manipulações mais flexíveis de arrays.\n",
    "\n",
    "### $ 4.1 $ Indexação por array de inteiros\n",
    "\n",
    "__Indexação por array de inteiros__ (também conhecida como __indexação sofisticada__) é muito simples\n",
    "apesar de seu nome; permite-nos usar arrays de índices para\n",
    "selecionar elementos:"
   ]
  },
  {
   "cell_type": "code",
   "execution_count": null,
   "metadata": {},
   "outputs": [],
   "source": [
    "a = np.array([0, 10, 20, 30, 40])\n",
    "indices = np.array([0, 2, 3])  # Selecionar elementos nos índices 0, 2 e 3\n",
    "print(a[indices])"
   ]
  },
  {
   "cell_type": "markdown",
   "metadata": {},
   "source": [
    "Também podemos fornecer os índices a serem selecionados na forma de listas ou tuplas\n",
    "(em vez de arrays). Além disso, para arrays multidimensionais, podemos selecionar\n",
    "combinações específicas de linhas e colunas. No exemplo a seguir\n",
    "ilustramos ambos os pontos:"
   ]
  },
  {
   "cell_type": "code",
   "execution_count": null,
   "metadata": {},
   "outputs": [],
   "source": [
    "A = np.array([[1, 2, 3],\n",
    "              [4, 5, 6],\n",
    "              [7, 8, 9]])\n",
    "\n",
    "# Selecionar elementos diagonais:\n",
    "rows = [0, 1, 2]  # aqui estamos usando uma _lista_ (não array) de índices\n",
    "cols = (0, 1, 2)  # aqui usamos uma _tupla_ de índices\n",
    "print(A[rows, cols])  # elementos diagonais de A"
   ]
  },
  {
   "cell_type": "markdown",
   "metadata": {},
   "source": [
    "Observe como os índices para as linhas e colunas são emparelhados em ordem, em vez de\n",
    "serem combinados de todas as formas possíveis.\n",
    "\n",
    "__Exercício:__ Para a mesma matriz $ A $ acima, use indexação por array de inteiros\n",
    "para selecionar os elementos na anti-diagonal."
   ]
  },
  {
   "cell_type": "code",
   "execution_count": null,
   "metadata": {},
   "outputs": [],
   "source": [
    "# Selecionar elementos (0,2), (1,1), (2,0) (a anti-diagonal):\n",
    "rows = # ...\n",
    "cols = # ...\n",
    "print(A[rows, cols])"
   ]
  },
  {
   "cell_type": "markdown",
   "metadata": {},
   "source": [
    "__Exercício:__ Dada a matriz $ 4 \\times 4 $ abaixo, use indexação por array de inteiros\n",
    "para:\n",
    "\n",
    "(a) Extrair os quatro elementos dos cantos.\n",
    "\n",
    "(b) Extrair os elementos em ambas as diagonais (diagonal principal e anti-diagonal)."
   ]
  },
  {
   "cell_type": "code",
   "execution_count": null,
   "metadata": {},
   "outputs": [],
   "source": [
    "M = np.array([[1, 2, 3, 4],\n",
    "              [5, 6, 7, 8],\n",
    "              [9, 10, 11, 12],\n",
    "              [13, 14, 15, 16]])\n",
    "print(M)\n",
    "# (a)\n",
    "\n",
    "# (b)"
   ]
  },
  {
   "cell_type": "markdown",
   "metadata": {},
   "source": [
    "### $ 4.2 $ Combinando diferentes tipos de índices\n",
    "\n",
    "Podemos misturar diferentes tipos de índices (fatias, inteiros, arrays) para criar\n",
    "seleções mais complexas. Considere a seguinte matriz $ M $:"
   ]
  },
  {
   "cell_type": "code",
   "execution_count": null,
   "metadata": {},
   "outputs": [],
   "source": [
    "M = np.array([[1, 2, 3, 4],\n",
    "              [5, 6, 7, 8],\n",
    "              [9, 10, 11, 12],\n",
    "              [13, 14, 15, 16]])\n",
    "print(M)"
   ]
  },
  {
   "cell_type": "markdown",
   "metadata": {},
   "source": [
    "Uma alternativa é especificar uma lista dos índices que queremos indexar\n",
    "para algumas das dimensões. Isso nos permite capturar conjuntos de índices que não\n",
    "seguem o padrão de uma fatia."
   ]
  },
  {
   "cell_type": "code",
   "execution_count": null,
   "metadata": {},
   "outputs": [],
   "source": [
    "# Selecionar linhas 0, 1 e 3, todas as colunas:\n",
    "print(M[[0, 1, 3], :])"
   ]
  },
  {
   "cell_type": "code",
   "execution_count": null,
   "metadata": {},
   "outputs": [],
   "source": [
    "# Selecionar todas as linhas, colunas 1 e 3:\n",
    "print(M[:, [1, 3]])"
   ]
  },
  {
   "cell_type": "markdown",
   "metadata": {},
   "source": [
    "Se em vez de usar uma fatia ou lista de índices, especificarmos um único índice para\n",
    "alguma dimensão, então essa dimensão \"colapsa\". Em particular, o array resultante\n",
    "terá um posto menor. Isso é ilustrado pelo seguinte exemplo:"
   ]
  },
  {
   "cell_type": "code",
   "execution_count": null,
   "metadata": {},
   "outputs": [],
   "source": [
    "# Extraindo a linha 1 através de uma fatia dupla:\n",
    "print(M[1:2, :])  # O resultado ainda é um array 2D\n",
    "\n",
    "# Extraindo a linha 1 indexando-a diretamente:\n",
    "print(M[1, :])  # O resultado é um array 1D"
   ]
  },
  {
   "cell_type": "markdown",
   "metadata": {},
   "source": [
    "__Exercício:__ Crie um array $ 2D $ de formato $ (4, 4) $ preenchido com\n",
    "inteiros aleatórios e imprima-o como referência.\n",
    "\n",
    "(a) Extraia a última linha para produzir um array $ 1D $.\n",
    "\n",
    "(b) Extraia a última coluna, como um array $ 2D $.\n",
    "\n",
    "(c) Extraia um sub-array $ 2\\times 2 $ do centro deste array.\n",
    "\n",
    "(d) Extraia o canto inferior esquerdo $ 3 \\times 2 $ do array.\n",
    "\n",
    "(e) Extraia o subarray consistindo de colunas indexadas por $ 1 $ e $ 3 $\n",
    "    de duas maneiras: usando uma fatia com tamanho de passo $ 2 $ e usando uma lista de\n",
    "    índices."
   ]
  },
  {
   "cell_type": "code",
   "execution_count": null,
   "metadata": {},
   "outputs": [],
   "source": []
  },
  {
   "cell_type": "markdown",
   "metadata": {},
   "source": [
    "## $ \\S 5 $ Indexação booleana\n",
    "\n",
    "### $ 5.1 $ Criando máscaras booleanas e filtrando arrays com máscaras\n",
    "\n",
    "__Indexação booleana__ é um recurso poderoso que nos permite selecionar elementos\n",
    "de um array com base em _condições_ em vez de índices.\n",
    "* Primeiro criamos uma __máscara booleana__, ou seja, um array de valores `True` e `False`,\n",
    "  tendo o mesmo formato que o array original.\n",
    "* Então usamos essa máscara para filtrar aqueles elementos do nosso array onde a máscara\n",
    "  é `True`.\n",
    "\n",
    "Aqui está um exemplo onde desejamos extrair todos os componentes de um array que\n",
    "são maiores que $ 2 $:\n",
    "\n",
    "<img src=\"notebook_2_boolean_indexing.png\" alt=\"Indexação booleana\" width=\"796\" height=\"131\">"
   ]
  },
  {
   "cell_type": "code",
   "execution_count": null,
   "metadata": {},
   "outputs": [],
   "source": [
    "v = np.array([5, 1, 3, 2, 4])\n",
    "print(\"Array original:\", v)\n",
    "\n",
    "# Criar uma máscara booleana:\n",
    "mask = v > 2\n",
    "print(\"Filtro: \", mask)\n",
    "\n",
    "# Usar indexação booleana para filtrar os elementos maiores que 2:\n",
    "selected_elements = v[mask]\n",
    "print(\"Elementos selecionados:\", selected_elements)"
   ]
  },
  {
   "cell_type": "markdown",
   "metadata": {},
   "source": [
    "📝 No NumPy, e em Python em geral, `True` é tratado como\n",
    "equivalente a $ 1 $ em contextos numéricos e `False` é equivalente a\n",
    "$ 0 $. Assim, no exemplo anterior, podemos calcular o número de elementos\n",
    "maiores que $ 2 $ tomando a soma das entradas na máscara (voltaremos\n",
    "à função `np.sum` mais tarde):"
   ]
  },
  {
   "cell_type": "code",
   "execution_count": null,
   "metadata": {},
   "outputs": [],
   "source": [
    "print(\"# de elementos maiores que dois:\", np.sum(filter))"
   ]
  },
  {
   "cell_type": "markdown",
   "metadata": {},
   "source": [
    "A indexação booleana é particularmente útil para limpeza de dados. Também podemos filtrar\n",
    "elementos em uma única etapa; esta sintaxe é muito comum no ecossistema NumPy,\n",
    "embora possa parecer um pouco estranha quando a encontramos pela primeira vez:"
   ]
  },
  {
   "cell_type": "code",
   "execution_count": null,
   "metadata": {},
   "outputs": [],
   "source": [
    "u = np.array([-3, 3, -2, 2, -1, 1, 0])\n",
    "result = u[u <= 0]\n",
    "print(result)"
   ]
  },
  {
   "cell_type": "markdown",
   "metadata": {},
   "source": [
    "__Exercício:__ Considere a matriz $ A $ dada abaixo.\n",
    "\n",
    "(a) Extraia seus elementos que são $ \\ge 2 $ usando indexação booleana.\n",
    "\n",
    "(b) Qual é o formato da sua máscara? Qual é o formato do array resultante? Em\n",
    "    que ordem os elementos são filtrados?"
   ]
  },
  {
   "cell_type": "code",
   "execution_count": null,
   "metadata": {},
   "outputs": [],
   "source": [
    "A = rng.integers(0, 5, size=(3, 4))\n",
    "print(A)"
   ]
  },
  {
   "cell_type": "markdown",
   "metadata": {},
   "source": [
    "📝 Ao usar indexação booleana em um array multidimensional, o resultado é\n",
    "sempre um array $ 1D $ contendo os elementos onde a máscara é verdadeira."
   ]
  },
  {
   "cell_type": "markdown",
   "metadata": {},
   "source": [
    "⚠️ A indexação booleana sempre gera um novo array, mesmo quando o resultado é idêntico ao array original. Portanto, deve ser usada com cautela em dados muito grandes."
   ]
  },
  {
   "cell_type": "code",
   "execution_count": null,
   "metadata": {},
   "outputs": [],
   "source": [
    "v = np.array([1, 2, 3, 4, 5])\n",
    "u = v[v > 0]  # Filtra os elementos de v > 0, que acontece de ser todo o v\n",
    "\n",
    "# Verificando os endereços de memória de u e v para ver se coincidem:\n",
    "print(id(u))\n",
    "print(id(v))"
   ]
  },
  {
   "cell_type": "markdown",
   "metadata": {},
   "source": [
    "### $ 5.2 $ Combinando operações booleanas\n",
    "\n",
    "Podemos criar máscaras mais complexas usando os operadores booleanos familiares\n",
    "__negação__, __e__, __ou__ e __ou exclusivo__ (__xor__). No entanto, as versões em Python\n",
    "dos três primeiros, `not`, `and`, `or`, respectivamente, não funcionam com\n",
    "arrays booleanos. Em vez disso, devemos usar `~`, `&` e `|`, respectivamente. O\n",
    "operador xor é denotado por `^`. Suas tabelas-verdade são dadas abaixo.\n",
    "\n",
    "<img src=\"notebook_2_truth_tables.png\" alt=\"Tabelas de verdade\" width=\"752\" height=\"168\">"
   ]
  },
  {
   "cell_type": "code",
   "execution_count": null,
   "metadata": {},
   "outputs": [],
   "source": [
    "a = np.array([1, 2, 3, 4, 5, 6, 7, 8, 9])\n",
    "\n",
    "# Selecionar elementos maiores que 2 E menores que 7:\n",
    "print(a[(a > 2) & (a < 7)])  # Resultado: [3, 4, 5, 6]\n",
    "\n",
    "# Selecionar elementos menores que 3 OU maiores que 7:\n",
    "print(a[(a < 3) | (a > 7)])  # Resultado: [1, 2, 8, 9]\n",
    "\n",
    "# Negar uma condição com ~:\n",
    "print(a[~(a % 3 == 0)])  # Selecionar números NÃO divisíveis por 3: [1, 2, 4, 5, 7, 8]\n",
    "\n",
    "# Extrair todos os números que são múltiplos de 2 OU 3, mas NÃO múltiplos de 6:\n",
    "print(a[(a % 2 == 0) ^ (a % 3 == 0)])"
   ]
  },
  {
   "cell_type": "markdown",
   "metadata": {},
   "source": [
    "📝 Certifique-se de colocar parênteses em torno de cada condição ao combiná-las."
   ]
  },
  {
   "cell_type": "markdown",
   "metadata": {},
   "source": [
    "__Exercício:__ Dado o array abaixo, use indexação booleana para extrair:\n",
    "\n",
    "(a) Números que são positivos e pares.\n",
    "\n",
    "(b) Números que são negativos ou maiores que $ 20 $.\n",
    "\n",
    "(c) Números que são divisíveis por $ 3 $ ou positivos, mas não ambos."
   ]
  },
  {
   "cell_type": "code",
   "execution_count": null,
   "metadata": {},
   "outputs": [],
   "source": [
    "data = np.array([15, 23, -10, 0, 42, -7, 8, 12, -25, 30])\n",
    "# (a)\n",
    "\n",
    "# (b)\n",
    "\n",
    "# (c)"
   ]
  },
  {
   "cell_type": "markdown",
   "metadata": {},
   "source": [
    "### $ 5.3 $ A função `where`\n",
    "\n",
    "A função `np.where` serve a dois propósitos principais. Quando chamada com um\n",
    "único argumento como `np.where(condition)`, o resultado consiste nos\n",
    "_índices_ onde essa condição é verdadeira. Isso fornece uma maneira poderosa de localizar\n",
    "elementos de interesse dentro de um array."
   ]
  },
  {
   "cell_type": "code",
   "execution_count": null,
   "metadata": {},
   "outputs": [
    {
     "name": "stdout",
     "output_type": "stream",
     "text": [
      "Indices of negative elements: (array([1, 2, 2]), array([1, 0, 2]))\n"
     ]
    }
   ],
   "source": [
    "A = np.array([[1, 2, 4], \n",
    "              [5, -3, 9],\n",
    "              [-7, 6, -8]])\n",
    "\n",
    "negative_indices = np.where(A < 0)\n",
    "print(\"Indices of negative elements:\", negative_indices)"
   ]
  },
  {
   "cell_type": "markdown",
   "metadata": {},
   "source": [
    "Neste exemplo, observe que o primeiro array na tupla fornece os índices das linhas e\n",
    "o segundo os índices das colunas dos elementos negativos em $ A $. Quando\n",
    "pareamos esses índices em ordem, obtemos as coordenadas desses elementos dentro de\n",
    "$ A $, por exemplo, a entrada `A[2, 0]` é $ -7 $. Se quisermos os próprios elementos\n",
    "para os quais a condição é válida, podemos então usar esses índices exatamente como em $ \\S 4.1 $:"
   ]
  },
  {
   "cell_type": "code",
   "execution_count": 9,
   "metadata": {},
   "outputs": [
    {
     "name": "stdout",
     "output_type": "stream",
     "text": [
      "Negative elements in A:  [-5 -7 -9]\n"
     ]
    }
   ],
   "source": [
    "print(\"Negative elements in A: \", A[negative_indices])"
   ]
  },
  {
   "cell_type": "markdown",
   "metadata": {},
   "source": [
    "📝 Na versão de parâmetro único do `where`, o argumento deve ser um array booleano, e o resultado\n",
    "serão simplesmente as posições (índices) dos elementos que são `True`."
   ]
  },
  {
   "cell_type": "markdown",
   "metadata": {},
   "source": [
    "__Exercício:__ Referindo-se à mesma matriz $ A $ acima:\n",
    "\n",
    "(a) Determine os índices de linha e coluna dos elementos em $ A $\n",
    "que deixam um resto de $ 1 $ quando divididos por $ 3 $.\n",
    "\n",
    "(b) Use os índices obtidos em (a) para construir um array consistindo dos\n",
    "elementos de $ A $ que satisfazem a condição estabelecida."
   ]
  },
  {
   "cell_type": "code",
   "execution_count": null,
   "metadata": {},
   "outputs": [],
   "source": []
  },
  {
   "cell_type": "markdown",
   "metadata": {},
   "source": [
    "Para ilustrar o segundo uso da função `where`, considere o seguinte array simples."
   ]
  },
  {
   "cell_type": "code",
   "execution_count": 2,
   "metadata": {},
   "outputs": [
    {
     "name": "stdout",
     "output_type": "stream",
     "text": [
      "[ 1  2 -3  4 -5  6 -7  8]\n"
     ]
    }
   ],
   "source": [
    "numbers = np.array([1, 2, -3, 4, -5, 6, -7, 8])\n",
    "print(numbers)"
   ]
  },
  {
   "cell_type": "markdown",
   "metadata": {},
   "source": [
    "Suponha que queremos substituir por $ 0 $ aqueles elementos em `numbers` que são negativos.\n",
    "Podemos fazer isso da seguinte forma:"
   ]
  },
  {
   "cell_type": "code",
   "execution_count": 4,
   "metadata": {},
   "outputs": [
    {
     "name": "stdout",
     "output_type": "stream",
     "text": [
      "After replacing negatives with zeros: [1 2 0 4 0 6 0 8]\n"
     ]
    }
   ],
   "source": [
    "# Substitui valores negativos por zeros, mantém valores positivos:\n",
    "result = np.where(numbers > 0, numbers, 0)\n",
    "print(\"After replacing negatives with zeros:\", result)"
   ]
  },
  {
   "cell_type": "markdown",
   "metadata": {},
   "source": [
    "Assim, na forma `np.where(condition, x, y)`, esta função pode funcionar como um\n",
    "operador ternário vetorizado (semelhante ao `? :` em C), permitindo-nos fazer\n",
    "escolhas elemento a elemento entre dois arrays com base em uma condição.\n",
    "\n",
    "__Exercício:__ Suponha que estamos construindo um aplicativo de previsão do tempo. Precisamos\n",
    "ser capazes de exibir as temperaturas em graus Fahrenheit ou Celsius\n",
    "de acordo com o usuário ser dos EUA ou não. Use `where` para realizar\n",
    "isso para o seguinte conjunto de $ 10 $ temperaturas:"
   ]
  },
  {
   "cell_type": "code",
   "execution_count": null,
   "metadata": {},
   "outputs": [
    {
     "name": "stdout",
     "output_type": "stream",
     "text": [
      "Temperatures to display (F for US, C for others):\n",
      " [ 68.  77.  30.  35. 104.  15.  50.  41.   0.  23.]\n"
     ]
    }
   ],
   "source": [
    "# Array de temperaturas em Celsius:\n",
    "celsius = np.array([20, 25, 30, 35, 40, 15, 10, 5, 0, -5])\n",
    "# Array correspondente de temperaturas em Fahrenheit (F = C * 9/5 + 32):\n",
    "fahrenheit = celsius * 9/5 + 32\n",
    "# Máscara booleana que indica se o usuário é dos EUA (True) ou não (False):\n",
    "is_us_visitor = np.array([True, True, False, False, True, False, True, True, False, True])\n",
    "\n",
    "# Use np.where para exibir temperaturas em unidades apropriadas baseado na localização do visitante:\n",
    "# display_temps = ???\n",
    "\n",
    "print(\"Temperatures to display (F for US, C for others):\\n\", np.round(display_temps))"
   ]
  }
 ],
 "metadata": {
  "kernelspec": {
   "display_name": "islp",
   "language": "python",
   "name": "python3"
  },
  "language_info": {
   "codemirror_mode": {
    "name": "ipython",
    "version": 3
   },
   "file_extension": ".py",
   "mimetype": "text/x-python",
   "name": "python",
   "nbconvert_exporter": "python",
   "pygments_lexer": "ipython3",
   "version": "3.12.4"
  }
 },
 "nbformat": 4,
 "nbformat_minor": 2
}
